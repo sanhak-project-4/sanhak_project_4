{
 "cells": [
  {
   "cell_type": "code",
   "execution_count": null,
   "metadata": {},
   "outputs": [],
   "source": [
    "while True:\n",
    "    if page > 100:\n",
    "        break\n",
    "    j=1\n",
    "    print (\"페이지\", page ,\"\\n\") \n",
    "    sleep(2)\n",
    "    while True: #한페이지에 20개의 리뷰, 마지막 리뷰에서 error발생\n",
    "        try:                              \n",
    "            star=d.find_element_by_xpath('//*[@id=\"section_review\"]/ul/li['+str(j)+']/div[1]/span[1]').text\n",
    "            stars.append(star.replace('평점',''))\n",
    "            review=d.find_element_by_xpath('//*[@id=\"section_review\"]/ul/li['+str(j)+']/div[2]/div[1]').text\n",
    "            reviews.append(review)           \n",
    "            if j%2==0: #화면에 2개씩 보이도록 스크롤\n",
    "                ELEMENT = d.find_element_by_xpath('//*[@id=\"section_review\"]/ul/li['+str(j)+']/div[2]/div[1]')\n",
    "                d.execute_script(\"arguments[0].scrollIntoView(true);\", ELEMENT)       \n",
    "            j+=1\n",
    "            \n",
    "            print(cnt, review ,star.replace('평점',''), \"\\n\")\n",
    "            cnt+=1 \n",
    "        except: break\n",
    "            \n",
    "    sleep(2)\n",
    "    \n",
    "    if page<11:#page10\n",
    "        try: #리뷰의 마지막 페이지에서 error발생\n",
    "            page +=1\n",
    "            next_page=d.find_element_by_xpath('//*[@id=\"section_review\"]/div[3]/a['+str(page)+']').click() \n",
    "        except: break #리뷰의 마지막 페이지에서 process 종료\n",
    "        \n",
    "    else :\n",
    "        try: #page11부터\n",
    "            if page%10==0:\n",
    "                if page >19:\n",
    "                    next_page=d.find_element_by_xpath('//*[@id=\"section_review\"]/div[3]/a[12]').click()\n",
    "                else:\n",
    "                    next_page=d.find_element_by_xpath('//*[@id=\"section_review\"]/div[3]/a[11]').click()\n",
    "            else : \n",
    "                next_page=d.find_element_by_xpath('//*[@id=\"section_review\"]/div[3]/a['+str(page%10+2)+']').click()\n",
    "            page+=1\n",
    "        except: break"
   ]
  }
 ],
 "metadata": {
  "language_info": {
   "name": "python"
  },
  "orig_nbformat": 4
 },
 "nbformat": 4,
 "nbformat_minor": 2
}
