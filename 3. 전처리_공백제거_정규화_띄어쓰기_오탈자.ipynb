{
 "cells": [
  {
   "cell_type": "code",
   "execution_count": 29,
   "id": "3c58eaa6",
   "metadata": {
    "ExecuteTime": {
     "end_time": "2022-04-15T04:28:43.753069Z",
     "start_time": "2022-04-15T04:27:43.744694Z"
    }
   },
   "outputs": [
    {
     "name": "stderr",
     "output_type": "stream",
     "text": [
      "C:\\Users\\Admin\\anaconda3\\lib\\site-packages\\pandas\\core\\indexing.py:1732: SettingWithCopyWarning: \n",
      "A value is trying to be set on a copy of a slice from a DataFrame\n",
      "\n",
      "See the caveats in the documentation: https://pandas.pydata.org/pandas-docs/stable/user_guide/indexing.html#returning-a-view-versus-a-copy\n",
      "  self._setitem_single_block(indexer, value, name)\n",
      "C:\\Users\\Admin\\anaconda3\\lib\\site-packages\\pandas\\core\\frame.py:4906: SettingWithCopyWarning: \n",
      "A value is trying to be set on a copy of a slice from a DataFrame\n",
      "\n",
      "See the caveats in the documentation: https://pandas.pydata.org/pandas-docs/stable/user_guide/indexing.html#returning-a-view-versus-a-copy\n",
      "  return super().drop(\n"
     ]
    },
    {
     "name": "stdout",
     "output_type": "stream",
     "text": [
      "파일 저장 완료\n"
     ]
    },
    {
     "data": {
      "text/plain": [
       "(                               type  \\\n",
       " 0    파로마 로엔 LED 수납형 무중력 모션베드 전동침대 Q   \n",
       " 1    파로마 로엔 LED 수납형 무중력 모션베드 전동침대 Q   \n",
       " 2    파로마 로엔 LED 수납형 무중력 모션베드 전동침대 Q   \n",
       " 3    파로마 로엔 LED 수납형 무중력 모션베드 전동침대 Q   \n",
       " 4    파로마 로엔 LED 수납형 무중력 모션베드 전동침대 Q   \n",
       " ..                              ...   \n",
       " 386  파로마 로엔 LED 수납형 무중력 모션베드 전동침대 Q   \n",
       " 387  파로마 로엔 LED 수납형 무중력 모션베드 전동침대 Q   \n",
       " 388  파로마 로엔 LED 수납형 무중력 모션베드 전동침대 Q   \n",
       " 389  파로마 로엔 LED 수납형 무중력 모션베드 전동침대 Q   \n",
       " 390  파로마 로엔 LED 수납형 무중력 모션베드 전동침대 Q   \n",
       " \n",
       "                                                 review  star  \n",
       " 0    오늘 설치 받았습니다 하지 정맥류라 다리 쪽 올라오는 게 있어서 네이버 검색 후 평...     5  \n",
       " 1    저렴한 가격에 모션 베드를 얻을 수 있어서 좋습니다가 성비를 따져봤을 때 별점은 당...     4  \n",
       " 2    최고예요 제품 주문하고 오래 기다렸다는 리뷰가 많아서 마음 비우고 기다리고 있었는데...     5  \n",
       " 3    구성비를 많이 따져보면서 모션 베드를 많이 봤습니다 구매할 때 많이 망설였지만 결심...     5  \n",
       " 4    와 정말 좋아요 여러 사이트 돌아다니며 가격 디자인 구성비 기능성 비교해보고 한 달...     5  \n",
       " ..                                                 ...   ...  \n",
       " 386                            배송이 빨랐어요 생각보다 기사가 친절했어요     5  \n",
       " 387  배송기사분 친절하시고 꼼꼼하게 잘 조립해주셨어요 편안하게 꿀 잠잘 수 있겠어요 감사합니다     5  \n",
       " 388  주문하고 일만에 배송받았습니다 명절 앞두고 있음에도 빠르게 받은 것 같아 요 배송할...     5  \n",
       " 389               맘에 들어요 아직 잠은 못 자지만 누우니까 무중력 ㅋㅋ 감사합니다     5  \n",
       " 390  모션 베드 배송도 빠르고 가격 대비 품질도 괜찮은 것 같습니다 베드도 튼튼하고 수납...     5  \n",
       " \n",
       " [391 rows x 3 columns],\n",
       " None)"
      ]
     },
     "execution_count": 29,
     "metadata": {},
     "output_type": "execute_result"
    }
   ],
   "source": [
    "'''**************************************사용법*********************************************************\n",
    "*******************************************************************************************************\n",
    "csv파일 불러오는 부분에 전처리 원하는 파일로 변경 후 실행\n",
    "./파로마 로엔 LED 수납형 무중력 모션베드 전동침대 Q 리뷰.csv    <---------------  이 부분입니다.    '''\n",
    "import pandas as pd   #판다스\n",
    "from pykospacing import Spacing  #띄어쓰기\n",
    "from hanspell import spell_checker  #맞춤법\n",
    "from soynlp.normalizer import *   #ㅎㅎㅎ,ㅠㅠㅠ 등 정규화\n",
    "import datetime  # 파일이름에 쓸 현재 날짜\n",
    "\n",
    "침대 = pd.read_csv('./파로마 로엔 LED 수납형 무중력 모션베드 전동침대 Q 리뷰.csv',index_col=0)\n",
    "침대 = 침대.drop('category', axis=1)\n",
    "\n",
    "\n",
    "def 데이터전처리(침대):\n",
    "    \n",
    "    # 제목과 중복되는 내용 제거\n",
    "    침대.drop_duplicates(subset = ['review'], inplace=True) # 중복 제거\n",
    "    리뷰모음 =침대.review\n",
    "    \n",
    "\n",
    "    i = 0\n",
    "    for 리뷰 in 리뷰모음:\n",
    "        리뷰_띄어쓰기제거 = 리뷰.replace(' ','')\n",
    "        시작점 = 리뷰_띄어쓰기제거.find('\\n')\n",
    "        리뷰_엔터제거 = 리뷰_띄어쓰기제거.replace('\\n','')\n",
    "\n",
    "        if 시작점 != -1:\n",
    "            제목 = 리뷰_엔터제거[:시작점-3]\n",
    "            text1 = 리뷰_엔터제거[시작점:(시작점)*2-3]\n",
    "\n",
    "\n",
    "            if 제목 == text1:\n",
    "                침대.review.iloc[i] = 리뷰_엔터제거[시작점:]\n",
    "\n",
    "            else:\n",
    "                pass\n",
    "        i += 1\n",
    "    \n",
    "    \n",
    "    # 한글,공백 남겨두고 띄어쓰기, 정규화 작업\n",
    "    space = Spacing()\n",
    "    i=0\n",
    "    for 리뷰 in 리뷰모음:\n",
    "        a = only_hangle(리뷰).replace(' ','')  # 한글과 공백을 제외하고 모두 제거\n",
    "        b = space(a)  # 띄어쓰기\n",
    "        c = repeat_normalize(b, num_repeats=2)   # ㅋㅋㅋㅋㅋㅋ,ㅎㅎㅎㅎ 등 정규화\n",
    "        침대.review.iloc[i] = c\n",
    "        i += 1\n",
    "        \n",
    "    # 공백인 행은 지우고 인덱스 초기화    \n",
    "    침대 = 침대.loc[침대.review != '']\n",
    "    침대.reset_index(drop=True,inplace=True)\n",
    "    \n",
    "    # 300 이상인 리뷰 제거\n",
    "    침대복사 = 침대.review.copy()\n",
    "    n = 0\n",
    "    for i in 침대복사:\n",
    "        if len(i) >= 300:\n",
    "            침대.drop(n,axis=0,inplace=True)\n",
    "        \n",
    "        n += 1\n",
    "    \n",
    "    침대.reset_index(drop=True,inplace=True)\n",
    "   \n",
    "    # 맞춤범 검사\n",
    "    리뷰모음 =침대.review\n",
    "    i=0\n",
    "    for 리뷰 in 리뷰모음:\n",
    "        spelled_sent = spell_checker.check(리뷰)\n",
    "        침대.review.iloc[i] = spelled_sent.checked\n",
    "        i += 1\n",
    "        \n",
    "    filename = datetime.datetime.now().strftime(\"%Y-%m-%d\")\n",
    "    침대.to_csv('침대전처리_'+filename+'.csv',encoding='utf-8-sig')\n",
    "    return 침대,print('파일 저장 완료')\n",
    "\n",
    "데이터전처리(침대)"
   ]
  }
 ],
 "metadata": {
  "kernelspec": {
   "display_name": "Python 3 (ipykernel)",
   "language": "python",
   "name": "python3"
  },
  "language_info": {
   "codemirror_mode": {
    "name": "ipython",
    "version": 3
   },
   "file_extension": ".py",
   "mimetype": "text/x-python",
   "name": "python",
   "nbconvert_exporter": "python",
   "pygments_lexer": "ipython3",
   "version": "3.9.7"
  },
  "toc": {
   "base_numbering": 1,
   "nav_menu": {},
   "number_sections": true,
   "sideBar": true,
   "skip_h1_title": false,
   "title_cell": "Table of Contents",
   "title_sidebar": "Contents",
   "toc_cell": false,
   "toc_position": {},
   "toc_section_display": true,
   "toc_window_display": false
  },
  "varInspector": {
   "cols": {
    "lenName": 16,
    "lenType": 16,
    "lenVar": 40
   },
   "kernels_config": {
    "python": {
     "delete_cmd_postfix": "",
     "delete_cmd_prefix": "del ",
     "library": "var_list.py",
     "varRefreshCmd": "print(var_dic_list())"
    },
    "r": {
     "delete_cmd_postfix": ") ",
     "delete_cmd_prefix": "rm(",
     "library": "var_list.r",
     "varRefreshCmd": "cat(var_dic_list()) "
    }
   },
   "types_to_exclude": [
    "module",
    "function",
    "builtin_function_or_method",
    "instance",
    "_Feature"
   ],
   "window_display": false
  }
 },
 "nbformat": 4,
 "nbformat_minor": 5
}
