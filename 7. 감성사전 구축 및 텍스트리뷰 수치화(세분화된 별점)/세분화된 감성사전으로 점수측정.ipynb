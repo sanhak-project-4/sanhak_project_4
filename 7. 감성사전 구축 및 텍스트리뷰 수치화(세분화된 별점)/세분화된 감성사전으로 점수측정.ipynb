{
  "nbformat": 4,
  "nbformat_minor": 0,
  "metadata": {
    "colab": {
      "name": "가격사전.ipynb",
      "provenance": [],
      "collapsed_sections": []
    },
    "kernelspec": {
      "name": "python3",
      "display_name": "Python 3"
    },
    "language_info": {
      "name": "python"
    },
    "accelerator": "GPU"
  },
  "cells": [
    {
      "cell_type": "code",
      "execution_count": null,
      "metadata": {
        "id": "R9gsji39Dtb7"
      },
      "outputs": [],
      "source": [
        "import json\n",
        "import csv\n",
        "\n",
        "class KnuSL():\n",
        "\n",
        "    def data_list(wordname):\n",
        "        # 감성 사전 불러온 후 읽기\n",
        "        with open(q,encoding='utf-8', mode='r') as f:\n",
        "            data = json.load(f)\n",
        "        result = [0,0]\n",
        "        j= 0\n",
        "        포함여부 = 0\n",
        "        # 3-gram\n",
        "        for i in range(0, len(data)):\n",
        "            if (data[i]['word_root'] in wordname):\n",
        "                result.pop()\n",
        "                result.pop()\n",
        "                result.append(data[i]['word_root'])\n",
        "                result.append(data[i]['polarity'])\t\n",
        "                포함여부 += 1\n",
        "                j += 1\n",
        "                break\n",
        "            else:\n",
        "                j += 1\n",
        "        try:\n",
        "            r_word = result[0]\n",
        "            s_word = result[1]\t\n",
        "        except:\n",
        "            pass\n",
        "        return s_word, 포함여부"
      ]
    },
    {
      "cell_type": "code",
      "source": [
        "q = '/content/감성사전_가격3_gram_2022-05-20.json'\n",
        "n = 0\n",
        "\n",
        "ksl = KnuSL   \n",
        "포함여부리스트_3 = []\n",
        "f = open('/content/total_불용어제거_0428.csv', 'r', encoding='utf-8')\n",
        "rdr = csv.reader(f)\n",
        "점수리스트_3 = []\n",
        "for i in rdr:\n",
        "    score = 0\n",
        "    p = 0\n",
        "    r = ','.join(i).replace(',',' ')\n",
        "    word = r.split()\n",
        "    z = zip(word,word[1:],word[2:])\n",
        "    if len(word) < 2:\n",
        "        a = ksl.data_list(word)\n",
        "        try:\n",
        "            score += int(a)\n",
        "        except:\n",
        "            pass\n",
        "    else:\n",
        "        for j in z:\n",
        "            # 3-gram 만들기\n",
        "            three_gram_word = ' '.join(j)\n",
        "            a = ksl.data_list(three_gram_word)[0]\n",
        "            b = ksl.data_list(three_gram_word)[1]\n",
        "            try:\n",
        "                score += int(a)\n",
        "                p += int(b)\n",
        "                c = score/p\n",
        "            except:\n",
        "                pass\n",
        "    # print(score)\n",
        "    # print(b)\n",
        "    n +=1   \n",
        "    # print('---------------------------------------------------------------------')\n",
        "    # print(n)\n",
        "    # print('3-gram 점수 : {}'.format(score))\n",
        "    # print('3-gram 포함여부 : {}'. format(p))\n",
        "    점수리스트_3.append(score)\n",
        "    포함여부리스트_3.append(p)"
      ],
      "metadata": {
        "id": "y-kEQ4ixD0Y2"
      },
      "execution_count": null,
      "outputs": []
    },
    {
      "cell_type": "code",
      "source": [
        "print(점수리스트_3.count(0))\n",
        "print(max(점수리스트_3))\n",
        "print(min(점수리스트_3))\n",
        "print(max(포함여부리스트_3))\n",
        "sum(포함여부리스트_3)"
      ],
      "metadata": {
        "id": "3mxrEludD0bG",
        "colab": {
          "base_uri": "https://localhost:8080/"
        },
        "outputId": "134c27a9-be16-4d1c-f632-4cebc486f13d"
      },
      "execution_count": null,
      "outputs": [
        {
          "output_type": "stream",
          "name": "stdout",
          "text": [
            "21305\n",
            "4\n",
            "-2\n",
            "2\n"
          ]
        },
        {
          "output_type": "execute_result",
          "data": {
            "text/plain": [
              "5"
            ]
          },
          "metadata": {},
          "execution_count": 23
        }
      ]
    },
    {
      "cell_type": "code",
      "source": [
        "q = '/content/감성사전_가격2_gram_2022-05-20.json'\n",
        "n = 0\n",
        "\n",
        "ksl = KnuSL   \n",
        "포함여부리스트_2 = []\n",
        "f = open('/content/total_불용어제거_0428.csv', 'r', encoding='utf-8')\n",
        "rdr = csv.reader(f)\n",
        "점수리스트_2 = []\n",
        "for i in rdr:\n",
        "    score = 0\n",
        "    p = 0\n",
        "    r = ','.join(i).replace(',',' ')\n",
        "    word = r.split()\n",
        "    z = zip(word,word[1:])\n",
        "    if len(word) < 2:\n",
        "        a = ksl.data_list(word)\n",
        "        try:\n",
        "            score += int(a)\n",
        "        except:\n",
        "            pass\n",
        "    else:\n",
        "        for j in z:\n",
        "            # 2-gram 만들기\n",
        "            two_gram_word = ' '.join(j)\n",
        "            a = ksl.data_list(two_gram_word)[0]\n",
        "            b = ksl.data_list(two_gram_word)[1]\n",
        "            try:\n",
        "                score += int(a)\n",
        "                p += int(b)\n",
        "                c = score/p\n",
        "            except:\n",
        "                pass\n",
        "    n +=1   \n",
        "    # print('---------------------------------------------------------------------')\n",
        "    # print(n)\n",
        "    # print('2-gram 점수 : {}'.format(score))\n",
        "    # print('2-gram 포함여부 : {}'. format(p))\n",
        "    점수리스트_2.append(score)\n",
        "    포함여부리스트_2.append(p)"
      ],
      "metadata": {
        "id": "cVTyFCQxD0dW"
      },
      "execution_count": null,
      "outputs": []
    },
    {
      "cell_type": "code",
      "source": [
        "print(점수리스트_2.count(0))\n",
        "print(max(점수리스트_2))\n",
        "print(min(점수리스트_2))\n",
        "print(max(포함여부리스트_2))\n",
        "sum(포함여부리스트_2)"
      ],
      "metadata": {
        "colab": {
          "base_uri": "https://localhost:8080/"
        },
        "id": "qDCrWOHpD0fx",
        "outputId": "acd7e58c-5901-4e4f-e8b2-289c74e3ad1a"
      },
      "execution_count": null,
      "outputs": [
        {
          "output_type": "stream",
          "name": "stdout",
          "text": [
            "20550\n",
            "6\n",
            "-6\n",
            "3\n"
          ]
        },
        {
          "output_type": "execute_result",
          "data": {
            "text/plain": [
              "839"
            ]
          },
          "metadata": {},
          "execution_count": 25
        }
      ]
    },
    {
      "cell_type": "code",
      "source": [
        "q = '/content/감성사전_가격1_gram_2022-05-20.json'\n",
        "n = 0\n",
        "\n",
        "ksl = KnuSL   \n",
        "포함여부리스트_1 = []\n",
        "f = open('/content/total_불용어제거_0428.csv', 'r', encoding='utf-8')\n",
        "rdr = csv.reader(f)\n",
        "점수리스트_1 = []\n",
        "for i in rdr:\n",
        "    score = 0\n",
        "    p = 0\n",
        "    r = ','.join(i).replace(',',' ')\n",
        "    word = r.split()\n",
        "    a = ksl.data_list(word)\n",
        "    A =list(a)\n",
        "    try:\n",
        "        score += A[0]\n",
        "        p += A[1]\n",
        "    except:\n",
        "        pass\n",
        "    n +=1   \n",
        "    # print('---------------------------------------------------------------------')\n",
        "    # print(n)\n",
        "    # print('1-gram 점수 : {}'.format(score))\n",
        "    # print('1-gram 포함여부 : {}'. format(p))\n",
        "    점수리스트_1.append(score)\n",
        "    포함여부리스트_1.append(p)"
      ],
      "metadata": {
        "id": "cNaQKviZD0iH"
      },
      "execution_count": null,
      "outputs": []
    },
    {
      "cell_type": "code",
      "source": [
        "print(점수리스트_1.count(0))\n",
        "print(max(점수리스트_1))\n",
        "print(min(점수리스트_1))\n",
        "print(max(포함여부리스트_1))\n",
        "sum(포함여부리스트_1)"
      ],
      "metadata": {
        "colab": {
          "base_uri": "https://localhost:8080/"
        },
        "id": "YfaVMnxiD0kV",
        "outputId": "e57e58dc-8207-488a-b5a9-4248bab26553"
      },
      "execution_count": null,
      "outputs": [
        {
          "output_type": "stream",
          "name": "stdout",
          "text": [
            "18305\n",
            "2\n",
            "-2\n",
            "1\n"
          ]
        },
        {
          "output_type": "execute_result",
          "data": {
            "text/plain": [
              "3004"
            ]
          },
          "metadata": {},
          "execution_count": 27
        }
      ]
    },
    {
      "cell_type": "code",
      "source": [
        "# 사전 돌려서 나온 총 점수\n",
        "total_sum = [x + y + z for x,y,z in zip(점수리스트_3, 점수리스트_2, 점수리스트_1)]\n",
        "\n",
        "# 사전에 포함된 단어 빈도수 총 합계 \n",
        "total_count = [x + y + z for x,y,z in zip(포함여부리스트_3, 포함여부리스트_2, 포함여부리스트_1)]\n",
        "\n",
        "# 사전 단어가 한번도 등장하지 않은 리뷰 개수\n",
        "count_none = total_count.count(0)\n",
        "\n",
        "# 평균 구할때 사용되는 최종 리뷰 개수\n",
        "count_sum = len(total_count) - count_none"
      ],
      "metadata": {
        "id": "Mq2zWQJ6D0m2"
      },
      "execution_count": null,
      "outputs": []
    },
    {
      "cell_type": "code",
      "source": [
        "# 단어 등장 빈도 수에 따라 나눠 평균 내주기\n",
        "n = 0\n",
        "total_average = []\n",
        "for i in total_sum:\n",
        "  try:\n",
        "    score_average = i/total_count[n]\n",
        "    n += 1\n",
        "    total_average.append(score_average)\n",
        "  except ZeroDivisionError:\n",
        "    total_average.append(i)\n",
        "    n += 1\n",
        "    pass"
      ],
      "metadata": {
        "id": "7c-Dx-BLD0pe"
      },
      "execution_count": null,
      "outputs": []
    },
    {
      "cell_type": "code",
      "source": [
        "# 단어가 4번 이상 등장한 리뷰에 가중치 주기\n",
        "a = 0\n",
        "for i in total_count:\n",
        "  if i >=4 :\n",
        "    if total_average[a] > 0:\n",
        "      total_average[a] = total_average[a] + 1\n",
        "      a += 1\n",
        "    else :\n",
        "      total_average[a] = total_average[a] - 1\n",
        "      a += 1\n",
        "\n",
        "  else :\n",
        "    a += 1"
      ],
      "metadata": {
        "id": "M29c0_Q_YOVq"
      },
      "execution_count": null,
      "outputs": []
    },
    {
      "cell_type": "code",
      "source": [
        "# 총 점수 \n",
        "\n",
        "value_sum = sum(total_average)\n",
        "######## 세분화 이름을 바꿔주세요 ######## \n",
        "price_score = value_sum / count_sum\n",
        "print(price_score)"
      ],
      "metadata": {
        "colab": {
          "base_uri": "https://localhost:8080/"
        },
        "id": "Y745pQOqYOzX",
        "outputId": "1b8b9252-555d-4203-ec9f-18211fd800b1"
      },
      "execution_count": null,
      "outputs": [
        {
          "output_type": "stream",
          "name": "stdout",
          "text": [
            "1.4832080200501252\n"
          ]
        }
      ]
    },
    {
      "cell_type": "code",
      "source": [
        "if price_score < -2:\n",
        "  print('⭐')\n",
        "\n",
        "elif price_score < 0:\n",
        "    print('⭐⭐')\n",
        "\n",
        "elif price_score < 1:\n",
        "    print('⭐⭐⭐')\n",
        "\n",
        "elif price_score < 2:\n",
        "    print('⭐⭐⭐⭐')\n",
        "\n",
        "else :\n",
        "    print('⭐⭐⭐⭐⭐')"
      ],
      "metadata": {
        "id": "iEA9sBnWZpl5",
        "colab": {
          "base_uri": "https://localhost:8080/"
        },
        "outputId": "5e17b2ab-595a-440b-a17e-8dc51b7da734"
      },
      "execution_count": null,
      "outputs": [
        {
          "output_type": "stream",
          "name": "stdout",
          "text": [
            "⭐⭐⭐⭐\n"
          ]
        }
      ]
    },
    {
      "cell_type": "code",
      "source": [
        ""
      ],
      "metadata": {
        "id": "7yZVtLHJR8Hc"
      },
      "execution_count": null,
      "outputs": []
    }
  ]
}