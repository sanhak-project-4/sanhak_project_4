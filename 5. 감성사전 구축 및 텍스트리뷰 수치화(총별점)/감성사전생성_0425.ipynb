{
 "cells": [
  {
   "cell_type": "code",
   "execution_count": null,
   "id": "8badcd91",
   "metadata": {},
   "outputs": [],
   "source": [
    "# json 감성사전 만들기\n",
    "import datetime\n",
    "import json\n",
    "import pandas as pd\n",
    "\n",
    "j = pd.read_csv('2-gram_점수_최종.csv',encoding='utf-8')\n",
    "\n",
    "result = []\n",
    "filename = datetime.datetime.now()\n",
    "filename = datetime.datetime.now().strftime(\"%Y-%m-%d\")\n",
    "\n",
    "for i in range(0,len(j['점수'])):\n",
    "    a = dict()\n",
    "    a['word'] = j['이름'][i]\n",
    "    a['word_root'] = j['어근'][i]\n",
    "    a['polarity'] = j['점수'][i]\n",
    "    a['polarity'] = int(a['polarity'])\n",
    "    result.append(a)\n",
    "    \n",
    "with open('감성사전_최종_2_'+ filename +'.json', encoding='utf-8', mode='w+') as f:\n",
    "    json.dump(result,f,indent=4,ensure_ascii = False)\n",
    "    \n",
    "\n",
    "j = pd.read_csv('1-gram_점수_최종 (1).csv',encoding='utf-8')\n",
    "\n",
    "result = []\n",
    "filename = datetime.datetime.now()\n",
    "filename = datetime.datetime.now().strftime(\"%Y-%m-%d\")\n",
    "\n",
    "for i in range(0,len(j['점수'])):\n",
    "    a = dict()\n",
    "    a['word'] = j['토큰화 리스트'][i]\n",
    "    a['word_root'] = j['토큰화 리스트'][i]\n",
    "    a['polarity'] = j['점수'][i]\n",
    "    a['polarity'] = int(a['polarity'])\n",
    "    result.append(a)\n",
    "    \n",
    "with open('감성사전_최종_2_'+ filename +'.json', encoding='utf-8', mode='a+') as f:\n",
    "    json.dump(result,f,indent=4,ensure_ascii = False)"
   ]
  }
 ],
 "metadata": {
  "kernelspec": {
   "display_name": "Python 3 (ipykernel)",
   "language": "python",
   "name": "python3"
  },
  "language_info": {
   "codemirror_mode": {
    "name": "ipython",
    "version": 3
   },
   "file_extension": ".py",
   "mimetype": "text/x-python",
   "name": "python",
   "nbconvert_exporter": "python",
   "pygments_lexer": "ipython3",
   "version": "3.8.10"
  },
  "toc": {
   "base_numbering": 1,
   "nav_menu": {},
   "number_sections": true,
   "sideBar": true,
   "skip_h1_title": false,
   "title_cell": "Table of Contents",
   "title_sidebar": "Contents",
   "toc_cell": false,
   "toc_position": {},
   "toc_section_display": true,
   "toc_window_display": false
  },
  "varInspector": {
   "cols": {
    "lenName": 16,
    "lenType": 16,
    "lenVar": 40
   },
   "kernels_config": {
    "python": {
     "delete_cmd_postfix": "",
     "delete_cmd_prefix": "del ",
     "library": "var_list.py",
     "varRefreshCmd": "print(var_dic_list())"
    },
    "r": {
     "delete_cmd_postfix": ") ",
     "delete_cmd_prefix": "rm(",
     "library": "var_list.r",
     "varRefreshCmd": "cat(var_dic_list()) "
    }
   },
   "types_to_exclude": [
    "module",
    "function",
    "builtin_function_or_method",
    "instance",
    "_Feature"
   ],
   "window_display": false
  }
 },
 "nbformat": 4,
 "nbformat_minor": 5
}
