{
  "nbformat": 4,
  "nbformat_minor": 0,
  "metadata": {
    "colab": {
      "name": "cnn+BiLSTM_+_Attention.ipynb",
      "provenance": [],
      "collapsed_sections": []
    },
    "kernelspec": {
      "name": "python3",
      "display_name": "Python 3"
    },
    "language_info": {
      "name": "python"
    },
    "accelerator": "GPU"
  },
  "cells": [
    {
      "cell_type": "code",
      "execution_count": 1,
      "metadata": {
        "colab": {
          "base_uri": "https://localhost:8080/"
        },
        "id": "oV_2E-rBm0Yz",
        "outputId": "a2e08594-296e-4c6c-a075-4a3eab3f7a90"
      },
      "outputs": [
        {
          "output_type": "stream",
          "name": "stdout",
          "text": [
            "Collecting mxnet\n",
            "  Downloading mxnet-1.9.0-py3-none-manylinux2014_x86_64.whl (47.3 MB)\n",
            "\u001b[K     |████████████████████████████████| 47.3 MB 94 kB/s \n",
            "\u001b[?25hRequirement already satisfied: requests<3,>=2.20.0 in /usr/local/lib/python3.7/dist-packages (from mxnet) (2.23.0)\n",
            "Requirement already satisfied: numpy<2.0.0,>1.16.0 in /usr/local/lib/python3.7/dist-packages (from mxnet) (1.21.6)\n",
            "Collecting graphviz<0.9.0,>=0.8.1\n",
            "  Downloading graphviz-0.8.4-py2.py3-none-any.whl (16 kB)\n",
            "Requirement already satisfied: chardet<4,>=3.0.2 in /usr/local/lib/python3.7/dist-packages (from requests<3,>=2.20.0->mxnet) (3.0.4)\n",
            "Requirement already satisfied: idna<3,>=2.5 in /usr/local/lib/python3.7/dist-packages (from requests<3,>=2.20.0->mxnet) (2.10)\n",
            "Requirement already satisfied: urllib3!=1.25.0,!=1.25.1,<1.26,>=1.21.1 in /usr/local/lib/python3.7/dist-packages (from requests<3,>=2.20.0->mxnet) (1.24.3)\n",
            "Requirement already satisfied: certifi>=2017.4.17 in /usr/local/lib/python3.7/dist-packages (from requests<3,>=2.20.0->mxnet) (2021.10.8)\n",
            "Installing collected packages: graphviz, mxnet\n",
            "  Attempting uninstall: graphviz\n",
            "    Found existing installation: graphviz 0.10.1\n",
            "    Uninstalling graphviz-0.10.1:\n",
            "      Successfully uninstalled graphviz-0.10.1\n",
            "Successfully installed graphviz-0.8.4 mxnet-1.9.0\n",
            "Collecting gluonnlp\n",
            "  Downloading gluonnlp-0.10.0.tar.gz (344 kB)\n",
            "\u001b[K     |████████████████████████████████| 344 kB 8.3 MB/s \n",
            "\u001b[?25hRequirement already satisfied: pandas in /usr/local/lib/python3.7/dist-packages (1.3.5)\n",
            "Requirement already satisfied: tqdm in /usr/local/lib/python3.7/dist-packages (4.64.0)\n",
            "Requirement already satisfied: numpy>=1.16.0 in /usr/local/lib/python3.7/dist-packages (from gluonnlp) (1.21.6)\n",
            "Requirement already satisfied: cython in /usr/local/lib/python3.7/dist-packages (from gluonnlp) (0.29.28)\n",
            "Requirement already satisfied: packaging in /usr/local/lib/python3.7/dist-packages (from gluonnlp) (21.3)\n",
            "Requirement already satisfied: python-dateutil>=2.7.3 in /usr/local/lib/python3.7/dist-packages (from pandas) (2.8.2)\n",
            "Requirement already satisfied: pytz>=2017.3 in /usr/local/lib/python3.7/dist-packages (from pandas) (2022.1)\n",
            "Requirement already satisfied: six>=1.5 in /usr/local/lib/python3.7/dist-packages (from python-dateutil>=2.7.3->pandas) (1.15.0)\n",
            "Requirement already satisfied: pyparsing!=3.0.5,>=2.0.2 in /usr/local/lib/python3.7/dist-packages (from packaging->gluonnlp) (3.0.8)\n",
            "Building wheels for collected packages: gluonnlp\n",
            "  Building wheel for gluonnlp (setup.py) ... \u001b[?25l\u001b[?25hdone\n",
            "  Created wheel for gluonnlp: filename=gluonnlp-0.10.0-cp37-cp37m-linux_x86_64.whl size=595736 sha256=64c2a8a0143bde67dd895c4d1f0afc2a54f52d1b6555b882ecaabdd741f17c5d\n",
            "  Stored in directory: /root/.cache/pip/wheels/be/b4/06/7f3fdfaf707e6b5e98b79c041e023acffbe395d78a527eae00\n",
            "Successfully built gluonnlp\n",
            "Installing collected packages: gluonnlp\n",
            "Successfully installed gluonnlp-0.10.0\n",
            "Collecting sentencepiece\n",
            "  Downloading sentencepiece-0.1.96-cp37-cp37m-manylinux_2_17_x86_64.manylinux2014_x86_64.whl (1.2 MB)\n",
            "\u001b[K     |████████████████████████████████| 1.2 MB 10.8 MB/s \n",
            "\u001b[?25hInstalling collected packages: sentencepiece\n",
            "Successfully installed sentencepiece-0.1.96\n",
            "Collecting transformers==3.0.2\n",
            "  Downloading transformers-3.0.2-py3-none-any.whl (769 kB)\n",
            "\u001b[K     |████████████████████████████████| 769 kB 12.3 MB/s \n",
            "\u001b[?25hRequirement already satisfied: filelock in /usr/local/lib/python3.7/dist-packages (from transformers==3.0.2) (3.6.0)\n",
            "Requirement already satisfied: numpy in /usr/local/lib/python3.7/dist-packages (from transformers==3.0.2) (1.21.6)\n",
            "Requirement already satisfied: sentencepiece!=0.1.92 in /usr/local/lib/python3.7/dist-packages (from transformers==3.0.2) (0.1.96)\n",
            "Requirement already satisfied: tqdm>=4.27 in /usr/local/lib/python3.7/dist-packages (from transformers==3.0.2) (4.64.0)\n",
            "Requirement already satisfied: packaging in /usr/local/lib/python3.7/dist-packages (from transformers==3.0.2) (21.3)\n",
            "Requirement already satisfied: regex!=2019.12.17 in /usr/local/lib/python3.7/dist-packages (from transformers==3.0.2) (2019.12.20)\n",
            "Requirement already satisfied: requests in /usr/local/lib/python3.7/dist-packages (from transformers==3.0.2) (2.23.0)\n",
            "Collecting sacremoses\n",
            "  Downloading sacremoses-0.0.49-py3-none-any.whl (895 kB)\n",
            "\u001b[K     |████████████████████████████████| 895 kB 46.6 MB/s \n",
            "\u001b[?25hCollecting tokenizers==0.8.1.rc1\n",
            "  Downloading tokenizers-0.8.1rc1-cp37-cp37m-manylinux1_x86_64.whl (3.0 MB)\n",
            "\u001b[K     |████████████████████████████████| 3.0 MB 40.9 MB/s \n",
            "\u001b[?25hRequirement already satisfied: pyparsing!=3.0.5,>=2.0.2 in /usr/local/lib/python3.7/dist-packages (from packaging->transformers==3.0.2) (3.0.8)\n",
            "Requirement already satisfied: idna<3,>=2.5 in /usr/local/lib/python3.7/dist-packages (from requests->transformers==3.0.2) (2.10)\n",
            "Requirement already satisfied: chardet<4,>=3.0.2 in /usr/local/lib/python3.7/dist-packages (from requests->transformers==3.0.2) (3.0.4)\n",
            "Requirement already satisfied: certifi>=2017.4.17 in /usr/local/lib/python3.7/dist-packages (from requests->transformers==3.0.2) (2021.10.8)\n",
            "Requirement already satisfied: urllib3!=1.25.0,!=1.25.1,<1.26,>=1.21.1 in /usr/local/lib/python3.7/dist-packages (from requests->transformers==3.0.2) (1.24.3)\n",
            "Requirement already satisfied: joblib in /usr/local/lib/python3.7/dist-packages (from sacremoses->transformers==3.0.2) (1.1.0)\n",
            "Requirement already satisfied: click in /usr/local/lib/python3.7/dist-packages (from sacremoses->transformers==3.0.2) (7.1.2)\n",
            "Requirement already satisfied: six in /usr/local/lib/python3.7/dist-packages (from sacremoses->transformers==3.0.2) (1.15.0)\n",
            "Installing collected packages: tokenizers, sacremoses, transformers\n",
            "Successfully installed sacremoses-0.0.49 tokenizers-0.8.1rc1 transformers-3.0.2\n",
            "Requirement already satisfied: torch in /usr/local/lib/python3.7/dist-packages (1.11.0+cu113)\n",
            "Requirement already satisfied: typing-extensions in /usr/local/lib/python3.7/dist-packages (from torch) (4.2.0)\n"
          ]
        }
      ],
      "source": [
        "!pip install mxnet\n",
        "!pip install gluonnlp pandas tqdm\n",
        "!pip install sentencepiece\n",
        "!pip install transformers==3.0.2\n",
        "!pip install torch"
      ]
    },
    {
      "cell_type": "code",
      "source": [
        "import numpy as np\n",
        "import pandas as pd\n",
        "import matplotlib.pyplot as plt\n",
        "import urllib.request\n",
        "from sklearn.model_selection import train_test_split\n",
        "from tensorflow.keras.preprocessing.sequence import pad_sequences\n",
        "import torch\n",
        "from tensorflow.keras.preprocessing.text import Tokenizer\n",
        "from torch import nn\n",
        "import torch.nn.functional as F\n",
        "import torch.optim as optim\n",
        "from torch.utils.data import Dataset, DataLoader\n",
        "import gluonnlp as nlp\n",
        "from tqdm import tqdm, tqdm_notebook\n",
        "import bz2\n",
        "from collections import Counter\n",
        "import re\n",
        "import nltk\n",
        "import tensorflow as tf\n",
        "from tensorflow.keras.utils import to_categorical\n",
        "from tensorflow.keras import Input, Model\n",
        "from tensorflow.keras.layers import Dense, Embedding, Bidirectional, LSTM, Concatenate, Dropout\n",
        "from keras.layers import Conv1D, MaxPooling1D\n",
        "from tensorflow.keras.callbacks import EarlyStopping, ModelCheckpoint\n",
        "from tensorflow.keras.models import load_model"
      ],
      "metadata": {
        "id": "Tk-kS6X1m8hm"
      },
      "execution_count": 43,
      "outputs": []
    },
    {
      "cell_type": "code",
      "source": [
        "#데이터 불러오기\n",
        "data = pd.read_csv('/content/total_final_new_label_0427_ver1.csv')"
      ],
      "metadata": {
        "id": "xvUC1LQRnVbn"
      },
      "execution_count": 3,
      "outputs": []
    },
    {
      "cell_type": "code",
      "source": [
        "data.head()"
      ],
      "metadata": {
        "colab": {
          "base_uri": "https://localhost:8080/",
          "height": 206
        },
        "id": "Aat6XQkKnoCO",
        "outputId": "825e054b-2e5e-4437-f65c-616c14117e16"
      },
      "execution_count": 4,
      "outputs": [
        {
          "output_type": "execute_result",
          "data": {
            "text/plain": [
              "   Unnamed: 0                                            reviews  label  \\\n",
              "0           0  ﻿좋다 가격 구매 수납 공간 조금 많이 작다 정도 그냥 없다 모델 그렇다 라이트 단...      0   \n",
              "1           2  별로 사진 처럼 침대 하단 시트 가다 조금 벗겨지다 기사 설치 그렇다 지원 문제 모...      0   \n",
              "2           3  설치 기사 가다 프레임 헤드 깨다 보신 건지다 말씀 해주다 속상하다 누우 신경 쓰이...      0   \n",
              "3           4  월일 설치 사용 서랍 장이 분리 버리다 서랍 장이 톱밥 뭉치다 합판 너무 약하다 같...      0   \n",
              "4           5  보통 넉넉하다 수납 공간 구매 서랍 서랍 자체 밑바닥 바퀴 달다 서랍 뚜껑 식이 손...      0   \n",
              "\n",
              "   new_label  \n",
              "0          0  \n",
              "1          0  \n",
              "2          0  \n",
              "3          0  \n",
              "4          0  "
            ],
            "text/html": [
              "\n",
              "  <div id=\"df-b916469a-9e81-45f6-a683-1f5a179f9910\">\n",
              "    <div class=\"colab-df-container\">\n",
              "      <div>\n",
              "<style scoped>\n",
              "    .dataframe tbody tr th:only-of-type {\n",
              "        vertical-align: middle;\n",
              "    }\n",
              "\n",
              "    .dataframe tbody tr th {\n",
              "        vertical-align: top;\n",
              "    }\n",
              "\n",
              "    .dataframe thead th {\n",
              "        text-align: right;\n",
              "    }\n",
              "</style>\n",
              "<table border=\"1\" class=\"dataframe\">\n",
              "  <thead>\n",
              "    <tr style=\"text-align: right;\">\n",
              "      <th></th>\n",
              "      <th>Unnamed: 0</th>\n",
              "      <th>reviews</th>\n",
              "      <th>label</th>\n",
              "      <th>new_label</th>\n",
              "    </tr>\n",
              "  </thead>\n",
              "  <tbody>\n",
              "    <tr>\n",
              "      <th>0</th>\n",
              "      <td>0</td>\n",
              "      <td>﻿좋다 가격 구매 수납 공간 조금 많이 작다 정도 그냥 없다 모델 그렇다 라이트 단...</td>\n",
              "      <td>0</td>\n",
              "      <td>0</td>\n",
              "    </tr>\n",
              "    <tr>\n",
              "      <th>1</th>\n",
              "      <td>2</td>\n",
              "      <td>별로 사진 처럼 침대 하단 시트 가다 조금 벗겨지다 기사 설치 그렇다 지원 문제 모...</td>\n",
              "      <td>0</td>\n",
              "      <td>0</td>\n",
              "    </tr>\n",
              "    <tr>\n",
              "      <th>2</th>\n",
              "      <td>3</td>\n",
              "      <td>설치 기사 가다 프레임 헤드 깨다 보신 건지다 말씀 해주다 속상하다 누우 신경 쓰이...</td>\n",
              "      <td>0</td>\n",
              "      <td>0</td>\n",
              "    </tr>\n",
              "    <tr>\n",
              "      <th>3</th>\n",
              "      <td>4</td>\n",
              "      <td>월일 설치 사용 서랍 장이 분리 버리다 서랍 장이 톱밥 뭉치다 합판 너무 약하다 같...</td>\n",
              "      <td>0</td>\n",
              "      <td>0</td>\n",
              "    </tr>\n",
              "    <tr>\n",
              "      <th>4</th>\n",
              "      <td>5</td>\n",
              "      <td>보통 넉넉하다 수납 공간 구매 서랍 서랍 자체 밑바닥 바퀴 달다 서랍 뚜껑 식이 손...</td>\n",
              "      <td>0</td>\n",
              "      <td>0</td>\n",
              "    </tr>\n",
              "  </tbody>\n",
              "</table>\n",
              "</div>\n",
              "      <button class=\"colab-df-convert\" onclick=\"convertToInteractive('df-b916469a-9e81-45f6-a683-1f5a179f9910')\"\n",
              "              title=\"Convert this dataframe to an interactive table.\"\n",
              "              style=\"display:none;\">\n",
              "        \n",
              "  <svg xmlns=\"http://www.w3.org/2000/svg\" height=\"24px\"viewBox=\"0 0 24 24\"\n",
              "       width=\"24px\">\n",
              "    <path d=\"M0 0h24v24H0V0z\" fill=\"none\"/>\n",
              "    <path d=\"M18.56 5.44l.94 2.06.94-2.06 2.06-.94-2.06-.94-.94-2.06-.94 2.06-2.06.94zm-11 1L8.5 8.5l.94-2.06 2.06-.94-2.06-.94L8.5 2.5l-.94 2.06-2.06.94zm10 10l.94 2.06.94-2.06 2.06-.94-2.06-.94-.94-2.06-.94 2.06-2.06.94z\"/><path d=\"M17.41 7.96l-1.37-1.37c-.4-.4-.92-.59-1.43-.59-.52 0-1.04.2-1.43.59L10.3 9.45l-7.72 7.72c-.78.78-.78 2.05 0 2.83L4 21.41c.39.39.9.59 1.41.59.51 0 1.02-.2 1.41-.59l7.78-7.78 2.81-2.81c.8-.78.8-2.07 0-2.86zM5.41 20L4 18.59l7.72-7.72 1.47 1.35L5.41 20z\"/>\n",
              "  </svg>\n",
              "      </button>\n",
              "      \n",
              "  <style>\n",
              "    .colab-df-container {\n",
              "      display:flex;\n",
              "      flex-wrap:wrap;\n",
              "      gap: 12px;\n",
              "    }\n",
              "\n",
              "    .colab-df-convert {\n",
              "      background-color: #E8F0FE;\n",
              "      border: none;\n",
              "      border-radius: 50%;\n",
              "      cursor: pointer;\n",
              "      display: none;\n",
              "      fill: #1967D2;\n",
              "      height: 32px;\n",
              "      padding: 0 0 0 0;\n",
              "      width: 32px;\n",
              "    }\n",
              "\n",
              "    .colab-df-convert:hover {\n",
              "      background-color: #E2EBFA;\n",
              "      box-shadow: 0px 1px 2px rgba(60, 64, 67, 0.3), 0px 1px 3px 1px rgba(60, 64, 67, 0.15);\n",
              "      fill: #174EA6;\n",
              "    }\n",
              "\n",
              "    [theme=dark] .colab-df-convert {\n",
              "      background-color: #3B4455;\n",
              "      fill: #D2E3FC;\n",
              "    }\n",
              "\n",
              "    [theme=dark] .colab-df-convert:hover {\n",
              "      background-color: #434B5C;\n",
              "      box-shadow: 0px 1px 3px 1px rgba(0, 0, 0, 0.15);\n",
              "      filter: drop-shadow(0px 1px 2px rgba(0, 0, 0, 0.3));\n",
              "      fill: #FFFFFF;\n",
              "    }\n",
              "  </style>\n",
              "\n",
              "      <script>\n",
              "        const buttonEl =\n",
              "          document.querySelector('#df-b916469a-9e81-45f6-a683-1f5a179f9910 button.colab-df-convert');\n",
              "        buttonEl.style.display =\n",
              "          google.colab.kernel.accessAllowed ? 'block' : 'none';\n",
              "\n",
              "        async function convertToInteractive(key) {\n",
              "          const element = document.querySelector('#df-b916469a-9e81-45f6-a683-1f5a179f9910');\n",
              "          const dataTable =\n",
              "            await google.colab.kernel.invokeFunction('convertToInteractive',\n",
              "                                                     [key], {});\n",
              "          if (!dataTable) return;\n",
              "\n",
              "          const docLinkHtml = 'Like what you see? Visit the ' +\n",
              "            '<a target=\"_blank\" href=https://colab.research.google.com/notebooks/data_table.ipynb>data table notebook</a>'\n",
              "            + ' to learn more about interactive tables.';\n",
              "          element.innerHTML = '';\n",
              "          dataTable['output_type'] = 'display_data';\n",
              "          await google.colab.output.renderOutput(dataTable, element);\n",
              "          const docLink = document.createElement('div');\n",
              "          docLink.innerHTML = docLinkHtml;\n",
              "          element.appendChild(docLink);\n",
              "        }\n",
              "      </script>\n",
              "    </div>\n",
              "  </div>\n",
              "  "
            ]
          },
          "metadata": {},
          "execution_count": 4
        }
      ]
    },
    {
      "cell_type": "code",
      "source": [
        "data = data.drop(['Unnamed: 0','label'], axis=1)"
      ],
      "metadata": {
        "id": "df8aQKvOn1WH"
      },
      "execution_count": 5,
      "outputs": []
    },
    {
      "cell_type": "code",
      "source": [
        "data"
      ],
      "metadata": {
        "colab": {
          "base_uri": "https://localhost:8080/",
          "height": 424
        },
        "id": "3Lw6xTQRoL6g",
        "outputId": "9ed4b1a8-39c2-4520-acc7-59ea0d107e58"
      },
      "execution_count": 6,
      "outputs": [
        {
          "output_type": "execute_result",
          "data": {
            "text/plain": [
              "                                                 reviews  new_label\n",
              "0      ﻿좋다 가격 구매 수납 공간 조금 많이 작다 정도 그냥 없다 모델 그렇다 라이트 단...          0\n",
              "1      별로 사진 처럼 침대 하단 시트 가다 조금 벗겨지다 기사 설치 그렇다 지원 문제 모...          0\n",
              "2      설치 기사 가다 프레임 헤드 깨다 보신 건지다 말씀 해주다 속상하다 누우 신경 쓰이...          0\n",
              "3      월일 설치 사용 서랍 장이 분리 버리다 서랍 장이 톱밥 뭉치다 합판 너무 약하다 같...          0\n",
              "4      보통 넉넉하다 수납 공간 구매 서랍 서랍 자체 밑바닥 바퀴 달다 서랍 뚜껑 식이 손...          0\n",
              "...                                                  ...        ...\n",
              "19747                                아쉽다 기다 하지만 튼튼하다 분위기          1\n",
              "19748                                              사용 좋다          1\n",
              "19749                            튼튼하다 수납 공간 좋다 여전하다 만족하다          1\n",
              "19750  지방 보다 배송 늦다 기사 바쁘다 그냥 두다 가시 보다 균형 잡다 먹다 지금 흔들리...          0\n",
              "19751  앉다 오래 일해 허리 아프다 구매 설치 시간 정도 정리 같다 너무 너무 들다 사이즈...          0\n",
              "\n",
              "[19752 rows x 2 columns]"
            ],
            "text/html": [
              "\n",
              "  <div id=\"df-f8141605-ad2d-42ad-8d0b-c009c9f9785e\">\n",
              "    <div class=\"colab-df-container\">\n",
              "      <div>\n",
              "<style scoped>\n",
              "    .dataframe tbody tr th:only-of-type {\n",
              "        vertical-align: middle;\n",
              "    }\n",
              "\n",
              "    .dataframe tbody tr th {\n",
              "        vertical-align: top;\n",
              "    }\n",
              "\n",
              "    .dataframe thead th {\n",
              "        text-align: right;\n",
              "    }\n",
              "</style>\n",
              "<table border=\"1\" class=\"dataframe\">\n",
              "  <thead>\n",
              "    <tr style=\"text-align: right;\">\n",
              "      <th></th>\n",
              "      <th>reviews</th>\n",
              "      <th>new_label</th>\n",
              "    </tr>\n",
              "  </thead>\n",
              "  <tbody>\n",
              "    <tr>\n",
              "      <th>0</th>\n",
              "      <td>﻿좋다 가격 구매 수납 공간 조금 많이 작다 정도 그냥 없다 모델 그렇다 라이트 단...</td>\n",
              "      <td>0</td>\n",
              "    </tr>\n",
              "    <tr>\n",
              "      <th>1</th>\n",
              "      <td>별로 사진 처럼 침대 하단 시트 가다 조금 벗겨지다 기사 설치 그렇다 지원 문제 모...</td>\n",
              "      <td>0</td>\n",
              "    </tr>\n",
              "    <tr>\n",
              "      <th>2</th>\n",
              "      <td>설치 기사 가다 프레임 헤드 깨다 보신 건지다 말씀 해주다 속상하다 누우 신경 쓰이...</td>\n",
              "      <td>0</td>\n",
              "    </tr>\n",
              "    <tr>\n",
              "      <th>3</th>\n",
              "      <td>월일 설치 사용 서랍 장이 분리 버리다 서랍 장이 톱밥 뭉치다 합판 너무 약하다 같...</td>\n",
              "      <td>0</td>\n",
              "    </tr>\n",
              "    <tr>\n",
              "      <th>4</th>\n",
              "      <td>보통 넉넉하다 수납 공간 구매 서랍 서랍 자체 밑바닥 바퀴 달다 서랍 뚜껑 식이 손...</td>\n",
              "      <td>0</td>\n",
              "    </tr>\n",
              "    <tr>\n",
              "      <th>...</th>\n",
              "      <td>...</td>\n",
              "      <td>...</td>\n",
              "    </tr>\n",
              "    <tr>\n",
              "      <th>19747</th>\n",
              "      <td>아쉽다 기다 하지만 튼튼하다 분위기</td>\n",
              "      <td>1</td>\n",
              "    </tr>\n",
              "    <tr>\n",
              "      <th>19748</th>\n",
              "      <td>사용 좋다</td>\n",
              "      <td>1</td>\n",
              "    </tr>\n",
              "    <tr>\n",
              "      <th>19749</th>\n",
              "      <td>튼튼하다 수납 공간 좋다 여전하다 만족하다</td>\n",
              "      <td>1</td>\n",
              "    </tr>\n",
              "    <tr>\n",
              "      <th>19750</th>\n",
              "      <td>지방 보다 배송 늦다 기사 바쁘다 그냥 두다 가시 보다 균형 잡다 먹다 지금 흔들리...</td>\n",
              "      <td>0</td>\n",
              "    </tr>\n",
              "    <tr>\n",
              "      <th>19751</th>\n",
              "      <td>앉다 오래 일해 허리 아프다 구매 설치 시간 정도 정리 같다 너무 너무 들다 사이즈...</td>\n",
              "      <td>0</td>\n",
              "    </tr>\n",
              "  </tbody>\n",
              "</table>\n",
              "<p>19752 rows × 2 columns</p>\n",
              "</div>\n",
              "      <button class=\"colab-df-convert\" onclick=\"convertToInteractive('df-f8141605-ad2d-42ad-8d0b-c009c9f9785e')\"\n",
              "              title=\"Convert this dataframe to an interactive table.\"\n",
              "              style=\"display:none;\">\n",
              "        \n",
              "  <svg xmlns=\"http://www.w3.org/2000/svg\" height=\"24px\"viewBox=\"0 0 24 24\"\n",
              "       width=\"24px\">\n",
              "    <path d=\"M0 0h24v24H0V0z\" fill=\"none\"/>\n",
              "    <path d=\"M18.56 5.44l.94 2.06.94-2.06 2.06-.94-2.06-.94-.94-2.06-.94 2.06-2.06.94zm-11 1L8.5 8.5l.94-2.06 2.06-.94-2.06-.94L8.5 2.5l-.94 2.06-2.06.94zm10 10l.94 2.06.94-2.06 2.06-.94-2.06-.94-.94-2.06-.94 2.06-2.06.94z\"/><path d=\"M17.41 7.96l-1.37-1.37c-.4-.4-.92-.59-1.43-.59-.52 0-1.04.2-1.43.59L10.3 9.45l-7.72 7.72c-.78.78-.78 2.05 0 2.83L4 21.41c.39.39.9.59 1.41.59.51 0 1.02-.2 1.41-.59l7.78-7.78 2.81-2.81c.8-.78.8-2.07 0-2.86zM5.41 20L4 18.59l7.72-7.72 1.47 1.35L5.41 20z\"/>\n",
              "  </svg>\n",
              "      </button>\n",
              "      \n",
              "  <style>\n",
              "    .colab-df-container {\n",
              "      display:flex;\n",
              "      flex-wrap:wrap;\n",
              "      gap: 12px;\n",
              "    }\n",
              "\n",
              "    .colab-df-convert {\n",
              "      background-color: #E8F0FE;\n",
              "      border: none;\n",
              "      border-radius: 50%;\n",
              "      cursor: pointer;\n",
              "      display: none;\n",
              "      fill: #1967D2;\n",
              "      height: 32px;\n",
              "      padding: 0 0 0 0;\n",
              "      width: 32px;\n",
              "    }\n",
              "\n",
              "    .colab-df-convert:hover {\n",
              "      background-color: #E2EBFA;\n",
              "      box-shadow: 0px 1px 2px rgba(60, 64, 67, 0.3), 0px 1px 3px 1px rgba(60, 64, 67, 0.15);\n",
              "      fill: #174EA6;\n",
              "    }\n",
              "\n",
              "    [theme=dark] .colab-df-convert {\n",
              "      background-color: #3B4455;\n",
              "      fill: #D2E3FC;\n",
              "    }\n",
              "\n",
              "    [theme=dark] .colab-df-convert:hover {\n",
              "      background-color: #434B5C;\n",
              "      box-shadow: 0px 1px 3px 1px rgba(0, 0, 0, 0.15);\n",
              "      filter: drop-shadow(0px 1px 2px rgba(0, 0, 0, 0.3));\n",
              "      fill: #FFFFFF;\n",
              "    }\n",
              "  </style>\n",
              "\n",
              "      <script>\n",
              "        const buttonEl =\n",
              "          document.querySelector('#df-f8141605-ad2d-42ad-8d0b-c009c9f9785e button.colab-df-convert');\n",
              "        buttonEl.style.display =\n",
              "          google.colab.kernel.accessAllowed ? 'block' : 'none';\n",
              "\n",
              "        async function convertToInteractive(key) {\n",
              "          const element = document.querySelector('#df-f8141605-ad2d-42ad-8d0b-c009c9f9785e');\n",
              "          const dataTable =\n",
              "            await google.colab.kernel.invokeFunction('convertToInteractive',\n",
              "                                                     [key], {});\n",
              "          if (!dataTable) return;\n",
              "\n",
              "          const docLinkHtml = 'Like what you see? Visit the ' +\n",
              "            '<a target=\"_blank\" href=https://colab.research.google.com/notebooks/data_table.ipynb>data table notebook</a>'\n",
              "            + ' to learn more about interactive tables.';\n",
              "          element.innerHTML = '';\n",
              "          dataTable['output_type'] = 'display_data';\n",
              "          await google.colab.output.renderOutput(dataTable, element);\n",
              "          const docLink = document.createElement('div');\n",
              "          docLink.innerHTML = docLinkHtml;\n",
              "          element.appendChild(docLink);\n",
              "        }\n",
              "      </script>\n",
              "    </div>\n",
              "  </div>\n",
              "  "
            ]
          },
          "metadata": {},
          "execution_count": 6
        }
      ]
    },
    {
      "cell_type": "code",
      "source": [
        "#train & test 데이터로 나누기                                                 \n",
        "train_data, test_data = train_test_split(data, test_size=0.2, random_state=0)"
      ],
      "metadata": {
        "id": "j4lX9rKpnvzu"
      },
      "execution_count": 7,
      "outputs": []
    },
    {
      "cell_type": "code",
      "source": [
        "# 데이터 수 확인\n",
        "print(len(train_data))\n",
        "print(len(test_data))"
      ],
      "metadata": {
        "colab": {
          "base_uri": "https://localhost:8080/"
        },
        "id": "0D3gLvQCoU24",
        "outputId": "5a298e27-faac-4f29-fbc6-bfed7e860fde"
      },
      "execution_count": 8,
      "outputs": [
        {
          "output_type": "stream",
          "name": "stdout",
          "text": [
            "15801\n",
            "3951\n"
          ]
        }
      ]
    },
    {
      "cell_type": "code",
      "source": [
        "!pip install konlpy\n",
        "from konlpy.tag import Okt\n",
        "\n",
        "okt = Okt()"
      ],
      "metadata": {
        "colab": {
          "base_uri": "https://localhost:8080/"
        },
        "id": "bhyR67gFoaYZ",
        "outputId": "f03ae1a2-8c2d-4a9a-fb40-96629c31be53"
      },
      "execution_count": 9,
      "outputs": [
        {
          "output_type": "stream",
          "name": "stdout",
          "text": [
            "Collecting konlpy\n",
            "  Downloading konlpy-0.6.0-py2.py3-none-any.whl (19.4 MB)\n",
            "\u001b[K     |████████████████████████████████| 19.4 MB 1.3 MB/s \n",
            "\u001b[?25hRequirement already satisfied: numpy>=1.6 in /usr/local/lib/python3.7/dist-packages (from konlpy) (1.21.6)\n",
            "Collecting JPype1>=0.7.0\n",
            "  Downloading JPype1-1.3.0-cp37-cp37m-manylinux_2_5_x86_64.manylinux1_x86_64.whl (448 kB)\n",
            "\u001b[K     |████████████████████████████████| 448 kB 40.7 MB/s \n",
            "\u001b[?25hRequirement already satisfied: lxml>=4.1.0 in /usr/local/lib/python3.7/dist-packages (from konlpy) (4.2.6)\n",
            "Requirement already satisfied: typing-extensions in /usr/local/lib/python3.7/dist-packages (from JPype1>=0.7.0->konlpy) (4.2.0)\n",
            "Installing collected packages: JPype1, konlpy\n",
            "Successfully installed JPype1-1.3.0 konlpy-0.6.0\n"
          ]
        }
      ]
    },
    {
      "cell_type": "code",
      "source": [
        "X_train = []\n",
        "for sentence in tqdm(train_data['reviews']):\n",
        "    tokenized_sentence = okt.morphs(sentence, stem=True) # 토큰화\n",
        "    X_train.append(tokenized_sentence)"
      ],
      "metadata": {
        "colab": {
          "base_uri": "https://localhost:8080/"
        },
        "id": "VHFdVFP5o9W8",
        "outputId": "7b5e09cb-d299-4ca6-b85a-4409685703dd"
      },
      "execution_count": 10,
      "outputs": [
        {
          "output_type": "stream",
          "name": "stderr",
          "text": [
            "100%|██████████| 15801/15801 [00:57<00:00, 274.37it/s]\n"
          ]
        }
      ]
    },
    {
      "cell_type": "code",
      "source": [
        "print(X_train[23])"
      ],
      "metadata": {
        "colab": {
          "base_uri": "https://localhost:8080/"
        },
        "id": "CEBDutTSpUlH",
        "outputId": "1d4d651c-114d-4f56-a009-035052b3cf8f"
      },
      "execution_count": 11,
      "outputs": [
        {
          "output_type": "stream",
          "name": "stdout",
          "text": [
            "['냄새', '너무', '심해', '고생', 'ㅠㅠ']\n"
          ]
        }
      ]
    },
    {
      "cell_type": "code",
      "source": [
        "X_test = []\n",
        "for sentence in tqdm(test_data['reviews']):\n",
        "    tokenized_sentence = okt.morphs(sentence, stem=True) # 토큰화\n",
        "    X_test.append(tokenized_sentence)"
      ],
      "metadata": {
        "colab": {
          "base_uri": "https://localhost:8080/"
        },
        "id": "rei_jWvVpG2D",
        "outputId": "daa2d665-8fb3-49f6-874d-031d070b2ed8"
      },
      "execution_count": 12,
      "outputs": [
        {
          "output_type": "stream",
          "name": "stderr",
          "text": [
            "100%|██████████| 3951/3951 [00:06<00:00, 623.42it/s]\n"
          ]
        }
      ]
    },
    {
      "cell_type": "code",
      "source": [
        "print(X_test[23])"
      ],
      "metadata": {
        "colab": {
          "base_uri": "https://localhost:8080/"
        },
        "id": "hDMwXw3XptJ6",
        "outputId": "6c86c119-2e29-4f71-e359-53e55a092522"
      },
      "execution_count": 13,
      "outputs": [
        {
          "output_type": "stream",
          "name": "stdout",
          "text": [
            "['진짜', '쿠션', '엄청', '푹신푹신', '오다', '같다', '소파', '티비', '편안함', '주어', '너무', '마음', '들다']\n"
          ]
        }
      ]
    },
    {
      "cell_type": "code",
      "source": [
        "y_train = np.array(train_data['new_label'])\n",
        "y_test = np.array(test_data['new_label'])"
      ],
      "metadata": {
        "id": "pq9NhcSOp7zP"
      },
      "execution_count": 14,
      "outputs": []
    },
    {
      "cell_type": "code",
      "source": [
        "tokenizer = Tokenizer()\n",
        "tokenizer.fit_on_texts(X_train)"
      ],
      "metadata": {
        "id": "MRZTjyGKwmBO"
      },
      "execution_count": 15,
      "outputs": []
    },
    {
      "cell_type": "code",
      "source": [
        "print(tokenizer.word_index)"
      ],
      "metadata": {
        "colab": {
          "base_uri": "https://localhost:8080/"
        },
        "id": "rTygvYvawmDo",
        "outputId": "e7bd5b43-e7ae-41a7-f5b0-223df6ce9d61"
      },
      "execution_count": 16,
      "outputs": [
        {
          "output_type": "stream",
          "name": "stdout",
          "text": [
            "{'좋다': 1, '배송': 2, '너무': 3, '보다': 4, '같다': 5, '가격': 6, '않다': 7, '다': 8, '생각': 9, '기사': 10, '설치': 11, '받다': 12, '제품': 13, '없다': 14, '사용': 15, '구매': 16, '오다': 17, '들다': 18, '쓰다': 19, '만족하다': 20, '그냥': 21, '깔끔하다': 22, '많이': 23, '해주다': 24, '부분': 25, '튼튼하다': 26, '친절하다': 27, '괜찮다': 28, '조립': 29, '디자인': 30, '아니다': 31, '주문': 32, '냄새': 33, '소파': 34, '대비': 35, '예쁘다': 36, '그렇다': 37, '걸리다': 38, '상품': 39, '가다': 40, '맞다': 41, '정말': 42, '색상': 43, '수납': 44, '저렴하다': 45, '크다': 46, '조금': 47, '보이': 48, '쿠션': 49, '편하다': 50, '정도': 51, '서랍': 52, '사이즈': 53, '침대': 54, '식탁': 55, '쓸다': 56, '마음': 57, '성비': 58, '주다': 59, '시간': 60, '배송비': 61, '사진': 62, '아쉽다': 63, '다리': 64, '이쁘다': 65, '가구': 66, '앉다': 67, '빠르다': 68, '느낌': 69, '공간': 70, '마감': 71, '아주': 72, '많다': 73, '싸다': 74, '그리고': 75, '교환': 76, '오래': 77, '불편하다': 78, '놓다': 79, '빼다': 80, '그래도': 81, '리다': 82, '감사하다': 83, 'ㅎㅎ': 84, 'ㅠㅠ': 85, '맞추다': 86, '진짜': 87, '엄청': 88, '매트리스': 89, '드리다': 90, '고민': 91, '별로': 92, '없이': 93, '물건': 94, '보고': 95, '처음': 96, '책상': 97, '견고하다': 98, '알다': 99, '연락': 100, '근데': 101, '작다': 102, '다시': 103, '최고': 104, '혼자': 105, '적당하다': 106, '니': 107, '딱딱하다': 108, '거실': 109, '이나': 110, '추가': 111, '늦다': 112, '기다리다': 113, '푹신하다': 114, '정리': 115, '만족': 116, '좋아하다': 117, '높이': 118, '들어가다': 119, '원하다': 120, '힘들다': 121, '지다': 122, '보내다': 123, '옷장': 124, '책장': 125, '모르다': 126, '두다': 127, '만족스럽다': 128, '이사': 129, '때문': 130, '느리다': 131, '화면': 132, '상판': 133, '걱정': 134, '추천': 135, '넣다': 136, '소리': 137, '후기': 138, '약하다': 139, '날짜': 140, '비싸다': 141, '기분': 142, '넓다': 143, '살짝': 144, '하지만': 145, '반품': 146, '같이': 147, '넘다': 148, '문제': 149, '주시': 150, '듭': 151, '처리': 152, '라고': 153, '나오다': 154, '감다': 155, '흔들리다': 156, '빠지다': 157, 'ㅜㅜ': 158, '선택': 159, '떨어지다': 160, '설명': 161, '크기': 162, '아직': 163, '바닥': 164, '올': 165, '전화': 166, '좁다': 167, '리뷰': 168, '흠집': 169, '나무': 170, '처럼': 171, '해보다': 172, '끄다': 173, '바꾸다': 174, '어울리다': 175, '심하다': 176, '그대로': 177, '매우': 178, '필요하다': 179, '빨리': 180, '닦다': 181, '보통': 182, '찍히다': 183, '건지다': 184, '만들다': 185, '닫다': 186, '직접': 187, '참고': 188, '고급스럽다': 189, '낮다': 190, '쉬': 191, '눕다': 192, '나서다': 193, '일주일': 194, '사람': 195, '만에': 196, '계속': 197, '쓰기': 198, '확인': 199, '버리다': 200, '품질': 201, '불량': 202, '서다': 203, '전체': 204, 'ㅋㅋ': 205, '달라': 206, '열다': 207, '이다': 208, '나사': 209, '높다': 210, '자체': 211, '역시': 212, '판이': 213, '허리': 214, '구멍': 215, '재질': 216, '나쁘다': 217, '마다': 218, '고객': 219, '티브이': 220, '신경': 221, '상태': 222, '그런데': 223, '프레임': 224, '건데': 225, '꺼지다': 226, '고정': 227, '판매': 228, '어렵다': 229, '살다': 230, '무겁다': 231, '차다': 232, '붙이': 233, '최악': 234, '꼼꼼하다': 235, '갈다': 236, '옮기다': 237, '생기': 238, '다르다': 239, '아프다': 240, '묻다': 241, '업체': 242, '기': 243, '말다': 244, '깔다': 245, '가능하다': 246, '여러': 247, '귀찮다': 248, '지방': 249, '색깔': 250, '수평': 251, '대로': 252, '분위기': 253, '테이블': 254, '도착': 255, '넉넉하다': 256, '커버': 257, '네': 258, '택배': 259, '이렇게': 260, '잘못': 261, '라서': 262, '스크래치': 263, '자리': 264, '닫히다': 265, '가볍다': 266, '남다': 267, '문의': 268, '따로': 269, '그래서': 270, '먼지': 271, '커서': 272, '찾다': 273, '파다': 274, '똑같다': 275, '조절': 276, '자국': 277, '하자': 278, '심플': 279, '인지': 280, '원래': 281, '지금': 282, '실물': 283, '흔들다': 284, '박스': 285, '빨르다': 286, '편안하다': 287, '며칠': 288, '요청': 289, '편이': 290, '완전': 291, '매트': 292, '모서리': 293, '선물': 294, '기존': 295, '하루': 296, '인용': 297, '원목': 298, '모니터': 299, '고급': 300, '얇다': 301, '단단하다': 302, '벗겨지다': 303, '퀄리티': 304, '드': 305, '요가': 306, '기대': 307, '무난': 308, '접다': 309, '서비스': 310, '지워지다': 311, '구성': 312, '깨끗하다': 313, '제대로': 314, '후회': 315, '손잡이': 316, '부드럽다': 317, '문짝': 318, '움직': 319, '금방': 320, '일정': 321, '지나다': 322, '미리': 323, '거리': 324, '실망': 325, '한쪽': 326, '환기': 327, '받침': 328, '유리': 329, '딱이다': 330, '컬러': 331, '무게': 332, '벤치': 333, '배달': 334, '보기': 335, '고생': 336, '헤드': 337, '크게': 338, '붙다': 339, '가죽': 340, '밝다': 341, '활용': 342, '송료': 343, '실제': 344, '허다': 345, '먹다': 346, 'ㅋㅋㅋ': 347, '대다': 348, '내다': 349, '단점': 350, '포장': 351, '비슷하다': 352, '잡다': 353, '장이': 354, '응대': 355, '해도': 356, '믿다': 357, '쓰이다': 358, '번째': 359, '보다는': 360, '정확하다': 361, '색감': 362, '하니': 363, '해주시': 364, '아래': 365, '뭔가': 366, '사서': 367, '당황': 368, '가운데': 369, '교체': 370, '센터': 371, '보단': 372, '얼룩': 373, '인터넷': 374, '걸다': 375, '선반': 376, '뜯다': 377, '안쪽': 378, '지정': 379, '오늘': 380, '전혀': 381, '텐데': 382, '월일': 383, 'ㅡㅡ': 384, '세트': 385, '아침': 386, '비': 387, '확실하다': 388, '대충': 389, '충분하다': 390, '긁다': 391, '짜다': 392, '색도': 393, '뜨다': 394, '바라다': 395, '전화하다': 396, '스프링': 397, '짜증': 398, '취소': 399, '약속': 400, '밀리': 401, '고르다': 402, '어쩔': 403, '여자': 404, '자꾸': 405, '기능': 406, '사고': 407, '비교': 408, '기간': 409, '절대': 410, '차이': 411, '불안하다': 412, '재다': 413, '파손': 414, '그렇게': 415, '불친절하다': 416, '닦이다': 417, '이유': 418, '상담': 419, '신랑': 420, '거울': 421, '회사': 422, '금액': 423, '쉬다': 424, '나름': 425, '인치': 426, '부족하다': 427, '찍다': 428, '신청': 429, '짧다': 430, '적다': 431, '나요': 432, '마무리': 433, '방이': 434, '급하다': 435, '청소': 436, '모양': 437, '벌어지다': 438, '이지만': 439, '이라서': 440, '열': 441, '길이': 442, '사이': 443, '제일': 444, '싫다': 445, '군데': 446, '일어나다': 447, '부실하다': 448, '일이': 449, '여기저기': 450, '가시': 451, '기대하다': 452, '새롭다': 453, '느껴지다': 454, '스티커': 455, '무거워': 456, '펴다': 457, '위치': 458, '번거롭다': 459, '거치': 460, '편리하다': 461, '머리': 462, '아깝다': 463, '당일': 464, '특히': 465, '연결': 466, '번창': 467, '실용': 468, '들어서다': 469, '예정': 470, '용도': 471, '일찍': 472, '알아보다': 473, '경우': 474, '개인': 475, '차지': 476, '끼우다': 477, '나중': 478, '탄탄하다': 479, '화사하다': 480, '받치다': 481, '검수': 482, '이해': 483, '그럭저럭': 484, '틀다': 485, '이틀': 486, '느끼다': 487, '레일': 488, '굉장하다': 489, '과정': 490, '아무리': 491, '베이지': 492, '기본': 493, '개다': 494, '일반': 495, '비용': 496, '착하다': 497, '들이다': 498, '행거': 499, '고요': 500, '나가다': 501, '들어오다': 502, '완전하다': 503, '결정': 504, '기도': 505, '시트': 506, '장점': 507, '오염': 508, '관리': 509, '달다': 510, '엉망': 511, '문자': 512, '예상': 513, '으로는': 514, '상당하다': 515, '송도': 516, '아직도': 517, '치': 518, '솔직하다': 519, '튀어나오다': 520, '방문': 521, '환불': 522, '한번': 523, '하단': 524, '사다리': 525, '포함': 526, '완료': 527, '말씀': 528, '주말': 529, '비추다': 530, '달이': 531, '바퀴': 532, '자주': 533, '가장': 534, '훌륭하다': 535, '벌써': 536, '돌리다': 537, '완성': 538, '닿다': 539, '볼트': 540, '건가': 541, '만족도': 542, '답변': 543, '고장': 544, '사무실': 545, '드레스': 546, '스툴': 547, '시공': 548, '나니': 549, '이용': 550, '뻑뻑': 551, '보이지': 552, '먼저': 553, '기대다': 554, '싱글': 555, '여유': 556, '가루': 557, '깊다': 558, '통화': 559, '작업': 560, '걸이': 561, '이제': 562, '밖에': 563, '드릴': 564, '변경': 565, '이동': 566, '삐걱': 567, '브릭': 568, '합판': 569, '조심하다': 570, '컴퓨터': 571, '남자': 572, '안되다': 573, '이불': 574, '엉덩이': 575, '전날': 576, '자세하다': 577, '다시다': 578, '그': 579, '뚝딱': 580, '부탁드리다': 581, '힘드다': 582, '장롱': 583, '분도': 584, '이르다': 585, '올려놓다': 586, '안내': 587, '만해': 588, '동일하다': 589, '박다': 590, '끼': 591, '도어': 592, '네오': 593, '아저씨': 594, '감안': 595, '얘기': 596, '매장': 597, '개선': 598, '지지': 599, '감사': 600, '거슬리다': 601, '지저분하다': 602, '친구': 603, '그게': 604, '모든': 605, 'ㅎㅎㅎ': 606, '발견': 607, '속상하다': 608, '검색': 609, '깊이': 610, '까진': 611, '결제': 612, '어리다': 613, '수가': 614, '더럽다': 615, '라는': 616, '사실': 617, '가족': 618, '쓰레기': 619, '상세': 620, '요즘': 621, '소재': 622, '지인': 623, '홀더': 624, '지키다': 625, '상황': 626, '따다': 627, '해결': 628, '요일': 629, '아쉬움': 630, '묵직하다': 631, '할인': 632, '보관': 633, '너무나': 634, '필요': 635, '계단': 636, '벽지': 637, '친절': 638, '비닐': 639, '내부': 640, '누르다': 641, '간단하다': 642, '다니다': 643, '이라도': 644, '넘어가다': 645, '다행': 646, '대한': 647, '일자': 648, '전동': 649, '다행하다': 650, '비지': 651, '올라가다': 652, '세탁': 653, '대신': 654, '뻔하다': 655, '두껍다': 656, '요한': 657, '대가': 658, '에서는': 659, '부서지다': 660, '지역': 661, '아무': 662, '제작': 663, '양쪽': 664, '전반': 665, '암튼': 666, '직원': 667, '본체': 668, '콘센트': 669, '덥다': 670, '부품': 671, '바쁘다': 672, '이기': 673, '라도': 674, '물론': 675, '그만큼': 676, '물어보다': 677, '배치': 678, '길다': 679, '무늬': 680, '지연': 681, '위해': 682, '이라는': 683, '균형': 684, '로는': 685, '요새': 686, '흘리다': 687, '지고': 688, '조심': 689, '이면': 690, '가로': 691, '소비자': 692, '완벽하다': 693, '쏘다': 694, '안정감': 695, '심해': 696, '일만': 697, '아파트': 698, '세다': 699, '송이': 700, '부러지다': 701, '다치다': 702, '세우다': 703, '부담': 704, '피스': 705, '방법': 706, '구조': 707, '요소': 708, '그나마': 709, '첨부': 710, '평이': 711, '쓸리다': 712, '대리석': 713, '내': 714, '정상': 715, '수유': 716, '씌우다': 717, '이며': 718, '본드': 719, '분리': 720, '겨울': 721, '밀다': 722, '깨다': 723, '가깝다': 724, '무료': 725, '갖다': 726, '다가': 727, '잇다': 728, '부피': 729, '본인': 730, '무광': 731, '그건': 732, '이상하다': 733, '열심히': 734, '송비': 735, '덕분': 736, '스타일': 737, '시스템': 738, '늦어지다': 739, '장도': 740, '불만': 741, '한참': 742, '협탁': 743, '예전': 744, '블랙': 745, '골드': 746, '읽다': 747, '연결하다': 748, '저녁': 749, '자동': 750, '붙박다': 751, '어둡다': 752, '집다': 753, '소음': 754, '높낮이': 755, '찢어지다': 756, '부위': 757, '온라인': 758, '이미': 759, '당연하다': 760, '방지': 761, '오전': 762, '답답하다': 763, '고려': 764, '따뜻하다': 765, '곳도': 766, '정일': 767, '필름': 768, '얼마나': 769, '추하다': 770, '말고는': 771, '애매하다': 772, '주일': 773, '별도': 774, '채우다': 775, '찾아보다': 776, '갑자기': 777, '원룸': 778, '별개': 779, '확정': 780, '요인': 781, '회색': 782, '놀래다': 783, '조정': 784, '무리': 785, '아예': 786, '달리': 787, '불구': 788, '발생': 789, '주변': 790, '말고': 791, '팔걸이': 792, '하드': 793, '사기': 794, '가져가다': 795, '해봤다': 796, '사려': 797, '두께': 798, '저렇게': 799, '포인트': 800, '동생': 801, '엘베': 802, '자석': 803, '어머니': 804, '보람': 805, '성인': 806, '싸구려': 807, '불쾌하다': 808, '충전': 809, '겁니다': 810, '지우다': 811, '출고': 812, '가까이': 813, '코팅': 814, '군데군데': 815, '사이트': 816, '으로도': 817, '중고': 818, '겠다': 819, '상처': 820, '자가': 821, '따르다': 822, '편입': 823, '오른쪽': 824, '오시': 825, '보시': 826, '철제': 827, '치고': 828, '꾸미다': 829, '틀어지다': 830, '달라지다': 831, '마지막': 832, '떼다': 833, '주정': 834, '사지': 835, '패드': 836, '플라스틱': 837, '날카롭다': 838, '뚫리다': 839, '바람': 840, '관련': 841, '열흘': 842, '딸아이': 843, '대박': 844, '늘다': 845, '꺼내다': 846, '멀티탭': 847, '외관': 848, '부르다': 849, '올라오다': 850, '키우다': 851, '수준': 852, '한다는': 853, '깨지다': 854, '나머지': 855, '베드': 856, '작은방': 857, '멀다': 858, '사전': 859, '희망': 860, '주방': 861, '아무튼': 862, '되게': 863, '표면': 864, '그다지': 865, '강하다': 866, '강추': 867, '막상': 868, '의사': 869, '미루다': 870, '방수': 871, '대해': 872, '차라리': 873, '꽂다': 874, '안전하다': 875, '실수': 876, '실망하다': 877, '수동': 878, '블루': 879, '엄청나다': 880, '끝나다': 881, '전이': 882, '인가': 883, '경첩': 884, '그러나': 885, '삐뚤다': 886, '서로': 887, '터지다': 888, '발송': 889, '신혼집': 890, '쓰시': 891, '여전하다': 892, '토퍼': 893, '페인트': 894, '칭찬': 895, '써주다': 896, '두운': 897, '조율': 898, '이미지': 899, '조이': 900, '계시': 901, '무너지다': 902, '대응': 903, '박히다': 904, '뒤판': 905, '잘해주다': 906, '어이없다': 907, '공부': 908, '사시': 909, '식사': 910, '울다': 911, '인하다': 912, '라면': 913, '어른': 914, '완제': 915, '질리': 916, '기둥': 917, '자고': 918, '까지는': 919, '불다': 920, '고양이': 921, '그렇지만': 922, '사장': 923, '작고': 924, '핑크': 925, '사은': 926, '우': 927, '아버지': 928, '유용하다': 929, '스트레스': 930, '그릇': 931, '매끄럽다': 932, '아빠': 933, '펼치다': 934, '시기': 935, '뿌리': 936, '이장': 937, '간편하다': 938, '제거': 939, '결과': 940, '문도': 941, '수고': 942, '자도': 943, '댐퍼': 944, '용접': 945, '코로나': 946, '항상': 947, '코너': 948, '누': 949, '수령': 950, '려고': 951, '들리다': 952, '내려앉다': 953, '조명': 954, '요구': 955, '안방': 956, '옵션': 957, '수리': 958, '삼익': 959, '무조건': 960, '물질': 961, '가성': 962, '진행': 963, '손님': 964, '딱하다': 965, '놔두다': 966, '도와주다': 967, '바뀌다': 968, '아무래도': 969, '자세': 970, '개월': 971, '라꾸': 972, '갈라지다': 973, '예민하다': 974, '주신': 975, '후회되다': 976, '덜하다': 977, '조금씩': 978, '점점': 979, '왼쪽': 980, '창문': 981, '강아지': 982, '가져오다': 983, '저렴': 984, '지나': 985, '놀다': 986, '하얀색': 987, '소요': 988, '무척': 989, '생활': 990, '박아': 991, '세련되다': 992, '기준': 993, '측면': 994, '뿌듯하다': 995, '에이스침대': 996, '방향': 997, '구성은': 998, '황당하다': 999, '오신': 1000, '주의': 1001, '널찍하다': 1002, '앞뒤': 1003, '친정': 1004, '깜짝': 1005, '남아': 1006, '위아래': 1007, '이만': 1008, '이지': 1009, '은은하다': 1010, '여름': 1011, '검은색': 1012, '화가': 1013, '주가': 1014, '불친절': 1015, '괜히': 1016, '제외': 1017, '켜다': 1018, '새벽': 1019, '치우다': 1020, '체적': 1021, '대체로': 1022, '페이지': 1023, '진하다': 1024, '엘리베이터': 1025, '현관': 1026, '미흡하다': 1027, '부딪히다': 1028, '검다': 1029, '맞춤': 1030, '불만족': 1031, '벗기다': 1032, '가게': 1033, '작동': 1034, '불편': 1035, '더욱': 1036, '가끔': 1037, '아래쪽': 1038, '메이플': 1039, '보지': 1040, '본사': 1041, '넘어지다': 1042, '지도': 1043, '각도': 1044, '베란다': 1045, '여하튼': 1046, '종이': 1047, '옆면': 1048, '포기': 1049, '거기': 1050, '네이버': 1051, '띄다': 1052, '이후': 1053, '워낙': 1054, '뒤쪽': 1055, '누가': 1056, '이전': 1057, '라이트': 1058, '비만': 1059, '희다': 1060, '없어지다': 1061, '적히다': 1062, '하부': 1063, '말씀드리다': 1064, '신한': 1065, '에서도': 1066, '판도': 1067, '니깐': 1068, '장난': 1069, '모로': 1070, '추석': 1071, '하얗다': 1072, '망설이다': 1073, '칠이': 1074, '뚫다': 1075, '보호': 1076, '루나': 1077, '내용': 1078, '포근하다': 1079, '신하': 1080, '하나로': 1081, '피씨': 1082, '톱밥': 1083, '과는': 1084, '그저': 1085, '지불': 1086, '궁금하다': 1087, '꾸다': 1088, '모습': 1089, '통보': 1090, '모델': 1091, '스케줄': 1092, '낫다': 1093, '해달라다': 1094, '거지': 1095, '현상': 1096, '쏠리다': 1097, '시작': 1098, '게다가': 1099, '잡고': 1100, '마스크': 1101, '듀얼': 1102, '가요': 1103, '입장': 1104, '간이': 1105, '오후': 1106, '그렇다고': 1107, '유광': 1108, '적응': 1109, '누울': 1110, '찌그러지다': 1111, '망가지다': 1112, '만들어지다': 1113, '위쪽': 1114, '접이식': 1115, '굳이': 1116, '군더더기': 1117, '분만': 1118, '에선': 1119, '추다': 1120, '짱짱하다': 1121, '사항': 1122, '옷방': 1123, '겁나다': 1124, '고치': 1125, '가구점': 1126, '수월하다': 1127, '죽다': 1128, '만화책': 1129, '풀다': 1130, '넣기': 1131, '스럽지': 1132, '장만': 1133, '접수': 1134, '가버리다': 1135, '제목': 1136, '특성': 1137, '굳다': 1138, '데스크': 1139, '감수': 1140, '상단': 1141, '긁힌': 1142, '식구': 1143, '세로': 1144, '오지': 1145, '자재': 1146, '그날': 1147, '적극': 1148, '모던': 1149, '속': 1150, '좋아지다': 1151, '사면': 1152, '틈새': 1153, '배꼽': 1154, '보조': 1155, '밉다': 1156, '일요일': 1157, '던지다': 1158, '체크': 1159, '서울': 1160, '점도': 1161, '스럽게': 1162, '착불': 1163, '데스': 1164, 'ㅠㅠㅠ': 1165, '비도': 1166, '듣다': 1167, '토요일': 1168, '신속하다': 1169, '사라지다': 1170, '슈퍼': 1171, '도움': 1172, '간다': 1173, '위험하다': 1174, '필수': 1175, '일부': 1176, '프로': 1177, '촉감': 1178, '안이': 1179, '국물': 1180, '어디서': 1181, '편안함': 1182, '클라이너': 1183, '어깨': 1184, '날다': 1185, '실밥': 1186, '들뜨다': 1187, '멀리': 1188, '사이드': 1189, '내주다': 1190, '음식': 1191, '오랫동안': 1192, '물다': 1193, '가면': 1194, '신중하다': 1195, '사주다': 1196, '비어': 1197, '상관없다': 1198, '알맞다': 1199, '칸막이': 1200, '해피': 1201, '끌리다': 1202, '동영상': 1203, '입금': 1204, '난리': 1205, '오기': 1206, '잠자다': 1207, '버티다': 1208, '어머님': 1209, '새다': 1210, '오래오래': 1211, '뺏다': 1212, '세상': 1213, '뒤지다': 1214, '위로': 1215, '귀엽다': 1216, '우드': 1217, '튀다': 1218, '자랑': 1219, '발통': 1220, '테이프': 1221, '청소기': 1222, '만지다': 1223, '도로': 1224, '만큼의': 1225, '거사': 1226, '도장': 1227, '벙커': 1228, '지난': 1229, '사도': 1230, '에만': 1231, '방식': 1232, '어쩌나': 1233, '정보': 1234, '푹신': 1235, '조여': 1236, '오프라인': 1237, '이리': 1238, '장판': 1239, '표기': 1240, '모터': 1241, '공지': 1242, '이케아': 1243, '쁘': 1244, '대부분': 1245, '가능': 1246, '창고': 1247, '아쿠아': 1248, '저가': 1249, '안정': 1250, '여성': 1251, '손상': 1252, '머리카락': 1253, '장식': 1254, '이란': 1255, '원대': 1256, '부착': 1257, '틀리다': 1258, '분명': 1259, '런가': 1260, '요약': 1261, '하라': 1262, '품다': 1263, '거려': 1264, '재고': 1265, '빡빡': 1266, '고무': 1267, '최소': 1268, '중요하다': 1269, '하이': 1270, '일부러': 1271, '한두': 1272, '합리': 1273, '뭐라다': 1274, '효과': 1275, '천원': 1276, '블라인드': 1277, '표시': 1278, '가리다': 1279, '태도': 1280, '상자': 1281, '으론': 1282, '어서': 1283, '지내다': 1284, '방석': 1285, '센티': 1286, '해드리다': 1287, '라인': 1288, '월요일': 1289, '형태': 1290, '기울어지다': 1291, '여기': 1292, '독립': 1293, '타카': 1294, '막다': 1295, '슬라이드': 1296, '연휴': 1297, '현재': 1298, '고맙다': 1299, '넘기다': 1300, '드라이버': 1301, '잡히다': 1302, '예약': 1303, '평일': 1304, '산다': 1305, '등급': 1306, '면서': 1307, '챙기다': 1308, '서도': 1309, '매다': 1310, '보드': 1311, '크림': 1312, '종일': 1313, '에이스': 1314, '푹신푹신': 1315, '점수': 1316, '휴가': 1317, '뛰다': 1318, '천이': 1319, '렌치': 1320, '탁월하다': 1321, '장난감': 1322, '복불복': 1323, '칙칙하다': 1324, '깜놀': 1325, '큼직하다': 1326, '물품': 1327, '오래되다': 1328, '김치': 1329, '보임': 1330, '미세하다': 1331, '기울다': 1332, '안다': 1333, '테두리': 1334, '수정': 1335, '병원': 1336, '원단': 1337, '만점': 1338, '부탁': 1339, '마이': 1340, '웬만하다': 1341, '이야기': 1342, '사보다': 1343, '저번': 1344, '아랫': 1345, '퇴근': 1346, '은근': 1347, '자르다': 1348, '보다도': 1349, '유격': 1350, '거나': 1351, '드디어': 1352, '하나요': 1353, '예정일': 1354, '용감': 1355, '댐핑': 1356, '모션': 1357, '조각': 1358, '찰떡': 1359, '광고': 1360, '오크': 1361, '칠하다': 1362, '카페': 1363, '늘어나다': 1364, '자로': 1365, '죄송하다': 1366, '스티로폼': 1367, '일체': 1368, '이리저리': 1369, '준비': 1370, '자취': 1371, '매직': 1372, '다양하다': 1373, '파이': 1374, '마우스': 1375, '초등학생': 1376, '좌우': 1377, '내려가다': 1378, '홈쇼핑': 1379, '디테': 1380, '얼른': 1381, '째다': 1382, '이삿날': 1383, '내려오다': 1384, '끼리': 1385, '가져다주다': 1386, '인가요': 1387, '기재': 1388, '하고는': 1389, '몰다': 1390, '행사': 1391, '보름': 1392, '운반': 1393, '흔적': 1394, '떠나다': 1395, '양옆': 1396, '입다': 1397, '순간': 1398, '누락': 1399, '텍스': 1400, '디테일': 1401, '무릎': 1402, '듯이': 1403, '공장': 1404, '오랜': 1405, '둘째': 1406, '주름': 1407, '젖다': 1408, '결론': 1409, '정돈': 1410, '지난번': 1411, '어차피': 1412, '피': 1413, '둥글다': 1414, '가보다': 1415, '용이': 1416, '성능': 1417, '중앙': 1418, '똑같이': 1419, '음식물': 1420, '원형': 1421, '박음질': 1422, '레이디': 1423, '셀프': 1424, '개시': 1425, '감동': 1426, '거고': 1427, '잠들다': 1428, '억지로': 1429, '힘주다': 1430, '신혼': 1431, '제발': 1432, '안전': 1433, '베다': 1434, '얕다': 1435, '출근': 1436, '이음': 1437, '막히다': 1438, '지치다': 1439, '리모컨': 1440, '만큼은': 1441, '더하다': 1442, '밀림': 1443, '에나': 1444, '삐거덕': 1445, '화나다': 1446, '장사': 1447, '칼라': 1448, '주심': 1449, '치가': 1450, '줍다': 1451, '들어주다': 1452, '쇼핑': 1453, '성의': 1454, '로시': 1455, '대체': 1456, '정해진': 1457, '넓이': 1458, '커브': 1459, '구석': 1460, '이벤트': 1461, '다크': 1462, '달도': 1463, '충격': 1464, '쓴다': 1465, '걸치다': 1466, '수술': 1467, '바트': 1468, '들여놓다': 1469, '당기다': 1470, '지네': 1471, '요금': 1472, '가량': 1473, '아무렇다': 1474, '그런대로': 1475, '사업': 1476, '간격': 1477, '에겐': 1478, '바르다': 1479, '에몬스': 1480, '관계': 1481, '요기': 1482, '타입': 1483, '지장': 1484, '나르다': 1485, '질감': 1486, '확장': 1487, '살펴보다': 1488, '하고도': 1489, '망치': 1490, '진작': 1491, '특별하다': 1492, '아담하다': 1493, '행복하다': 1494, '콜센터': 1495, '라텍스': 1496, '신다': 1497, '서서': 1498, '가라': 1499, '섞이다': 1500, '상일': 1501, '정신': 1502, '보상': 1503, '얹다': 1504, '이주': 1505, '코트': 1506, '용이하다': 1507, '먹기': 1508, '무지': 1509, '손가락': 1510, '넓어지다': 1511, '일도': 1512, '나이': 1513, 'ᅲᅲ': 1514, '최대한': 1515, '영상': 1516, '쇼파': 1517, '오픈': 1518, '할머니': 1519, '책임': 1520, '발판': 1521, '강력': 1522, '장소': 1523, '배다': 1524, '공구': 1525, '마루': 1526, '거만': 1527, '대고': 1528, '와이프': 1529, '분해': 1530, '메모리': 1531, '뚜껑': 1532, '책꽂이': 1533, '녹슬다': 1534, '부산': 1535, '쇼룸': 1536, '참다': 1537, '종류': 1538, '주지': 1539, '어려움': 1540, '뛰어나다': 1541, '부직포': 1542, '멀쩡하다': 1543, '풀리다': 1544, '금색': 1545, '형편': 1546, '핸드폰': 1547, '내야': 1548, '브라운': 1549, 'ㅜㅠ': 1550, '결합': 1551, '보완': 1552, '가방': 1553, '이름': 1554, '심각하다': 1555, '버튼': 1556, '수도권': 1557, '우여곡절': 1558, '영화': 1559, '대기': 1560, '다루다': 1561, '첫날': 1562, '외로': 1563, '산지': 1564, '합치': 1565, '어색하다': 1566, '중심': 1567, '요하': 1568, '요강': 1569, '굿굿': 1570, '날리다': 1571, '임시': 1572, '고가': 1573, '이하': 1574, '차례': 1575, '줄': 1576, '경기': 1577, '해외': 1578, '신해': 1579, '우수하다': 1580, '일어서다': 1581, '탁자': 1582, '인조': 1583, '어쨌든': 1584, '가득': 1585, '명시': 1586, '상담사': 1587, '이야': 1588, '파시': 1589, '솔솔': 1590, '둘이서': 1591, '체결': 1592, '차분하다': 1593, '이라니': 1594, '어긋나다': 1595, '의외로': 1596, '안락하다': 1597, '가신': 1598, '거림': 1599, '올려주다': 1600, '장마': 1601, '삐뚤어지다': 1602, '부스러기': 1603, '왠지': 1604, '덮다': 1605, '블록': 1606, '개판': 1607, '내려놓다': 1608, '아이엔지': 1609, '내일': 1610, '대답': 1611, '밀면': 1612, '화학': 1613, '민감하다': 1614, '맡다': 1615, '덜컹': 1616, '멋지다': 1617, '요산': 1618, '경험': 1619, '평평하다': 1620, '잊다': 1621, '메리트': 1622, '목재': 1623, '방치': 1624, '아마': 1625, '바느질': 1626, '사정': 1627, '그동안': 1628, '가구라': 1629, '불가': 1630, '둘러보다': 1631, '믿음': 1632, '천장': 1633, '집도': 1634, '더니': 1635, '생산': 1636, '싼값': 1637, '밝기': 1638, '까지만': 1639, '아늑하다': 1640, '살리다': 1641, '분과': 1642, '차갑다': 1643, '의미': 1644, '더러워지다': 1645, '만나다': 1646, '와도': 1647, '교육': 1648, '매트릭스': 1649, '밝아지다': 1650, '에게는': 1651, '저만': 1652, '이신': 1653, '가지': 1654, '무섭다': 1655, '너트': 1656, '중국산': 1657, '신뢰': 1658, '댓글': 1659, '헐겁다': 1660, '불안': 1661, '요크': 1662, '난감하다': 1663, '번호': 1664, '매끈하다': 1665, '안타깝다': 1666, '곳곳': 1667, '앞쪽': 1668, '뻗다': 1669, '기억': 1670, '살살': 1671, '마르다': 1672, '수요일': 1673, '주기': 1674, '전기': 1675, '체어': 1676, '전달': 1677, '치면': 1678, '왕복': 1679, '사이사이': 1680, '나은': 1681, '사분': 1682, '검정': 1683, '대요': 1684, '새집': 1685, '대처': 1686, '요시': 1687, '그림': 1688, '최대': 1689, '덜렁': 1690, '미치다': 1691, '날씨': 1692, '거도': 1693, '메인': 1694, '상이': 1695, '금요일': 1696, '일보': 1697, '넘어서다': 1698, '단계': 1699, '이래서': 1700, '뒤틀리다': 1701, '스틸': 1702, '키로': 1703, '나아지다': 1704, '돌아가다': 1705, '요점': 1706, '주무시다': 1707, '동봉': 1708, '폭도': 1709, '보풀': 1710, '아': 1711, '거니': 1712, '주저앉다': 1713, '수거': 1714, '당하다': 1715, '제각각': 1716, '몸통': 1717, '이제야': 1718, '변하다': 1719, '계열': 1720, '센스': 1721, '만하': 1722, '깎다': 1723, '벽면': 1724, '딸방': 1725, '핑크색': 1726, '시간대': 1727, '컵홀더': 1728, '듭니': 1729, '일방': 1730, '마찬가지': 1731, '으로만': 1732, '얼룩덜룩하다': 1733, '실리콘': 1734, '살아나다': 1735, '그걸': 1736, '동일': 1737, '유튜브': 1738, '파란색': 1739, '쌓이다': 1740, '뒷정리': 1741, '천천히': 1742, '일인': 1743, '에다': 1744, '옹이': 1745, '시골': 1746, '로만': 1747, '잠도': 1748, '치수': 1749, '오빠': 1750, '개체': 1751, '약품': 1752, '장치': 1753, '달기': 1754, '베드로': 1755, '업그레이드': 1756, '인기': 1757, '노랗다': 1758, '미니': 1759, '건드리다': 1760, '대단하다': 1761, '지퍼': 1762, '물량': 1763, '빈집': 1764, '남성': 1765, '착석': 1766, '아귀': 1767, '전문': 1768, '앗다': 1769, '기다림': 1770, '똑바로': 1771, '주네': 1772, '묻히다': 1773, '안고': 1774, '잡기': 1775, '멀티': 1776, '연한': 1777, '제법': 1778, '나란하다': 1779, '유지': 1780, '주로': 1781, '리기': 1782, '까다롭다': 1783, '가치': 1784, '문구': 1785, '내용물': 1786, '라니': 1787, '부족': 1788, '집어넣다': 1789, '땜질': 1790, '잠자리': 1791, '만들기': 1792, '이래저래': 1793, '감싸다': 1794, '리베': 1795, '술': 1796, '하다': 1797, '쿠폰': 1798, '부담스럽다': 1799, '비우다': 1800, '가기': 1801, '패딩': 1802, '네이비': 1803, '사선': 1804, '말리': 1805, '요원': 1806, '탁하다': 1807, '익숙해지다': 1808, '낙서': 1809, '사랑': 1810, '애가': 1811, '조만간': 1812, '고지': 1813, '상상': 1814, '전선': 1815, '조치': 1816, '해주': 1817, '나누다': 1818, '대서': 1819, '직장': 1820, '미닫이': 1821, '이상은': 1822, '도저히': 1823, '철재': 1824, '미관': 1825, '천연': 1826, '최상': 1827, '방안': 1828, '옛날': 1829, '초등': 1830, '반신반의': 1831, '스타': 1832, '목요일': 1833, '평점': 1834, '노트북': 1835, '쓱쓱': 1836, '마냥': 1837, '싱크대': 1838, '이겠다': 1839, '흠잡다': 1840, '짱짱': 1841, '갈색': 1842, '빨갛다': 1843, '요도': 1844, '옅다': 1845, '복잡하다': 1846, '많아지다': 1847, '담당자': 1848, '요원하다': 1849, '재단': 1850, '기사도': 1851, '시끄럽다': 1852, '끊다': 1853, '접합': 1854, '두기': 1855, '레스트': 1856, '손톱': 1857, '바지': 1858, '차로': 1859, '모델링': 1860, '상의': 1861, '질문': 1862, '대도': 1863, '싸우다': 1864, '번은': 1865, '선풍기': 1866, '유행': 1867, '조용하다': 1868, '좌석': 1869, '여쭈다': 1870, '기르다': 1871, '무시': 1872, '현금': 1873, '데도': 1874, '방바닥': 1875, '목적': 1876, '지탱': 1877, '거가': 1878, '낮잠': 1879, '톡톡': 1880, '아가': 1881, '울': 1882, '경기도': 1883, '낑낑대다': 1884, '저리': 1885, '반대': 1886, '세워지다': 1887, '안내받다': 1888, '지르다': 1889, '따갑다': 1890, '식이': 1891, '무색': 1892, '양호': 1893, '빵빵': 1894, '찢다': 1895, '티비': 1896, '코드': 1897, '돌다': 1898, '시원하다': 1899, '주택': 1900, '집들이': 1901, '정이': 1902, '단행': 1903, '지배': 1904, '도도': 1905, '화요일': 1906, '요리': 1907, '부속품': 1908, '베이지색': 1909, '일일이': 1910, '뜨겁다': 1911, '적절하다': 1912, '만치': 1913, '취향': 1914, '만이': 1915, '치고는': 1916, '싫어하다': 1917, '하진': 1918, '시반': 1919, '베딩': 1920, '세심': 1921, '물이': 1922, '제자리': 1923, '불로': 1924, '지원': 1925, '지주': 1926, '고무나무': 1927, '결재': 1928, '케이블': 1929, '꺼리다': 1930, '표현': 1931, '곱다': 1932, '언니': 1933, '조합': 1934, '바로바로': 1935, '동네': 1936, '요정': 1937, '시라': 1938, '보태': 1939, '기쁘다': 1940, '우려': 1941, '장갑': 1942, '그랬는데': 1943, '쁩': 1944, '강도': 1945, '촌스럽다': 1946, '게이': 1947, '메이드': 1948, '평가': 1949, '통해': 1950, '만은': 1951, '일로': 1952, '평수': 1953, '태어나다': 1954, '구리': 1955, '임신': 1956, '후일': 1957, '찝찝하다': 1958, '곰팡이': 1959, '규격': 1960, '초반': 1961, '와는': 1962, '의심': 1963, '고발': 1964, '조명도': 1965, '덮개': 1966, '넘치다': 1967, '개별': 1968, '삐지다': 1969, '찌': 1970, '출산': 1971, '역도': 1972, '노출': 1973, '시더': 1974, '너무나도': 1975, '뽑기': 1976, '부부': 1977, '학생': 1978, '동시': 1979, '인식': 1980, '여태': 1981, '크레치': 1982, '어르신': 1983, '사르': 1984, '차리다': 1985, '배려': 1986, '쓰러지다': 1987, '몸무게': 1988, '지구': 1989, '셨어': 1990, '작년': 1991, '화장': 1992, '요키': 1993, '면피': 1994, '미끄럽다': 1995, '값어치': 1996, '팔면': 1997, '내장': 1998, '신기하다': 1999, '인정': 2000, '가라앉다': 2001, '중국': 2002, '여닫이': 2003, '메이커': 2004, '연하다': 2005, '옆쪽': 2006, '옵니다': 2007, '끄덕': 2008, '문제점': 2009, '각오': 2010, '저렇다': 2011, '색칠': 2012, '쏟다': 2013, '조심스럽다': 2014, '신의': 2015, '조심조심': 2016, '노력': 2017, '친정엄마': 2018, '고리': 2019, '이염': 2020, '스톨': 2021, '별다르다': 2022, '조건': 2023, '찜찜하다': 2024, '비번': 2025, '갈리': 2026, '다기': 2027, '저런': 2028, '선호': 2029, '휘청거리다': 2030, '전기장판': 2031, '베개': 2032, '인상': 2033, '전화번호': 2034, '부딪치다': 2035, '평소': 2036, '비각': 2037, '어요': 2038, '거란': 2039, '운송': 2040, '효율': 2041, '리가': 2042, '밟다': 2043, '배송지': 2044, '움직임': 2045, '방도': 2046, '소품': 2047, '특유': 2048, '빼놓다': 2049, '부터는': 2050, '진동': 2051, '마블': 2052, '노란색': 2053, '사포': 2054, '요긴': 2055, '장하다': 2056, '다해': 2057, '성하다': 2058, '현금영수증': 2059, '어쩌': 2060, '최근': 2061, '이삿짐': 2062, '전원': 2063, '뾰족': 2064, '마침': 2065, '잔뜩': 2066, '불가능하다': 2067, '또다시': 2068, '에게도': 2069, '놨는데': 2070, '에어컨': 2071, '견고': 2072, '불가하다': 2073, '통일': 2074, '밑판': 2075, '형식': 2076, '일해': 2077, '담다': 2078, '오천': 2079, '어도': 2080, '의문': 2081, '안성맞춤': 2082, '내추럴': 2083, '염려': 2084, '가장자리': 2085, '구르다': 2086, '내내': 2087, '빌트': 2088, '헷갈리다': 2089, '당시': 2090, '물어': 2091, '아픔': 2092, '사라': 2093, '주위': 2094, '거주': 2095, '비원': 2096, '쏟아지다': 2097, '사가': 2098, '녹슨': 2099, '묶음': 2100, '낡다': 2101, '가정': 2102, '자의': 2103, '작성': 2104, '게임': 2105, '보강': 2106, '주니어': 2107, '직업': 2108, '거들다': 2109, '찾기': 2110, '미끄럼': 2111, '미안하다': 2112, '전화통화': 2113, '첫째': 2114, '나비': 2115, '결함': 2116, '남고': 2117, '기름': 2118, '소개': 2119, '부재': 2120, '해오다': 2121, '외부': 2122, '포트': 2123, '어보': 2124, '까맣다': 2125, '얼룩지다': 2126, '가야': 2127, '안산': 2128, '반복': 2129, '다이소': 2130, '고도': 2131, '사하다': 2132, '나머진': 2133, '그린': 2134, '안심': 2135, '나무다리': 2136, '진심': 2137, '경대': 2138, '원피스': 2139, '라운딩': 2140, '역할': 2141, '불량품': 2142, '한층': 2143, '어처구니': 2144, '에어': 2145, '보여주다': 2146, '시부모': 2147, '세팅': 2148, '잖다': 2149, '처지': 2150, '지면': 2151, '초기': 2152, '눌려': 2153, '개봉': 2154, '묶다': 2155, '개입': 2156, '구도': 2157, '군대': 2158, '감사히': 2159, '운임': 2160, '진열': 2161, '원인': 2162, '쪼금': 2163, '구분': 2164, '지역별': 2165, '재료': 2166, '에이': 2167, '타이핑': 2168, '해당': 2169, '적응하다': 2170, '겨자': 2171, '가공': 2172, '우연히': 2173, '티셔츠': 2174, '확보': 2175, '아일랜드': 2176, '문안': 2177, '만큼만': 2178, '두드리다': 2179, '타이': 2180, '구해': 2181, '클로즈': 2182, '올해': 2183, '찢기다': 2184, '탈취': 2185, '차도': 2186, '여유롭다': 2187, '트이다': 2188, '분하다': 2189, '케이스': 2190, '빨다': 2191, '벨벳': 2192, '품절': 2193, '계산': 2194, '절반': 2195, '핑계': 2196, '명확하다': 2197, '과의': 2198, '마리': 2199, '아끼다': 2200, '대용': 2201, '너비': 2202, '원활하다': 2203, '인내심': 2204, '에야': 2205, '시댁': 2206, '세련': 2207, '스웨이드': 2208, '스카이': 2209, '날아가다': 2210, '밑바닥': 2211, '점검': 2212, '이니까': 2213, '빼기': 2214, '도색': 2215, '한마디': 2216, '착각': 2217, '뻐용': 2218, '차이나': 2219, '패스': 2220, '고심': 2221, '근처': 2222, '구기': 2223, '정해': 2224, '망하다': 2225, '볼펜': 2226, '라네': 2227, '진드기': 2228, '애초': 2229, '착용': 2230, '한편': 2231, '기울이다': 2232, '전면': 2233, '꿀잠': 2234, '요충': 2235, '버전': 2236, '연구소': 2237, '울퉁불퉁하다': 2238, '유의': 2239, '입구': 2240, '반하다': 2241, '열기': 2242, '스럽다': 2243, '사드': 2244, '상해': 2245, '요지': 2246, '개도': 2247, '생가': 2248, '조작': 2249, '질질': 2250, '겪다': 2251, '빈티': 2252, '외다': 2253, '로서': 2254, '사인': 2255, '주소': 2256, '부속': 2257, '공사': 2258, '매력': 2259, '업무': 2260, '어설프다': 2261, '아버님': 2262, '예의': 2263, '욕심': 2264, '자개': 2265, '월넛': 2266, '충전기': 2267, '위험': 2268, '롯데': 2269, '다용': 2270, '미끄러지다': 2271, '적용': 2272, '출발': 2273, '상부': 2274, '성질': 2275, '직각': 2276, '가드': 2277, '녹': 2278, '리지': 2279, '스탠드': 2280, '다물다': 2281, '상하': 2282, '파스텔': 2283, '현관문': 2284, '중문': 2285, '이라고는': 2286, '길어지다': 2287, '자잘하다': 2288, '때리다': 2289, '성품': 2290, '열선': 2291, '메트': 2292, '링크': 2293, '갖추다': 2294, '추후': 2295, '쓰렵': 2296, '스며들다': 2297, '배짱': 2298, '외곽': 2299, '짝짝이': 2300, '중학생': 2301, '워시': 2302, '트리': 2303, '거부': 2304, '정신건강': 2305, '임산부': 2306, '장시간': 2307, '송해': 2308, '조카': 2309, '돌아다니다': 2310, '또는': 2311, '온도': 2312, '금속': 2313, '이든': 2314, '늦추다': 2315, '스르륵': 2316, '일일': 2317, '한숨': 2318, '누리': 2319, '요담': 2320, '맘대로': 2321, '입력': 2322, '무게중심': 2323, '피해': 2324, '하중': 2325, '엇어': 2326, '없애다': 2327, '달라붙다': 2328, '영업일': 2329, '라지': 2330, '만족감': 2331, '제로': 2332, '수직': 2333, '기회': 2334, '파란': 2335, '과장': 2336, '계획': 2337, '기성': 2338, '피곤하다': 2339, '레이': 2340, '홈페이지': 2341, '내면': 2342, '까칠하다': 2343, '달래다': 2344, '이러니': 2345, '속도': 2346, '참조': 2347, '박박': 2348, '아세톤': 2349, '판단': 2350, '판자': 2351, '팔고': 2352, '서재': 2353, '아마도': 2354, '번가': 2355, '빌라': 2356, '큰일': 2357, '거립': 2358, '피톤': 2359, '치드': 2360, '독서': 2361, '명절': 2362, '중인': 2363, '협소': 2364, '정말로': 2365, '긴장': 2366, '신지': 2367, '결혼': 2368, '이기도': 2369, '알림': 2370, '가전': 2371, '면': 2372, '착오': 2373, '학습': 2374, '평생': 2375, '정성': 2376, '찧다': 2377, '자연스럽다': 2378, '한동안': 2379, '오해': 2380, '인천': 2381, '개념': 2382, '수면': 2383, '질도': 2384, '냄비': 2385, '연락처': 2386, '무려': 2387, '바깥': 2388, '거꾸로': 2389, '듀크': 2390, '적어도': 2391, '께서는': 2392, '벌레': 2393, '문틈': 2394, '얼룩덜룩': 2395, '이랑은': 2396, '가려지다': 2397, '모으다': 2398, '한결': 2399, '달랑': 2400, 'ㄷㄷ': 2401, '말로': 2402, '견디다': 2403, '홍보': 2404, '스위치': 2405, '독하다': 2406, '마련': 2407, '에까지': 2408, '나눠지다': 2409, '놓이다': 2410, '시도': 2411, '삭제': 2412, '송일': 2413, '맨날': 2414, '니트': 2415, '흐리다': 2416, '접착': 2417, '넘어오다': 2418, '지하': 2419, '라운드': 2420, '사각': 2421, '끝내다': 2422, '용다': 2423, '웃기': 2424, '파로': 2425, '미스': 2426, '아내': 2427, '번의': 2428, '놨더': 2429, '적합하다': 2430, '푹푹': 2431, '방금': 2432, '우기': 2433, '도중': 2434, '곤란하다': 2435, '허전하다': 2436, '높아지다': 2437, '청구': 2438, '폭신': 2439, '길래': 2440, '장단점': 2441, '연도': 2442, '스치다': 2443, '카키': 2444, '적도': 2445, 'ᄒᄒ': 2446, '소통': 2447, '따로따로': 2448, '에스': 2449, '빗살': 2450, '동서': 2451, '산뜻하다': 2452, '보신': 2453, '뒤척': 2454, '지': 2455, '민망하다': 2456, '측정': 2457, '분명하다': 2458, '일룸': 2459, '발자국': 2460, '전용': 2461, '대안': 2462, '지점': 2463, '프린트': 2464, '몬스': 2465, '공기청정기': 2466, '조리': 2467, '소비': 2468, '접착제': 2469, '덜컹덜컹': 2470, '시가': 2471, '액자': 2472, '기우': 2473, '낭패': 2474, '이라든지': 2475, '랑은': 2476, '앞전': 2477, '엄두': 2478, '거래': 2479, '부턴': 2480, '반값': 2481, '여': 2482, '부엌': 2483, '동작': 2484, '이어지다': 2485, '환자': 2486, '장비': 2487, '이던': 2488, '대략': 2489, '대화': 2490, '다녀오다': 2491, '부과': 2492, '책정': 2493, '실사': 2494, '오라': 2495, '시국': 2496, '스테인리스': 2497, '타자': 2498, '중학교': 2499, '바짝': 2500, 'ᄏᄏ': 2501, '대기업': 2502, '방울': 2503, '다린': 2504, '부가': 2505, '비치': 2506, '지급': 2507, '뒤늦다': 2508, '라기보단': 2509, '직장인': 2510, '백만': 2511, '흡수': 2512, '수건': 2513, '일어나서': 2514, '허벅지': 2515, '소프트': 2516, '불량하다': 2517, '십자': 2518, '한지': 2519, '안착': 2520, '매치': 2521, '비장': 2522, '거임': 2523, '건물': 2524, '기만': 2525, '이로': 2526, '종종': 2527, '주도': 2528, '아다리': 2529, '누런': 2530, '클리': 2531, '걸레': 2532, '보더': 2533, '만천': 2534, '도자기': 2535, '해체': 2536, '시중': 2537, '어어': 2538, '운영': 2539, '카멜': 2540, '그다음': 2541, '전문가': 2542, '못지않다': 2543, '괜춘': 2544, '최선': 2545, '기숙사': 2546, '나위': 2547, '권장': 2548, '차이나다': 2549, '파랑': 2550, '위주': 2551, '시나': 2552, '실속': 2553, '꺾다': 2554, '멋대로': 2555, '장기': 2556, '밤실': 2557, '기울기': 2558, '밑쪽': 2559, '휴일': 2560, '조화': 2561, '내심': 2562, '낮추다': 2563, '텅텅': 2564, '국민': 2565, '발가락': 2566, '납득': 2567, '겉': 2568, '밸런스': 2569, '내시': 2570, '떨다': 2571, '민하': 2572, '요전': 2573, '에서나': 2574, '천국': 2575, '대각선': 2576, '힘없다': 2577, '연필': 2578, '몇몇': 2579, '최적화': 2580, '베리': 2581, '요철': 2582, '과도': 2583, '슬프다': 2584, '책상다리': 2585, '이왕': 2586, '자제': 2587, '액세서리': 2588, '저장': 2589, '최하': 2590, '양심': 2591, '띄우다': 2592, '자꾸만': 2593, '마구': 2594, '소식': 2595, '나무라다': 2596, '플레인': 2597, '딸내미': 2598, '복구': 2599, '털다': 2600, '멈추다': 2601, '쪼이다': 2602, '기선': 2603, '에러': 2604, '스펀지': 2605, '도전': 2606, '카톡': 2607, '오류': 2608, '굴러가다': 2609, '젛': 2610, '어버이날': 2611, '인도': 2612, '바구니': 2613, '반듯하다': 2614, '연기': 2615, '뻘뻘': 2616, '남자친구': 2617, '이예': 2618, '비갑': 2619, '장착': 2620, '드러나다': 2621, '생일': 2622, '신세계': 2623, '유아': 2624, '든든하다': 2625, '누군가': 2626, '커피': 2627, '도면': 2628, '움푹': 2629, '뒤편': 2630, '우롱': 2631, '대의': 2632, '전신': 2633, '아주아주': 2634, '설정': 2635, '학년': 2636, '용하다': 2637, '촬영': 2638, '두통': 2639, '칸칸이': 2640, '정교하다': 2641, '어마': 2642, '빌리다': 2643, '단어': 2644, '메시지': 2645, '뽑다': 2646, '들어맞다': 2647, '싫증': 2648, '참여': 2649, '손바닥': 2650, '사과': 2651, '구점': 2652, '폴리': 2653, '태풍': 2654, '오만': 2655, '이스': 2656, '변형': 2657, '주차': 2658, '타원형': 2659, '사양': 2660, '단순하다': 2661, '최저': 2662, '문지르다': 2663, '티슈': 2664, '자만': 2665, '거북목': 2666, '절차': 2667, '숙이다': 2668, '놀이': 2669, '저러다': 2670, '옐로': 2671, '생각나다': 2672, '울퉁불퉁': 2673, '나': 2674, '커지다': 2675, '내놓다': 2676, '재미': 2677, '절하': 2678, '마약': 2679, '절대로': 2680, '패인': 2681, '어쩐지': 2682, '거원': 2683, '후보': 2684, '성격': 2685, '시일': 2686, '원만': 2687, '더군': 2688, '강원도': 2689, '실패하다': 2690, '선비': 2691, '데코': 2692, '중개': 2693, '동그랗다': 2694, '지켜보다': 2695, '버겁다': 2696, '제주도': 2697, '맛있다': 2698, '비뚤어지다': 2699, '긋다': 2700, '루입': 2701, '당원': 2702, '띵띵': 2703, '평행': 2704, '직전': 2705, '카드': 2706, '싫어지다': 2707, '야근': 2708, '듣기': 2709, '시점': 2710, '무리하다': 2711, '너무하다': 2712, '린다': 2713, '던데': 2714, '지독하다': 2715, '신생아': 2716, '피부': 2717, '섬유': 2718, '페브리즈': 2719, '연출': 2720, '담기다': 2721, '오구': 2722, '신혼부부': 2723, '초등생': 2724, '단면': 2725, '맙습': 2726, '착좌감': 2727, '여자친구': 2728, '잉크': 2729, '원도': 2730, '대구': 2731, '발톱': 2732, '싣다': 2733, '일직선': 2734, '카우치': 2735, '하필': 2736, '검품': 2737, '아구': 2738, '구가': 2739, '공비': 2740, '고정력': 2741, '다급하다': 2742, '서방': 2743, '다자': 2744, '전시': 2745, '바라지': 2746, '뼈대': 2747, '출하': 2748, '구경': 2749, '용평': 2750, '와이드': 2751, '웃음': 2752, '끼울다': 2753, '정치': 2754, '철저하다': 2755, '까슬까슬': 2756, '은색': 2757, '착불비': 2758, '부치다': 2759, '싸이': 2760, '다고': 2761, '스테이': 2762, '파일': 2763, '광택': 2764, '쓸모': 2765, '쌍욕': 2766, '오니': 2767, '십만': 2768, '무언가': 2769, '제방': 2770, '재도': 2771, '패밀리': 2772, '다한': 2773, '등록': 2774, '성공': 2775, '벤츠': 2776, '선정': 2777, '지진': 2778, '원한': 2779, '척척': 2780, '광주': 2781, '안기다': 2782, '우천': 2783, '애도': 2784, '건의': 2785, '가하다': 2786, '현장': 2787, '어수선하다': 2788, '깨끗이': 2789, '게시판': 2790, '지루하다': 2791, '돌아서다': 2792, '원더': 2793, '사후': 2794, '사유': 2795, '돌이': 2796, '지경': 2797, '상표': 2798, '부자': 2799, '베일': 2800, '늘리다': 2801, '담당': 2802, '돈값': 2803, '깜깜무소식': 2804, '렵': 2805, '돌출': 2806, '근무': 2807, '일반인': 2808, '후의': 2809, '오피스텔': 2810, '폭풍': 2811, '녀석': 2812, '소문': 2813, '반백': 2814, '구형': 2815, '두절': 2816, '셨': 2817, '재촉': 2818, '다스': 2819, '베스트': 2820, '보라': 2821, '도대체': 2822, '출장': 2823, '평형': 2824, '빼먹다': 2825, '포켓': 2826, '화물': 2827, '지우개': 2828, '창가': 2829, '웬걸': 2830, '벌다': 2831, '지니': 2832, '까끌까끌하다': 2833, '대하': 2834, '니스': 2835, '상도': 2836, '난이도': 2837, '감감': 2838, '무소식': 2839, '주인': 2840, '도': 2841, '원내': 2842, '협의': 2843, '돌아오다': 2844, '푸다': 2845, '노폭': 2846, '죽': 2847, '품목': 2848, '황당': 2849, '온갖': 2850, '브래킷': 2851, '뿌듯': 2852, '한일': 2853, '배드': 2854, '에서부터': 2855, '물걸레': 2856, '소매': 2857, '페이': 2858, '갈수록': 2859, '성공하다': 2860, '유리하다': 2861, '이자': 2862, '백수': 2863, '신안': 2864, '어찌나': 2865, '침구': 2866, '헤매다': 2867, '오르락내리락': 2868, '타고': 2869, '원주고': 2870, '자연': 2871, '최소한': 2872, '요덕': 2873, '비밀번호': 2874, '가형': 2875, '마룻바닥': 2876, '메다': 2877, '만화': 2878, '성은': 2879, '반대쪽': 2880, '오심': 2881, '일정하다': 2882, '하든': 2883, '꼬이다': 2884, '와중': 2885, '본가': 2886, '주더': 2887, '반응': 2888, '뻐요': 2889, '공짜': 2890, '사용자': 2891, '언니네': 2892, '매칭': 2893, '조회': 2894, '좌방': 2895, '피로': 2896, '오버': 2897, '더러': 2898, '아시': 2899, '다나': 2900, '더군요': 2901, '성도': 2902, '먹이': 2903, '거뜬하다': 2904, '득템': 2905, '주전': 2906, '절로': 2907, '반잔': 2908, '어린이': 2909, '테디': 2910, '건강': 2911, '찾아가다': 2912, '인간': 2913, '권하다': 2914, '겉보기': 2915, '당당하다': 2916, '직후': 2917, '친환경': 2918, '밀고': 2919, '스스로': 2920, '남지': 2921, '몰리': 2922, '강화유리': 2923, '드레서': 2924, '벌리다': 2925, '트러블': 2926, '산이': 2927, '로켓': 2928, '요장': 2929, '진해': 2930, '듯함': 2931, '헐렁하다': 2932, '고': 2933, 'ㅠㅠㅋ': 2934, '샘베딩': 2935, '여도': 2936, '거장': 2937, '모래': 2938, '개정': 2939, '홈피': 2940, '개구': 2941, '나빠지다': 2942, '직배': 2943, '리스': 2944, '투자': 2945, '편백': 2946, '어머님께': 2947, '주재': 2948, '상체': 2949, '외형': 2950, '베이': 2951, '레버': 2952, '땅바닥': 2953, '부주의': 2954, '구라': 2955, '젖히다': 2956, '스탈': 2957, '뻐': 2958, '요': 2959, '실리': 2960, '일전': 2961, '팔이': 2962, '탄탄': 2963, '지속': 2964, '배겨': 2965, '장바구니': 2966, '수시로': 2967, '면적': 2968, '만으로': 2969, '용인': 2970, '카키색': 2971, '시대': 2972, '세요': 2973, '점주': 2974, '용품': 2975, '정정': 2976, '계좌': 2977, '타원': 2978, '구부러지다': 2979, '가득하다': 2980, '방송': 2981, '에서만': 2982, '여지': 2983, '점심시간': 2984, '일간': 2985, '면도': 2986, '재밌다': 2987, '래서': 2988, '타일': 2989, '물류': 2990, '납품': 2991, '디바이더': 2992, '남동생': 2993, '상대': 2994, '학원': 2995, '뻣뻣하다': 2996, '설계': 2997, '웃다': 2998, '매하': 2999, '연차': 3000, '노트': 3001, '말투': 3002, '러그': 3003, '오스본': 3004, '가르치다': 3005, '연세': 3006, '타이밍': 3007, '라스': 3008, '이중': 3009, '덩치': 3010, '항의': 3011, '청주': 3012, '드물다': 3013, '다다': 3014, '귀퉁이': 3015, '기술': 3016, '전보': 3017, '팅팅': 3018, '거품': 3019, '간식': 3020, '이따위': 3021, '냉장고': 3022, '고정은': 3023, '밀착': 3024, '당분간': 3025, '한텐': 3026, '매뉴얼': 3027, '거인': 3028, '에서야': 3029, '만을': 3030, '역대': 3031, '이동식': 3032, '지해': 3033, '텐션': 3034, '감성': 3035, '헛돌': 3036, '심해지다': 3037, '이내': 3038, '간간이': 3039, '무용': 3040, '슬림': 3041, '자인': 3042, '이득': 3043, '어딘가': 3044, '적지': 3045, '서럽다': 3046, '거칠하다': 3047, '외출': 3048, '용지': 3049, '수취': 3050, '백화점': 3051, '미터': 3052, '조악하다': 3053, '고등학생': 3054, '폴로': 3055, '낭비': 3056, '보고서': 3057, '이런저런': 3058, '조잡하다': 3059, '반찬': 3060, '입학': 3061, '익숙하다': 3062, '더블': 3063, '스레': 3064, '투룸': 3065, '일본': 3066, '서류': 3067, '씹다': 3068, '이슈': 3069, '속옷': 3070, '볼록': 3071, '일기': 3072, '불빛': 3073, '하늘색': 3074, '병운': 3075, '부방': 3076, '파도': 3077, '용기': 3078, '알차다': 3079, '콤팩트': 3080, '오렌지': 3081, '숙면': 3082, '통풍': 3083, '튼실하다': 3084, '디스크': 3085, '타네': 3086, '들쭉날쭉하다': 3087, '엉뚱하다': 3088, '블링': 3089, '정전기': 3090, '반대편': 3091, '학생용': 3092, '사무': 3093, '여가': 3094, '칸칸': 3095, '레인지': 3096, '취하': 3097, '인생': 3098, '노랑': 3099, '학기': 3100, '지기': 3101, '반영': 3102, '겸사': 3103, '산모': 3104, '반려견': 3105, '고작': 3106, '설다': 3107, '들여다보다': 3108, '라임': 3109, '시큼하다': 3110, '요역': 3111, '대표': 3112, '이태리': 3113, '전세': 3114, '데스크톱': 3115, '세팅해': 3116, '복층': 3117, '물들다': 3118, '부시': 3119, '와이셔츠': 3120, '하아': 3121, '한계': 3122, '철심': 3123, 'ㅇㅔ': 3124, '천하다': 3125, '변명': 3126, '인지도': 3127, '어': 3128, '색': 3129, '잃다': 3130, '날인': 3131, '완벽': 3132, '관할': 3133, '꽂히다': 3134, '요행': 3135, '서치': 3136, '화분': 3137, '처분': 3138, '다라': 3139, '정확': 3140, '팔지': 3141, '다운': 3142, '한잔': 3143, '오류로': 3144, '졸라': 3145, '눈물': 3146, '못질': 3147, '배치도': 3148, '접시': 3149, '대한민국': 3150, '거절': 3151, '여야': 3152, '마켓': 3153, '감당': 3154, '잠버릇': 3155, '지침': 3156, '이같이': 3157, '살이': 3158, '어마어마하다': 3159, '찮아다': 3160, '실패': 3161, '전환': 3162, '번만': 3163, '일시': 3164, '누런색': 3165, '놓치다': 3166, '입히다': 3167, '멘붕': 3168, '보아': 3169, '제도': 3170, '플러스': 3171, '도무지': 3172, '구여': 3173, '어질다': 3174, '이사해': 3175, '춥다': 3176, '능력': 3177, '고문': 3178, '시커멓다': 3179, '찔리다': 3180, '세용': 3181, '기적': 3182, '앞두다': 3183, '쎄다': 3184, '조그만': 3185, '거린': 3186, '방침': 3187, '포장재': 3188, '안녕하다': 3189, '원상': 3190, '첨으로': 3191, '사조이': 3192, '최종': 3193, '수입': 3194, '호텔': 3195, '신속': 3196, '피드백': 3197, '억울하다': 3198, '시킴': 3199, '걱정스럽다': 3200, '감정': 3201, '글씨': 3202, '떨리다': 3203, '날개': 3204, '머진': 3205, '잡다하다': 3206, '은커녕': 3207, '커쇼': 3208, '설레다': 3209, '돋보이다': 3210, '일과': 3211, '탁탁': 3212, '만으로도': 3213, '데이': 3214, '로라': 3215, '옷걸': 3216, '이서': 3217, '일치': 3218, '단도': 3219, '굵다': 3220, '경칩': 3221, '쪼끔': 3222, '박해': 3223, '동사': 3224, '어중간하다': 3225, '대형': 3226, '뽁뽁': 3227, '애용': 3228, '말끔히': 3229, 'ᅳᅳ': 3230, '어찌어찌': 3231, '비스듬히': 3232, '순차': 3233, '반나절': 3234, '쇼핑몰': 3235, '베르디': 3236, '유일하다': 3237, '고집': 3238, '완화': 3239, '아름답다': 3240, '상식': 3241, '전가': 3242, '숨다': 3243, '빨래': 3244, '차콜': 3245, '사건': 3246, '의하다': 3247, '꾸역꾸역': 3248, '덜다': 3249, '드림': 3250, '어우러지다': 3251, '애쓰다': 3252, '퇴원': 3253, '말고도': 3254, '막무가내': 3255, '케아': 3256, '건들': 3257, '어지간하다': 3258, '모유': 3259, '아작': 3260, '배우다': 3261, '정독': 3262, '일지': 3263, '초콜릿': 3264, '손자': 3265, '어쩜': 3266, '셔츠': 3267, '텐데요': 3268, '흘러내리다': 3269, '재포': 3270, '갈아': 3271, '회수': 3272, '여직원': 3273, '언짢다': 3274, '아이템': 3275, '비디오': 3276, '지게': 3277, '지나가다': 3278, '순식간': 3279, '끝내': 3280, '양품': 3281, '모자라다': 3282, '지리': 3283, '웹사이트': 3284, '쿠팡': 3285, '장인': 3286, '줄자': 3287, '지대': 3288, '상관': 3289, '제주': 3290, '누운': 3291, '재우다': 3292, '삼다': 3293, '이해해': 3294, '손때': 3295, '그럴듯하다': 3296, '감촉': 3297, '가만히': 3298, '통판': 3299, '공도': 3300, '놀라다': 3301, '이탈': 3302, '바가지': 3303, '마음먹다': 3304, '거대': 3305, '이': 3306, '체계': 3307, '성과': 3308, '증명': 3309, '비틀': 3310, '재활용': 3311, '고학년': 3312, '사가다': 3313, '의견': 3314, '갑인': 3315, '뚫어지다': 3316, '섞다': 3317, '여럿': 3318, '법도': 3319, '투덜거리다': 3320, '진리': 3321, '용량': 3322, '흔하다': 3323, '자네': 3324, '손해': 3325, '스크': 3326, '해치': 3327, '떡하니': 3328, '접함': 3329, '충실하다': 3330, '낳다': 3331, '심다': 3332, '편리': 3333, '팍팍': 3334, '과자': 3335, '융통성': 3336, '두시': 3337, '휴식': 3338, '볼록하다': 3339, '마나': 3340, '잔소리': 3341, '피시': 3342, '모자라': 3343, '불도': 3344, 'ㅠㅋㅋ': 3345, '보안': 3346, '불안정하다': 3347, '포토': 3348, '라이브': 3349, '마지못하다': 3350, '발라': 3351, '불필요하다': 3352, '밤늦다': 3353, '초등학교': 3354, '자라다': 3355, '러신': 3356, '바네스': 3357, '덕지덕지': 3358, '흐르다': 3359, '업자': 3360, '반갑다': 3361, '콤비': 3362, '이동해': 3363, '하루빨리': 3364, '요만': 3365, '삼만': 3366, '오일': 3367, '음산': 3368, '야무지다': 3369, '안주': 3370, '양말': 3371, 'ᄏᄏᄏ': 3372, '스테이플러': 3373, '구니': 3374, '쉬움': 3375, '여태껏': 3376, '거더': 3377, '널브러져': 3378, '시로': 3379, '견적': 3380, '드하': 3381, '셨는데': 3382, '장문': 3383, '휴지': 3384, '곡선': 3385, '치명': 3386, '대감': 3387, '저절로': 3388, '어떡하다': 3389, '비운': 3390, '언급': 3391, '손색': 3392, '일으키다': 3393, '트리스': 3394, '글쎄': 3395, '수고비': 3396, '조장': 3397, '커뮤니케이션': 3398, '상위': 3399, 'ㅜㅡㅜ': 3400, '리퍼': 3401, '규정': 3402, '내년': 3403, '뵈다': 3404, '스피커': 3405, '식탁보': 3406, '끼익': 3407, '매너': 3408, '져서': 3409, '취급': 3410, '클래스': 3411, '셋탑': 3412, '벽장': 3413, '려니': 3414, '폐기': 3415, '유도': 3416, '작업실': 3417, '우편': 3418, '크아': 3419, '여제': 3420, '지겹다': 3421, '선명하다': 3422, '막판': 3423, '도시': 3424, '시사': 3425, '나뉘다': 3426, '부용': 3427, '암만': 3428, '다짜고짜': 3429, '이구나': 3430, '도배': 3431, '루': 3432, '차마': 3433, '까딱': 3434, '톡톡하다': 3435, '포크': 3436, '이어도': 3437, '방임': 3438, '블로그': 3439, '바치': 3440, '밋밋하다': 3441, '상과': 3442, '생갇': 3443, '준수': 3444, '주스': 3445, '파이프': 3446, '유치원': 3447, '생도': 3448, '뚱하다': 3449, '유선': 3450, '기우뚱': 3451, '방편': 3452, '큰아들': 3453, '리해': 3454, '의사소통': 3455, '후딱': 3456, '정면': 3457, '김포': 3458, '래야': 3459, '거제': 3460, '입하': 3461, '의심스럽다': 3462, '퓨어': 3463, '속지': 3464, '쭈글쭈글': 3465, '심비': 3466, '픽업': 3467, '타도': 3468, '만도': 3469, '그만하다': 3470, '오래전': 3471, '짚다': 3472, '부러': 3473, '왜곡': 3474, '원통': 3475, '투톤': 3476, '라테': 3477, '저격': 3478, '사악하다': 3479, '구부정하다': 3480, '의장': 3481, '사의': 3482, '전셋집': 3483, '트자': 3484, '시청': 3485, '통증': 3486, '이드': 3487, '앨범': 3488, '주어': 3489, '짙다': 3490, '만삭': 3491, '따라오다': 3492, '정자': 3493, '안마': 3494, '접촉': 3495, '기껏': 3496, '문과': 3497, '쑤시다': 3498, '평동': 3499, '라고는': 3500, '언덕': 3501, '커튼': 3502, '청바지': 3503, '충족': 3504, '양반': 3505, '승하': 3506, '차감': 3507, '내색': 3508, '누렇': 3509, '바라보다': 3510, '쁘리': 3511, '그중': 3512, '행복': 3513, '유방': 3514, '요건': 3515, '정책': 3516, '결시': 3517, '감추다': 3518, '만큼이나': 3519, '뒷다리': 3520, '분가': 3521, '바이': 3522, '네요': 3523, '깔리다': 3524, '긁혔는': 3525, '한가운데': 3526, '답장': 3527, '차등': 3528, '광역시': 3529, '치우치다': 3530, '결코': 3531, '기네': 3532, '뒤척일': 3533, '선지': 3534, '차고': 3535, '미흡': 3536, '퐁퐁': 3537, '죄송': 3538, '기업': 3539, '문턱': 3540, '당직': 3541, '가수': 3542, '제시': 3543, '의향': 3544, '설날': 3545, '통관': 3546, '이래도': 3547, '과실': 3548, '조그맣다': 3549, '개개': 3550, '바스': 3551, '세척': 3552, '고산': 3553, '관심': 3554, '분분': 3555, '금성': 3556, '유사하다': 3557, '경제': 3558, '가도': 3559, '물감': 3560, '개요': 3561, '모델하우스': 3562, '반짝반짝': 3563, '안듭': 3564, '프린터': 3565, '다인': 3566, '간혹': 3567, '강력하다': 3568, '섬세하다': 3569, '치도': 3570, '다색': 3571, '불안감': 3572, '하내': 3573, '짜임새': 3574, '탄성': 3575, '만능': 3576, '썩다': 3577, '띵하다': 3578, '뒤통수': 3579, '공휴일': 3580, '십일': 3581, '선도': 3582, '올린다': 3583, '앞당기다': 3584, '검댕': 3585, '떨어뜨리다': 3586, '인사': 3587, '아카시아': 3588, '연해': 3589, '답글': 3590, '협력': 3591, '공정': 3592, 'ㅎㄷㄷ': 3593, '무사하다': 3594, '초아': 3595, '건강하다': 3596, '셀린': 3597, '뻐요맘': 3598, '치르다': 3599, '일주': 3600, '에서처럼': 3601, '밴딩': 3602, '수레': 3603, '우유': 3604, '카바': 3605, '혜택': 3606, '주먹': 3607, '슝슝': 3608, '흡착': 3609, '상당': 3610, '계약': 3611, '주간': 3612, '복원': 3613, '숟가락': 3614, '염색': 3615, '말랑하다': 3616, '내버리다': 3617, '소용': 3618, '알코올': 3619, '샌딩': 3620, '삼나무': 3621, '원가': 3622, '덜컥': 3623, '적정하다': 3624, '세한': 3625, '타지': 3626, '꼼수': 3627, '조그마하다': 3628, '편도': 3629, '만적': 3630, '재킷': 3631, '목하': 3632, '얻다': 3633, '통째': 3634, '물방울': 3635, '평택': 3636, '컬리': 3637, '철물': 3638, '다년': 3639, '색인': 3640, '요성': 3641, '헛': 3642, '지은': 3643, '요사': 3644, '어처구니없다': 3645, '나오니': 3646, '보통주': 3647, '요오드': 3648, '분기': 3649, '마카롱': 3650, '체형': 3651, '뻤습': 3652, '어댑터': 3653, '만듭': 3654, '평균': 3655, '자부': 3656, '돌돌': 3657, '혼수': 3658, '라라': 3659, '하품': 3660, '어쩝': 3661, '연속': 3662, '우측': 3663, '공해': 3664, '봉지': 3665, '영향': 3666, '놀리다': 3667, '둥이': 3668, '모이': 3669, '영원하다': 3670, '업다': 3671, '물르다': 3672, '감점': 3673, '괘씸하다': 3674, '갑갑하다': 3675, '요안': 3676, 'ㅠㅜ': 3677, '감각': 3678, '예여': 3679, '제한': 3680, '무상': 3681, '앞서': 3682, '만의': 3683, '평보': 3684, '소설': 3685, '최적': 3686, 'ㅣㅣ': 3687, '구배': 3688, '감상': 3689, '서일': 3690, '루고': 3691, '찍찍': 3692, '각방': 3693, '보충': 3694, '묵묵하다': 3695, '하여튼': 3696, '뒹굴': 3697, '오케이': 3698, '아우': 3699, '몸살': 3700, '꾸준하다': 3701, '동선': 3702, '총알': 3703, '레스': 3704, '상반': 3705, '더라고요': 3706, '스마일': 3707, '끊어지다': 3708, '고무줄': 3709, '라벨': 3710, '기어': 3711, '깔개': 3712, '릴랙스': 3713, '앖어': 3714, '팔뚝': 3715, '시오': 3716, '편차': 3717, '평범하다': 3718, '그치다': 3719, '임의': 3720, '구색': 3721, '몰래': 3722, '음세': 3723, '파악': 3724, '시설': 3725, '어가': 3726, '오냐': 3727, '스쿨': 3728, '분위': 3729, '구인': 3730, '망설': 3731, '우아하다': 3732, '회합': 3733, '사후관리': 3734, '이단': 3735, '서시': 3736, '후배': 3737, '분산': 3738, '호치키스': 3739, '외피': 3740, '회복': 3741, '빈약하다': 3742, '여자도': 3743, '재해': 3744, '그럭': 3745, '습관': 3746, '옥션': 3747, '정안': 3748, '전도': 3749, '인내': 3750, '구석구석': 3751, '부들부들': 3752, '쿠셔닝': 3753, '툴툴': 3754, '스피드': 3755, '의치': 3756, '라돈': 3757, '협소해': 3758, '대야': 3759, '두렵다': 3760, '창피': 3761, '팔': 3762, '음료': 3763, '거뭇': 3764, '여행': 3765, '캐리어': 3766, '지체': 3767, '가두다': 3768, '골치': 3769, '보수': 3770, '수업': 3771, '굴곡': 3772, '약해지다': 3773, '슬쩍': 3774, '기상': 3775, '싸하다': 3776, '음질': 3777, '기입': 3778, '도망가다': 3779, '티브': 3780, '이대': 3781, '도록': 3782, '개사': 3783, '사회': 3784, '들르다': 3785, '쏘이다': 3786, '뻐요많': 3787, '장관': 3788, '발도': 3789, '심사숙고': 3790, '더불다': 3791, '너저분하다': 3792, '반사': 3793, '퍼지다': 3794, '세무': 3795, '삐뚤빼뚤': 3796, 'ㅡㅡㅋ': 3797, '울렁거리다': 3798, '제공': 3799, '몹시': 3800, '대면': 3801, '불평': 3802, '협박': 3803, '나마': 3804, '장모님': 3805, '필터': 3806, '잘해야': 3807, '위안': 3808, '판다': 3809, '롤러': 3810, '모시': 3811, '누드': 3812, '구력': 3813, '약주': 3814, '포천': 3815, '어진': 3816, '빵점': 3817, '러시': 3818, '확률': 3819, '여분': 3820, '요통': 3821, '고매': 3822, '차근차근': 3823, '바르게': 3824, '디다': 3825, '압축': 3826, '화사': 3827, '통과': 3828, '수량': 3829, '양해': 3830, '주저': 3831, '절단': 3832, '이외': 3833, '연결고리': 3834, '미지근하다': 3835, '송장': 3836, '하우스': 3837, '덮이다': 3838, 'ㅜㅜㅜ': 3839, '모드': 3840, '요런': 3841, '훌쩍': 3842, '마치다': 3843, '한몫': 3844, '얼다': 3845, '필히': 3846, '어의': 3847, '짓다': 3848, '푸른빛': 3849, '건조': 3850, '반면': 3851, '방일': 3852, '차야': 3853, '잠그다': 3854, '량': 3855, '스키': 3856, '간신히': 3857, '그러하다': 3858, '대문': 3859, '극세사': 3860, '이시고': 3861, '검사': 3862, '웬만큼': 3863, '굿굿굿': 3864, '거짓말': 3865, '무책임하다': 3866, '콜도': 3867, '대주': 3868, '부리': 3869, '싱겁다': 3870, '트': 3871, '면은': 3872, '지옥': 3873, '맨손': 3874, '곧바로': 3875, '깨끗해지다': 3876, '맞벌이': 3877, '늘어서다': 3878, '끝판': 3879, '무드': 3880, '버티고': 3881, '튀어': 3882, '컨테이너': 3883, '해지': 3884, '장안': 3885, '무성의': 3886, '자형': 3887, '신분': 3888, '내보내다': 3889, '빛나다': 3890, '번쩍': 3891, '강남': 3892, '즐겁다': 3893, '정성껏': 3894, '훌륭': 3895, '라며': 3896, '시리즈': 3897, '건만': 3898, '기념': 3899, '절약': 3900, '고층': 3901, '용어': 3902, '라기': 3903, '차원': 3904, '무작정': 3905, '명도': 3906, '램프': 3907, '나사못': 3908, '문의사항': 3909, '까먹다': 3910, '이점': 3911, '반송': 3912, '오트밀': 3913, '합성': 3914, '인수': 3915, '학교': 3916, '특징': 3917, '자녀': 3918, '눈팅': 3919, '는데': 3920, '비례': 3921, '것임': 3922, '방공': 3923, '사조': 3924, '보디': 3925, '원주': 3926, '지라': 3927, '너덜너덜': 3928, '뻐요집': 3929, '테스트': 3930, '치하': 3931, '깡패': 3932, '답': 3933, '부랴부랴': 3934, '초대': 3935, '바꿈': 3936, '이뤄지다': 3937, '아요': 3938, '접대': 3939, '그땐': 3940, '육안': 3941, '장롱문': 3942, '의아': 3943, '라이': 3944, '눌리': 3945, '나로': 3946, '소린': 3947, '그제야': 3948, '성실하다': 3949, '스무': 3950, '첫인상': 3951, '삐꺽': 3952, '몸체': 3953, '국내': 3954, '야간': 3955, '메시': 3956, '앓다': 3957, '덩어리': 3958, '부실': 3959, '우수': 3960, '부다': 3961, '완전체': 3962, '늘어지다': 3963, '문서': 3964, '미처': 3965, '고스': 3966, '곳곳이': 3967, '싸가지': 3968, '쳐다보다': 3969, '신발장': 3970, '이보': 3971, '잡아먹다': 3972, '잘리다': 3973, '빠져나오다': 3974, '도료': 3975, '팔꿈치': 3976, '증후군': 3977, '마개': 3978, '특별': 3979, '대상': 3980, '청기': 3981, '심심하다': 3982, '등판': 3983, '민트': 3984, '플스': 3985, '구부리': 3986, '증정': 3987, '작아지다': 3988, '적립금': 3989, '숨기': 3990, '빅': 3991, '타워': 3992, '산제': 3993, '분실': 3994, '지우': 3995, '수치': 3996, '재봉': 3997, '새끼': 3998, '유착': 3999, '부자연스럽다': 4000, '거북하다': 4001, '심포니': 4002, '철거': 4003, '나타나다': 4004, '탄력': 4005, '슬립': 4006, '말랑말랑하다': 4007, '험하다': 4008, '옷소매': 4009, '원장': 4010, '종아리': 4011, '저학년': 4012, '남주혁': 4013, '물리': 4014, '조사': 4015, '쑤다': 4016, '지정은': 4017, '어색': 4018, '스르르': 4019, '후다닥': 4020, '무니': 4021, '라곤': 4022, '근대': 4023, 'ᅮᅮ': 4024, '가만': 4025, '이체': 4026, '미가': 4027, '내미다': 4028, '진창': 4029, '조정은': 4030, '언제나': 4031, '에서의': 4032, '이분': 4033, '소속': 4034, '사업자': 4035, '바다': 4036, '흡사하다': 4037, '도입': 4038, '전시장': 4039, '계절': 4040, '쇳': 4041, '뭉개져': 4042, '화이트골드': 4043, '본의': 4044, '포름알데히드': 4045, '트레스': 4046, '대뜸': 4047, '타가': 4048, '엄지': 4049, '우형': 4050, '여백': 4051, '바란': 4052, '강요': 4053, '노인': 4054, '알리': 4055, '수십': 4056, '껍질': 4057, '그레': 4058, '요망': 4059, '미세': 4060, '구김': 4061, '기저귀': 4062, '흡족하다': 4063, '단가': 4064, '크롬': 4065, '나기': 4066, '존재': 4067, '훼손': 4068, '사비': 4069, '쿵쾅': 4070, '삐거덕거림': 4071, '하만': 4072, '작품': 4073, '변화': 4074, '레저': 4075, '강제': 4076, '무거': 4077, '서인': 4078, '전입': 4079, '주관': 4080, '엘지': 4081, '타임': 4082, '인들': 4083, '종량제': 4084, '봉투': 4085, '폐기물': 4086, '괴롭다': 4087, '고정용': 4088, '임도': 4089, '보장': 4090, '돕다': 4091, '앞판': 4092, '립법': 4093, '허무하다': 4094, '니드': 4095, '나진': 4096, '메우다': 4097, '명성': 4098, '제사': 4099, '나라': 4100, '함정': 4101, '피고': 4102, '나야': 4103, '유로': 4104, '직물': 4105, '서서히': 4106, '핮': 4107, 'ㅡㅜㅜ': 4108, '배선': 4109, '위상': 4110, '단색': 4111, '완충': 4112, '좌망': 4113, '빈틈': 4114, '송곳': 4115, '새우다': 4116, '용서': 4117, '미래': 4118, '단칸': 4119, '경쟁': 4120, '어르다': 4121, '전담': 4122, '놨습': 4123, '쉽사리': 4124, '쓱싹': 4125, '녹색': 4126, '어치': 4127, '길쭉하다': 4128, '홀로': 4129, '신도시': 4130, '거봉': 4131, '어쩌란': 4132, '천정': 4133, '긴가민가하다': 4134, '장님': 4135, '툴툴거렸음': 4136, '방한': 4137, '복판': 4138, '품사': 4139, '구체': 4140, '예산': 4141, '하원': 4142, '파업': 4143, '매월': 4144, '중순': 4145, '부직': 4146, '오묘하다': 4147, '문지': 4148, '실내': 4149, '스크루': 4150, '럭셔리': 4151, '마시기': 4152, '마트': 4153, '분류': 4154, '펜치': 4155, '폭위': 4156, '행주': 4157, '쏙듭': 4158, '필로티': 4159, '가르다': 4160, '껄하': 4161, '붉다': 4162, '묵다': 4163, '눈높이': 4164, '부풀다': 4165, '망사': 4166, '차저': 4167, '흠칫': 4168, '쪼꼼': 4169, '화공': 4170, '물컹하다': 4171, '로움': 4172, '삼촌': 4173, '개방': 4174, '생상': 4175, '정당하다': 4176, '몰딩': 4177, '배소은': 4178, '도안': 4179, '통통': 4180, '남녀': 4181, '오거': 4182, '디': 4183, '피다': 4184, '눕혔더': 4185, '자유롭다': 4186, '권유': 4187, '호구': 4188, '문수': 4189, '근무시간': 4190, '분말': 4191, '지지도': 4192, '후드': 4193, '험악하다': 4194, '아슬아슬하다': 4195, '실감': 4196, '철근': 4197, '비슷': 4198, '투명': 4199, '가늘다': 4200, '되돌아가다': 4201, '맞닿다': 4202, '거일': 4203, '이라곤': 4204, '보리': 4205, '레임': 4206, '만으로는': 4207, '퀄리': 4208, '티나': 4209, '어지럽다': 4210, '고건': 4211, '벼루': 4212, '눕혔': 4213, '음색': 4214, '말끔': 4215, '딸리다': 4216, '퍼': 4217, '주차장': 4218, '지상': 4219, '표면처리': 4220, '다이닝': 4221, '시즌': 4222, '널널': 4223, '점심': 4224, '시흥시': 4225, '분노하다': 4226, '우왕': 4227, '요명': 4228, '그대': 4229, '수명': 4230, '공시': 4231, '언뜻': 4232, '레벨': 4233, '연고': 4234, '밝히다': 4235, '이임': 4236, '쩍쩍': 4237, '켓': 4238, '작용': 4239, '점퍼': 4240, '오른': 4241, '재택근무': 4242, '중소기업': 4243, '이즈': 4244, '네이처': 4245, '자유로이': 4246, '스티치': 4247, '으로나': 4248, '채널': 4249, '공중': 4250, '상용': 4251, '시술': 4252, '그나저나': 4253, '갈아타다': 4254, '감히': 4255, '해얄까': 4256, '숭숭': 4257, '평작': 4258, '음료수': 4259, '마우스패드': 4260, '패널': 4261, '도나': 4262, '말르다': 4263, '익스': 4264, '상쇄': 4265, '이프': 4266, '매끈': 4267, '보들보들하다': 4268, '아버': 4269, '차일피일': 4270, '배기': 4271, '스티': 4272, '옆판': 4273, '죄다': 4274, '방책': 4275, '기일': 4276, 'ㄱㅏ': 4277, '이도': 4278, '기구': 4279, '농막': 4280, '충진': 4281, '이격': 4282, '운영자': 4283, '김칫': 4284, '끈끈이': 4285, '올드해': 4286, '점심때': 4287, '대치': 4288, '소호': 4289, '마크': 4290, '패키지': 4291, '살짝살짝': 4292, '중반': 4293, '콘셉트': 4294, '발등': 4295, '해룡': 4296, '불어': 4297, '찾아내다': 4298, '예부': 4299, '휴무': 4300, '독특하다': 4301, '빌다': 4302, '불리': 4303, '쓰는덴': 4304, '피비': 4305, '방벽': 4306, '썰렁하다': 4307, '구한': 4308, '침상': 4309, '구축': 4310, '미련': 4311, '에인절': 4312, '말임': 4313, '커다랗다': 4314, '서양': 4315, '출렁': 4316, '찍기': 4317, '자색': 4318, '상함': 4319, '지난주': 4320, '호환': 4321, '요렇게': 4322, '음일': 4323, '구림': 4324, '점령': 4325, '낚시': 4326, '붉은빛': 4327, '월급': 4328, '박지': 4329, '파묻히다': 4330, '전인': 4331, '사용성': 4332, '젓가락': 4333, '촉박하다': 4334, '해석': 4335, '대수': 4336, '잠옷': 4337, '운동복': 4338, '바큇': 4339, '음모': 4340, '서리': 4341, '이구': 4342, '재일': 4343, '요스툴': 4344, '알뜰하다': 4345, '한가득': 4346, '돈대': 4347, '녹아내리다': 4348, '앤티크': 4349, '라티': 4350, '순번': 4351, '나요나': 4352, '소가': 4353, '푸르다': 4354, '바늘': 4355, '스미다': 4356, '립': 4357, '마땅하다': 4358, '오른손': 4359, '동탄': 4360, '벨트': 4361, '체감': 4362, '농락': 4363, '허위': 4364, '맺다': 4365, '지그': 4366, '덕소': 4367, '사보': 4368, '하염없이': 4369, '부지런하다': 4370, '비중': 4371, '사본': 4372, '이요': 4373, '저녁때': 4374, '난장판': 4375, '인제': 4376, '기원': 4377, '여색': 4378, '놀람': 4379, '외식': 4380, '다도': 4381, '구려': 4382, '순이': 4383, '구비': 4384, '벌금': 4385, '골든': 4386, '제습기': 4387, '툭툭': 4388, '금일': 4389, '월경': 4390, '엠디': 4391, '에프': 4392, '에니스': 4393, '아무개': 4394, '휘었': 4395, '디어': 4396, '마레': 4397, '목소리': 4398, '서라운딩': 4399, 'ㅎㅏ': 4400, '휴게실': 4401, '사자': 4402, '암장': 4403, '점감': 4404, '반들반들하다': 4405, '취약': 4406, '기역': 4407, '회의': 4408, '어기': 4409, '걸렀어': 4410, '조급하다': 4411, '손품': 4412, '천안': 4413, '철로': 4414, '분별': 4415, '도르다': 4416, '뻐요딸': 4417, '클럽': 4418, '애착': 4419, '변신': 4420, '가일': 4421, '임펜': 4422, '꼼짝': 4423, '정작': 4424, '래핑': 4425, '요스': 4426, '쓰윽': 4427, '푸신': 4428, '경향': 4429, '예비': 4430, '수로': 4431, '셋톱박스': 4432, '먹히다': 4433, '호평': 4434, '변색': 4435, '이이': 4436, '닦아지다': 4437, '장하나': 4438, '사안': 4439, '어던': 4440, '실지': 4441, '시장': 4442, '앞': 4443, '다다다': 4444, '교파': 4445, '예뽀': 4446, '담번': 4447, '경악': 4448, '금치': 4449, '괴어': 4450, '지형': 4451, '메이저': 4452, '베트남': 4453, '원칙': 4454, '보양': 4455, '자매': 4456, '벋다': 4457, '평상': 4458, '아부': 4459, '요물': 4460, '대사': 4461, '악덕': 4462, '이제껏': 4463, '담하다': 4464, '실시간': 4465, '업데이트': 4466, '룸': 4467, '팔로': 4468, '씹히다': 4469, '케어': 4470, '위생': 4471, '제나': 4472, '장로': 4473, '뾰쪽': 4474, '가이드': 4475, '구이': 4476, '신고': 4477, '잦다': 4478, '불하': 4479, '만기': 4480, '문갑': 4481, '아서': 4482, '날림': 4483, '효도': 4484, '몰이': 4485, '뛰어놀다': 4486, '소소하다': 4487, '근력': 4488, '햇볕': 4489, '의도': 4490, '욕먹다': 4491, '기장': 4492, '구명': 4493, '습기': 4494, '축축하다': 4495, '부스': 4496, '유독': 4497, '포레': 4498, '라기보다는': 4499, '지로': 4500, '태블릿': 4501, '감고': 4502, '애완동물': 4503, '구슬': 4504, '발행': 4505, '하서': 4506, '차려': 4507, '틀림': 4508, '별롭': 4509, '전원주택': 4510, '아이러니': 4511, '신형': 4512, '데리': 4513, '가보': 4514, '자폭': 4515, '슬': 4516, '라': 4517, '우와': 4518, '소형': 4519, '힘쓰다': 4520, '장담': 4521, '밤색': 4522, '실버': 4523, '반쪽': 4524, '대학': 4525, '도널널': 4526, '헤어': 4527, '꼬박': 4528, '매각': 4529, '칼집': 4530, '시안': 4531, '예일': 4532, '가관': 4533, '낮아지다': 4534, '역다': 4535, '편두통': 4536, '먹음': 4537, '하기는': 4538, '그해': 4539, '침실': 4540, '담배': 4541, '상승': 4542, '기웃': 4543, '콜로': 4544, '일후': 4545, '조심성': 4546, '란스': 4547, '일어나고': 4548, '전분': 4549, '산물': 4550, '꿈꾸다': 4551, '손쉽다': 4552, '전문성': 4553, '불매운동': 4554, '용한': 4555, '여자아이': 4556, '직하다': 4557, '것일': 4558, '양파': 4559, '재미있다': 4560, '네모': 4561, '재배': 4562, '튕겨': 4563, '정석': 4564, '골고루': 4565, '영접': 4566, '철판': 4567, '펼쳐지다': 4568, '접기': 4569, '파주': 4570, '이대로': 4571, '유동': 4572, '라뇨': 4573, '애매': 4574, '조잡': 4575, '단자': 4576, '유명하다': 4577, '리콜': 4578, '용수철': 4579, '샤워': 4580, '와이': 4581, '당근': 4582, '스름': 4583, '마로': 4584, '착착': 4585, '자동차': 4586, '물컵': 4587, '휙휙': 4588, '여실': 4589, '시선': 4590, '로드': 4591, '바깥쪽': 4592, '붙잡다': 4593, '헐다': 4594, '하듯': 4595, '리폼': 4596, '귀가': 4597, '그른': 4598, '소모': 4599, '시전': 4600, '파리': 4601, '끼임': 4602, '뒤뚱거려': 4603, '양복': 4604, '단장': 4605, '단연': 4606, '집중': 4607, '동그라미': 4608, '뚱뚱하다': 4609, '제만': 4610, '유의사항': 4611, '다이도': 4612, '출시': 4613, '아누': 4614, '대루': 4615, '분전': 4616, '스퀘어': 4617, '눈퉁': 4618, '어항': 4619, '쑥쑥': 4620, '활동': 4621, '폭우': 4622, '남성은': 4623, '물렁하다': 4624, '대대': 4625, '부끄럽다': 4626, '슬슬': 4627, '아트': 4628, '미묘하다': 4629, '형성': 4630, '풀이': 4631, '손길': 4632, '임목': 4633, '바서': 4634, '주하': 4635, '식당': 4636, '바탕': 4637, '나라고': 4638, '항균': 4639, '가을': 4640, '다단': 4641, '그물': 4642, '양면': 4643, '정일도': 4644, '무방': 4645, '어쩌겠어': 4646, '초코': 4647, 'ㅈㄱ': 4648, '샤인': 4649, '어휴': 4650, '탱탱하다': 4651, '케밥': 4652, '케인': 4653, '문밖': 4654, '자기장': 4655, '후진': 4656, '긁혔어': 4657, '예기': 4658, '뻐근하다': 4659, '접근': 4660, '금지': 4661, '신가': 4662, '다그치다': 4663, '너덜너덜하다': 4664, '행위': 4665, '원일': 4666, '저력': 4667, '우스': 4668, '치한': 4669, '좀비': 4670, '인체': 4671, '도노': 4672, '무더위': 4673, '고거': 4674, '엇음': 4675, '무한': 4676, '참으로': 4677, '깨닫다': 4678, '필기': 4679, '사심': 4680, '미소': 4681, '정선': 4682, '동전': 4683, '건조하다': 4684, '즉각': 4685, '깨알': 4686, '석고': 4687, '취용': 4688, '숙직': 4689, '개중': 4690, '수분': 4691, '스커트': 4692, '딸도': 4693, '요구르트': 4694, '묶이다': 4695, '부대끼다': 4696, '인명': 4697, '어떻다': 4698, '리셋': 4699, '책무': 4700, '덤퍼': 4701, '국산': 4702, '그랬더니': 4703, '거안': 4704, '뭉치': 4705, '틀어놓다': 4706, '명목': 4707, '파보': 4708, '이동성': 4709, '눈치': 4710, '적절': 4711, '가운': 4712, '차요': 4713, '요업': 4714, '납땜': 4715, '비주': 4716, '세월': 4717, '정판': 4718, '끝내주다': 4719, '베송': 4720, '고지도': 4721, '지적': 4722, '유리나': 4723, '흐뭇하다': 4724, '선생님': 4725, '어쩌자': 4726, '자연스레': 4727, '수축': 4728, '팽창': 4729, '일사천리': 4730, '양은': 4731, '환장하다': 4732, '분할': 4733, '작동시키다': 4734, '박수': 4735, '센티미터': 4736, '입자': 4737, '중국인': 4738, '우리나라': 4739, '중임': 4740, '일별': 4741, '요기스': 4742, '대학생': 4743, '겸손': 4744, '일색': 4745, '평범': 4746, '폭락': 4747, '부터가': 4748, '낑낑': 4749, '댕댕': 4750, '힌지': 4751, '걸레질': 4752, '한국': 4753, '제조': 4754, '무치': 4755, '가습기': 4756, '왤다': 4757, '지마켓': 4758, '지방도': 4759, '예버': 4760, '심지': 4761, '어쨌거': 4762, '체중': 4763, '가인': 4764, '포로': 4765, '사제': 4766, '구보': 4767, '만두': 4768, '잉글랜드': 4769, '청소년': 4770, '애교': 4771, '죽도': 4772, '금물': 4773, '투명하다': 4774, '조가': 4775, '만드': 4776, '직구': 4777, '현지': 4778, '금은': 4779, '요댐퍼': 4780, '깨우다': 4781, '익다': 4782, '외투': 4783, '미적': 4784, '일괄': 4785, '세제': 4786, '회함': 4787, '이인': 4788, '파니': 4789, '우울하다': 4790, '순하다': 4791, '지갑': 4792, '엄니': 4793, '까슬하다': 4794, '차액': 4795, '졸업': 4796, '마땅치': 4797, '두루': 4798, '거칠거칠하다': 4799, '라레': 4800, '스몰': 4801, '염두': 4802, '지수': 4803, '마모': 4804, '라오': 4805, '부각': 4806, '결리다': 4807, '재택': 4808, '표정': 4809, '식겁': 4810, '제대': 4811, '이물': 4812, '후련하다': 4813, '양념': 4814, '엉터리': 4815, '마법': 4816, '대미지': 4817, '강철': 4818, '군말': 4819, '학사': 4820, '서두': 4821, '번갈아': 4822, '자정': 4823, '직포': 4824, '기약': 4825, '부지': 4826, '뻐요잘': 4827, 'ㅎㅅㅎ': 4828, '공감': 4829, '핵심': 4830, '부문': 4831, '수이': 4832, '나나': 4833, '강릉': 4834, '관절': 4835, '무뚝뚝하다': 4836, '신건': 4837, '발코니': 4838, '시리': 4839, '취해': 4840, '리트': 4841, '스럽지도': 4842, '슬어': 4843, '술함': 4844, '맙시': 4845, '장배': 4846, '영업소': 4847, '자격': 4848, '인형': 4849, '단일': 4850, '파티션': 4851, '도구': 4852, '잡아당기다': 4853, '느슨하다': 4854, '증거': 4855, '자서': 4856, '본격': 4857, '쓸데없이': 4858, '로봇청소기': 4859, '초인종': 4860, '메리': 4861, '불과': 4862, '제때': 4863, '가문': 4864, '만세': 4865, '입원': 4866, '데알': 4867, '꼭꼭': 4868, '로고': 4869, '시험': 4870, '빳빳': 4871, '발목': 4872, '기한': 4873, '월나라': 4874, '반바지': 4875, '실장': 4876, '성장기': 4877, '용택': 4878, '이별': 4879, '피사': 4880, '사탑': 4881, '환경': 4882, '연장': 4883, '알갱이': 4884, '수수': 4885, '아두': 4886, '통나무': 4887, '기별': 4888, '지문': 4889, '아담': 4890, '앉은키': 4891, '단축': 4892, '야마': 4893, '사태': 4894, '장형': 4895, '돌침대': 4896, '뒤집어지다': 4897, '단합': 4898, '고서': 4899, '고대로': 4900, '전공': 4901, '구로': 4902, '리뉴얼': 4903, '어긋나게': 4904, '도식': 4905, '이여': 4906, '앙증맞다': 4907, '등기': 4908, '인성': 4909, '취침': 4910, '하청': 4911, '주소지': 4912, '어랑': 4913, '범위': 4914, '화장실': 4915, '나가시': 4916, '변기': 4917, '더럽히다': 4918, '이색': 4919, '편의': 4920, '뻤어': 4921, '식생활': 4922, '리도': 4923, '솔직': 4924, '버려지다': 4925, '보루': 4926, '폭주': 4927, '요동': 4928, '레그룸': 4929, '발전': 4930, '쥐구멍': 4931, '극악': 4932, '눌릴': 4933, '빌어': 4934, '살의': 4935, '싹수없다': 4936, '서클': 4937, '공이': 4938, '방과': 4939, '거산': 4940, '라나': 4941, '루안': 4942, '정신없이': 4943, '수나': 4944, '판연': 4945, '살림': 4946, '초이': 4947, '대충대충': 4948, '싹싹': 4949, '졸리': 4950, '거대하다': 4951, '수만': 4952, '거시': 4953, '올드': 4954, '지층': 4955, '단수': 4956, '거랍': 4957, '싸움': 4958, '발휘': 4959, '사랑받다': 4960, '영아': 4961, '과격하다': 4962, '중고품': 4963, '셀러': 4964, '구욬': 4965, '널리': 4966, '더없이': 4967, '어플': 4968, '밥맛': 4969, '덕거림': 4970, '오그리다': 4971, '깔딱깔딱': 4972, '실어': 4973, '담날': 4974, '기부': 4975, '오피스': 4976, '건조기': 4977, '초이스': 4978, '잃어버리다': 4979, '기기': 4980, '칸나': 4981, '추기': 4982, '빡센': 4983, '쾌적하다': 4984, '망정': 4985, '터널': 4986, '뎅뎅': 4987, '대장': 4988, '뿜뿜': 4989, '신나다': 4990, '유용': 4991, '무기': 4992, '만큼도': 4993, '유가': 4994, '겸용': 4995, '고만하다': 4996, '잘나다': 4997, '뛰어다니다': 4998, '튕기': 4999, '상형': 5000, '떡칠': 5001, '신발': 5002, '이라기': 5003, '잊어버리다': 5004, '한낮': 5005, '매달리다': 5006, '공법': 5007, '헤비': 5008, '안남': 5009, '벌통': 5010, '이론': 5011, '반려': 5012, '드니': 5013, '마인드': 5014, '작렬': 5015, '원정': 5016, '윗줄': 5017, '콱콱': 5018, '이모': 5019, '모노': 5020, '배경': 5021, '대칭': 5022, '얼굴': 5023, '강점': 5024, '타요': 5025, '피그': 5026, '노하우': 5027, '전번': 5028, '여파': 5029, '요천': 5030, '파생': 5031, '형제': 5032, '소지': 5033, '영수증': 5034, '기운': 5035, '굴뚝': 5036, '대나무': 5037, '취미': 5038, '손목': 5039, '썩': 5040, '하의': 5041, '오래도록': 5042, '현실': 5043, '나하': 5044, '좌측': 5045, '보호대': 5046, '뽑히다': 5047, '드라이': 5048, '스탠더드': 5049, '아웃': 5050, '옆집': 5051, '강성': 5052, '거무': 5053, '튀튀': 5054, '서진': 5055, '막심': 5056, '공식': 5057, '비율': 5058, '따스하다': 5059, '의식': 5060, '클레': 5061, '휴대폰': 5062, '센서': 5063, '미닫이문': 5064, '겸비': 5065, '벅벅': 5066, '습하다': 5067, '진료': 5068, '밀도': 5069, '미지': 5070, '베테': 5071, '방만': 5072, '힙': 5073, 'ㅜㅡ': 5074, '어쩌라고': 5075, '울렁울렁': 5076, '장면': 5077, '프레이': 5078, '클립': 5079, '덕비': 5080, '보심': 5081, '신기': 5082, '듀': 5083, '파': 5084, '조마조마하다': 5085, '밑창': 5086, '등장': 5087, 'ㅂㅐ': 5088, '라든가': 5089, '깐깐하다': 5090, '연약하다': 5091, '심보': 5092, '낙상': 5093, '솜씨': 5094, '꽝꽝': 5095, '꿀렁': 5096, '리더': 5097, '편안': 5098, '반기': 5099, '대반': 5100, '바랑': 5101, '용법': 5102, '반납': 5103, '측은': 5104, '상큼': 5105, '인심': 5106, '사기꾼': 5107, '영배': 5108, '의류': 5109, '확연': 5110, '자투리': 5111, '주해': 5112, '뽀샵': 5113, '트라우마': 5114, '철원': 5115, '리얼': 5116, '단순': 5117, '고개': 5118, '딱지': 5119, '접힐': 5120, '찌꺼기': 5121, '응답': 5122, '어쩐': 5123, '오차': 5124, '골목': 5125, '자칫': 5126, '죄송스럽다': 5127, '식다': 5128, '반질반질하다': 5129, '맞은편': 5130, '일산': 5131, '으로라도': 5132, '덕후': 5133, '객관': 5134, '경사': 5135, '라벤더': 5136, '여수': 5137, '과중': 5138, '베움': 5139, '향후': 5140, '유쾌하다': 5141, '목판': 5142, '쏙쏙': 5143, '산간': 5144, '분유': 5145, '다듬어지다': 5146, '액정': 5147, '한정': 5148, '진상': 5149, '간접': 5150, '라든지': 5151, '쓴소리': 5152, '캡처': 5153, '조르다': 5154, '휴게': 5155, '구의': 5156, '세운': 5157, '수면제': 5158, '발길': 5159, '무진장': 5160, '라가': 5161, '페인': 5162, '도둑': 5163, '쿨하다': 5164, '꼬릿': 5165, '대수롭다': 5166, '눌림': 5167, '몸부림': 5168, '서화': 5169, '밍': 5170, '찐득하다': 5171, '비니': 5172, '쪽잠': 5173, '정찰': 5174, '깜깜': 5175, 'ㄷㅔ': 5176, '방출': 5177, '훤해': 5178, '영어': 5179, '경비실': 5180, '당혹스럽다': 5181, '전월': 5182, '제출': 5183, '발품': 5184, '안감': 5185, '물기': 5186, '쥐색': 5187, '흉하다': 5188, '장단': 5189, '층수': 5190, '께': 5191, '하란': 5192, '여주면': 5193, '조짐': 5194, '청사': 5195, '직감': 5196, '만이라도': 5197, '셋업': 5198, '잔스크라치': 5199, '깜빡': 5200, '극장': 5201, '역류성': 5202, '식도염': 5203, '대책': 5204, '하급': 5205, '유통': 5206, '분필': 5207, '반타': 5208, '금세': 5209, '성의껏': 5210, '농도': 5211, '표준': 5212, '문고': 5213, '복도': 5214, '불가피하다': 5215, '이러하다': 5216, '순서': 5217, '친형': 5218, '판지': 5219, '파우치': 5220, '벗다': 5221, '이안': 5222, '와우': 5223, '폭탄': 5224, '꼬옥': 5225, '퍽퍽': 5226, '간단': 5227, '놀이터': 5228, '묵묵': 5229, '전문의': 5230, '저급': 5231, '가동': 5232, '관상': 5233, '마찰': 5234, '적하': 5235, '나누어지다': 5236, '간절하다': 5237, '투성이': 5238, '제품군': 5239, '어짐': 5240, '휩': 5241, '무용지물': 5242, '와이파이': 5243, '정리정돈': 5244, '책임지다': 5245, '만사': 5246, '덕대': 5247, '자치': 5248, '서브': 5249, '싸인': 5250, '영안': 5251, '외주': 5252, '양산': 5253, '실상': 5254, '페이트': 5255, '서약': 5256, '혼나다': 5257, '일차': 5258, '능숙하다': 5259, '숙소': 5260, '만난': 5261, '플러그': 5262, '현기증': 5263, '경색': 5264, '실크': 5265, '쾅쾅거리다': 5266, '감색': 5267, '개나리색': 5268, '혈압': 5269, '온통': 5270, '편임': 5271, '발리': 5272, '가셨늣데': 5273, '착지': 5274, '가로세로': 5275, '장재': 5276, '잘만': 5277, '업로드': 5278, '상가': 5279, '메모': 5280, '요란하다': 5281, '당첨': 5282, '오목하다': 5283, '적임': 5284, '서점': 5285, '조음': 5286, '처치': 5287, '곤란': 5288, '예감': 5289, '집주인': 5290, '대리': 5291, '잡지': 5292, '자작나무': 5293, '눌린': 5294, '쓸데없다': 5295, '개업': 5296, '감탄': 5297, '카메라': 5298, '이동형': 5299, '수많다': 5300, '쉬엄쉬엄': 5301, '생략': 5302, '케바케': 5303, '철봉': 5304, '보나': 5305, '아인': 5306, '저하': 5307, '변수': 5308, '한인': 5309, '선방': 5310, '적당': 5311, '경동': 5312, '세지': 5313, '예뿝': 5314, '쪼가리': 5315, '스틱': 5316, '적재': 5317, '천도': 5318, '전자랜드': 5319, '넘앏': 5320, '공과': 5321, '요양': 5322, '한눈': 5323, '서문': 5324, '낭비하다': 5325, '텔레비전': 5326, '여타': 5327, '억대': 5328, '연봉': 5329, '간섭': 5330, '생기지': 5331, '스크린': 5332, '개조': 5333, '자부심': 5334, '미남': 5335, '간편': 5336, '햇빛': 5337, '서원': 5338, '비아': 5339, '키노': 5340, 'ㄱㅓ': 5341, '지스': 5342, '상품권': 5343, '고기': 5344, '구애': 5345, '분자': 5346, '위탁': 5347, '산골': 5348, '원주시': 5349, '고속도로': 5350, '염도': 5351, '개그': 5352, '삼성': 5353, '제기': 5354, '성퓸푱': 5355, '셋탑박스': 5356, '예고': 5357, '피아노': 5358, '번': 5359, '메트레스': 5360, '날줄': 5361, '현대': 5362, '섭섭하다': 5363, '발쪽': 5364, '궁둥이': 5365, '분리수거': 5366, '사운드': 5367, '쿠페': 5368, '경남': 5369, 'ㅠㅜㅜ': 5370, '도년': 5371, '짖다': 5372, '시냐': 5373, '파워': 5374, '새삼': 5375, '구전': 5376, '월지': 5377, '발다': 5378, '부대': 5379, '사상': 5380, '불가닌': 5381, '카요': 5382, '수틀': 5383, '미완성': 5384, '오피': 5385, '고프다': 5386, '신문': 5387, '나신': 5388, '최애': 5389, '새로이': 5390, '라싸': 5391, '반질반질': 5392, '부양': 5393, '상한': 5394, '예비군': 5395, '훈련': 5396, '반짝': 5397, '만전': 5398, '원산지': 5399, '가짜': 5400, '오이랑': 5401, '큼지막하다': 5402, '방개': 5403, '미사': 5404, '메꿰줘': 5405, '알앟는데': 5406, '배색': 5407, '운전기사': 5408, '생난리': 5409, '맞이': 5410, '낙엽': 5411, '오점': 5412, '제실': 5413, '삼일': 5414, '개개인': 5415, '원보': 5416, '재재하다': 5417, '투박': 5418, '목일': 5419, '절망': 5420, '외견': 5421, '정제': 5422, '광도': 5423, '코인': 5424, '별별': 5425, '안전성': 5426, '빼드': 5427, '랩담': 5428, '로이': 5429, '뿐더러': 5430, '메스껍다': 5431, '거던': 5432, '발진': 5433, '신소재': 5434, '폰트': 5435, '돈값합': 5436, '실러': 5437, '삼사일': 5438, '불현': 5439, '강츄': 5440, '공손하다': 5441, '디도': 5442, '비염': 5443, '수집': 5444, '대일': 5445, '비스듬하': 5446, '써쥤으': 5447, '가': 5448, '하체': 5449, '뭣하': 5450, '파산': 5451, '실길': 5452, '마구마구': 5453, '쪼르륵': 5454, '페이고': 5455, '정마': 5456, '뻐했어': 5457, '함부로': 5458, '정중하다': 5459, '세팅돼': 5460, '단독': 5461, '다닥': 5462, '짔요배': 5463, '샌드': 5464, '페이퍼': 5465, '용의자': 5466, '범주': 5467, '상실하다': 5468, '빡셉': 5469, '헛짓': 5470, '아비': 5471, '연인': 5472, '어엽': 5473, '뿌네용': 5474, '넘비스': 5475, '므': 5476, '포이': 5477, '릸잇으': 5478, '잔해': 5479, '유광우': 5480, '코딱지': 5481, '몇십': 5482, '무판': 5483, '삐뚤빼뚤해': 5484, '바보': 5485, '소지도': 5486, '층위': 5487, '찬가': 5488, '상냥하다': 5489, '수원': 5490, '혁신': 5491, '안달': 5492, '개무': 5493, '시합': 5494, '엎는': 5495, '짜증스럽다': 5496, '상술': 5497, '엄처': 5498, '울림': 5499, '자질구레하다': 5500, '땅땅': 5501, '하락': 5502, '비정': 5503, '직함': 5504, '배딩개': 5505, '그러면': 5506, '월특': 5507, '오상진': 5508, '사사': 5509, '등원': 5510, '불균형': 5511, '플래시': 5512, '거철': 5513, '물점': 5514, '혼동': 5515, '맞먹다': 5516, '급전': 5517, '편약': 5518, '토크': 5519, '온건': 5520, '설전': 5521, '결부': 5522, '일그러지다': 5523, '버건디': 5524, '공차': 5525, '다릿발': 5526, '밤낮': 5527, '소심하다': 5528, '아이패드': 5529, '열폭': 5530, '열댓': 5531, '장농완': 5532, '농강': 5533, '황동': 5534, '반입': 5535, '부모': 5536, '더하기': 5537, '합성수지': 5538, '커섴': 5539, 'ㅡㅡㅠㅠ': 5540, '젂다': 5541, '누루': 5542, '빡세': 5543, '이툥할': 5544, '월류': 5545, '암도': 5546, '매니큐어': 5547, '서명': 5548, '지시': 5549, '초딩': 5550, '전라도': 5551, '전과': 5552, '편대': 5553, '덧댐': 5554, '옴총': 5555, '론일': 5556, '사산': 5557, '으로서의': 5558, '얹히다': 5559, '경계': 5560, '더디다': 5561, '골다공증': 5562, '서적': 5563, '큰코다치다': 5564, '타나': 5565, '레이스': 5566, '가불': 5567, '구릉': 5568, '갈이': 5569, '우두': 5570, '영칠': 5571, '천운': 5572, '찾아다니다': 5573, '단독주택': 5574, '초과': 5575, '정장': 5576, '슈트': 5577, '개설': 5578, '잔재': 5579, '해욥': 5580, '무덥다': 5581, '누빔': 5582, '겉모습': 5583, '성해': 5584, '일거리': 5585, '하룻밤': 5586, '어미': 5587, '쪼개다': 5588, '삿느': 5589, '승용차': 5590, '패딩류': 5591, '잡착': 5592, '온돌': 5593, '들썩이다': 5594, '걀씀': 5595, '것무드': 5596, '닸는': 5597, '매니': 5598, '화안': 5599, '카이': 5600, '임프': 5601, '되돌리다': 5602, '장남': 5603, '뎅홀더': 5604, '손수': 5605, '유니크': 5606, '니다': 5607, '비실': 5608, '졸다': 5609, '양각': 5610, '느낑': 5611, '헐티비': 5612, '닺질': 5613, '불개': 5614, '비론': 5615, '반절': 5616, '어록': 5617, '먄족': 5618, '고료': 5619, '뒈지다': 5620, '파탄': 5621, '라우': 5622, '백열': 5623, '개켜': 5624, '엘배': 5625, '너무도': 5626, '놀란': 5627, '관점': 5628, '시민': 5629, '버들': 5630, '분착': 5631, '일어나지': 5632, '갖가지': 5633, '추호': 5634, '거짓': 5635, '정산': 5636, '기흥': 5637, '임타': 5638, '원사': 5639, '며칟날': 5640, '빠트렸는': 5641, '얼버무리다': 5642, '누럴까': 5643, '굣놘': 5644, '일자리': 5645, '비뚤다': 5646, '위태': 5647, '컨셉': 5648, '탈바꿈': 5649, '장끼': 5650, '봄퐁퐁': 5651, '재미없다': 5652, '휴대': 5653, '협탁로': 5654, '어딜': 5655, '균열': 5656, '당사자': 5657, '튀기다': 5658, '어스': 5659, '월세': 5660, '자원': 5661, '킬로': 5662, '결러': 5663, '친하다': 5664, '널다': 5665, '스텀': 5666, '왼손잡이': 5667, '두수': 5668, '온종일': 5669, '어멍': 5670, '점책': 5671, '패디': 5672, '발인': 5673, '가꾸다': 5674, '키비': 5675, '넘맘드': 5676, '의료': 5677, '간질간질': 5678, '레오': 5679, '부서': 5680, '있었숩': 5681, '커터': 5682, '스카치테이프': 5683, '장고': 5684, '수수료': 5685, '단아': 5686, '월초': 5687, '변질': 5688, '점줄': 5689, '옴점': 5690, '자판': 5691, '대양': 5692, '언성': 5693, '까칠까칠하다': 5694, '전파': 5695, '품평': 5696, '격': 5697, '만큼': 5698, '큰소리치다': 5699, '변복': 5700, '요게': 5701, '요음': 5702, '그릴': 5703, '색연필': 5704, '식탐': 5705, '끈적끈적하다': 5706, '에노': 5707, '격값': 5708, '거주지': 5709, '칸달': 5710, '이방': 5711, '한단': 5712, '시방': 5713, '고영희': 5714, '책임감': 5715, '괝찬': 5716, '고해': 5717, '고용': 5718, '헤지': 5719, '일석이조': 5720, '수시': 5721, '예랑': 5722, '찌걱': 5723, '원판': 5724, '아이작': 5725, '무룐데': 5726, '지자체': 5727, '쌀쌀하다': 5728, '깜박': 5729, '뻐요방': 5730, '수라도': 5731, '정품': 5732, '자금': 5733, '격값합니': 5734, '트집': 5735, '거살': 5736, '청량하다': 5737, '빛바랜': 5738, '청록색': 5739, '줄기': 5740, '교차': 5741, '다렌': 5742, '밀지': 5743, '대만': 5744, '원두': 5745, '송오': 5746, '길들이다': 5747, '칠기': 5748, '돠었다': 5749, '내다보다': 5750, '리베라': 5751, '두둑': 5752, '부쉈습': 5753, '드라이기': 5754, '벼르던': 5755, '면잠': 5756, '스테어': 5757, '입안': 5758, '쿠셤감': 5759, '불금': 5760, '액수': 5761, '결착': 5762, '올려다보다': 5763, '파랗다': 5764, '카터': 5765, '방충': 5766, '이주현': 5767, '원님': 5768, '사풋': 5769, '들쭉': 5770, '가지가지': 5771, '히히히': 5772, '잔칫상': 5773, '영종': 5774, '톨게이트': 5775, '해효': 5776, '티티': 5777, '천은': 5778, '불변': 5779, '랩방': 5780, '생색': 5781, '베임': 5782, '통합': 5783, '조처': 5784, '신상': 5785, 'ㄱㅊ': 5786, '볒번': 5787, '뉴얼': 5788, '디쟌적': 5789, '노련하다': 5790, '생전': 5791, '초록빛': 5792, '다방면': 5793, '다양': 5794, '사모님': 5795, '쿠헌감': 5796, '얼핏': 5797, '슬기롭다': 5798, '급기야': 5799, '산정': 5800, '거뭇거뭇': 5801, '태교': 5802, '오스': 5803, '조끼': 5804, '중산': 5805, '귀신': 5806, '글렀어': 5807, '얄팍하다': 5808, '거위': 5809, '빼꼼': 5810, '미싱': 5811, '환경호르몬': 5812, '천지': 5813, '랍': 5814, '싸라기': 5815, '무너': 5816, '삐끗': 5817, '납기': 5818, '발의': 5819, '꺼떡꺼떡': 5820, '근심': 5821, '전형': 5822, '삿다': 5823, '카페나': 5824, '스튜디오': 5825, '칙칙해지다': 5826, '사음': 5827, '파마': 5828, '티끌': 5829, '스스흣': 5830, 'ㄴㅅㅅㅅ': 5831, '으스스': 5832, '컨베이어': 5833, '하향': 5834, '결구': 5835, '건실': 5836, '쁠거': 5837, '라리': 5838, '하주시': 5839, '가경': 5840, '더블유': 5841, '았습': 5842, '책자': 5843, '골다': 5844, '황금': 5845, '시크': 5846, '애기': 5847, '쑥색': 5848, '개수': 5849, '던지기': 5850, '샘처': 5851, '쮜끔': 5852, '뻐요싸': 5853, '가토': 5854, '가겍': 5855, '부장': 5856, '차노아': 5857, '개운하다': 5858, 'ㅃㅓ': 5859, '재결': 5860, '불원': 5861, '도표': 5862, '간결하다': 5863, '교구장': 5864, '포질': 5865, '이력': 5866, '특이': 5867, '출렁출렁': 5868, '오므리': 5869, '간극': 5870, '마리나': 5871, '건배': 5872, '남겻는': 5873, '통화량': 5874, '함맘': 5875, '정상품': 5876, '막막하다': 5877, '키즈': 5878, '학': 5879, '착시': 5880, '각하': 5881, '취했어': 5882, '탑승': 5883, '렸으': 5884, '프티': 5885, '부티': 5886, '아니얐다': 5887, '뒷펀': 5888, '심리': 5889, '이쎼': 5890, '하리': 5891, '오랜만': 5892, '설마설마': 5893, '물음표': 5894, '서정하': 5895, '차비': 5896, '악용': 5897, '대형견': 5898, '화년': 5899, '특전': 5900, '생장': 5901, '매니저': 5902, '연간': 5903, '얌전하다': 5904, '부족함': 5905, '덩말': 5906, '실색': 5907, '샷건': 5908, '황토': 5909, '단식': 5910, '탁상': 5911, '그리기': 5912, '입지': 5913, '가년': 5914, '천일': 5915, '회피': 5916, '고만고만하다': 5917, '툴리': 5918, '지하철': 5919, '보들보들': 5920, '쓰다듬다': 5921, '빠작빠': 5922, '작부': 5923, '서지': 5924, '요풋스': 5925, '럅': 5926, '고양': 5927, '하고프다': 5928, '도제': 5929, '살균': 5930, '가재': 5931, '팽팽하': 5932, '쭈글': 5933, '난감': 5934, '샤랄라': 5935, '휘발': 5936, '매수': 5937, '바퀴벌레': 5938, '식겁하다': 5939, '끝선': 5940, '번요': 5941, '서산': 5942, '분경': 5943, '안포': 5944, '근해': 5945, '화보': 5946, '원만하다': 5947, '모되': 5948, '쓰렵니': 5949, '마이크': 5950, '오타': 5951, '유걸': 5952, '스피링': 5953, '조항': 5954, '비긴': 5955, '시행착오': 5956, '손재주': 5957, '고인': 5958, '면책': 5959, '지난해': 5960, '엘레나': 5961, '무시무시하다': 5962, '일다': 5963, '도톰하다': 5964, '익숙': 5965, '인근': 5966, '직영': 5967, '토이': 5968, '진지하다': 5969, '꼿꼿이': 5970, '부스럼': 5971, '시아버지': 5972, '클래식': 5973, '금월': 5974, '하여간': 5975, '헤아리다': 5976, '마이너스': 5977, '자두': 5978, '단기간': 5979, '괜찰겠': 5980, '모뎀': 5981, '음각': 5982, '이건희': 5983, '포밍': 5984, '목구멍': 5985, '인색하다': 5986, '교대': 5987, '땅콩': 5988, '한중간': 5989, '젊다': 5990, '수출': 5991, '벗어나다': 5992, '칼질': 5993, '만으론': 5994, '집고양이': 5995, '테이': 5996, '핑': 5997, '라레스': 5998, '원부': 5999, '보원': 6000, '피해자': 6001, '플레르': 6002, '주안': 6003, '알파': 6004, '엑스트라': 6005, '위드': 6006, '미약': 6007, '간지럽다': 6008, '집하장': 6009, '급변': 6010, 'ㄷㅏ': 6011, '사직': 6012, '쇠라': 6013, '여쫌': 6014, '축합': 6015, '눈알': 6016, '마음속': 6017, '듀커였': 6018, '현명하다': 6019, '오듀': 6020, '매화': 6021, '거루': 6022, '중후': 6023, '하네욬': 6024, '고물상': 6025, '성가시다': 6026, '차서': 6027, '신사': 6028, '헬임': 6029, '듭는': 6030, '삼십분': 6031, '엘리나': 6032, '기쁨': 6033, '하반신': 6034, '신부': 6035, '틸트': 6036, '힘줄': 6037, '뻐기다': 6038, '플레임': 6039, '양질': 6040, '분양': 6041, '양지': 6042, '어와': 6043, '친전': 6044, '인대': 6045, '유리식': 6046, '분한': 6047, '봉제': 6048, '씨름': 6049, '샤라': 6050, '면안': 6051, '벨츠': 6052, '김은진': 6053, '여겨지다': 6054, '네시': 6055, '짜릿': 6056, '짜이다': 6057, '대풍': 6058, '실거릴까': 6059, '제문': 6060, '측도': 6061, '계산서': 6062, '거긑아오': 6063, '아물다': 6064, '이글': 6065, '제소': 6066, '옆서랖': 6067, '화남': 6068, '후짐': 6069, '자라': 6070, '유리기': 6071, '거릴': 6072, '리플': 6073, '감일': 6074, '조화롭다': 6075, '컷어욤': 6076, '차림': 6077, '비틀어지다': 6078, '적저럭': 6079, '홈페': 6080, '이비': 6081, '오르내리다': 6082, '겨울철': 6083, '샘살': 6084, '착착하다': 6085, '장농': 6086, '승지': 6087, '기지역': 6088, '뻐요대': 6089, '뚤렷는데': 6090, '리예': 6091, '상비': 6092, '할증': 6093, '트론': 6094, '부주의하다': 6095, '사걸': 6096, '오평': 6097, '더랬': 6098, '크랙': 6099, '판매량': 6100, '짐작': 6101, '물렁': 6102, '손절': 6103, '리그': 6104, '우직': 6105, '근하': 6106, '소유': 6107, '기다렷': 6108, '해줫': 6109, '신입생': 6110, '사랑스럽다': 6111, '일가': 6112, '예나': 6113, '펀치': 6114, '우린': 6115, '만요': 6116, '마을': 6117, '이마': 6118, '정강이': 6119, '재규': 6120, '화연': 6121, '창피하다': 6122, '다각도': 6123, '파네': 6124, '사우': 6125, '중점': 6126, '와인': 6127, '확신': 6128, '대빵': 6129, '격하': 6130, '신세': 6131, '중역': 6132, '다이로': 6133, '반도': 6134, '다라도': 6135, '식용': 6136, '잠한': 6137, '보자기': 6138, '세진': 6139, '마가': 6140, '니요': 6141, '블루레이': 6142, '가지런하다': 6143, '가뜩이나': 6144, '해녀': 6145, '효평': 6146, '연가': 6147, '드래건': 6148, '용녀': 6149, '깻해': 6150, '철장': 6151, '이만이': 6152, '벤트': 6153, '출근시간': 6154, '인거': 6155, '실었으': 6156, '블랙홀': 6157, '임무': 6158, '외양': 6159, '데인': 6160, '분집': 6161, '안식구': 6162, '모듈': 6163, '건류': 6164, '쑥떡': 6165, '가락': 6166, '촌지': 6167, '피멍': 6168, '색동': 6169, '건네주다': 6170, '어지르다': 6171, '에펠': 6172, '둥글둥글': 6173, '해롭다': 6174, '인정받다': 6175, '막말': 6176, '생욕': 6177, '섕각쌉': 6178, '본딩': 6179, '스펙': 6180, '까치': 6181, '씃셔': 6182, '외딴': 6183, '등짝': 6184, '레슬러': 6185, '이그': 6186, '찬물': 6187, '썰다': 6188, '발바닥': 6189, '양모': 6190, '넥타이': 6191, '신선하다': 6192, '재정': 6193, '꺼끌꺼끌하다': 6194, '쫀쫀함': 6195, '천사': 6196, '귀차니즘': 6197, '꽤괘': 6198, '그을리다': 6199, 'ㅍㅎㅎ': 6200, '뽀로로': 6201, '뱉다': 6202, '눈데': 6203, '저건': 6204, '어그러지다': 6205, '통지': 6206, '선불': 6207, '클라인': 6208, '옴일': 6209, '안습': 6210, '고약하다': 6211, '멀미': 6212, '거처': 6213, '외국인': 6214, '트럭': 6215, '자그마치': 6216, '측정기': 6217, '화도': 6218, '고색': 6219, '비닐봉지': 6220, '네갈태닌': 6221, '앵글': 6222, '십사': 6223, '지웢': 6224, '정함': 6225, '보랑': 6226, '프랑': 6227, '희끄무레': 6228, '노르': 6229, '꿀렁거림': 6230, '젖병': 6231, '트림': 6232, '안건': 6233, '질다': 6234, '대보다': 6235, '설문': 6236, '폭리': 6237, '꼬마': 6238, '다웠': 6239, '맞췃러': 6240, '약도': 6241, '놨다': 6242, '에보니': 6243, '몽했으': 6244, '다림': 6245, '질투': 6246, '충청도': 6247, '떨걱': 6248, '고고': 6249, '만만하다': 6250, '메릿': 6251, '보편': 6252, '자수': 6253, '애셋': 6254, '떵떵': 6255, '덜덜': 6256, '박심': 6257, '하해': 6258, '격벽': 6259, '캐다': 6260, '고별': 6261, '타파': 6262, '주어지다': 6263, '퓨저': 6264, '돌리시': 6265, '헐떡이다': 6266, '수선': 6267, '돟': 6268, '악화': 6269, '데요': 6270, '불티': 6271, '초로': 6272, '화성': 6273, '아랜데': 6274, '스탠': 6275, '전라북도': 6276, '전주': 6277, '히스': 6278, '회원': 6279, '고라': 6280, '뭉툭': 6281, '호갱': 6282, '개똥': 6283, '러브': 6284, '향균': 6285, '리필': 6286, '쬐다': 6287, '틱틱거림': 6288, '개화역': 6289, '코모': 6290, '뿌득': 6291, '하늘': 6292, '대교': 6293, '선발': 6294, '집돌': 6295, '호환되늗': 6296, '최강': 6297, '기특하다': 6298, '권한': 6299, '굽이': 6300, '백오': 6301, '편찮다': 6302, '브레이크': 6303, '어드레스': 6304, '세탁기': 6305, '수조': 6306, '광폭': 6307, '비엔': 6308, '창사': 6309, '차질': 6310, '화창하다': 6311, '송전': 6312, '검소': 6313, '구름': 6314, '다과': 6315, '악세사리': 6316, '리크': 6317, '초라하다': 6318, '산후조리원': 6319, '전구': 6320, '조아하다': 6321, '인견': 6322, '화투': 6323, '듀이': 6324, '에뻐': 6325, '느련려': 6326, '닐데': 6327, '트렌치코트': 6328, '로봇': 6329, '분진': 6330, '서두르다': 6331, '화려하다': 6332, '컬러풀': 6333, '떼쓰다': 6334, '다가가다': 6335, '몰랑하다': 6336, '오오오': 6337, '화대': 6338, '교정': 6339, '프로모션': 6340, '수없이': 6341, '공존': 6342, '근본': 6343, '바리': 6344, '케이드': 6345, '고래고래': 6346, '궤짝': 6347, '땔감': 6348, '기죽다': 6349, '불퉁불퉁': 6350, '성장하다': 6351, '쪽방': 6352, '순위': 6353, '후우': 6354, '실컷': 6355, '점토': 6356, '덧붙이다': 6357, '으르볼': 6358, '사이판': 6359, '조상': 6360, '애지중지': 6361, '댜충': 6362, '벌집': 6363, '콩기름': 6364, '시르다': 6365, '통산': 6366, '대외': 6367, '얄팬': 6368, '후년': 6369, '잘생기다': 6370, '니당다': 6371, '엄지손가락': 6372, '만인': 6373, '문단': 6374, '아이스크림': 6375, '기겁': 6376, '세컨드': 6377, '산나': 6378, '아산': 6379, '거구': 6380, '용점': 6381, '대론': 6382, '여전': 6383, '스템': 6384, '몀인용으루': 6385, '엇': 6386, '아해': 6387, '풀샷': 6388, '타랑': 6389, '충실': 6390, '채광': 6391, '스토어': 6392, '두서': 6393, '터치': 6394, '좋겧': 6395, '아르': 6396, '휘청대다': 6397, '지끈': 6398, '호객': 6399, '시들다': 6400, '지세': 6401, '달러': 6402, '진접': 6403, '빡셌': 6404, '치구': 6405, '라보': 6406, '겐지': 6407, '슈탈': 6408, '부준': 6409, '평활': 6410, '누라': 6411, '줗앗': 6412, '발끝': 6413, '군집': 6414, '정형': 6415, '사주': 6416, '유난히': 6417, '점잖다': 6418, '나이스': 6419, '불허': 6420, '산소': 6421, '기록': 6422, '둥글둥글하다': 6423, '습': 6424, '포사': 6425, '선박': 6426, '우위': 6427, '피아': 6428, '필러': 6429, '종이테이프': 6430, '십견': 6431, '헛돌음': 6432, 'ㅈㅐ': 6433, '놨는': 6434, '장애인': 6435, '단체': 6436, '후원': 6437, '왼손': 6438, '가우': 6439, '역겹다': 6440, '떨어트려': 6441, '규배': 6442, '부여': 6443, '함유': 6444, '리까': 6445, '훤히': 6446, '끈끈': 6447, '둘레': 6448, '정렬': 6449, '함무광': 6450, '물씬': 6451, '아따': 6452, '우물': 6453, '라그': 6454, '양일': 6455, '일소': 6456, '산생': 6457, '품위': 6458, '화이트칼라': 6459, '도의': 6460, '대선': 6461, '역상': 6462, '뻔햏구': 6463, '스프레드': 6464, '낯설다': 6465, '샹판': 6466, '용태': 6467, '친밀': 6468, '누런빛': 6469, '방인': 6470, '장원': 6471, '게으르다': 6472, '진즉': 6473, '훑다': 6474, '닳다': 6475, '덕신': 6476, '값싸다': 6477, '방매': 6478, '뎀퍼이거': 6479, '주요': 6480, '편중': 6481, '향초': 6482, '구현': 6483, '원탁': 6484, '오매': 6485, '무중력': 6486, '응답기': 6487, '요로': 6488, '북엔드': 6489, '타이어': 6490, '현찰': 6491, '세금': 6492, '렉카': 6493, '어붙힌': 6494, '헹거함': 6495, '리베로': 6496, '어느덧다': 6497, '지극히': 6498, '소감': 6499, '않았늗': 6500, '디바이스': 6501, '공안': 6502, '미만': 6503, '충북': 6504, '거슬러': 6505, '프로젝터': 6506, '듯듀커': 6507, '아미': 6508, '판매원': 6509, '삐툴': 6510, '깝깝': 6511, '널찍': 6512, '맴': 6513, '준위': 6514, '가가': 6515, '횻는데': 6516, '갑옷': 6517, '쟁입': 6518, '천리': 6519, '고통스럽다': 6520, '현저': 6521, '\\ufeff': 6522, '장후': 6523, '개황': 6524, '암거': 6525, '치대다': 6526, '바인': 6527, '딩': 6528, '서민': 6529, '불상': 6530, '장하': 6531, '손발': 6532, '조형': 6533, '건망': 6534, '걸터': 6535, '요엘': 6536, '어떠하다': 6537, '계세': 6538, '사신': 6539, '다비치': 6540, '구랬': 6541, '개연': 6542, '에구구': 6543, '구문': 6544, '집사람': 6545, '걷다': 6546, '고등학교': 6547, '빛과': 6548, '이루어지다': 6549, '푸네': 6550, '주산': 6551, '전자석': 6552, '대애': 6553, '읏저륑': 6554, '식티브': 6555, '어획': 6556, '고양시': 6557, '덕양구': 6558, '카시트': 6559, '모리': 6560, '코리': 6561, '고등': 6562, '가섭': 6563, '인욤': 6564, '스트레치': 6565, '장정': 6566, '말쿳션': 6567, '정시': 6568, '콧방': 6569, '허공': 6570, '점차': 6571, '레자': 6572, '글쎄요': 6573, '송사': 6574, '고월': 6575, '괜찬': 6576, '누움': 6577, '쓸렵': 6578, '어젯밤': 6579, '시크릿': 6580, '로망': 6581, '가사': 6582, '확답': 6583, '놧는': 6584, '양보': 6585, '쯧쯧': 6586, '고르곤': 6587, '외청': 6588, '방사': 6589, '직사각형': 6590, '뾰쪽하다': 6591, '달려오다': 6592, '라시': 6593, 'ㅋㅌㅋ': 6594, '구마': 6595, '몰드': 6596, '각인': 6597, '프리미엄': 6598, '신전': 6599, '먹듯': 6600, '패턴': 6601, '운치': 6602, '남학생': 6603, '초금': 6604, '등치': 6605, '향리': 6606, '풍기': 6607, '억지': 6608, '드러눕다': 6609, '웨일': 6610, '실효': 6611, '얼른얼른': 6612, '나사선': 6613, '구내': 6614, '생애': 6615, '으련만': 6616, '인하': 6617, '직선': 6618, '삿기': 6619, '이쯤': 6620, '논란': 6621, '영호': 6622, '검둥이': 6623, '잫': 6624, '구산': 6625, '산판': 6626, '야스': 6627, '히로': 6628, '과거': 6629, '건들건들': 6630, '믿음직하다': 6631, '식판': 6632, '머물다': 6633, '통밥': 6634, '꼽았다': 6635, '통로': 6636, '그러기에': 6637, '이용도': 6638, '이량': 6639, '다정하다': 6640, '상향': 6641, '불투명하다': 6642, '동해': 6643, '취할': 6644, '감개': 6645, '무량': 6646, '보르네오': 6647, '장마철': 6648, '구덩이': 6649, '사연': 6650, '결하': 6651, '부어': 6652, '보빈': 6653, '선금': 6654, '용자리': 6655, '좋뎄': 6656, '급번': 6657, '구박': 6658, '풀기': 6659, '핥다': 6660, '요모조모': 6661, '자구': 6662, '정력': 6663, '털털': 6664, '휜듯': 6665, '조인': 6666, '인원': 6667, '심각': 6668, '드립': 6669, '아스': 6670, '정갈하다': 6671, '질적': 6672, '한밤중': 6673, '다이빙': 6674, '승객': 6675, '남구': 6676, '레이저': 6677, '추적': 6678, '음열': 6679, 'ㅔㄴㅍ': 6680, '만좃': 6681, 'ㅎㅂ': 6682, '모임': 6683, '귿귿': 6684, '탸탸': 6685, 'ㅛㅌ': 6686, 'ㅊㅅㅊ': 6687, '장예': 6688, '동등': 6689, '까르르': 6690, '괜츈합': 6691, '멀버우살': 6692, '파래': 6693, '진과': 6694, '꼽히다': 6695, '붕왔': 6696, '인텔리': 6697, '겉모양': 6698, '삐뜰': 6699, '종전': 6700, '본원': 6701, '그랬다고': 6702, '재한': 6703, '도채': 6704, '백송': 6705, '챗봇': 6706, '동문서답': 6707, '본기': 6708, '양제': 6709, '킹소': 6710, '어해': 6711, '뛰어넘다': 6712, '소지품': 6713, '아이돌': 6714, '블핑': 6715, '중고나라': 6716, '트렌트': 6717, '뒷써치': 6718, '유감': 6719, '패임': 6720, '뫘어': 6721, '이늠': 6722, 'ㅎㅋ': 6723, '감방': 6724, '상감': 6725, '기에': 6726, '각층': 6727, '유아기': 6728, '다고요': 6729, '책방': 6730, '꼽': 6731, '휘거': 6732, '돼지': 6733, '일벌레': 6734, '옷가지': 6735, '화내': 6736, '고성': 6737, 'tjb': 6738, '절실': 6739, '깉': 6740, '마는': 6741, '테리어': 6742, '구조도': 6743, '태생': 6744, '햇뎃': 6745, '선입견': 6746, '만조': 6747, '착좌': 6748, '코일': 6749, '천만': 6750, '탈것': 6751, '뎁마': 6752, '집힘': 6753, '만천이': 6754, '발란스': 6755, '위약금': 6756, '송금': 6757, '콘크리트': 6758, '으로까지': 6759, '아뇨': 6760, '버릇': 6761, '빠릇하': 6762, '통통하다': 6763, '실화': 6764, '드라구': 6765, '세긴': 6766, '발망': 6767, '숙지': 6768, '유시': 6769, '꽝착': 6770, '보어': 6771, '반전': 6772, '스타일리시': 6773, '제닉스': 6774, '개꿀': 6775, '휘청': 6776, '전장': 6777, '통치': 6778, '떨렁': 6779, '파키': 6780, '실력': 6781, '사소하다': 6782, '좌송합': 6783, '방글방글': 6784, '오열': 6785, '석유': 6786, '틈틈이': 6787, '알람': 6788, '느꼇': 6789, '언': 6790, '용달차': 6791, '대접': 6792, '새카맣': 6793, 'ㄹㅇㄷ': 6794, '골반': 6795, '척추': 6796, '아이비': 6797, '고이': 6798, '주물': 6799, '거야': 6800, '몽키스': 6801, '비스듬': 6802, '먕씁미': 6803, '그러다가': 6804, '휑하': 6805, '믹스': 6806, '픽스': 6807, '스폿': 6808, '노릇': 6809, '데카': 6810, '고요하다': 6811, '심란하다': 6812, '고무장갑': 6813, '치안': 6814, '라칸': 6815, '휘었는': 6816, '다락방': 6817, '홀리': 6818, '실책': 6819, '에라도': 6820, '상판스': 6821, '문해': 6822, '징그럽다': 6823, '완젼별': 6824, '로': 6825, '고제': 6826, '안일하다': 6827, '주방용품': 6828, '별수': 6829, '소리치다': 6830, '거마': 6831, '블랙프라이데이': 6832, '옹색': 6833, '체온': 6834, '로렌': 6835, 'ㅁㄴ': 6836, '퀄러티': 6837, '확대': 6838, '연보': 6839, '채도': 6840, '딸기': 6841, '우윳빛': 6842, '해방': 6843, '일기예보': 6844, '날비': 6845, '새벽같이': 6846, '격해지다': 6847, '햇엌': 6848, '학인': 6849, '사오일': 6850, '무사': 6851, '은행': 6852, '서후': 6853, '았단': 6854, '화일': 6855, '홀릭': 6856, '가리개': 6857, '기우뚱기우뚱': 6858, '영종도': 6859, '컨트롤': 6860, '어우': 6861, '감겨': 6862, '둘러앉다': 6863, '이상하': 6864, '근래': 6865, '디자이너': 6866, '삐삑': 6867, '세부': 6868, '등등하다': 6869, '직잡': 6870, '회신': 6871, '받아들이다': 6872, '솟다': 6873, '둘리': 6874, '파페': 6875, '딧구': 6876, '서프라이즈': 6877, '장땡': 6878, '발각': 6879, '단기': 6880, '오십': 6881, '견도': 6882, 'ㅋㅋㅠ': 6883, '광': 6884, '머안': 6885, '사람인': 6886, '그간': 6887, '아슬아슬': 6888, '예리하다': 6889, '처네': 6890, '의뢰': 6891, '뭐건': 6892, '고하': 6893, '당적': 6894, 'ㅠㅠㅜ': 6895, '실텔데': 6896, '미아': 6897, '중요': 6898, '규규': 6899, '규슈': 6900, '외과': 6901, '스트레이트': 6902, '돌려주다': 6903, '분수': 6904, '민사': 6905, '봉하': 6906, '듯합': 6907, '파라': 6908, '으로의': 6909, '주조': 6910, '실만': 6911, '참배': 6912, '본래': 6913, '빈정': 6914, '곤두박질': 6915, '방귀': 6916, '걸렀': 6917, '밀아': 6918, '이렇겣': 6919, '본전': 6920, '생신': 6921, '파색': 6922, '결선': 6923, '부적합하다': 6924, '엘이디': 6925, '스톱': 6926, '밧다': 6927, '자사': 6928, '판때기': 6929, '바삐': 6930, '측판': 6931, '재부': 6932, '굴렸다': 6933, '급제': 6934, '날씬하다': 6935, '어정쩡하다': 6936, '이티': 6937, '야기': 6938, '딜하': 6939, '콜백': 6940, '다점': 6941, '데굴': 6942, '까르엠': 6943, '마은': 6944, '석탄': 6945, '빼주': 6946, '길임': 6947, '감별': 6948, '집의': 6949, '혼꾸녕': 6950, '친가': 6951, '번번': 6952, '거뭍': 6953, '듬새': 6954, '핫딜': 6955, '시디즈': 6956, '링고': 6957, '평복': 6958, '데미': 6959, '치마': 6960, '복장': 6961, '맨발': 6962, '메롱임': 6963, '불링': 6964, '단골': 6965, '적립': 6966, '불쌍하다': 6967, '싸잡다': 6968, '가요제': 6969, '피로하다': 6970, '서하': 6971, '철옥': 6972, '짘다': 6973, '르': 6974, '꿋꿋': 6975, '요관': 6976, '대다수': 6977, '통통거리다': 6978, 'ㅆㄹㄱ': 6979, '이딴': 6980, '짓거리': 6981, '서비스업': 6982, '버벅거리셔': 6983, '극히': 6984, '배고프다': 6985, '시흥': 6986, '정규직': 6987, '포스': 6988, '아듀': 6989, '요다음': 6990, '서연': 6991, '합격': 6992, '매카시': 6993, '테리': 6994, '가용': 6995, '충돌': 6996, '올렷': 6997, '전대': 6998, '난하': 6999, '요체': 7000, '피시방': 7001, '각개': 7002, '오크라': 7003, '사단': 7004, '할리': 7005, '갉다': 7006, '분틀': 7007, '끊임없다': 7008, '별문제': 7009, '중행': 7010, '완존': 7011, '큐얼': 7012, '이해도': 7013, '여건': 7014, '무례하다': 7015, '이랬는데': 7016, '다지': 7017, '비상근': 7018, '가능성': 7019, '절절': 7020, '문장': 7021, '나아': 7022, '바이엘': 7023, '슬로': 7024, '부금': 7025, '목도': 7026, '게로': 7027, '덮어서': 7028, '뎅드뎌': 7029, '젬품': 7030, '아뎔': 7031, 'ㅠㅠㅎ': 7032, '엘리': 7033, '데니': 7034, '씁쓸하다': 7035, '미술': 7036, '플레이': 7037, '도우': 7038, '방방': 7039, '갤럭시': 7040, '시계': 7041, '선보이다': 7042, '층집': 7043, '주변기기': 7044, '발급': 7045, '옥신각신': 7046, '간도': 7047, '강권': 7048, '가급적': 7049, '때론': 7050, '체언': 7051, '제주시': 7052, '미끼': 7053, '가부': 7054, '제프': 7055, '소스': 7056, '업보': 7057, '간만': 7058, '어쩌다': 7059, '도산': 7060, '미하': 7061, '소릴': 7062, '팽개쳐': 7063, '팽겨': 7064, '답지': 7065, '컨디션': 7066, '성가': 7067, '두툼': 7068, '왜소하다': 7069, '출근길': 7070, '호수': 7071, '주민': 7072, '쪼끄': 7073, '손끝': 7074, '저릿하다': 7075, '연습': 7076, '지나치다': 7077, '뻐요제': 7078, '조개': 7079, '괴어놨어': 7080, '듭닏': 7081, '밀양': 7082, '떨이': 7083, '복사': 7084, 'ㅍㅍ': 7085, '일부분': 7086, '헤르': 7087, '빤짝': 7088, '부소': 7089, '만복': 7090, '내려지다': 7091, '쩌': 7092, '절충': 7093, '거동': 7094, '구래': 7095, '휜다': 7096, '더워지다': 7097, '캣타워': 7098, '후지': 7099, '색다르다': 7100, '리뉴': 7101, '깨끗다': 7102, '보깨끗': 7103, '성안': 7104, '일월': 7105, '금주': 7106, '긴급': 7107, '작살': 7108, '젼쓰려': 7109, '디저트': 7110, '비문': 7111, '꺼졋': 7112, '년도': 7113, '뒹굴뒹굴': 7114, '신혼여행': 7115, '신행': 7116, '홈스': 7117, '중입': 7118, '독대': 7119, '여간': 7120, '페여': 7121, '식도': 7122, '아웃렛': 7123, '박일': 7124, '신년': 7125, '건성건성': 7126, '워치': 7127, 'ᄉᄃ': 7128, 'ᄌᄀ': 7129, '실생활': 7130, '지브': 7131, '유쉘': 7132, '우중충하다': 7133, '애물': 7134, 'ㅇㄷ': 7135, '검토': 7136, '슬랩': 7137, '목침': 7138, '까지가': 7139, '경북': 7140, '빼뚤': 7141, '알바': 7142, '아치': 7143, '문법': 7144, '뾰쬭해': 7145, '아홉시': 7146, '내랍': 7147, '애덜': 7148, '진가': 7149, '브리': 7150, '바이러스': 7151, '시한': 7152, '구면': 7153, '푸시': 7154, '캐치': 7155, '점유': 7156, '박사': 7157, '족하': 7158, '조정만': 7159, '음청': 7160, '목공소': 7161, '육천': 7162, '이행': 7163, '게스트': 7164, '추워지다': 7165, '히터': 7166, '개산': 7167, '포터': 7168, '이사만': 7169, '였음': 7170, '널렸': 7171, '시멘트': 7172, '스마트폰': 7173, '업업': 7174, '주기도': 7175, '암수': 7176, '바랬': 7177, '그리네': 7178, '쪼아': 7179, '서': 7180, '후반': 7181, '바로잡다': 7182, '무가': 7183, '햣는': 7184, '잔금': 7185, '샤일': 7186, '떨어트렸는': 7187, '카론': 7188, '운세': 7189, '재빠르다': 7190, '뷴들': 7191, '쪼': 7192, '챙챙': 7193, '경쾌하다': 7194, '물색': 7195, 'ㄸㅐ': 7196, '세컨드용': 7197, '종합': 7198, '효자': 7199, '씌어': 7200, '겁함': 7201, '고동색': 7202, '없겠쥬': 7203, '입담': 7204, '풀어지다': 7205, '킹왕짱': 7206, '으로서도': 7207, '서천': 7208, '에든': 7209, '손꼽다': 7210, '강쥐': 7211, '고수': 7212, '사격': 7213, '원색': 7214, '몽블랑': 7215, '잭키': 7216, '거보': 7217, '고역': 7218, '안톤': 7219, '수백만': 7220, '유령회사': 7221, '곱절': 7222, '바셀린': 7223, '짝짝': 7224, '뻐요으': 7225, '써놓턴': 7226, '통조림': 7227, '필독': 7228, '납부': 7229, '부당하다': 7230, '버거운': 7231, '지근': 7232, '찌부둥': 7233, '날자': 7234, '부합': 7235, '이모저모': 7236, '장개': 7237, '채다': 7238, '쏠쏠하다': 7239, '요듀커': 7240, '달인': 7241, '주란': 7242, '반듯이': 7243, '위자': 7244, '뤠잇입': 7245, '나가야': 7246, '기절': 7247, '단시간': 7248, '센치': 7249, '아슬하다': 7250, '경장': 7251, '옆모습': 7252, '그럭저': 7253, '고선': 7254, '백화': 7255, '미러': 7256, '각형': 7257, '하야': 7258, '뿌데': 7259, 'ㅇㅅㅈㅅㅈㅎ': 7260, '냥': 7261, '넘스크라치': 7262, '눕혔다': 7263, '수완': 7264, '고오': 7265, '오금': 7266, '대리점': 7267, '피클': 7268, '아래층': 7269, '타령': 7270, '조마조마': 7271, '제코': 7272, '둔하다': 7273, '넘버': 7274, '별러': 7275, '오줌': 7276, '죽겠네': 7277, '용소': 7278, '유심': 7279, '관찰': 7280, '스칸': 7281, '딕': 7282, '개구쟁이': 7283, '당부': 7284, '듣보잡': 7285, '버럭': 7286, '무책임': 7287, '가상': 7288, '방해': 7289, '존립': 7290, '졷합': 7291, '여주': 7292, '천차만별': 7293, '찌르다': 7294, '저급하다': 7295, '사춘기': 7296, '셨습': 7297, '다양해지다': 7298, 'ㄴㅓ': 7299, '우짤꼬': 7300, '지피다': 7301, '응용': 7302, '유리아': 7303, '경영학': 7304, '경제학': 7305, '이치': 7306, '급': 7307, '덜루': 7308, '견용': 7309, '견룡': 7310, '향기': 7311, '명과': 7312, '고금': 7313, '뱃오': 7314, '수금': 7315, '보내오다': 7316, '이익': 7317, '긁혔는데': 7318, '세척제': 7319, '초년': 7320, '어딘푹': 7321, '기호': 7322, '찰나': 7323, '체면': 7324, '뻥뻥': 7325, '피치': 7326, '찌뿌': 7327, '미음': 7328, '핬습': 7329, '치료': 7330, '실종': 7331, '이릉': 7332, '촘촘하': 7333, '가나': 7334, '원화': 7335, '요나': 7336, '형장': 7337, '랜치': 7338, '제격': 7339, '분간': 7340, '도약': 7341, '빳빳해': 7342, '크리만': 7343, '발호': 7344, '일룸로': 7345, '룸로': 7346, '셋트': 7347, '시구': 7348, '펜더': 7349, '거여': 7350, '하달': 7351, '서든': 7352, '잠기': 7353, '갑작스럽다': 7354, '파킹': 7355, '불규칙하다': 7356, '신화': 7357, '전제': 7358, '도선': 7359, '손부': 7360, '함대': 7361, '입시': 7362, '수요': 7363, '설': 7364, '며': 7365, '반짝거리다': 7366, '탁발': 7367, 'ㅎㅎㅋ': 7368, '빠닥': 7369, '세계': 7370, '신축': 7371, '껄끄러웠던': 7372, '민가': 7373, '요화': 7374, '서구': 7375, '볼드': 7376, '에스티': 7377, '머그': 7378, '미라': 7379, '얼룩소': 7380, '아자개': 7381, '동동': 7382, '무도': 7383, '질병': 7384, '장애': 7385, '조바심': 7386, '기하': 7387, '빠직': 7388, '다듬다': 7389, '비릿': 7390, '이케': 7391, '불쑥': 7392, '거질': 7393, '하우': 7394, '공수': 7395, '하르방': 7396, '거고요': 7397, '트럴': 7398, '클로젯': 7399, '기키': 7400, '동거': 7401, 'ㅏㅏㅏ': 7402, '일렬': 7403, '청색': 7404, '랍니다': 7405, '백의': 7406, '매제': 7407, '안도': 7408, '추췬합': 7409, '가로막': 7410, '영유': 7411, '온몸': 7412, '결과물': 7413, '애로': 7414, '흠볼': 7415, '차이점': 7416, '진흙': 7417, '크리스마스': 7418, '이월': 7419, '유용성': 7420, '탓일': 7421, '특이점': 7422, '글쿠좀': 7423, '이러다가': 7424, '다우': 7425, '호호': 7426, '조언': 7427, '폴딩': 7428, '비착불': 7429, '난방': 7430, '찔끔': 7431, '어쩌지': 7432, '희미하다': 7433, '조화로움': 7434, '올바르다': 7435, '업글': 7436, '봉휨': 7437, '흐트러': 7438, '사허': 7439, '왔다꼬스': 7440, '원류': 7441, '메드': 7442, '휑해': 7443, '목뒤': 7444, '목젖': 7445, '죻아용': 7446, '바뀟어': 7447, '무인양품': 7448, '무인': 7449, 'ㅇㅓ': 7450, '장이지': 7451, '명품': 7452, '생산자': 7453, '겨울나기': 7454, '종료': 7455, '정상인': 7456, '뚜들기다': 7457, '고함': 7458, '무쟈': 7459, '전등': 7460, '거론': 7461, '부터의': 7462, '효손': 7463, '고위': 7464, '실천': 7465, '연마': 7466, '코르크': 7467, '홀랑': 7468, '크리스마스이브': 7469, '뻐요이': 7470, '치과': 7471, '헤드셋': 7472, '사위': 7473, '평직': 7474, '승강기': 7475, '담요': 7476, '최상급': 7477, '이민': 7478, '수임': 7479, '과제': 7480, '평준': 7481, '창경': 7482, '보일러': 7483, '끽끽': 7484, '종잇장': 7485, '믿어지다': 7486, '스카': 7487, '쥬혁': 7488, '투썸플레이스': 7489, '샀쥬': 7490, '긴지': 7491, '농장': 7492, '숄더': 7493, '지휘': 7494, '보유': 7495, '주서': 7496, '매송': 7497, '밖에는': 7498, '창틀': 7499, '깟스': 7500, '허비하다': 7501, '쉬쉬': 7502, '리진': 7503, '넘허졉': 7504, '콩나물': 7505, '수단': 7506, '수선하다': 7507, '웟습': 7508, '이인용': 7509, '다정': 7510, '선납': 7511, '윈하': 7512, '화판': 7513, '전유': 7514, '막달': 7515, '물렁물렁하다': 7516, '비템': 7517, '조에욤': 7518, '정평': 7519, '몽땅': 7520, '인연': 7521, '푼돈': 7522, '동사무소': 7523, '후문': 7524, '개복치': 7525, '별표': 7526, '초건': 7527, '기용': 7528, '젛아오': 7529, '권고': 7530, '요택비': 7531, '원요': 7532, '강사': 7533, '이혼': 7534, '간략하다': 7535, '진설': 7536, 'ㅠㅠㅋㅋㅋ': 7537, '지망': 7538, '단보': 7539, '전홥': 7540, '여락': 7541, '감자': 7542, '용배': 7543, '느럈어': 7544, '콩알': 7545, '청년': 7546, '깊숙이': 7547, '가갹': 7548, '쿵쿵': 7549, '쁘기': 7550, '위프': 7551, '강하': 7552, '앞날': 7553, '집비': 7554, '민방': 7555, '상품화': 7556, '요트': 7557, '추장': 7558, '치티': 7559, '인터파크': 7560, '방서': 7561, '잠바': 7562, '구안': 7563, '불합리': 7564, '부딤': 7565, '피부병': 7566, '수주': 7567, '성적': 7568, '수년': 7569, '상기': 7570, '레비': 7571, '소비자보호': 7572, '님들': 7573, '직구도': 7574, '면티': 7575, '집사': 7576, '버디': 7577, '애정': 7578, '셋째': 7579, '꼬락서니': 7580, '한복': 7581, '특이하다': 7582, '미트': 7583, '딸아': 7584, '김평일': 7585, '힐링': 7586, '비값': 7587, '굿일': 7588, '거르거': 7589, '스랑': 7590, '시디': 7591, '부근': 7592, '공기': 7593, '털리다': 7594, '마진': 7595, '면전': 7596, '삽니딘': 7597, '이따': 7598, '자보': 7599, '방화': 7600, '봉달': 7601, '구연': 7602, '자신감': 7603, '장행': 7604, '남방': 7605, '장위로': 7606, '탄하': 7607, '영업': 7608, '김신락': 7609, '머신': 7610, '캠핑': 7611, '남김없이': 7612, '맥시': 7613, '멈': 7614, '키라': 7615, '집게': 7616, '메밥': 7617, '번지르르': 7618, '곯다': 7619, '중고차': 7620, '사내': 7621, '카페테리아': 7622, '달아나다': 7623, '해제': 7624, '덤핑': 7625, '층간소음': 7626, '마니아': 7627, '뿌': 7628, '시시': 7629, '석동': 7630, '깨달음': 7631, '끔찍하다': 7632, '내외': 7633, '이상일': 7634, '물통': 7635, '매사': 7636, '부정': 7637, '집집': 7638, '건수': 7639, '무단': 7640, '투기': 7641, '혼돈': 7642, '아이디': 7643, '잡아떼다': 7644, '남감': 7645, '드르륵': 7646, '거러': 7647, '소라': 7648, '무하': 7649, '판결': 7650, '펄럭펄럭': 7651, '헹거식': 7652, '세어도': 7653, '거미': 7654, '수의': 7655, '리라': 7656, '고목': 7657, '무결': 7658, '알더': 7659, '핸드': 7660, '걸퓔': 7661, '리넨': 7662, '통발': 7663, '미용실': 7664, '매물': 7665, '마른행주': 7666, '휘었어': 7667, '쇳덩': 7668, '기보': 7669, '민요': 7670, '데드': 7671, '스페이스': 7672, '루프': 7673, '헌것': 7674, '보필': 7675, '적적하다': 7676, '여명': 7677, '잿기': 7678, '시외': 7679, '면접': 7680, '괘안': 7681, '가평': 7682, '레전드': 7683, '이질': 7684, '보행기': 7685, '다홍색': 7686, '스시': 7687, '인자': 7688, '균일하다': 7689, '심쁠': 7690, '삼천': 7691, '당한': 7692, '열정': 7693, '출입문': 7694, '피선': 7695, '한철': 7696, '비위생적': 7697, '자강': 7698, '후예': 7699, 'ㅡㅠ': 7700, '막대': 7701, '끼일': 7702, '거너': 7703, '잘되지': 7704, '확고하다': 7705, '발신': 7706, '수신': 7707, '페된': 7708, '도드라지다': 7709, '세안': 7710, '짱개': 7711, '러니': 7712, '세밀': 7713, '웨이브': 7714, '유념': 7715, '살피': 7716, '헤집다': 7717, '선별': 7718, '인의': 7719, '그득': 7720, '강원': 7721, '서러움': 7722, '비상': 7723, '일리': 7724, '용추': 7725, '플레이스테이션': 7726, '닌텐도': 7727, '쌓다': 7728, '붓다': 7729, '할아버지': 7730, '보살': 7731, '홀린': 7732, '광명': 7733, '외각': 7734, '주니': 7735, '개떡': 7736, '장서가': 7737, '토마토': 7738, '상끗': 7739, '까슬거려': 7740, '스동': 7741, '이왕이면': 7742, '유흠': 7743, '등분': 7744, '개헌': 7745, '평집': 7746, '굿굿강': 7747, '바라냐': 7748, '졸지': 7749, '허허헝': 7750, '매무새': 7751, '후줄근하다': 7752, '훑어보기': 7753, '급진': 7754, '하몀': 7755, '먄너무': 7756, '녹다': 7757, '에센': 7758, '외근': 7759, '취생들': 7760, '그케': 7761, '제지': 7762, '꼽아': 7763, '두': 7764, '꼬질꼬질': 7765, '값지다': 7766, '미기': 7767, '영하': 7768, '폭등': 7769, '수긍': 7770, '아삼': 7771, '꿀떡': 7772, '만남': 7773, '차암': 7774, '면모': 7775, '사어': 7776, '생명': 7777, '콧등': 7778, '괜찬케찌': 7779, '엉거주춤': 7780, '소셜': 7781, '에서까지': 7782, '의의': 7783, '이웃': 7784, '꼽자': 7785, '덜컹대다': 7786, '어학': 7787, '평평': 7788, '까칠까칠': 7789, '매출': 7790, '닥치고': 7791, '얼룩얼룩하다': 7792, '성분': 7793, '엪썻': 7794, '꺼멓': 7795, '재주': 7796, '여니': 7797, '즈음': 7798, '멋있다': 7799, '샤를': 7800, '뻐요다들': 7801, '딸애방': 7802, '저서': 7803, '격빼곤': 7804, '작시': 7805, '요졍해': 7806, '스남': 7807, '뉴트럴': 7808, '쪼리': 7809, '대판': 7810, '기리': 7811, '탭핑': 7812, '철회': 7813, '바고': 7814, '통색': 7815, '조의': 7816, '아차': 7817, '함자': 7818, '거진': 7819, '격차': 7820, '칼날': 7821, '얘함': 7822, '단정': 7823, '만용': 7824, '분정': 7825, '거배': 7826, '범용': 7827, '거두': 7828, '피지': 7829, '전집': 7830, '룡': 7831, '자위': 7832, '한시': 7833, '갑자': 7834, '손절해': 7835, '구함': 7836, '로그인': 7837, '난국': 7838, '폐하': 7839, '면제': 7840, '딛다': 7841, '올라서다': 7842, '깜짝깜짝': 7843, '걸쭉': 7844, '준비물': 7845, '랭킹': 7846, '지름': 7847, '판넬': 7848, '게스': 7849, '허옇': 7850, '골절': 7851, '구토': 7852, '좋앗늠': 7853, '흡입': 7854, '천만다행': 7855, '멍절': 7856, '경배': 7857, '셔블': 7858, '기숙': 7859, '통한': 7860, '파발': 7861, '고향': 7862, '최현': 7863, '옥봉': 7864, '사오다': 7865, '입질': 7866, '멍청': 7867, '멍털': 7868, '녹음': 7869, '배열': 7870, '편집': 7871, '개미': 7872, '단위': 7873, '프리': 7874, '하': 7875, '서장': 7876, '스탠딩': 7877, '힘겹다': 7878, '용의': 7879, '무기한': 7880, '구화': 7881, '구일': 7882, '배슝': 7883, '이명': 7884, '따끔따끔': 7885, '찻물': 7886, '남읗까봐': 7887, '개폐': 7888, '대세': 7889, '아이브': 7890, '용호': 7891, 'ㅇㅎㅎ': 7892, '야하다': 7893, '병간호': 7894, '버러지': 7895, '고랑': 7896, '해나': 7897, '와일드': 7898, '골프': 7899, '파스': 7900, '달그락': 7901, '유음': 7902, '곳땜빵': 7903, '여한': 7904, '식초': 7905, '차차': 7906, '수랍': 7907, '사들이다': 7908, '는커녕': 7909, '전송': 7910, '말귀': 7911, '문방구': 7912, '산본': 7913, 'ㄴㄱ': 7914, '중배': 7915, '비야': 7916, '떡거려': 7917, '지킴': 7918, '영근': 7919, '거북': 7920, '쫓기다': 7921, '판끼': 7922, '정배': 7923, '샤스': 7924, '접힌': 7925, '고다': 7926, '좌현': 7927, '배란': 7928, '송송': 7929, '변환': 7930, '형광': 7931, '연두': 7932, '캔버스': 7933, '차신': 7934, '뻐요은': 7935, '은한': 7936, '금발': 7937, '위협': 7938, '쇄골': 7939, '용덕': 7940, '미세먼지': 7941, '주야장천': 7942, 'ㅠㅡㅜ': 7943, '효종': 7944, '무선': 7945, '디건': 7946, '대전': 7947, '안료': 7948, '흘러가다': 7949, '다녀가다': 7950, '둘러대다': 7951, '철망': 7952, '비틀리다': 7953, '생소하다': 7954, '정해지다': 7955, '잔스': 7956, '세팅할': 7957, '어쩌려': 7958, '뻐요누우': 7959, '체력장': 7960, '윗몸': 7961, '발스': 7962, '백이': 7963, '유산균': 7964, '어쩌겠습': 7965, '손배일': 7966, '간사하다': 7967, '가원': 7968, '펀하다': 7969, '평구': 7970, '평편하다': 7971, '난하다': 7972, '햏으': 7973, '트렌드': 7974, '의제': 7975, '마대': 7976, '사일': 7977, '보가': 7978, '살집': 7979, '리나': 7980, '랬다': 7981, '동아': 7982, '쪽기스': 7983, '가슴': 7984, '자그마하다': 7985, '샇어': 7986, '오그': 7987, '치민': 7988, '맥각': 7989, '버신': 7990, '체구': 7991, '여대생': 7992, '울퉁불툴': 7993, '끙끙대다': 7994, '잠결': 7995, '달성': 7996, '금잠': 7997, '모험': 7998, '편코': 7999, '둘러스다': 8000, '이군': 8001, '배다리': 8002, '파가': 8003, '에어건': 8004, '공기총': 8005, '다방': 8006, '소수': 8007, '폭력': 8008, '읽히다': 8009, '선착순': 8010, '라니까': 8011, 'ㅆㅓ': 8012, '비툴어져': 8013, '거북이': 8014, '능률': 8015, 'ㅈㅔ': 8016, '지출': 8017, '주황색': 8018, '마사': 8019, '끌어당기다': 8020, '유리잔': 8021, '냉면': 8022, '똑똑': 8023, '하나고': 8024, '사납다': 8025, '스프레이': 8026, '절재': 8027, '날렵하다': 8028, '쁩니다기스': 8029, '만다린': 8030, '듭니닺': 8031, '성심': 8032, '가군': 8033, '메그': 8034, '텍스트': 8035, '다가오다': 8036, '기로': 8037, '대물': 8038, '대식': 8039, '사티': 8040, '쿠셔르낌': 8041, '코디': 8042, '눈길': 8043, '가다가': 8044, '거듭': 8045, '열어놧는': 8046, '다투다': 8047, '괜탆': 8048, '닏근데': 8049, '식물성': 8050, '페이크': 8051, '에티켓': 8052, '인위': 8053, '해짐': 8054, '마당': 8055, '구간': 8056, '시럽': 8057, '구어': 8058, '레베': 8059, '병월': 8060, '부들부들하다': 8061, '나타': 8062, '열도': 8063, '문대': 8064, '푸거': 8065, '문구점': 8066, '감푹': 8067, '남자라면': 8068, '건장하다': 8069, '질의': 8070, '나눔': 8071, '재속': 8072, '포름': 8073, '프린팅': 8074, '유연하다': 8075, '영점': 8076, '치질': 8077, '의지': 8078, '부럽다': 8079, '실행': 8080, '쥐꼬리': 8081, '조선시대': 8082, '시후': 8083, '시바': 8084, '장기판': 8085, '웰퍼니쳐': 8086, '갑갑': 8087, '워셔블': 8088, '꿰매다': 8089, '택했': 8090, '글림': 8091, '밤잠': 8092, '잘라먹다': 8093, '가세': 8094, '그따위': 8095, 'ㅡㅕ': 8096, '대니': 8097, '장농발': 8098, '농설': 8099, '하프': 8100, '코딩': 8101, '봉재': 8102, '계획성': 8103, '사방': 8104, '욱': 8105, '아크': 8106, '빅스': 8107, '마일': 8108, 'ㅡㅡㅎ': 8109, '서지후': 8110, '충분': 8111, '땡기다': 8112, '후방': 8113, '시울': 8114, '후은': 8115, '겧어으': 8116, '충진재': 8117, '상덕': 8118, '집톤': 8119, '휘청이다': 8120, '정사각형': 8121, '여물': 8122, '품명': 8123, '거화': 8124, '트라고': 8125, '어린이집': 8126, '장식품': 8127, '바니시': 8128, '화금': 8129, '경사지다': 8130, '시몬': 8131, 'ㄷㅂ': 8132, '공주': 8133, '오월': 8134, '포텐': 8135, '듬직하다': 8136, '눌립': 8137, '코로': 8138, '어려워지다': 8139, '난데없이': 8140, '딜론': 8141, '살걸': 8142, '자락': 8143, '찌감': 8144, '넷천': 8145, '퀄리티더': 8146, '요요': 8147, '불쾌': 8148, '건성': 8149, '돈': 8150, '불가라': 8151, '마이너': 8152, '뻐요베': 8153, '지사': 8154, '사형': 8155, '절기': 8156, '개교': 8157, '원외': 8158, '어머': 8159, '무지막지': 8160, '전월세': 8161, '일임': 8162, '쁨싼티남': 8163, '분영': 8164, '초심자': 8165, '대동': 8166, '다재': 8167, '박살': 8168, '천고': 8169, 'ㅂㅅ': 8170, '부유': 8171, '천인': 8172, '잡음': 8173, '욕설': 8174, '평해': 8175, '쟁이': 8176, '인질': 8177, '젤로': 8178, '포옥': 8179, '익일': 8180, '성빈': 8181, '국도': 8182, '보대': 8183, '강츄합': 8184, '뜬금없이': 8185, '명제': 8186, '장의': 8187, '더티': 8188, '라던가': 8189, '세미': 8190, '리스트': 8191, '공한': 8192, '넖': 8193, '뻐요몆': 8194, '암산': 8195, '남겨지다': 8196, '증가': 8197, '패소': 8198, '천계': 8199, '루이': 8200, '괨찮': 8201, '구합': 8202, '거간': 8203, '시원': 8204, '게일': 8205, '셑탑': 8206, '좌판': 8207, '발언': 8208, '해대': 8209, '홀딩': 8210, '사막': 8211, '아이방': 8212, '으으': 8213, '적응도': 8214, '차츰': 8215, '콘서트': 8216, '음매': 8217, '팅': 8218, '냉동': 8219, '삼겹살': 8220, '여정': 8221, '헤리티지': 8222, '명연': 8223, '호불호': 8224, '버싶셔': 8225, '지식': 8226, '결심': 8227, '순서대로': 8228, '무관': 8229, '리뷱를': 8230, '노출하다': 8231, '수제': 8232, '눕혔어': 8233, '껄렁껄렁하다': 8234, '박하나': 8235, '구스': 8236, '예술': 8237, '시스루': 8238, '트랜디': 8239, '대쪽': 8240, '의용군': 8241, '출전': 8242, '복만': 8243, '뿌긴': 8244, '깊숙하다': 8245, '옛말': 8246, '얼렁뚱땅': 8247, '안토니': 8248, '이십': 8249, '문하': 8250, '까끌까끌': 8251, '느긋하다': 8252, '배정': 8253, '말입': 8254, 'ㅇㅇㄹㅇ': 8255, '쿠나': 8256, '피하': 8257, '방색': 8258, '대각': 8259, '파티클보드': 8260, '때깔': 8261, '가늠': 8262, '일변': 8263, '경은': 8264, '디디': 8265, '위험성': 8266, '치중': 8267, '중상': 8268, '휴먼': 8269, '서온': 8270, '부러워하다': 8271, '리뷴데': 8272, '고지인': 8273, '일구다': 8274, '이의': 8275, 'ㅇㅇㅇ': 8276, '밴딩친': 8277, '버러져': 8278, '다발': 8279, '타투': 8280, '가려움': 8281, '기고': 8282, '따끔': 8283, '랑그': 8284, '등약': 8285, '동래구': 8286, '거래처': 8287, '시정': 8288, '가후': 8289, '되엤는데': 8290, '까탈': 8291, '결합부': 8292, '덕트': 8293, '팔천': 8294, '핑퐁': 8295, '시피': 8296, '체고': 8297, '도칙하': 8298, '꺼칠하다': 8299, '자레': 8300, 'ㅠㅋ': 8301, '심장마비': 8302, '살금살금': 8303, '추비': 8304, '추완': 8305, '사원': 8306, '물결': 8307, '반려동물': 8308, '차장': 8309, '찾아오다': 8310, '노투': 8311, '카모': 8312, '고통': 8313, '든지': 8314, '착색': 8315, '셨더': 8316, '랑스': 8317, '삐거': 8318, '갈등': 8319, '초보자': 8320, '보정': 8321, '색갈': 8322, '꼽아놓': 8323, '소장': 8324, '특화된': 8325, '카나': 8326, '시갼반': 8327, '해안': 8328, '마르': 8329, '복귀': 8330, '바흐': 8331, '카페트': 8332, '려둘': 8333, '퍼기': 8334, '바스락': 8335, '멀더': 8336, '격렬하다': 8337, '얄듯해': 8338, '취부': 8339, '아기자기하다': 8340, '챀상': 8341, '루미': 8342, '안휘': 8343, '브리츠': 8344, '지잔': 8345, '신드': 8346, '친척': 8347, '끓다': 8348, '최상인': 8349, '자랑스럽다': 8350, '론칭했던': 8351, '인도네시아': 8352, '원루': 8353, '자택': 8354, '배사': 8355, '주점': 8356, '시엔': 8357, '희박하다': 8358, '스트링': 8359, '다마스': 8360, '느령힝': 8361, '대놓고': 8362, '족발': 8363, '땡땡하다': 8364, '복원력': 8365, '땡큐': 8366, '키드': 8367, 'ㅂㅋ': 8368, '누나': 8369, '고우리': 8370, '구상': 8371, '눈앞': 8372, '페셔널': 8373, '함': 8374, '부디': 8375, '하위': 8376, '캠벨': 8377, '동도': 8378, '룸입': 8379, '우선하다': 8380, '푸른': 8381, '따름': 8382, '색바램': 8383, '널브러졌던': 8384, '게양': 8385, '뙇': 8386, '칸노': 8387, '민망': 8388, '시꺼멓다': 8389, '분량': 8390, '복권': 8391, '낭창': 8392, '중대': 8393, '아른거리다': 8394, '자쯩': 8395, '신도': 8396, '번개': 8397, '갈무리': 8398, '모호하다': 8399, '중도': 8400, '재고품': 8401, '납작하다': 8402, '역광': 8403, '족색': 8404, '집분윅': 8405, '상호': 8406, '육각형': 8407, '사기그릇': 8408, '쫓아가다': 8409, '색맹': 8410, '노마': 8411, '빼낼': 8412, '덤터기': 8413, '청장': 8414, '땜별': 8415, '민관': 8416, '신용': 8417, '해부': 8418, '삿냐구': 8419, '버라이어티': 8420, '주사': 8421, '택시': 8422, '웹서핑': 8423, '사물': 8424, '조이다': 8425, '심햐요주': 8426, '밑동': 8427, '일링': 8428, '마블링': 8429, '토종닭': 8430, '백숙': 8431, '밥상': 8432, '실': 8433, '으': 8434, '흩어지다': 8435, '독도': 8436, '마이아': 8437, '포뇨': 8438, '필요시': 8439, '음향': 8440, '말소리': 8441, '체험': 8442, '지각': 8443, '정합': 8444, '왕자': 8445, '부귀': 8446, '꾸리': 8447, '슬금슬금': 8448, '건보': 8449, '수구': 8450, '쏟아내다': 8451, '맘캠': 8452, '다작': 8453, '강화': 8454, '온': 8455, '열기구': 8456, 'ㅠㅜㅠ': 8457, '흡사': 8458, '짜장': 8459, '끝장': 8460, '께선': 8461, '문지방': 8462, '성함': 8463, '레알': 8464, '굿템': 8465, '깘끔': 8466, '위태롭습': 8467, '편편': 8468, '구차': 8469, '자비': 8470, '노골': 8471, '아이든': 8472, '잠투정': 8473, '앞장': 8474, '이동용': 8475, '함안': 8476, '처우': 8477, '실랑이': 8478, '난쟁이': 8479, '키보': 8480, '희망사항': 8481, '면봉': 8482, '발뺌': 8483, '뻐엉': 8484, '비밀스럽다': 8485, '장공': 8486, '구책': 8487, '풋스툴': 8488, '하나라': 8489, '시마': 8490, '구동': 8491, '두르다': 8492, '얄벽지': 8493, '야': 8494, '어눌리': 8495, '내기': 8496, '꼬꾸라지다': 8497, '양평': 8498, '구릿하다': 8499, '덧': 8500, '게': 8501, '만드쇼': 8502, '순백색': 8503, '천년': 8504, '꾸밈': 8505, '얼씬': 8506, '프린': 8507, '과단': 8508, '녹물': 8509, '덕거려': 8510, '어딨다': 8511, '신체': 8512, '어처': 8513, '피오': 8514, '구연산': 8515, '나코': 8516, '적기': 8517, '세번': 8518, '세분': 8519, '현황': 8520, '지난날': 8521, '악조건': 8522, '처가': 8523, '대낮': 8524, '비처럼': 8525, '아랍': 8526, '본뜨다': 8527, '국판': 8528, '열악하다': 8529, '강당': 8530, '넷플릭스': 8531, '쫓겨나다': 8532, '파티': 8533, '말똥하다': 8534, '일미': 8535, '소주': 8536, '신장': 8537, '템퍼': 8538, '까나리': 8539, '액젓': 8540, '공급': 8541, '윤기': 8542, '비밀': 8543, 'ㅡㅡㅋㅋ': 8544, '짜내다': 8545, '구제': 8546, '케미컬': 8547, '움큼': 8548, '짜릿하다': 8549, '보습제': 8550, '오락': 8551, '고여': 8552, '꺼칠꺼칠하다': 8553, '딸레': 8554, '엉덩방아': 8555, '거암': 8556, '과수': 8557, '나뭇가지': 8558, '드래스룸': 8559, '코튼': 8560, '거칠거칠': 8561, '고만': 8562, '흠짐': 8563, '회전': 8564, '콰탕': 8565, '딷딱': 8566, '이돈': 8567, '휠까': 8568, '소망': 8569, '틸팅': 8570, '게요': 8571, '나시': 8572, '불알': 8573, '동의': 8574, '리드타임': 8575, '쓰네욬': 8576, '완려': 8577, '직할': 8578, '무심하다': 8579, '본질': 8580, '널브러놓': 8581, '렌털': 8582, '특정': 8583, '지금껏': 8584, '비비고': 8585, '시궁창': 8586, '아드만': 8587, '비웃다': 8588, '승부': 8589, '스스': 8590, '삭탁': 8591, '따비': 8592, '걱삐': 8593, 'ㅎㅣ': 8594, '메꿀': 8595, '펑크': 8596, '상아색': 8597, '소르르': 8598, '관해': 8599, '배소': 8600, '장위': 8601, '격싸': 8602, '콩코드': 8603, '음지': 8604, '인쇄': 8605, '먄곤': 8606, '무적인': 8607, '옺션': 8608, '활짝': 8609, '돌기': 8610, '갈라': 8611, '헛돌더': 8612, '단추': 8613, '선용': 8614, '치약': 8615, '부보': 8616, '책칸': 8617, '탈착': 8618, '하그': 8619, '공자': 8620, '엄밀하다': 8621, '발걸이': 8622, '뉘었더': 8623, '저렫': 8624, '라만': 8625, '민중': 8626, '여남은': 8627, '날로': 8628, '박제가': 8629, '요타': 8630, '걸렷': 8631, '무관심하다': 8632, '암꼽는': 8633, '프런트': 8634, '장섡댁': 8635, '빠개져': 8636, '비정상': 8637, '색사': 8638, '피곤': 8639, '빠가': 8640, '은편': 8641, '저동': 8642, '그란': 8643, '창의': 8644, '때우다': 8645, '상남자': 8646, '점점이': 8647, '수용': 8648, '왕창': 8649, '겁박': 8650, '나가요': 8651, '퍼즐': 8652, '두고두고': 8653, '이뿌다': 8654, '로포텐': 8655, '포텐자': 8656, '로우': 8657, '선착': 8658, '긴요': 8659, '단번': 8660, '뒤끝': 8661, '위판': 8662, '항만': 8663, '콧물': 8664, '악취': 8665, '늘어놓다': 8666, '굶다': 8667, '스트레': 8668, 'ㄱㅅ': 8669, '외손녀': 8670, '추나라': 8671, '얼빠지다': 8672, '하안': 8673, '철사': 8674, '무르리': 8675, '싱크로': 8676, '유상': 8677, '여고생': 8678, '방탄': 8679, '기면': 8680, '거류': 8681, '정점': 8682, '쭉쭉': 8683, '장용': 8684, '떨어졋': 8685, '독서실': 8686, '모래알': 8687, '매년': 8688, '주자': 8689, 'ᅲᅳᅲ': 8690, '각목': 8691, '남포': 8692, '먹튀': 8693, '야케': 8694, 'ㅅㅂ': 8695, '창립': 8696, '주년': 8697, '냉큼': 8698, '구월': 8699, '일절': 8700, '그로': 8701, '꾹꾹': 8702, '게장': 8703, '수줍다': 8704, '아오': 8705, '음욕': 8706, '쳐다봣': 8707, '뉴뉴': 8708, '심장': 8709, '시위': 8710, '함철': 8711, '시스': 8712, '코스트코': 8713, '발전기': 8714, '대합': 8715, '위더': 8716, '라구요': 8717, '턴하': 8718, '스웨터': 8719, '명령': 8720, '뻤': 8721, '과장하다': 8722, '우디': 8723, '야만': 8724, '준말': 8725, '포대자루': 8726, '양임': 8727, 'ㅍㅎ': 8728, '유명': 8729, '콘택트': 8730, '전력': 8731, '건옥': 8732, '무수': 8733, '생겨나다': 8734, '지탄': 8735, '쓸마놘': 8736, '들컹들컹': 8737, '우련하다': 8738, '분체': 8739, '흐릿하': 8740, '주택가': 8741, '카탈로그': 8742, '부조': 8743, '들러붙다': 8744, '임비': 8745, '반올림': 8746, '꿀렁꿀렁하': 8747, '읏싼데': 8748, '빨간색': 8749, '마크로': 8750, '툴': 8751, '오랫': 8752, '점박이': 8753, '데려오다': 8754, '비키니': 8755, '옆구리': 8756, '개님': 8757, '다각도로': 8758, '거저': 8759, '발제': 8760, '가랬는데': 8761, '고안': 8762, '포대': 8763, '협': 8764, '소하': 8765, '심정은': 8766, '어떻든': 8767, '문중': 8768, '얼리다': 8769, '유일': 8770, '볼률감': 8771, '자지': 8772, '과학': 8773, '볼륨': 8774, '평이하다': 8775, '인티': 8776, '빠뜨리다': 8777, '외지': 8778, '알아내다': 8779, '안락': 8780, '고압': 8781, '사만': 8782, '식별': 8783, '삭았': 8784, '집임': 8785, '서너': 8786, '매주': 8787, '살판': 8788, '야생': 8789, '환가': 8790, '문어': 8791, '갠차다': 8792, '일수': 8793, '아무나': 8794, '부식': 8795, '신중': 8796, '호감': 8797, '차례차례': 8798, '부득이': 8799, '고시원': 8800, '한도': 8801, '배지': 8802, '음반': 8803, '수북이': 8804, '올레': 8805, '기계': 8806, '노노': 8807, '뽀얗다': 8808, '바름': 8809, '드라마틱': 8810, '복함접': 8811, '커피잔': 8812, '샸습': 8813, '아지트': 8814, '베스트셀러': 8815, '사람과': 8816, '내지': 8817, '하랍': 8818, '금고': 8819, '눕힌': 8820, '풀스': 8821, '간밤': 8822, '만방': 8823, '우뚝': 8824, 'ㅜㅠㅜ': 8825, '넖어': 8826, '쪼잔하': 8827, '더기': 8828, '팝핑': 8829, '둥그런': 8830, '요리조리': 8831, '무조': 8832, '고삐': 8833, '조경남': 8834, '천방지축': 8835, '슬음': 8836, '도금': 8837, '베이직': 8838, '소수점': 8839, '떠올리다': 8840, '차단': 8841, '촉촉하다': 8842, '하이라이트': 8843, '모름': 8844, '상거': 8845, '주샸': 8846, '일문': 8847, '큰아버지': 8848, '삭': 8849, '매가': 8850, '재판매': 8851, '이타': 8852, '유배': 8853, '개취': 8854, '손해배상': 8855, '로엠': 8856, '영구': 8857, '두드러기': 8858, '소아': 8859, '과를': 8860, '불연': 8861, '떠오르다': 8862, '임원': 8863, '예시': 8864, '똔똔': 8865, '아이언': 8866, '화물차': 8867, '로비': 8868, '선결': 8869, '오늘이': 8870, '원지': 8871, '리니': 8872, '칙칙': 8873, '쪽문': 8874, '벽돌': 8875, '팩트': 8876, '입증': 8877, 'ᅳᅳᄏ': 8878, '세균': 8879, '후훗': 8880, '어옹': 8881, '효자손': 8882, '매립': 8883, '형통': 8884, '축복': 8885, '안내면': 8886, '면박': 8887, '으러': 8888, '라는데': 8889, '난처하다': 8890, '전개': 8891, '차후': 8892, '농문': 8893, '만주': 8894, '쫀득쫀득': 8895, '공교': 8896, '자알': 8897, '뽕뽕': 8898, '허구': 8899, '스테일': 8900, '플러': 8901, '지단': 8902, '남매': 8903, '이루': 8904, '서스': 8905, '차보': 8906, '아가씨': 8907, '에게나': 8908, '인증': 8909, '한덕': 8910, '마투라': 8911, '랬더': 8912, '구심': 8913, '파파': 8914, '색소': 8915, '자주자주': 8916, '건반': 8917, '색임': 8918, '반점': 8919, '가설': 8920, '자질': 8921, '구레': 8922, '청도': 8923, '사나': 8924, '별거': 8925, '향상': 8926, '대성공': 8927, '군소리': 8928, '다예': 8929, '성취': 8930, '평타': 8931, '옳다': 8932, '통전': 8933, '화하다': 8934, '엎어지다': 8935, '이튿날': 8936, '방면': 8937, '서피스': 8938, '에를': 8939, '긴박하다': 8940, '넓히다': 8941, '산산조각': 8942, '용치': 8943, '의학': 8944, '대량': 8945, '콘디': 8946, '충남': 8947, '자아': 8948, '잡아가다': 8949, '난도질': 8950, '끝단': 8951, '볼팅': 8952, '오오': 8953, '흘': 8954, '곰보': 8955, '수백': 8956, '배아': 8957, '금합': 8958, '행운': 8959, '쇼퍼': 8960, '베니스': 8961, '락스': 8962, '꽈배기': 8963, '쨍쨍거리다': 8964, '잔무늬': 8965, '비누': 8966, 'ㄷㅐ': 8967, '연말': 8968, '통고': 8969, '에폭시': 8970, '폭시': 8971, '보상금': 8972, '땡땡': 8973, '고귀': 8974, '수읺는': 8975, '키트': 8976, '불망': 8977, '줄어들다': 8978, '예뻬': 8979, '발라드': 8980, '음고': 8981, '마주': 8982, '신품': 8983, '조아영': 8984, '티오': 8985, '개로왕': 8986, '반원': 8987, '작가': 8988, '새해': 8989, '악평': 8990, '장구': 8991, '동인': 8992, '쩌러': 8993, '식기': 8994, '독단': 8995, '괴상하다': 8996, '도시락': 8997, '외치': 8998, '방장': 8999, '일어': 9000, '콘솔': 9001, '바': 9002, '경찰서': 9003, '형사': 9004, '고소하다': 9005, '집단': 9006, '물방': 9007, '재건': 9008, '어째': 9009, '자방': 9010, '이부': 9011, '가금': 9012, '어리둥절하다': 9013, '나약하다': 9014, '년산': 9015, '초록': 9016, '매드': 9017, '교복': 9018, '킬': 9019, '래': 9020, '스타킹': 9021, '옥듭': 9022, '찌푸리다': 9023, '판기스': 9024, '목발': 9025, '불통': 9026, '사유리': 9027, '물리치료': 9028, '개욕': 9029, '투둘': 9030, '실습': 9031, '단사': 9032, '협소합': 9033, '합치기': 9034, '대여': 9035, '중성세제': 9036, '정색': 9037, '크롤': 9038, '하늘나라': 9039, '화장품': 9040, '뒷날': 9041, '쇼바': 9042, '로운': 9043, '원시': 9044, '안연': 9045, '코발트': 9046, '말락': 9047, '론데': 9048, '유발': 9049, '혼란': 9050, '아이콘': 9051, '엄수': 9052, '리조트': 9053, '관계자': 9054, '분원': 9055, '신임': 9056, '분방': 9057, '여진': 9058, '추구': 9059, '고천': 9060, '옹위': 9061, '대인': 9062, '모색': 9063, '대원': 9064, '명백하다': 9065, '대전광역시': 9066, '강조': 9067, '보링': 9068, '거렸': 9069, '고꾸라지다': 9070, '카펫': 9071, '쒸워': 9072, '겨유': 9073, '영역': 9074, '컴뷰터': 9075, '태위': 9076, '스테': 9077, '봉익': 9078, '멀끔하다': 9079, '죽음': 9080, '남아나다': 9081, '통짜': 9082, '개국': 9083, '플랙스': 9084, '놨어': 9085, '애쉬': 9086, '티어': 9087, '레인': 9088, '다음가다': 9089, '여해': 9090, '책등': 9091, '덮어놓고': 9092, '리터': 9093, '한소리': 9094, '초록색': 9095, '다가서다': 9096, '버니': 9097, '일품': 9098, '개박': 9099, '침입': 9100, '명상': 9101, '거거익': 9102, '앨롱입': 9103, '얼롱': 9104, '했늠': 9105, '험담': 9106, '몽실몽실': 9107, '공개': 9108, '런': 9109, '그만': 9110, '이상인': 9111, '상장회사': 9112, '평탄하다': 9113, 'ㅡㅜ': 9114, '용돈': 9115, '껄루': 9116, '팔목': 9117, '넙죽': 9118, '후코': 9119, '자스': 9120, '박하다': 9121, '지음': 9122, '찍어내다': 9123, '똥개': 9124, '심정': 9125, '꽝임일': 9126, '객선': 9127, '웁': 9128, '담그다': 9129, '긁혔': 9130, '빛찬': 9131, '청결하다': 9132, '스터': 9133, '디렉트': 9134, '에로': 9135, '말걸': 9136, '사그라들다': 9137, '따끔하다': 9138, '쭈글거려': 9139, '고자': 9140, '스테로이드': 9141, '예찬': 9142, '화지': 9143, '버거': 9144, '여유도': 9145, '방적': 9146, '음집': 9147, '불리하다': 9148, '봄맞이': 9149, '개나리': 9150, '흔쾌하다': 9151, '라이오스': 9152, '보드게임': 9153, '정선선': 9154, '디스플레이': 9155, '또르르': 9156, '삼십': 9157, '오토': 9158, '대설': 9159, '시무': 9160, '어는': 9161, '마침내': 9162, '비포': 9163, '애프터': 9164, '자료': 9165, '모텔': 9166, '감목': 9167, '조아욣': 9168, '격질': 9169, '수냡': 9170, '털썩': 9171, '처음처럼': 9172, '호도': 9173, '어울': 9174, '분배': 9175, '편백나무': 9176, '시원시원하다': 9177, '회용': 9178, '수저': 9179, '맷돌': 9180, '거린답': 9181, '폴더': 9182, '괸치': 9183, 'ㄴㅎ': 9184, '간다라': 9185, '완충제': 9186, '마넌기': 9187}\n"
          ]
        }
      ]
    },
    {
      "cell_type": "code",
      "source": [
        "total_cnt = len(tokenizer.word_index)"
      ],
      "metadata": {
        "id": "xHaGFBH2wmGE"
      },
      "execution_count": 17,
      "outputs": []
    },
    {
      "cell_type": "code",
      "source": [
        "total_cnt"
      ],
      "metadata": {
        "colab": {
          "base_uri": "https://localhost:8080/"
        },
        "id": "U_ddFKDhwmIn",
        "outputId": "c0775ed6-5ff6-4d4d-da88-9f4232131163"
      },
      "execution_count": 18,
      "outputs": [
        {
          "output_type": "execute_result",
          "data": {
            "text/plain": [
              "9187"
            ]
          },
          "metadata": {},
          "execution_count": 18
        }
      ]
    },
    {
      "cell_type": "code",
      "source": [
        "vocab_size = total_cnt + 1"
      ],
      "metadata": {
        "id": "wy2joM2xwmK3"
      },
      "execution_count": 19,
      "outputs": []
    },
    {
      "cell_type": "code",
      "source": [
        "vocab_size"
      ],
      "metadata": {
        "colab": {
          "base_uri": "https://localhost:8080/"
        },
        "id": "EZjNZP4WwmNf",
        "outputId": "9ab2b4ea-7329-430b-ccfa-e28a7c89a764"
      },
      "execution_count": 20,
      "outputs": [
        {
          "output_type": "execute_result",
          "data": {
            "text/plain": [
              "9188"
            ]
          },
          "metadata": {},
          "execution_count": 20
        }
      ]
    },
    {
      "cell_type": "code",
      "source": [
        "tokenizer = Tokenizer(vocab_size) \n",
        "tokenizer.fit_on_texts(X_train)\n",
        "X_train = tokenizer.texts_to_sequences(X_train)\n",
        "X_test = tokenizer.texts_to_sequences(X_test)"
      ],
      "metadata": {
        "id": "5332Irj2wmP4"
      },
      "execution_count": 21,
      "outputs": []
    },
    {
      "cell_type": "code",
      "source": [
        "print(X_train[:3])"
      ],
      "metadata": {
        "colab": {
          "base_uri": "https://localhost:8080/"
        },
        "id": "2tm6Z1EewmSV",
        "outputId": "0082e9cf-c4e3-4ec7-b6dc-bd250754b8b0"
      },
      "execution_count": 22,
      "outputs": [
        {
          "output_type": "stream",
          "name": "stdout",
          "text": [
            "[[6, 387, 8, 304, 1], [680, 47, 2126, 5, 858, 728, 281, 5370, 58, 1], [1347, 44, 23, 10, 3, 27, 336]]\n"
          ]
        }
      ]
    },
    {
      "cell_type": "code",
      "source": [
        "max_len = 100"
      ],
      "metadata": {
        "id": "klO0p03Nxu_l"
      },
      "execution_count": 23,
      "outputs": []
    },
    {
      "cell_type": "code",
      "source": [
        "X_train = pad_sequences(X_train, maxlen=max_len)\n",
        "X_test = pad_sequences(X_test, maxlen=max_len)"
      ],
      "metadata": {
        "id": "Fl4boBf2xvF8"
      },
      "execution_count": 24,
      "outputs": []
    },
    {
      "cell_type": "code",
      "source": [
        "class BahdanauAttention(tf.keras.Model):\n",
        "  def __init__(self, units):\n",
        "    super(BahdanauAttention, self).__init__()\n",
        "    self.W1 = Dense(units)\n",
        "    self.W2 = Dense(units)\n",
        "    self.V = Dense(1)\n",
        "\n",
        "  def call(self, values, query): # 단, key와 value는 같음\n",
        "    # query shape == (batch_size, hidden size)\n",
        "    # hidden_with_time_axis shape == (batch_size, 1, hidden size)\n",
        "    # score 계산을 위해 뒤에서 할 덧셈을 위해서 차원을 변경해줍니다.\n",
        "    hidden_with_time_axis = tf.expand_dims(query, 1)\n",
        "\n",
        "    # score shape == (batch_size, max_length, 1)\n",
        "    # we get 1 at the last axis because we are applying score to self.V\n",
        "    # the shape of the tensor before applying self.V is (batch_size, max_length, units)\n",
        "    score = self.V(tf.nn.tanh(\n",
        "        self.W1(values) + self.W2(hidden_with_time_axis)))\n",
        "\n",
        "    # attention_weights shape == (batch_size, max_length, 1)\n",
        "    attention_weights = tf.nn.softmax(score, axis=1)\n",
        "\n",
        "    # context_vector shape after sum == (batch_size, hidden_size)\n",
        "    context_vector = attention_weights * values\n",
        "    context_vector = tf.reduce_sum(context_vector, axis=1)\n",
        "\n",
        "    return context_vector, attention_weights"
      ],
      "metadata": {
        "id": "KFkQFKwjxvIU"
      },
      "execution_count": 25,
      "outputs": []
    },
    {
      "cell_type": "code",
      "source": [
        "sequence_input = Input(shape=(max_len,), dtype='int32')\n",
        "embedded_sequences = Embedding(vocab_size, 128, input_length=max_len, mask_zero = True)(sequence_input)\n",
        "cnn = Conv1D(64, 5, padding='valid', activation='relu',strides=1)(embedded_sequences)\n",
        "maxpooling = MaxPooling1D(pool_size=4)(cnn)\n",
        "lstm = Bidirectional(LSTM(64, dropout=0.5, return_sequences = True))(maxpooling)"
      ],
      "metadata": {
        "id": "L_0YkJWcxvKv"
      },
      "execution_count": 50,
      "outputs": []
    },
    {
      "cell_type": "code",
      "source": [
        "lstm, forward_h, forward_c, backward_h, backward_c = Bidirectional \\\n",
        "  (LSTM(64, dropout=0.5, return_sequences=True, return_state=True))(lstm)"
      ],
      "metadata": {
        "id": "U0hCNtL_xvM9"
      },
      "execution_count": 51,
      "outputs": []
    },
    {
      "cell_type": "code",
      "source": [
        "print(lstm.shape, forward_h.shape, forward_c.shape, backward_h.shape, backward_c.shape)"
      ],
      "metadata": {
        "colab": {
          "base_uri": "https://localhost:8080/"
        },
        "id": "AAr1KCaqxvPV",
        "outputId": "1665e660-b31c-494a-a9ab-0d8e440f723e"
      },
      "execution_count": 52,
      "outputs": [
        {
          "output_type": "stream",
          "name": "stdout",
          "text": [
            "(None, 24, 128) (None, 64) (None, 64) (None, 64) (None, 64)\n"
          ]
        }
      ]
    },
    {
      "cell_type": "code",
      "source": [
        "state_h = Concatenate()([forward_h, backward_h]) # 은닉 상태\n",
        "state_c = Concatenate()([forward_c, backward_c]) # 셀 상태"
      ],
      "metadata": {
        "id": "Fbw6l7xExvRx"
      },
      "execution_count": 53,
      "outputs": []
    },
    {
      "cell_type": "code",
      "source": [
        "attention = BahdanauAttention(64) # 가중치 크기 정의\n",
        "context_vector, attention_weights = attention(lstm, state_h)"
      ],
      "metadata": {
        "id": "x81ZE0Y8xvUI"
      },
      "execution_count": 54,
      "outputs": []
    },
    {
      "cell_type": "code",
      "source": [
        "dense1 = Dense(20, activation=\"relu\")(context_vector)\n",
        "dropout = Dropout(0.5)(dense1)\n",
        "output = Dense(1, activation=\"sigmoid\")(dropout)\n",
        "model = Model(inputs=sequence_input, outputs=output)"
      ],
      "metadata": {
        "id": "3hwtwiDey1DN"
      },
      "execution_count": 55,
      "outputs": []
    },
    {
      "cell_type": "code",
      "source": [
        "model.compile(loss='binary_crossentropy', optimizer='adam', metrics=['accuracy'])"
      ],
      "metadata": {
        "id": "W9xA4sylyLWP"
      },
      "execution_count": 56,
      "outputs": []
    },
    {
      "cell_type": "code",
      "source": [
        "es = EarlyStopping(monitor='val_loss', mode='min', verbose=1, patience=2)\n",
        "mc = ModelCheckpoint('best_model.h5', monitor='val_acc', mode='max', verbose=1, save_best_only=True)\n",
        "\n",
        "history = model.fit(X_train, y_train, epochs = 10, batch_size = 32, validation_data=(X_test, y_test), verbose=1, callbacks=[es, mc])"
      ],
      "metadata": {
        "colab": {
          "base_uri": "https://localhost:8080/"
        },
        "id": "qsh_e-76yLYs",
        "outputId": "1d8d6dd7-6905-4a98-be27-7d6e9ddb1d64"
      },
      "execution_count": 57,
      "outputs": [
        {
          "output_type": "stream",
          "name": "stdout",
          "text": [
            "Epoch 1/10\n",
            "494/494 [==============================] - ETA: 0s - loss: 0.3152 - accuracy: 0.8613WARNING:tensorflow:Can save best model only with val_acc available, skipping.\n",
            "494/494 [==============================] - 38s 48ms/step - loss: 0.3152 - accuracy: 0.8613 - val_loss: 0.1547 - val_accuracy: 0.9415\n",
            "Epoch 2/10\n",
            "493/494 [============================>.] - ETA: 0s - loss: 0.1102 - accuracy: 0.9617WARNING:tensorflow:Can save best model only with val_acc available, skipping.\n",
            "494/494 [==============================] - 21s 42ms/step - loss: 0.1102 - accuracy: 0.9617 - val_loss: 0.1474 - val_accuracy: 0.9443\n",
            "Epoch 3/10\n",
            "493/494 [============================>.] - ETA: 0s - loss: 0.0673 - accuracy: 0.9772WARNING:tensorflow:Can save best model only with val_acc available, skipping.\n",
            "494/494 [==============================] - 20s 41ms/step - loss: 0.0676 - accuracy: 0.9772 - val_loss: 0.1749 - val_accuracy: 0.9456\n",
            "Epoch 4/10\n",
            "493/494 [============================>.] - ETA: 0s - loss: 0.0492 - accuracy: 0.9833WARNING:tensorflow:Can save best model only with val_acc available, skipping.\n",
            "494/494 [==============================] - 20s 41ms/step - loss: 0.0492 - accuracy: 0.9834 - val_loss: 0.1512 - val_accuracy: 0.9506\n",
            "Epoch 4: early stopping\n"
          ]
        }
      ]
    },
    {
      "cell_type": "code",
      "source": [
        "print(\"\\n 테스트 정확도: %.4f\" % (model.evaluate(X_test, y_test)[1]))"
      ],
      "metadata": {
        "colab": {
          "base_uri": "https://localhost:8080/"
        },
        "id": "TgAV8HyfyLbO",
        "outputId": "ba471cea-b279-4752-9153-9383db485762"
      },
      "execution_count": 61,
      "outputs": [
        {
          "output_type": "stream",
          "name": "stdout",
          "text": [
            "124/124 [==============================] - 2s 15ms/step - loss: 0.1512 - accuracy: 0.9506\n",
            "\n",
            " 테스트 정확도: 0.9506\n"
          ]
        }
      ]
    },
    {
      "cell_type": "code",
      "source": [
        "print(model.evaluate(X_test, y_test))"
      ],
      "metadata": {
        "colab": {
          "base_uri": "https://localhost:8080/"
        },
        "id": "k6h5FM6vZPTt",
        "outputId": "63b65e73-691f-4a5e-d97b-ed5758b42ca6"
      },
      "execution_count": 60,
      "outputs": [
        {
          "output_type": "stream",
          "name": "stdout",
          "text": [
            "124/124 [==============================] - 2s 15ms/step - loss: 0.1512 - accuracy: 0.9506\n",
            "[0.15117135643959045, 0.950645387172699]\n"
          ]
        }
      ]
    },
    {
      "cell_type": "code",
      "source": [
        "X_test"
      ],
      "metadata": {
        "colab": {
          "base_uri": "https://localhost:8080/"
        },
        "id": "yuL0SZ60yLde",
        "outputId": "02cb8f88-500e-4031-afa6-560f3b91a50c"
      },
      "execution_count": 38,
      "outputs": [
        {
          "output_type": "execute_result",
          "data": {
            "text/plain": [
              "array([[   0,    0,    0, ...,   21,  252,  198],\n",
              "       [   0,    0,    0, ...,   26,  144,   63],\n",
              "       [   0,    0,    0, ...,   26,   48,    5],\n",
              "       ...,\n",
              "       [   0,    0,    0, ...,   35,   26,    1],\n",
              "       [   0,    0,    0, ...,   22,   36,    1],\n",
              "       [   0,    0,    0, ...,  947, 3769,  240]], dtype=int32)"
            ]
          },
          "metadata": {},
          "execution_count": 38
        }
      ]
    },
    {
      "cell_type": "code",
      "source": [
        "y_test"
      ],
      "metadata": {
        "colab": {
          "base_uri": "https://localhost:8080/"
        },
        "id": "_1PUXXlqyLfu",
        "outputId": "16abe9a7-a254-4681-c02a-e22ae78897b7"
      },
      "execution_count": 36,
      "outputs": [
        {
          "output_type": "execute_result",
          "data": {
            "text/plain": [
              "array([0, 0, 1, ..., 0, 1, 0])"
            ]
          },
          "metadata": {},
          "execution_count": 36
        }
      ]
    },
    {
      "cell_type": "code",
      "source": [
        ""
      ],
      "metadata": {
        "id": "n7tuvl9vtzMV"
      },
      "execution_count": 45,
      "outputs": []
    },
    {
      "cell_type": "code",
      "source": [
        ""
      ],
      "metadata": {
        "id": "E1Di3XYvtzPT"
      },
      "execution_count": 37,
      "outputs": []
    },
    {
      "cell_type": "code",
      "source": [
        ""
      ],
      "metadata": {
        "id": "I1iXWtB5tzR4"
      },
      "execution_count": 37,
      "outputs": []
    },
    {
      "cell_type": "code",
      "source": [
        ""
      ],
      "metadata": {
        "id": "72u4wNsktzUT"
      },
      "execution_count": 37,
      "outputs": []
    },
    {
      "cell_type": "code",
      "source": [
        ""
      ],
      "metadata": {
        "id": "d1Z9FszWtzW7"
      },
      "execution_count": 37,
      "outputs": []
    },
    {
      "cell_type": "code",
      "source": [
        ""
      ],
      "metadata": {
        "id": "hHqYqKCntzZd"
      },
      "execution_count": 37,
      "outputs": []
    }
  ]
}