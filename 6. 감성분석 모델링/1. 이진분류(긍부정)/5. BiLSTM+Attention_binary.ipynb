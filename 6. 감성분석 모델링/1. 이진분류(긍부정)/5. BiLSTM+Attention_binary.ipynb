{
 "cells": [
  {
   "cell_type": "code",
   "execution_count": 1,
   "metadata": {
    "ExecuteTime": {
     "end_time": "2022-04-27T00:49:39.350577Z",
     "start_time": "2022-04-27T00:47:58.571604Z"
    },
    "colab": {
     "base_uri": "https://localhost:8080/"
    },
    "id": "Qm4JWI6YtjYm",
    "outputId": "3ea1c0f4-ecd1-4ddb-ca56-f82ec427d1d1"
   },
   "outputs": [
    {
     "name": "stdout",
     "output_type": "stream",
     "text": [
      "Collecting mxnet\n",
      "  Downloading mxnet-1.7.0.post2-py2.py3-none-win_amd64.whl (33.1 MB)\n",
      "Collecting requests<2.19.0,>=2.18.4\n",
      "  Downloading requests-2.18.4-py2.py3-none-any.whl (88 kB)\n",
      "Collecting graphviz<0.9.0,>=0.8.1\n",
      "  Downloading graphviz-0.8.4-py2.py3-none-any.whl (16 kB)\n",
      "Collecting numpy<1.17.0,>=1.8.2\n",
      "  Downloading numpy-1.16.6.zip (5.1 MB)\n"
     ]
    },
    {
     "name": "stderr",
     "output_type": "stream",
     "text": [
      "  ERROR: Command errored out with exit status 1:\n",
      "   command: 'C:\\Users\\Admin\\anaconda3\\python.exe' -u -c 'import io, os, sys, setuptools, tokenize; sys.argv[0] = '\"'\"'C:\\\\Users\\\\Admin\\\\AppData\\\\Local\\\\Temp\\\\pip-install-jts1v3bh\\\\numpy_dcadc78f3c8442e4a7dd4a39004e29a5\\\\setup.py'\"'\"'; __file__='\"'\"'C:\\\\Users\\\\Admin\\\\AppData\\\\Local\\\\Temp\\\\pip-install-jts1v3bh\\\\numpy_dcadc78f3c8442e4a7dd4a39004e29a5\\\\setup.py'\"'\"';f = getattr(tokenize, '\"'\"'open'\"'\"', open)(__file__) if os.path.exists(__file__) else io.StringIO('\"'\"'from setuptools import setup; setup()'\"'\"');code = f.read().replace('\"'\"'\\r\\n'\"'\"', '\"'\"'\\n'\"'\"');f.close();exec(compile(code, __file__, '\"'\"'exec'\"'\"'))' bdist_wheel -d 'C:\\Users\\Admin\\AppData\\Local\\Temp\\pip-wheel-0dx8mlb1'\n",
      "       cwd: C:\\Users\\Admin\\AppData\\Local\\Temp\\pip-install-jts1v3bh\\numpy_dcadc78f3c8442e4a7dd4a39004e29a5\\\n",
      "  Complete output (288 lines):\n",
      "  Running from numpy source directory.\n",
      "  C:\\Users\\Admin\\AppData\\Local\\Temp\\pip-install-jts1v3bh\\numpy_dcadc78f3c8442e4a7dd4a39004e29a5\\numpy\\distutils\\misc_util.py:476: SyntaxWarning: \"is\" with a literal. Did you mean \"==\"?\n",
      "    return is_string(s) and ('*' in s or '?' is s)\n",
      "  blas_opt_info:\n",
      "  blas_mkl_info:\n",
      "  No module named 'numpy.distutils._msvccompiler' in numpy.distutils; trying from distutils\n",
      "  customize MSVCCompiler\n",
      "    libraries mkl_rt not found in ['C:\\\\Users\\\\Admin\\\\anaconda3\\\\lib', 'C:\\\\', 'C:\\\\Users\\\\Admin\\\\anaconda3\\\\libs', 'C:\\\\Users\\\\Admin\\\\anaconda3\\\\Library\\\\lib']\n",
      "    NOT AVAILABLE\n",
      "  \n",
      "  blis_info:\n",
      "  No module named 'numpy.distutils._msvccompiler' in numpy.distutils; trying from distutils\n",
      "  customize MSVCCompiler\n",
      "    libraries blis not found in ['C:\\\\Users\\\\Admin\\\\anaconda3\\\\lib', 'C:\\\\', 'C:\\\\Users\\\\Admin\\\\anaconda3\\\\libs', 'C:\\\\Users\\\\Admin\\\\anaconda3\\\\Library\\\\lib']\n",
      "    NOT AVAILABLE\n",
      "  \n",
      "  openblas_info:\n",
      "  No module named 'numpy.distutils._msvccompiler' in numpy.distutils; trying from distutils\n",
      "  customize MSVCCompiler\n",
      "  No module named 'numpy.distutils._msvccompiler' in numpy.distutils; trying from distutils\n",
      "  customize MSVCCompiler\n",
      "    libraries openblas not found in ['C:\\\\Users\\\\Admin\\\\anaconda3\\\\lib', 'C:\\\\', 'C:\\\\Users\\\\Admin\\\\anaconda3\\\\libs', 'C:\\\\Users\\\\Admin\\\\anaconda3\\\\Library\\\\lib']\n",
      "  get_default_fcompiler: matching types: '['gnu', 'intelv', 'absoft', 'compaqv', 'intelev', 'gnu95', 'g95', 'intelvem', 'intelem', 'flang']'\n",
      "  customize GnuFCompiler\n",
      "  Could not locate executable g77\n",
      "  Could not locate executable f77\n",
      "  customize IntelVisualFCompiler\n",
      "  Could not locate executable ifort\n",
      "  Could not locate executable ifl\n",
      "  customize AbsoftFCompiler\n",
      "  Could not locate executable f90\n",
      "  customize CompaqVisualFCompiler\n",
      "  Could not locate executable DF\n",
      "  customize IntelItaniumVisualFCompiler\n",
      "  Could not locate executable efl\n",
      "  customize Gnu95FCompiler\n",
      "  Could not locate executable gfortran\n",
      "  Could not locate executable f95\n",
      "  customize G95FCompiler\n",
      "  Could not locate executable g95\n",
      "  customize IntelEM64VisualFCompiler\n",
      "  customize IntelEM64TFCompiler\n",
      "  Could not locate executable efort\n",
      "  Could not locate executable efc\n",
      "  customize PGroupFlangCompiler\n",
      "  Could not locate executable flang\n",
      "  don't know how to compile Fortran code on platform 'nt'\n",
      "    NOT AVAILABLE\n",
      "  \n",
      "  atlas_3_10_blas_threads_info:\n",
      "  Setting PTATLAS=ATLAS\n",
      "  No module named 'numpy.distutils._msvccompiler' in numpy.distutils; trying from distutils\n",
      "  customize MSVCCompiler\n",
      "    libraries tatlas not found in ['C:\\\\Users\\\\Admin\\\\anaconda3\\\\lib', 'C:\\\\', 'C:\\\\Users\\\\Admin\\\\anaconda3\\\\libs', 'C:\\\\Users\\\\Admin\\\\anaconda3\\\\Library\\\\lib']\n",
      "    NOT AVAILABLE\n",
      "  \n",
      "  atlas_3_10_blas_info:\n",
      "  No module named 'numpy.distutils._msvccompiler' in numpy.distutils; trying from distutils\n",
      "  customize MSVCCompiler\n",
      "    libraries satlas not found in ['C:\\\\Users\\\\Admin\\\\anaconda3\\\\lib', 'C:\\\\', 'C:\\\\Users\\\\Admin\\\\anaconda3\\\\libs', 'C:\\\\Users\\\\Admin\\\\anaconda3\\\\Library\\\\lib']\n",
      "    NOT AVAILABLE\n",
      "  \n",
      "  atlas_blas_threads_info:\n",
      "  Setting PTATLAS=ATLAS\n",
      "  No module named 'numpy.distutils._msvccompiler' in numpy.distutils; trying from distutils\n",
      "  customize MSVCCompiler\n",
      "    libraries ptf77blas,ptcblas,atlas not found in ['C:\\\\Users\\\\Admin\\\\anaconda3\\\\lib', 'C:\\\\', 'C:\\\\Users\\\\Admin\\\\anaconda3\\\\libs', 'C:\\\\Users\\\\Admin\\\\anaconda3\\\\Library\\\\lib']\n",
      "    NOT AVAILABLE\n",
      "  \n",
      "  atlas_blas_info:\n",
      "  No module named 'numpy.distutils._msvccompiler' in numpy.distutils; trying from distutils\n",
      "  customize MSVCCompiler\n",
      "    libraries f77blas,cblas,atlas not found in ['C:\\\\Users\\\\Admin\\\\anaconda3\\\\lib', 'C:\\\\', 'C:\\\\Users\\\\Admin\\\\anaconda3\\\\libs', 'C:\\\\Users\\\\Admin\\\\anaconda3\\\\Library\\\\lib']\n",
      "    NOT AVAILABLE\n",
      "  \n",
      "  accelerate_info:\n",
      "    NOT AVAILABLE\n",
      "  \n",
      "  C:\\Users\\Admin\\AppData\\Local\\Temp\\pip-install-jts1v3bh\\numpy_dcadc78f3c8442e4a7dd4a39004e29a5\\numpy\\distutils\\system_info.py:639: UserWarning:\n",
      "      Atlas (http://math-atlas.sourceforge.net/) libraries not found.\n",
      "      Directories to search for the libraries can be specified in the\n",
      "      numpy/distutils/site.cfg file (section [atlas]) or by setting\n",
      "      the ATLAS environment variable.\n",
      "    self.calc_info()\n",
      "  blas_info:\n",
      "  No module named 'numpy.distutils._msvccompiler' in numpy.distutils; trying from distutils\n",
      "  customize MSVCCompiler\n",
      "    libraries blas not found in ['C:\\\\Users\\\\Admin\\\\anaconda3\\\\lib', 'C:\\\\', 'C:\\\\Users\\\\Admin\\\\anaconda3\\\\libs', 'C:\\\\Users\\\\Admin\\\\anaconda3\\\\Library\\\\lib']\n",
      "    NOT AVAILABLE\n",
      "  \n",
      "  C:\\Users\\Admin\\AppData\\Local\\Temp\\pip-install-jts1v3bh\\numpy_dcadc78f3c8442e4a7dd4a39004e29a5\\numpy\\distutils\\system_info.py:639: UserWarning:\n",
      "      Blas (http://www.netlib.org/blas/) libraries not found.\n",
      "      Directories to search for the libraries can be specified in the\n",
      "      numpy/distutils/site.cfg file (section [blas]) or by setting\n",
      "      the BLAS environment variable.\n",
      "    self.calc_info()\n",
      "  blas_src_info:\n",
      "    NOT AVAILABLE\n",
      "  \n",
      "  C:\\Users\\Admin\\AppData\\Local\\Temp\\pip-install-jts1v3bh\\numpy_dcadc78f3c8442e4a7dd4a39004e29a5\\numpy\\distutils\\system_info.py:639: UserWarning:\n",
      "      Blas (http://www.netlib.org/blas/) sources not found.\n",
      "      Directories to search for the sources can be specified in the\n",
      "      numpy/distutils/site.cfg file (section [blas_src]) or by setting\n",
      "      the BLAS_SRC environment variable.\n",
      "    self.calc_info()\n",
      "    NOT AVAILABLE\n",
      "  \n",
      "  'svnversion'은(는) 내부 또는 외부 명령, 실행할 수 있는 프로그램, 또는\n",
      "  배치 파일이 아닙니다.\n",
      "  non-existing path in 'numpy\\\\distutils': 'site.cfg'\n",
      "  lapack_opt_info:\n",
      "  lapack_mkl_info:\n",
      "  No module named 'numpy.distutils._msvccompiler' in numpy.distutils; trying from distutils\n",
      "  customize MSVCCompiler\n",
      "    libraries mkl_rt not found in ['C:\\\\Users\\\\Admin\\\\anaconda3\\\\lib', 'C:\\\\', 'C:\\\\Users\\\\Admin\\\\anaconda3\\\\libs', 'C:\\\\Users\\\\Admin\\\\anaconda3\\\\Library\\\\lib']\n",
      "    NOT AVAILABLE\n",
      "  \n",
      "  openblas_lapack_info:\n",
      "  No module named 'numpy.distutils._msvccompiler' in numpy.distutils; trying from distutils\n",
      "  customize MSVCCompiler\n",
      "  No module named 'numpy.distutils._msvccompiler' in numpy.distutils; trying from distutils\n",
      "  customize MSVCCompiler\n",
      "    libraries openblas not found in ['C:\\\\Users\\\\Admin\\\\anaconda3\\\\lib', 'C:\\\\', 'C:\\\\Users\\\\Admin\\\\anaconda3\\\\libs', 'C:\\\\Users\\\\Admin\\\\anaconda3\\\\Library\\\\lib']\n",
      "    NOT AVAILABLE\n",
      "  \n",
      "  openblas_clapack_info:\n",
      "  No module named 'numpy.distutils._msvccompiler' in numpy.distutils; trying from distutils\n",
      "  customize MSVCCompiler\n",
      "  No module named 'numpy.distutils._msvccompiler' in numpy.distutils; trying from distutils\n",
      "  customize MSVCCompiler\n",
      "    libraries openblas,lapack not found in ['C:\\\\Users\\\\Admin\\\\anaconda3\\\\lib', 'C:\\\\', 'C:\\\\Users\\\\Admin\\\\anaconda3\\\\libs', 'C:\\\\Users\\\\Admin\\\\anaconda3\\\\Library\\\\lib']\n",
      "    NOT AVAILABLE\n",
      "  \n",
      "  atlas_3_10_threads_info:\n",
      "  Setting PTATLAS=ATLAS\n",
      "  No module named 'numpy.distutils._msvccompiler' in numpy.distutils; trying from distutils\n",
      "  customize MSVCCompiler\n",
      "    libraries lapack_atlas not found in C:\\Users\\Admin\\anaconda3\\lib\n",
      "  No module named 'numpy.distutils._msvccompiler' in numpy.distutils; trying from distutils\n",
      "  customize MSVCCompiler\n",
      "    libraries tatlas,tatlas not found in C:\\Users\\Admin\\anaconda3\\lib\n",
      "  No module named 'numpy.distutils._msvccompiler' in numpy.distutils; trying from distutils\n",
      "  customize MSVCCompiler\n",
      "    libraries lapack_atlas not found in C:\\\n",
      "  No module named 'numpy.distutils._msvccompiler' in numpy.distutils; trying from distutils\n",
      "  customize MSVCCompiler\n",
      "    libraries tatlas,tatlas not found in C:\\\n",
      "  No module named 'numpy.distutils._msvccompiler' in numpy.distutils; trying from distutils\n",
      "  customize MSVCCompiler\n",
      "    libraries lapack_atlas not found in C:\\Users\\Admin\\anaconda3\\libs\n",
      "  No module named 'numpy.distutils._msvccompiler' in numpy.distutils; trying from distutils\n",
      "  customize MSVCCompiler\n",
      "    libraries tatlas,tatlas not found in C:\\Users\\Admin\\anaconda3\\libs\n",
      "  No module named 'numpy.distutils._msvccompiler' in numpy.distutils; trying from distutils\n",
      "  customize MSVCCompiler\n",
      "    libraries lapack_atlas not found in C:\\Users\\Admin\\anaconda3\\Library\\lib\n",
      "  No module named 'numpy.distutils._msvccompiler' in numpy.distutils; trying from distutils\n",
      "  customize MSVCCompiler\n",
      "    libraries tatlas,tatlas not found in C:\\Users\\Admin\\anaconda3\\Library\\lib\n",
      "  <class 'numpy.distutils.system_info.atlas_3_10_threads_info'>\n",
      "    NOT AVAILABLE\n",
      "  \n",
      "  atlas_3_10_info:\n",
      "  No module named 'numpy.distutils._msvccompiler' in numpy.distutils; trying from distutils\n",
      "  customize MSVCCompiler\n",
      "    libraries lapack_atlas not found in C:\\Users\\Admin\\anaconda3\\lib\n",
      "  No module named 'numpy.distutils._msvccompiler' in numpy.distutils; trying from distutils\n",
      "  customize MSVCCompiler\n",
      "    libraries satlas,satlas not found in C:\\Users\\Admin\\anaconda3\\lib\n",
      "  No module named 'numpy.distutils._msvccompiler' in numpy.distutils; trying from distutils\n",
      "  customize MSVCCompiler\n",
      "    libraries lapack_atlas not found in C:\\\n",
      "  No module named 'numpy.distutils._msvccompiler' in numpy.distutils; trying from distutils\n",
      "  customize MSVCCompiler\n",
      "    libraries satlas,satlas not found in C:\\\n",
      "  No module named 'numpy.distutils._msvccompiler' in numpy.distutils; trying from distutils\n",
      "  customize MSVCCompiler\n",
      "    libraries lapack_atlas not found in C:\\Users\\Admin\\anaconda3\\libs\n",
      "  No module named 'numpy.distutils._msvccompiler' in numpy.distutils; trying from distutils\n",
      "  customize MSVCCompiler\n",
      "    libraries satlas,satlas not found in C:\\Users\\Admin\\anaconda3\\libs\n",
      "  No module named 'numpy.distutils._msvccompiler' in numpy.distutils; trying from distutils\n",
      "  customize MSVCCompiler\n",
      "    libraries lapack_atlas not found in C:\\Users\\Admin\\anaconda3\\Library\\lib\n",
      "  No module named 'numpy.distutils._msvccompiler' in numpy.distutils; trying from distutils\n",
      "  customize MSVCCompiler\n",
      "    libraries satlas,satlas not found in C:\\Users\\Admin\\anaconda3\\Library\\lib\n",
      "  <class 'numpy.distutils.system_info.atlas_3_10_info'>\n",
      "    NOT AVAILABLE\n",
      "  \n",
      "  atlas_threads_info:\n",
      "  Setting PTATLAS=ATLAS\n",
      "  No module named 'numpy.distutils._msvccompiler' in numpy.distutils; trying from distutils\n",
      "  customize MSVCCompiler\n",
      "    libraries lapack_atlas not found in C:\\Users\\Admin\\anaconda3\\lib\n",
      "  No module named 'numpy.distutils._msvccompiler' in numpy.distutils; trying from distutils\n",
      "  customize MSVCCompiler\n",
      "    libraries ptf77blas,ptcblas,atlas not found in C:\\Users\\Admin\\anaconda3\\lib\n",
      "  No module named 'numpy.distutils._msvccompiler' in numpy.distutils; trying from distutils\n",
      "  customize MSVCCompiler\n",
      "    libraries lapack_atlas not found in C:\\\n",
      "  No module named 'numpy.distutils._msvccompiler' in numpy.distutils; trying from distutils\n",
      "  customize MSVCCompiler\n",
      "    libraries ptf77blas,ptcblas,atlas not found in C:\\\n",
      "  No module named 'numpy.distutils._msvccompiler' in numpy.distutils; trying from distutils\n",
      "  customize MSVCCompiler\n",
      "    libraries lapack_atlas not found in C:\\Users\\Admin\\anaconda3\\libs\n",
      "  No module named 'numpy.distutils._msvccompiler' in numpy.distutils; trying from distutils\n",
      "  customize MSVCCompiler\n",
      "    libraries ptf77blas,ptcblas,atlas not found in C:\\Users\\Admin\\anaconda3\\libs\n",
      "  No module named 'numpy.distutils._msvccompiler' in numpy.distutils; trying from distutils\n",
      "  customize MSVCCompiler\n",
      "    libraries lapack_atlas not found in C:\\Users\\Admin\\anaconda3\\Library\\lib\n",
      "  No module named 'numpy.distutils._msvccompiler' in numpy.distutils; trying from distutils\n",
      "  customize MSVCCompiler\n",
      "    libraries ptf77blas,ptcblas,atlas not found in C:\\Users\\Admin\\anaconda3\\Library\\lib\n",
      "  <class 'numpy.distutils.system_info.atlas_threads_info'>\n",
      "    NOT AVAILABLE\n",
      "  \n",
      "  atlas_info:\n",
      "  No module named 'numpy.distutils._msvccompiler' in numpy.distutils; trying from distutils\n",
      "  customize MSVCCompiler\n",
      "    libraries lapack_atlas not found in C:\\Users\\Admin\\anaconda3\\lib\n",
      "  No module named 'numpy.distutils._msvccompiler' in numpy.distutils; trying from distutils\n",
      "  customize MSVCCompiler\n",
      "    libraries f77blas,cblas,atlas not found in C:\\Users\\Admin\\anaconda3\\lib\n",
      "  No module named 'numpy.distutils._msvccompiler' in numpy.distutils; trying from distutils\n",
      "  customize MSVCCompiler\n",
      "    libraries lapack_atlas not found in C:\\\n",
      "  No module named 'numpy.distutils._msvccompiler' in numpy.distutils; trying from distutils\n",
      "  customize MSVCCompiler\n",
      "    libraries f77blas,cblas,atlas not found in C:\\\n",
      "  No module named 'numpy.distutils._msvccompiler' in numpy.distutils; trying from distutils\n",
      "  customize MSVCCompiler\n",
      "    libraries lapack_atlas not found in C:\\Users\\Admin\\anaconda3\\libs\n",
      "  No module named 'numpy.distutils._msvccompiler' in numpy.distutils; trying from distutils\n",
      "  customize MSVCCompiler\n",
      "    libraries f77blas,cblas,atlas not found in C:\\Users\\Admin\\anaconda3\\libs\n",
      "  No module named 'numpy.distutils._msvccompiler' in numpy.distutils; trying from distutils\n",
      "  customize MSVCCompiler\n",
      "    libraries lapack_atlas not found in C:\\Users\\Admin\\anaconda3\\Library\\lib\n",
      "  No module named 'numpy.distutils._msvccompiler' in numpy.distutils; trying from distutils\n",
      "  customize MSVCCompiler\n",
      "    libraries f77blas,cblas,atlas not found in C:\\Users\\Admin\\anaconda3\\Library\\lib\n",
      "  <class 'numpy.distutils.system_info.atlas_info'>\n",
      "    NOT AVAILABLE\n",
      "  \n",
      "  lapack_info:\n",
      "  No module named 'numpy.distutils._msvccompiler' in numpy.distutils; trying from distutils\n",
      "  customize MSVCCompiler\n",
      "    libraries lapack not found in ['C:\\\\Users\\\\Admin\\\\anaconda3\\\\lib', 'C:\\\\', 'C:\\\\Users\\\\Admin\\\\anaconda3\\\\libs', 'C:\\\\Users\\\\Admin\\\\anaconda3\\\\Library\\\\lib']\n",
      "    NOT AVAILABLE\n",
      "  \n",
      "  C:\\Users\\Admin\\AppData\\Local\\Temp\\pip-install-jts1v3bh\\numpy_dcadc78f3c8442e4a7dd4a39004e29a5\\numpy\\distutils\\system_info.py:639: UserWarning:\n",
      "      Lapack (http://www.netlib.org/lapack/) libraries not found.\n",
      "      Directories to search for the libraries can be specified in the\n",
      "      numpy/distutils/site.cfg file (section [lapack]) or by setting\n",
      "      the LAPACK environment variable.\n",
      "    self.calc_info()\n",
      "  lapack_src_info:\n",
      "    NOT AVAILABLE\n",
      "  \n",
      "  C:\\Users\\Admin\\AppData\\Local\\Temp\\pip-install-jts1v3bh\\numpy_dcadc78f3c8442e4a7dd4a39004e29a5\\numpy\\distutils\\system_info.py:639: UserWarning:\n",
      "      Lapack (http://www.netlib.org/lapack/) sources not found.\n",
      "      Directories to search for the sources can be specified in the\n",
      "      numpy/distutils/site.cfg file (section [lapack_src]) or by setting\n",
      "      the LAPACK_SRC environment variable.\n",
      "    self.calc_info()\n",
      "    NOT AVAILABLE\n",
      "  \n",
      "  C:\\Users\\Admin\\anaconda3\\lib\\distutils\\dist.py:274: UserWarning: Unknown distribution option: 'define_macros'\n",
      "    warnings.warn(msg)\n",
      "  running bdist_wheel\n",
      "  running build\n",
      "  running config_cc\n",
      "  unifing config_cc, config, build_clib, build_ext, build commands --compiler options\n",
      "  running config_fc\n",
      "  unifing config_fc, config, build_clib, build_ext, build commands --fcompiler options\n",
      "  running build_src\n",
      "  build_src\n",
      "  building py_modules sources\n",
      "  creating build\n",
      "  creating build\\src.win-amd64-3.9\n",
      "  creating build\\src.win-amd64-3.9\\numpy\n",
      "  creating build\\src.win-amd64-3.9\\numpy\\distutils\n",
      "  building library \"npymath\" sources\n",
      "  No module named 'numpy.distutils._msvccompiler' in numpy.distutils; trying from distutils\n",
      "  error: Microsoft Visual C++ 14.0 or greater is required. Get it with \"Microsoft C++ Build Tools\": https://visualstudio.microsoft.com/visual-cpp-build-tools/\n",
      "  ----------------------------------------\n",
      "  ERROR: Failed building wheel for numpy\n",
      "  ERROR: Command errored out with exit status 1:\n",
      "   command: 'C:\\Users\\Admin\\anaconda3\\python.exe' -u -c 'import io, os, sys, setuptools, tokenize; sys.argv[0] = '\"'\"'C:\\\\Users\\\\Admin\\\\AppData\\\\Local\\\\Temp\\\\pip-install-jts1v3bh\\\\numpy_dcadc78f3c8442e4a7dd4a39004e29a5\\\\setup.py'\"'\"'; __file__='\"'\"'C:\\\\Users\\\\Admin\\\\AppData\\\\Local\\\\Temp\\\\pip-install-jts1v3bh\\\\numpy_dcadc78f3c8442e4a7dd4a39004e29a5\\\\setup.py'\"'\"';f = getattr(tokenize, '\"'\"'open'\"'\"', open)(__file__) if os.path.exists(__file__) else io.StringIO('\"'\"'from setuptools import setup; setup()'\"'\"');code = f.read().replace('\"'\"'\\r\\n'\"'\"', '\"'\"'\\n'\"'\"');f.close();exec(compile(code, __file__, '\"'\"'exec'\"'\"'))' clean --all\n",
      "       cwd: C:\\Users\\Admin\\AppData\\Local\\Temp\\pip-install-jts1v3bh\\numpy_dcadc78f3c8442e4a7dd4a39004e29a5\n",
      "  Complete output (10 lines):\n",
      "  Running from numpy source directory.\n",
      "  \n",
      "  `setup.py clean` is not supported, use one of the following instead:\n",
      "  \n",
      "    - `git clean -xdf` (cleans all files)\n",
      "    - `git clean -Xdf` (cleans all versioned files, doesn't touch\n",
      "                        files that aren't checked into the git repo)\n",
      "  \n",
      "  Add `--force` to your command to use it anyway if you must (unsupported).\n",
      "  \n",
      "  ----------------------------------------\n",
      "  ERROR: Failed cleaning build dir for numpy\n",
      "    ERROR: Command errored out with exit status 1:\n",
      "     command: 'C:\\Users\\Admin\\anaconda3\\python.exe' -u -c 'import io, os, sys, setuptools, tokenize; sys.argv[0] = '\"'\"'C:\\\\Users\\\\Admin\\\\AppData\\\\Local\\\\Temp\\\\pip-install-jts1v3bh\\\\numpy_dcadc78f3c8442e4a7dd4a39004e29a5\\\\setup.py'\"'\"'; __file__='\"'\"'C:\\\\Users\\\\Admin\\\\AppData\\\\Local\\\\Temp\\\\pip-install-jts1v3bh\\\\numpy_dcadc78f3c8442e4a7dd4a39004e29a5\\\\setup.py'\"'\"';f = getattr(tokenize, '\"'\"'open'\"'\"', open)(__file__) if os.path.exists(__file__) else io.StringIO('\"'\"'from setuptools import setup; setup()'\"'\"');code = f.read().replace('\"'\"'\\r\\n'\"'\"', '\"'\"'\\n'\"'\"');f.close();exec(compile(code, __file__, '\"'\"'exec'\"'\"'))' install --record 'C:\\Users\\Admin\\AppData\\Local\\Temp\\pip-record-d1di56g3\\install-record.txt' --single-version-externally-managed --compile --install-headers 'C:\\Users\\Admin\\anaconda3\\Include\\numpy'\n",
      "         cwd: C:\\Users\\Admin\\AppData\\Local\\Temp\\pip-install-jts1v3bh\\numpy_dcadc78f3c8442e4a7dd4a39004e29a5\\\n",
      "    Complete output (291 lines):\n",
      "    Running from numpy source directory.\n",
      "    \n",
      "    Note: if you need reliable uninstall behavior, then install\n",
      "    with pip instead of using `setup.py install`:\n",
      "    \n",
      "      - `pip install .`       (from a git repo or downloaded source\n",
      "                               release)\n",
      "      - `pip install numpy`   (last NumPy release on PyPi)\n",
      "    \n",
      "    \n",
      "    blas_opt_info:\n",
      "    blas_mkl_info:\n",
      "    No module named 'numpy.distutils._msvccompiler' in numpy.distutils; trying from distutils\n",
      "    customize MSVCCompiler\n",
      "      libraries mkl_rt not found in ['C:\\\\Users\\\\Admin\\\\anaconda3\\\\lib', 'C:\\\\', 'C:\\\\Users\\\\Admin\\\\anaconda3\\\\libs', 'C:\\\\Users\\\\Admin\\\\anaconda3\\\\Library\\\\lib']\n",
      "      NOT AVAILABLE\n",
      "    \n",
      "    blis_info:\n",
      "    No module named 'numpy.distutils._msvccompiler' in numpy.distutils; trying from distutils\n",
      "    customize MSVCCompiler\n",
      "      libraries blis not found in ['C:\\\\Users\\\\Admin\\\\anaconda3\\\\lib', 'C:\\\\', 'C:\\\\Users\\\\Admin\\\\anaconda3\\\\libs', 'C:\\\\Users\\\\Admin\\\\anaconda3\\\\Library\\\\lib']\n",
      "      NOT AVAILABLE\n",
      "    \n",
      "    openblas_info:\n",
      "    No module named 'numpy.distutils._msvccompiler' in numpy.distutils; trying from distutils\n",
      "    customize MSVCCompiler\n",
      "    No module named 'numpy.distutils._msvccompiler' in numpy.distutils; trying from distutils\n",
      "    customize MSVCCompiler\n",
      "      libraries openblas not found in ['C:\\\\Users\\\\Admin\\\\anaconda3\\\\lib', 'C:\\\\', 'C:\\\\Users\\\\Admin\\\\anaconda3\\\\libs', 'C:\\\\Users\\\\Admin\\\\anaconda3\\\\Library\\\\lib']\n",
      "    get_default_fcompiler: matching types: '['gnu', 'intelv', 'absoft', 'compaqv', 'intelev', 'gnu95', 'g95', 'intelvem', 'intelem', 'flang']'\n",
      "    customize GnuFCompiler\n",
      "    Could not locate executable g77\n",
      "    Could not locate executable f77\n",
      "    customize IntelVisualFCompiler\n",
      "    Could not locate executable ifort\n",
      "    Could not locate executable ifl\n",
      "    customize AbsoftFCompiler\n",
      "    Could not locate executable f90\n",
      "    customize CompaqVisualFCompiler\n",
      "    Could not locate executable DF\n",
      "    customize IntelItaniumVisualFCompiler\n",
      "    Could not locate executable efl\n",
      "    customize Gnu95FCompiler\n",
      "    Could not locate executable gfortran\n",
      "    Could not locate executable f95\n",
      "    customize G95FCompiler\n",
      "    Could not locate executable g95\n",
      "    customize IntelEM64VisualFCompiler\n",
      "    customize IntelEM64TFCompiler\n",
      "    Could not locate executable efort\n",
      "    Could not locate executable efc\n",
      "    customize PGroupFlangCompiler\n",
      "    Could not locate executable flang\n",
      "    don't know how to compile Fortran code on platform 'nt'\n",
      "      NOT AVAILABLE\n",
      "    \n",
      "    atlas_3_10_blas_threads_info:\n",
      "    Setting PTATLAS=ATLAS\n",
      "    No module named 'numpy.distutils._msvccompiler' in numpy.distutils; trying from distutils\n",
      "    customize MSVCCompiler\n",
      "      libraries tatlas not found in ['C:\\\\Users\\\\Admin\\\\anaconda3\\\\lib', 'C:\\\\', 'C:\\\\Users\\\\Admin\\\\anaconda3\\\\libs', 'C:\\\\Users\\\\Admin\\\\anaconda3\\\\Library\\\\lib']\n",
      "      NOT AVAILABLE\n",
      "    \n",
      "    atlas_3_10_blas_info:\n",
      "    No module named 'numpy.distutils._msvccompiler' in numpy.distutils; trying from distutils\n",
      "    customize MSVCCompiler\n",
      "      libraries satlas not found in ['C:\\\\Users\\\\Admin\\\\anaconda3\\\\lib', 'C:\\\\', 'C:\\\\Users\\\\Admin\\\\anaconda3\\\\libs', 'C:\\\\Users\\\\Admin\\\\anaconda3\\\\Library\\\\lib']\n",
      "      NOT AVAILABLE\n",
      "    \n",
      "    atlas_blas_threads_info:\n",
      "    Setting PTATLAS=ATLAS\n",
      "    No module named 'numpy.distutils._msvccompiler' in numpy.distutils; trying from distutils\n",
      "    customize MSVCCompiler\n",
      "      libraries ptf77blas,ptcblas,atlas not found in ['C:\\\\Users\\\\Admin\\\\anaconda3\\\\lib', 'C:\\\\', 'C:\\\\Users\\\\Admin\\\\anaconda3\\\\libs', 'C:\\\\Users\\\\Admin\\\\anaconda3\\\\Library\\\\lib']\n",
      "      NOT AVAILABLE\n",
      "    \n",
      "    atlas_blas_info:\n",
      "    No module named 'numpy.distutils._msvccompiler' in numpy.distutils; trying from distutils\n",
      "    customize MSVCCompiler\n",
      "      libraries f77blas,cblas,atlas not found in ['C:\\\\Users\\\\Admin\\\\anaconda3\\\\lib', 'C:\\\\', 'C:\\\\Users\\\\Admin\\\\anaconda3\\\\libs', 'C:\\\\Users\\\\Admin\\\\anaconda3\\\\Library\\\\lib']\n",
      "      NOT AVAILABLE\n",
      "    \n",
      "    accelerate_info:\n",
      "      NOT AVAILABLE\n",
      "    \n",
      "    C:\\Users\\Admin\\AppData\\Local\\Temp\\pip-install-jts1v3bh\\numpy_dcadc78f3c8442e4a7dd4a39004e29a5\\numpy\\distutils\\system_info.py:639: UserWarning:\n",
      "        Atlas (http://math-atlas.sourceforge.net/) libraries not found.\n",
      "        Directories to search for the libraries can be specified in the\n",
      "        numpy/distutils/site.cfg file (section [atlas]) or by setting\n",
      "        the ATLAS environment variable.\n",
      "      self.calc_info()\n",
      "    blas_info:\n",
      "    No module named 'numpy.distutils._msvccompiler' in numpy.distutils; trying from distutils\n",
      "    customize MSVCCompiler\n",
      "      libraries blas not found in ['C:\\\\Users\\\\Admin\\\\anaconda3\\\\lib', 'C:\\\\', 'C:\\\\Users\\\\Admin\\\\anaconda3\\\\libs', 'C:\\\\Users\\\\Admin\\\\anaconda3\\\\Library\\\\lib']\n",
      "      NOT AVAILABLE\n",
      "    \n",
      "    C:\\Users\\Admin\\AppData\\Local\\Temp\\pip-install-jts1v3bh\\numpy_dcadc78f3c8442e4a7dd4a39004e29a5\\numpy\\distutils\\system_info.py:639: UserWarning:\n",
      "        Blas (http://www.netlib.org/blas/) libraries not found.\n",
      "        Directories to search for the libraries can be specified in the\n",
      "        numpy/distutils/site.cfg file (section [blas]) or by setting\n",
      "        the BLAS environment variable.\n",
      "      self.calc_info()\n",
      "    blas_src_info:\n",
      "      NOT AVAILABLE\n",
      "    \n",
      "    C:\\Users\\Admin\\AppData\\Local\\Temp\\pip-install-jts1v3bh\\numpy_dcadc78f3c8442e4a7dd4a39004e29a5\\numpy\\distutils\\system_info.py:639: UserWarning:\n",
      "        Blas (http://www.netlib.org/blas/) sources not found.\n",
      "        Directories to search for the sources can be specified in the\n",
      "        numpy/distutils/site.cfg file (section [blas_src]) or by setting\n",
      "        the BLAS_SRC environment variable.\n",
      "      self.calc_info()\n",
      "      NOT AVAILABLE\n",
      "    \n",
      "    'svnversion'은(는) 내부 또는 외부 명령, 실행할 수 있는 프로그램, 또는\n",
      "    배치 파일이 아닙니다.\n",
      "    non-existing path in 'numpy\\\\distutils': 'site.cfg'\n",
      "    lapack_opt_info:\n",
      "    lapack_mkl_info:\n",
      "    No module named 'numpy.distutils._msvccompiler' in numpy.distutils; trying from distutils\n",
      "    customize MSVCCompiler\n",
      "      libraries mkl_rt not found in ['C:\\\\Users\\\\Admin\\\\anaconda3\\\\lib', 'C:\\\\', 'C:\\\\Users\\\\Admin\\\\anaconda3\\\\libs', 'C:\\\\Users\\\\Admin\\\\anaconda3\\\\Library\\\\lib']\n",
      "      NOT AVAILABLE\n",
      "    \n",
      "    openblas_lapack_info:\n",
      "    No module named 'numpy.distutils._msvccompiler' in numpy.distutils; trying from distutils\n",
      "    customize MSVCCompiler\n",
      "    No module named 'numpy.distutils._msvccompiler' in numpy.distutils; trying from distutils\n",
      "    customize MSVCCompiler\n",
      "      libraries openblas not found in ['C:\\\\Users\\\\Admin\\\\anaconda3\\\\lib', 'C:\\\\', 'C:\\\\Users\\\\Admin\\\\anaconda3\\\\libs', 'C:\\\\Users\\\\Admin\\\\anaconda3\\\\Library\\\\lib']\n",
      "      NOT AVAILABLE\n",
      "    \n",
      "    openblas_clapack_info:\n",
      "    No module named 'numpy.distutils._msvccompiler' in numpy.distutils; trying from distutils\n",
      "    customize MSVCCompiler\n",
      "    No module named 'numpy.distutils._msvccompiler' in numpy.distutils; trying from distutils\n",
      "    customize MSVCCompiler\n",
      "      libraries openblas,lapack not found in ['C:\\\\Users\\\\Admin\\\\anaconda3\\\\lib', 'C:\\\\', 'C:\\\\Users\\\\Admin\\\\anaconda3\\\\libs', 'C:\\\\Users\\\\Admin\\\\anaconda3\\\\Library\\\\lib']\n",
      "      NOT AVAILABLE\n",
      "    \n",
      "    atlas_3_10_threads_info:\n",
      "    Setting PTATLAS=ATLAS\n",
      "    No module named 'numpy.distutils._msvccompiler' in numpy.distutils; trying from distutils\n",
      "    customize MSVCCompiler\n",
      "      libraries lapack_atlas not found in C:\\Users\\Admin\\anaconda3\\lib\n",
      "    No module named 'numpy.distutils._msvccompiler' in numpy.distutils; trying from distutils\n",
      "    customize MSVCCompiler\n",
      "      libraries tatlas,tatlas not found in C:\\Users\\Admin\\anaconda3\\lib\n",
      "    No module named 'numpy.distutils._msvccompiler' in numpy.distutils; trying from distutils\n",
      "    customize MSVCCompiler\n",
      "      libraries lapack_atlas not found in C:\\\n",
      "    No module named 'numpy.distutils._msvccompiler' in numpy.distutils; trying from distutils\n",
      "    customize MSVCCompiler\n",
      "      libraries tatlas,tatlas not found in C:\\\n",
      "    No module named 'numpy.distutils._msvccompiler' in numpy.distutils; trying from distutils\n",
      "    customize MSVCCompiler\n",
      "      libraries lapack_atlas not found in C:\\Users\\Admin\\anaconda3\\libs\n",
      "    No module named 'numpy.distutils._msvccompiler' in numpy.distutils; trying from distutils\n",
      "    customize MSVCCompiler\n",
      "      libraries tatlas,tatlas not found in C:\\Users\\Admin\\anaconda3\\libs\n",
      "    No module named 'numpy.distutils._msvccompiler' in numpy.distutils; trying from distutils\n",
      "    customize MSVCCompiler\n",
      "      libraries lapack_atlas not found in C:\\Users\\Admin\\anaconda3\\Library\\lib\n",
      "    No module named 'numpy.distutils._msvccompiler' in numpy.distutils; trying from distutils\n",
      "    customize MSVCCompiler\n",
      "      libraries tatlas,tatlas not found in C:\\Users\\Admin\\anaconda3\\Library\\lib\n",
      "    <class 'numpy.distutils.system_info.atlas_3_10_threads_info'>\n",
      "      NOT AVAILABLE\n",
      "    \n",
      "    atlas_3_10_info:\n",
      "    No module named 'numpy.distutils._msvccompiler' in numpy.distutils; trying from distutils\n",
      "    customize MSVCCompiler\n",
      "      libraries lapack_atlas not found in C:\\Users\\Admin\\anaconda3\\lib\n",
      "    No module named 'numpy.distutils._msvccompiler' in numpy.distutils; trying from distutils\n",
      "    customize MSVCCompiler\n",
      "      libraries satlas,satlas not found in C:\\Users\\Admin\\anaconda3\\lib\n",
      "    No module named 'numpy.distutils._msvccompiler' in numpy.distutils; trying from distutils\n",
      "    customize MSVCCompiler\n",
      "      libraries lapack_atlas not found in C:\\\n",
      "    No module named 'numpy.distutils._msvccompiler' in numpy.distutils; trying from distutils\n",
      "    customize MSVCCompiler\n",
      "      libraries satlas,satlas not found in C:\\\n",
      "    No module named 'numpy.distutils._msvccompiler' in numpy.distutils; trying from distutils\n",
      "    customize MSVCCompiler\n",
      "      libraries lapack_atlas not found in C:\\Users\\Admin\\anaconda3\\libs\n",
      "    No module named 'numpy.distutils._msvccompiler' in numpy.distutils; trying from distutils\n",
      "    customize MSVCCompiler\n",
      "      libraries satlas,satlas not found in C:\\Users\\Admin\\anaconda3\\libs\n",
      "    No module named 'numpy.distutils._msvccompiler' in numpy.distutils; trying from distutils\n",
      "    customize MSVCCompiler\n",
      "      libraries lapack_atlas not found in C:\\Users\\Admin\\anaconda3\\Library\\lib\n",
      "    No module named 'numpy.distutils._msvccompiler' in numpy.distutils; trying from distutils\n",
      "    customize MSVCCompiler\n",
      "      libraries satlas,satlas not found in C:\\Users\\Admin\\anaconda3\\Library\\lib\n",
      "    <class 'numpy.distutils.system_info.atlas_3_10_info'>\n",
      "      NOT AVAILABLE\n",
      "    \n",
      "    atlas_threads_info:\n",
      "    Setting PTATLAS=ATLAS\n",
      "    No module named 'numpy.distutils._msvccompiler' in numpy.distutils; trying from distutils\n",
      "    customize MSVCCompiler\n",
      "      libraries lapack_atlas not found in C:\\Users\\Admin\\anaconda3\\lib\n",
      "    No module named 'numpy.distutils._msvccompiler' in numpy.distutils; trying from distutils\n",
      "    customize MSVCCompiler\n",
      "      libraries ptf77blas,ptcblas,atlas not found in C:\\Users\\Admin\\anaconda3\\lib\n",
      "    No module named 'numpy.distutils._msvccompiler' in numpy.distutils; trying from distutils\n",
      "    customize MSVCCompiler\n",
      "      libraries lapack_atlas not found in C:\\\n",
      "    No module named 'numpy.distutils._msvccompiler' in numpy.distutils; trying from distutils\n",
      "    customize MSVCCompiler\n",
      "      libraries ptf77blas,ptcblas,atlas not found in C:\\\n",
      "    No module named 'numpy.distutils._msvccompiler' in numpy.distutils; trying from distutils\n",
      "    customize MSVCCompiler\n",
      "      libraries lapack_atlas not found in C:\\Users\\Admin\\anaconda3\\libs\n",
      "    No module named 'numpy.distutils._msvccompiler' in numpy.distutils; trying from distutils\n",
      "    customize MSVCCompiler\n",
      "      libraries ptf77blas,ptcblas,atlas not found in C:\\Users\\Admin\\anaconda3\\libs\n",
      "    No module named 'numpy.distutils._msvccompiler' in numpy.distutils; trying from distutils\n",
      "    customize MSVCCompiler\n",
      "      libraries lapack_atlas not found in C:\\Users\\Admin\\anaconda3\\Library\\lib\n",
      "    No module named 'numpy.distutils._msvccompiler' in numpy.distutils; trying from distutils\n",
      "    customize MSVCCompiler\n",
      "      libraries ptf77blas,ptcblas,atlas not found in C:\\Users\\Admin\\anaconda3\\Library\\lib\n",
      "    <class 'numpy.distutils.system_info.atlas_threads_info'>\n",
      "      NOT AVAILABLE\n",
      "    \n",
      "    atlas_info:\n",
      "    No module named 'numpy.distutils._msvccompiler' in numpy.distutils; trying from distutils\n",
      "    customize MSVCCompiler\n",
      "      libraries lapack_atlas not found in C:\\Users\\Admin\\anaconda3\\lib\n",
      "    No module named 'numpy.distutils._msvccompiler' in numpy.distutils; trying from distutils\n",
      "    customize MSVCCompiler\n",
      "      libraries f77blas,cblas,atlas not found in C:\\Users\\Admin\\anaconda3\\lib\n",
      "    No module named 'numpy.distutils._msvccompiler' in numpy.distutils; trying from distutils\n",
      "    customize MSVCCompiler\n",
      "      libraries lapack_atlas not found in C:\\\n",
      "    No module named 'numpy.distutils._msvccompiler' in numpy.distutils; trying from distutils\n",
      "    customize MSVCCompiler\n",
      "      libraries f77blas,cblas,atlas not found in C:\\\n",
      "    No module named 'numpy.distutils._msvccompiler' in numpy.distutils; trying from distutils\n",
      "    customize MSVCCompiler\n",
      "      libraries lapack_atlas not found in C:\\Users\\Admin\\anaconda3\\libs\n",
      "    No module named 'numpy.distutils._msvccompiler' in numpy.distutils; trying from distutils\n",
      "    customize MSVCCompiler\n",
      "      libraries f77blas,cblas,atlas not found in C:\\Users\\Admin\\anaconda3\\libs\n",
      "    No module named 'numpy.distutils._msvccompiler' in numpy.distutils; trying from distutils\n",
      "    customize MSVCCompiler\n",
      "      libraries lapack_atlas not found in C:\\Users\\Admin\\anaconda3\\Library\\lib\n",
      "    No module named 'numpy.distutils._msvccompiler' in numpy.distutils; trying from distutils\n",
      "    customize MSVCCompiler\n",
      "      libraries f77blas,cblas,atlas not found in C:\\Users\\Admin\\anaconda3\\Library\\lib\n",
      "    <class 'numpy.distutils.system_info.atlas_info'>\n",
      "      NOT AVAILABLE\n",
      "    \n",
      "    lapack_info:\n",
      "    No module named 'numpy.distutils._msvccompiler' in numpy.distutils; trying from distutils\n",
      "    customize MSVCCompiler\n",
      "      libraries lapack not found in ['C:\\\\Users\\\\Admin\\\\anaconda3\\\\lib', 'C:\\\\', 'C:\\\\Users\\\\Admin\\\\anaconda3\\\\libs', 'C:\\\\Users\\\\Admin\\\\anaconda3\\\\Library\\\\lib']\n",
      "      NOT AVAILABLE\n",
      "    \n",
      "    C:\\Users\\Admin\\AppData\\Local\\Temp\\pip-install-jts1v3bh\\numpy_dcadc78f3c8442e4a7dd4a39004e29a5\\numpy\\distutils\\system_info.py:639: UserWarning:\n",
      "        Lapack (http://www.netlib.org/lapack/) libraries not found.\n",
      "        Directories to search for the libraries can be specified in the\n",
      "        numpy/distutils/site.cfg file (section [lapack]) or by setting\n",
      "        the LAPACK environment variable.\n",
      "      self.calc_info()\n",
      "    lapack_src_info:\n",
      "      NOT AVAILABLE\n",
      "    \n",
      "    C:\\Users\\Admin\\AppData\\Local\\Temp\\pip-install-jts1v3bh\\numpy_dcadc78f3c8442e4a7dd4a39004e29a5\\numpy\\distutils\\system_info.py:639: UserWarning:\n",
      "        Lapack (http://www.netlib.org/lapack/) sources not found.\n",
      "        Directories to search for the sources can be specified in the\n",
      "        numpy/distutils/site.cfg file (section [lapack_src]) or by setting\n",
      "        the LAPACK_SRC environment variable.\n",
      "      self.calc_info()\n",
      "      NOT AVAILABLE\n",
      "    \n",
      "    C:\\Users\\Admin\\anaconda3\\lib\\distutils\\dist.py:274: UserWarning: Unknown distribution option: 'define_macros'\n",
      "      warnings.warn(msg)\n",
      "    running install\n",
      "    running build\n",
      "    running config_cc\n",
      "    unifing config_cc, config, build_clib, build_ext, build commands --compiler options\n",
      "    running config_fc\n",
      "    unifing config_fc, config, build_clib, build_ext, build commands --fcompiler options\n",
      "    running build_src\n",
      "    build_src\n",
      "    building py_modules sources\n",
      "    building library \"npymath\" sources\n",
      "    No module named 'numpy.distutils._msvccompiler' in numpy.distutils; trying from distutils\n",
      "    error: Microsoft Visual C++ 14.0 or greater is required. Get it with \"Microsoft C++ Build Tools\": https://visualstudio.microsoft.com/visual-cpp-build-tools/\n",
      "    ----------------------------------------\n",
      "ERROR: Command errored out with exit status 1: 'C:\\Users\\Admin\\anaconda3\\python.exe' -u -c 'import io, os, sys, setuptools, tokenize; sys.argv[0] = '\"'\"'C:\\\\Users\\\\Admin\\\\AppData\\\\Local\\\\Temp\\\\pip-install-jts1v3bh\\\\numpy_dcadc78f3c8442e4a7dd4a39004e29a5\\\\setup.py'\"'\"'; __file__='\"'\"'C:\\\\Users\\\\Admin\\\\AppData\\\\Local\\\\Temp\\\\pip-install-jts1v3bh\\\\numpy_dcadc78f3c8442e4a7dd4a39004e29a5\\\\setup.py'\"'\"';f = getattr(tokenize, '\"'\"'open'\"'\"', open)(__file__) if os.path.exists(__file__) else io.StringIO('\"'\"'from setuptools import setup; setup()'\"'\"');code = f.read().replace('\"'\"'\\r\\n'\"'\"', '\"'\"'\\n'\"'\"');f.close();exec(compile(code, __file__, '\"'\"'exec'\"'\"'))' install --record 'C:\\Users\\Admin\\AppData\\Local\\Temp\\pip-record-d1di56g3\\install-record.txt' --single-version-externally-managed --compile --install-headers 'C:\\Users\\Admin\\anaconda3\\Include\\numpy' Check the logs for full command output.\n"
     ]
    },
    {
     "name": "stdout",
     "output_type": "stream",
     "text": [
      "Requirement already satisfied: certifi>=2017.4.17 in c:\\users\\admin\\anaconda3\\lib\\site-packages (from requests<2.19.0,>=2.18.4->mxnet) (2021.10.8)\n",
      "Collecting idna<2.7,>=2.5\n",
      "  Downloading idna-2.6-py2.py3-none-any.whl (56 kB)\n",
      "Collecting chardet<3.1.0,>=3.0.2\n",
      "  Downloading chardet-3.0.4-py2.py3-none-any.whl (133 kB)\n",
      "Collecting urllib3<1.23,>=1.21.1\n",
      "  Downloading urllib3-1.22-py2.py3-none-any.whl (132 kB)\n",
      "Building wheels for collected packages: numpy\n",
      "  Building wheel for numpy (setup.py): started\n",
      "  Building wheel for numpy (setup.py): finished with status 'error'\n",
      "  Running setup.py clean for numpy\n",
      "Failed to build numpy\n",
      "Installing collected packages: urllib3, idna, chardet, requests, numpy, graphviz, mxnet\n",
      "  Attempting uninstall: urllib3\n",
      "    Found existing installation: urllib3 1.26.7\n",
      "    Uninstalling urllib3-1.26.7:\n",
      "      Successfully uninstalled urllib3-1.26.7\n",
      "  Attempting uninstall: idna\n",
      "    Found existing installation: idna 3.2\n",
      "    Uninstalling idna-3.2:\n",
      "      Successfully uninstalled idna-3.2\n",
      "  Attempting uninstall: chardet\n",
      "    Found existing installation: chardet 4.0.0\n",
      "    Uninstalling chardet-4.0.0:\n",
      "      Successfully uninstalled chardet-4.0.0\n",
      "  Attempting uninstall: requests\n",
      "    Found existing installation: requests 2.26.0\n",
      "    Uninstalling requests-2.26.0:\n",
      "      Successfully uninstalled requests-2.26.0\n",
      "  Attempting uninstall: numpy\n",
      "    Found existing installation: numpy 1.19.5\n",
      "    Uninstalling numpy-1.19.5:\n",
      "      Successfully uninstalled numpy-1.19.5\n",
      "    Running setup.py install for numpy: started\n",
      "    Running setup.py install for numpy: finished with status 'error'\n",
      "  Rolling back uninstall of numpy\n",
      "  Moving to c:\\users\\admin\\anaconda3\\lib\\site-packages\\numpy-1.19.5.dist-info\\\n",
      "   from C:\\Users\\Admin\\anaconda3\\Lib\\site-packages\\~umpy-1.19.5.dist-info\n",
      "  Moving to c:\\users\\admin\\anaconda3\\lib\\site-packages\\numpy\\\n",
      "   from C:\\Users\\Admin\\anaconda3\\Lib\\site-packages\\~-mpy\n",
      "  Moving to c:\\users\\admin\\anaconda3\\scripts\\f2py.exe\n",
      "   from C:\\Users\\Admin\\AppData\\Local\\Temp\\pip-uninstall-3p072eya\\f2py.exe\n",
      "Collecting gluonnlp\n",
      "  Downloading gluonnlp-0.10.0.tar.gz (344 kB)\n",
      "Requirement already satisfied: pandas in c:\\users\\admin\\anaconda3\\lib\\site-packages (1.3.4)\n",
      "Requirement already satisfied: tqdm in c:\\users\\admin\\anaconda3\\lib\\site-packages (4.62.3)\n",
      "Requirement already satisfied: numpy>=1.16.0 in c:\\users\\admin\\anaconda3\\lib\\site-packages (from gluonnlp) (1.19.5)\n",
      "Requirement already satisfied: cython in c:\\users\\admin\\anaconda3\\lib\\site-packages (from gluonnlp) (0.29.23)\n",
      "Requirement already satisfied: packaging in c:\\users\\admin\\anaconda3\\lib\\site-packages (from gluonnlp) (21.0)\n",
      "Requirement already satisfied: pytz>=2017.3 in c:\\users\\admin\\anaconda3\\lib\\site-packages (from pandas) (2021.3)\n",
      "Requirement already satisfied: python-dateutil>=2.7.3 in c:\\users\\admin\\anaconda3\\lib\\site-packages (from pandas) (2.8.2)\n",
      "Requirement already satisfied: colorama in c:\\users\\admin\\anaconda3\\lib\\site-packages (from tqdm) (0.4.4)\n",
      "Requirement already satisfied: six>=1.5 in c:\\users\\admin\\anaconda3\\lib\\site-packages (from python-dateutil>=2.7.3->pandas) (1.15.0)\n",
      "Requirement already satisfied: pyparsing>=2.0.2 in c:\\users\\admin\\anaconda3\\lib\\site-packages (from packaging->gluonnlp) (3.0.4)\n",
      "Building wheels for collected packages: gluonnlp\n",
      "  Building wheel for gluonnlp (setup.py): started\n",
      "  Building wheel for gluonnlp (setup.py): finished with status 'error'\n",
      "  Running setup.py clean for gluonnlp\n",
      "Failed to build gluonnlp\n",
      "Installing collected packages: gluonnlp\n",
      "    Running setup.py install for gluonnlp: started\n",
      "    Running setup.py install for gluonnlp: finished with status 'error'\n"
     ]
    },
    {
     "name": "stderr",
     "output_type": "stream",
     "text": [
      "  ERROR: Command errored out with exit status 1:\n",
      "   command: 'C:\\Users\\Admin\\anaconda3\\python.exe' -u -c 'import io, os, sys, setuptools, tokenize; sys.argv[0] = '\"'\"'C:\\\\Users\\\\Admin\\\\AppData\\\\Local\\\\Temp\\\\pip-install-8n24k9tu\\\\gluonnlp_7a0abc28dd75414096576f9bdfd6d439\\\\setup.py'\"'\"'; __file__='\"'\"'C:\\\\Users\\\\Admin\\\\AppData\\\\Local\\\\Temp\\\\pip-install-8n24k9tu\\\\gluonnlp_7a0abc28dd75414096576f9bdfd6d439\\\\setup.py'\"'\"';f = getattr(tokenize, '\"'\"'open'\"'\"', open)(__file__) if os.path.exists(__file__) else io.StringIO('\"'\"'from setuptools import setup; setup()'\"'\"');code = f.read().replace('\"'\"'\\r\\n'\"'\"', '\"'\"'\\n'\"'\"');f.close();exec(compile(code, __file__, '\"'\"'exec'\"'\"'))' bdist_wheel -d 'C:\\Users\\Admin\\AppData\\Local\\Temp\\pip-wheel-fals8ihc'\n",
      "       cwd: C:\\Users\\Admin\\AppData\\Local\\Temp\\pip-install-8n24k9tu\\gluonnlp_7a0abc28dd75414096576f9bdfd6d439\\\n",
      "  Complete output (124 lines):\n",
      "  running bdist_wheel\n",
      "  running build\n",
      "  running build_py\n",
      "  creating build\n",
      "  creating build\\lib.win-amd64-3.9\n",
      "  creating build\\lib.win-amd64-3.9\\gluonnlp\n",
      "  copying src\\gluonnlp\\base.py -> build\\lib.win-amd64-3.9\\gluonnlp\n",
      "  copying src\\gluonnlp\\_constants.py -> build\\lib.win-amd64-3.9\\gluonnlp\n",
      "  copying src\\gluonnlp\\__init__.py -> build\\lib.win-amd64-3.9\\gluonnlp\n",
      "  creating build\\lib.win-amd64-3.9\\gluonnlp\\calibration\n",
      "  copying src\\gluonnlp\\calibration\\collector.py -> build\\lib.win-amd64-3.9\\gluonnlp\\calibration\n",
      "  copying src\\gluonnlp\\calibration\\__init__.py -> build\\lib.win-amd64-3.9\\gluonnlp\\calibration\n",
      "  creating build\\lib.win-amd64-3.9\\gluonnlp\\data\n",
      "  copying src\\gluonnlp\\data\\baidu_ernie_data.py -> build\\lib.win-amd64-3.9\\gluonnlp\\data\n",
      "  copying src\\gluonnlp\\data\\candidate_sampler.py -> build\\lib.win-amd64-3.9\\gluonnlp\\data\n",
      "  copying src\\gluonnlp\\data\\classification.py -> build\\lib.win-amd64-3.9\\gluonnlp\\data\n",
      "  copying src\\gluonnlp\\data\\conll.py -> build\\lib.win-amd64-3.9\\gluonnlp\\data\n",
      "  copying src\\gluonnlp\\data\\dataloader.py -> build\\lib.win-amd64-3.9\\gluonnlp\\data\n",
      "  copying src\\gluonnlp\\data\\dataset.py -> build\\lib.win-amd64-3.9\\gluonnlp\\data\n",
      "  copying src\\gluonnlp\\data\\datasetloader.py -> build\\lib.win-amd64-3.9\\gluonnlp\\data\n",
      "  copying src\\gluonnlp\\data\\glue.py -> build\\lib.win-amd64-3.9\\gluonnlp\\data\n",
      "  copying src\\gluonnlp\\data\\intent_slot.py -> build\\lib.win-amd64-3.9\\gluonnlp\\data\n",
      "  copying src\\gluonnlp\\data\\question_answering.py -> build\\lib.win-amd64-3.9\\gluonnlp\\data\n",
      "  copying src\\gluonnlp\\data\\registry.py -> build\\lib.win-amd64-3.9\\gluonnlp\\data\n",
      "  copying src\\gluonnlp\\data\\sampler.py -> build\\lib.win-amd64-3.9\\gluonnlp\\data\n",
      "  copying src\\gluonnlp\\data\\sentiment.py -> build\\lib.win-amd64-3.9\\gluonnlp\\data\n",
      "  copying src\\gluonnlp\\data\\stream.py -> build\\lib.win-amd64-3.9\\gluonnlp\\data\n",
      "  copying src\\gluonnlp\\data\\super_glue.py -> build\\lib.win-amd64-3.9\\gluonnlp\\data\n",
      "  copying src\\gluonnlp\\data\\transforms.py -> build\\lib.win-amd64-3.9\\gluonnlp\\data\n",
      "  copying src\\gluonnlp\\data\\translation.py -> build\\lib.win-amd64-3.9\\gluonnlp\\data\n",
      "  copying src\\gluonnlp\\data\\utils.py -> build\\lib.win-amd64-3.9\\gluonnlp\\data\n",
      "  copying src\\gluonnlp\\data\\word_embedding_evaluation.py -> build\\lib.win-amd64-3.9\\gluonnlp\\data\n",
      "  copying src\\gluonnlp\\data\\__init__.py -> build\\lib.win-amd64-3.9\\gluonnlp\\data\n",
      "  creating build\\lib.win-amd64-3.9\\gluonnlp\\embedding\n",
      "  copying src\\gluonnlp\\embedding\\evaluation.py -> build\\lib.win-amd64-3.9\\gluonnlp\\embedding\n",
      "  copying src\\gluonnlp\\embedding\\token_embedding.py -> build\\lib.win-amd64-3.9\\gluonnlp\\embedding\n",
      "  copying src\\gluonnlp\\embedding\\__init__.py -> build\\lib.win-amd64-3.9\\gluonnlp\\embedding\n",
      "  creating build\\lib.win-amd64-3.9\\gluonnlp\\initializer\n",
      "  copying src\\gluonnlp\\initializer\\initializer.py -> build\\lib.win-amd64-3.9\\gluonnlp\\initializer\n",
      "  copying src\\gluonnlp\\initializer\\__init__.py -> build\\lib.win-amd64-3.9\\gluonnlp\\initializer\n",
      "  creating build\\lib.win-amd64-3.9\\gluonnlp\\loss\n",
      "  copying src\\gluonnlp\\loss\\activation_regularizer.py -> build\\lib.win-amd64-3.9\\gluonnlp\\loss\n",
      "  copying src\\gluonnlp\\loss\\label_smoothing.py -> build\\lib.win-amd64-3.9\\gluonnlp\\loss\n",
      "  copying src\\gluonnlp\\loss\\loss.py -> build\\lib.win-amd64-3.9\\gluonnlp\\loss\n",
      "  copying src\\gluonnlp\\loss\\__init__.py -> build\\lib.win-amd64-3.9\\gluonnlp\\loss\n",
      "  creating build\\lib.win-amd64-3.9\\gluonnlp\\metric\n",
      "  copying src\\gluonnlp\\metric\\length_normalized_loss.py -> build\\lib.win-amd64-3.9\\gluonnlp\\metric\n",
      "  copying src\\gluonnlp\\metric\\masked_accuracy.py -> build\\lib.win-amd64-3.9\\gluonnlp\\metric\n",
      "  copying src\\gluonnlp\\metric\\__init__.py -> build\\lib.win-amd64-3.9\\gluonnlp\\metric\n",
      "  creating build\\lib.win-amd64-3.9\\gluonnlp\\model\n",
      "  copying src\\gluonnlp\\model\\attention_cell.py -> build\\lib.win-amd64-3.9\\gluonnlp\\model\n",
      "  copying src\\gluonnlp\\model\\bert.py -> build\\lib.win-amd64-3.9\\gluonnlp\\model\n",
      "  copying src\\gluonnlp\\model\\bilm_encoder.py -> build\\lib.win-amd64-3.9\\gluonnlp\\model\n",
      "  copying src\\gluonnlp\\model\\block.py -> build\\lib.win-amd64-3.9\\gluonnlp\\model\n",
      "  copying src\\gluonnlp\\model\\convolutional_encoder.py -> build\\lib.win-amd64-3.9\\gluonnlp\\model\n",
      "  copying src\\gluonnlp\\model\\elmo.py -> build\\lib.win-amd64-3.9\\gluonnlp\\model\n",
      "  copying src\\gluonnlp\\model\\highway.py -> build\\lib.win-amd64-3.9\\gluonnlp\\model\n",
      "  copying src\\gluonnlp\\model\\info.py -> build\\lib.win-amd64-3.9\\gluonnlp\\model\n",
      "  copying src\\gluonnlp\\model\\language_model.py -> build\\lib.win-amd64-3.9\\gluonnlp\\model\n",
      "  copying src\\gluonnlp\\model\\lstmpcellwithclip.py -> build\\lib.win-amd64-3.9\\gluonnlp\\model\n",
      "  copying src\\gluonnlp\\model\\parameter.py -> build\\lib.win-amd64-3.9\\gluonnlp\\model\n",
      "  copying src\\gluonnlp\\model\\sampled_block.py -> build\\lib.win-amd64-3.9\\gluonnlp\\model\n",
      "  copying src\\gluonnlp\\model\\seq2seq_encoder_decoder.py -> build\\lib.win-amd64-3.9\\gluonnlp\\model\n",
      "  copying src\\gluonnlp\\model\\sequence_sampler.py -> build\\lib.win-amd64-3.9\\gluonnlp\\model\n",
      "  copying src\\gluonnlp\\model\\transformer.py -> build\\lib.win-amd64-3.9\\gluonnlp\\model\n",
      "  copying src\\gluonnlp\\model\\translation.py -> build\\lib.win-amd64-3.9\\gluonnlp\\model\n",
      "  copying src\\gluonnlp\\model\\utils.py -> build\\lib.win-amd64-3.9\\gluonnlp\\model\n",
      "  copying src\\gluonnlp\\model\\__init__.py -> build\\lib.win-amd64-3.9\\gluonnlp\\model\n",
      "  creating build\\lib.win-amd64-3.9\\gluonnlp\\optimizer\n",
      "  copying src\\gluonnlp\\optimizer\\bert_adam.py -> build\\lib.win-amd64-3.9\\gluonnlp\\optimizer\n",
      "  copying src\\gluonnlp\\optimizer\\__init__.py -> build\\lib.win-amd64-3.9\\gluonnlp\\optimizer\n",
      "  creating build\\lib.win-amd64-3.9\\gluonnlp\\utils\n",
      "  copying src\\gluonnlp\\utils\\files.py -> build\\lib.win-amd64-3.9\\gluonnlp\\utils\n",
      "  copying src\\gluonnlp\\utils\\parallel.py -> build\\lib.win-amd64-3.9\\gluonnlp\\utils\n",
      "  copying src\\gluonnlp\\utils\\parameter.py -> build\\lib.win-amd64-3.9\\gluonnlp\\utils\n",
      "  copying src\\gluonnlp\\utils\\seed.py -> build\\lib.win-amd64-3.9\\gluonnlp\\utils\n",
      "  copying src\\gluonnlp\\utils\\version.py -> build\\lib.win-amd64-3.9\\gluonnlp\\utils\n",
      "  copying src\\gluonnlp\\utils\\__init__.py -> build\\lib.win-amd64-3.9\\gluonnlp\\utils\n",
      "  creating build\\lib.win-amd64-3.9\\gluonnlp\\vocab\n",
      "  copying src\\gluonnlp\\vocab\\bert.py -> build\\lib.win-amd64-3.9\\gluonnlp\\vocab\n",
      "  copying src\\gluonnlp\\vocab\\elmo.py -> build\\lib.win-amd64-3.9\\gluonnlp\\vocab\n",
      "  copying src\\gluonnlp\\vocab\\subwords.py -> build\\lib.win-amd64-3.9\\gluonnlp\\vocab\n",
      "  copying src\\gluonnlp\\vocab\\vocab.py -> build\\lib.win-amd64-3.9\\gluonnlp\\vocab\n",
      "  copying src\\gluonnlp\\vocab\\__init__.py -> build\\lib.win-amd64-3.9\\gluonnlp\\vocab\n",
      "  creating build\\lib.win-amd64-3.9\\gluonnlp\\data\\batchify\n",
      "  copying src\\gluonnlp\\data\\batchify\\batchify.py -> build\\lib.win-amd64-3.9\\gluonnlp\\data\\batchify\n",
      "  copying src\\gluonnlp\\data\\batchify\\embedding.py -> build\\lib.win-amd64-3.9\\gluonnlp\\data\\batchify\n",
      "  copying src\\gluonnlp\\data\\batchify\\language_model.py -> build\\lib.win-amd64-3.9\\gluonnlp\\data\\batchify\n",
      "  copying src\\gluonnlp\\data\\batchify\\__init__.py -> build\\lib.win-amd64-3.9\\gluonnlp\\data\\batchify\n",
      "  creating build\\lib.win-amd64-3.9\\gluonnlp\\data\\bert\n",
      "  copying src\\gluonnlp\\data\\bert\\glue.py -> build\\lib.win-amd64-3.9\\gluonnlp\\data\\bert\n",
      "  copying src\\gluonnlp\\data\\bert\\squad.py -> build\\lib.win-amd64-3.9\\gluonnlp\\data\\bert\n",
      "  copying src\\gluonnlp\\data\\bert\\__init__.py -> build\\lib.win-amd64-3.9\\gluonnlp\\data\\bert\n",
      "  creating build\\lib.win-amd64-3.9\\gluonnlp\\data\\corpora\n",
      "  copying src\\gluonnlp\\data\\corpora\\google_billion_word.py -> build\\lib.win-amd64-3.9\\gluonnlp\\data\\corpora\n",
      "  copying src\\gluonnlp\\data\\corpora\\large_text_compression_benchmark.py -> build\\lib.win-amd64-3.9\\gluonnlp\\data\\corpora\n",
      "  copying src\\gluonnlp\\data\\corpora\\wikitext.py -> build\\lib.win-amd64-3.9\\gluonnlp\\data\\corpora\n",
      "  copying src\\gluonnlp\\data\\corpora\\__init__.py -> build\\lib.win-amd64-3.9\\gluonnlp\\data\\corpora\n",
      "  creating build\\lib.win-amd64-3.9\\gluonnlp\\data\\xlnet\n",
      "  copying src\\gluonnlp\\data\\xlnet\\squad.py -> build\\lib.win-amd64-3.9\\gluonnlp\\data\\xlnet\n",
      "  copying src\\gluonnlp\\data\\xlnet\\__init__.py -> build\\lib.win-amd64-3.9\\gluonnlp\\data\\xlnet\n",
      "  creating build\\lib.win-amd64-3.9\\gluonnlp\\model\\train\n",
      "  copying src\\gluonnlp\\model\\train\\cache.py -> build\\lib.win-amd64-3.9\\gluonnlp\\model\\train\n",
      "  copying src\\gluonnlp\\model\\train\\embedding.py -> build\\lib.win-amd64-3.9\\gluonnlp\\model\\train\n",
      "  copying src\\gluonnlp\\model\\train\\language_model.py -> build\\lib.win-amd64-3.9\\gluonnlp\\model\\train\n",
      "  copying src\\gluonnlp\\model\\train\\__init__.py -> build\\lib.win-amd64-3.9\\gluonnlp\\model\\train\n",
      "  running egg_info\n",
      "  writing src\\gluonnlp.egg-info\\PKG-INFO\n",
      "  writing dependency_links to src\\gluonnlp.egg-info\\dependency_links.txt\n",
      "  writing requirements to src\\gluonnlp.egg-info\\requires.txt\n",
      "  writing top-level names to src\\gluonnlp.egg-info\\top_level.txt\n",
      "  reading manifest file 'src\\gluonnlp.egg-info\\SOURCES.txt'\n",
      "  reading manifest template 'MANIFEST.in'\n",
      "  warning: no files found matching '*.py' under directory 'gluonnlp'\n",
      "  warning: no previously-included files matching '*' found under directory 'tests'\n",
      "  warning: no previously-included files matching '*' found under directory 'scripts'\n",
      "  adding license file 'LICENSE'\n",
      "  writing manifest file 'src\\gluonnlp.egg-info\\SOURCES.txt'\n",
      "  copying src\\gluonnlp\\data\\fast_bert_tokenizer.c -> build\\lib.win-amd64-3.9\\gluonnlp\\data\n",
      "  copying src\\gluonnlp\\data\\fast_bert_tokenizer.pyx -> build\\lib.win-amd64-3.9\\gluonnlp\\data\n",
      "  running build_ext\n",
      "  skipping 'src/gluonnlp/data\\fast_bert_tokenizer.c' Cython extension (up-to-date)\n",
      "  building 'gluonnlp.data.fast_bert_tokenizer' extension\n",
      "  error: Microsoft Visual C++ 14.0 or greater is required. Get it with \"Microsoft C++ Build Tools\": https://visualstudio.microsoft.com/visual-cpp-build-tools/\n",
      "  ----------------------------------------\n",
      "  ERROR: Failed building wheel for gluonnlp\n",
      "    ERROR: Command errored out with exit status 1:\n",
      "     command: 'C:\\Users\\Admin\\anaconda3\\python.exe' -u -c 'import io, os, sys, setuptools, tokenize; sys.argv[0] = '\"'\"'C:\\\\Users\\\\Admin\\\\AppData\\\\Local\\\\Temp\\\\pip-install-8n24k9tu\\\\gluonnlp_7a0abc28dd75414096576f9bdfd6d439\\\\setup.py'\"'\"'; __file__='\"'\"'C:\\\\Users\\\\Admin\\\\AppData\\\\Local\\\\Temp\\\\pip-install-8n24k9tu\\\\gluonnlp_7a0abc28dd75414096576f9bdfd6d439\\\\setup.py'\"'\"';f = getattr(tokenize, '\"'\"'open'\"'\"', open)(__file__) if os.path.exists(__file__) else io.StringIO('\"'\"'from setuptools import setup; setup()'\"'\"');code = f.read().replace('\"'\"'\\r\\n'\"'\"', '\"'\"'\\n'\"'\"');f.close();exec(compile(code, __file__, '\"'\"'exec'\"'\"'))' install --record 'C:\\Users\\Admin\\AppData\\Local\\Temp\\pip-record-6_dz39xk\\install-record.txt' --single-version-externally-managed --compile --install-headers 'C:\\Users\\Admin\\anaconda3\\Include\\gluonnlp'\n",
      "         cwd: C:\\Users\\Admin\\AppData\\Local\\Temp\\pip-install-8n24k9tu\\gluonnlp_7a0abc28dd75414096576f9bdfd6d439\\\n",
      "    Complete output (124 lines):\n",
      "    running install\n",
      "    running build\n",
      "    running build_py\n",
      "    creating build\n",
      "    creating build\\lib.win-amd64-3.9\n",
      "    creating build\\lib.win-amd64-3.9\\gluonnlp\n",
      "    copying src\\gluonnlp\\base.py -> build\\lib.win-amd64-3.9\\gluonnlp\n",
      "    copying src\\gluonnlp\\_constants.py -> build\\lib.win-amd64-3.9\\gluonnlp\n",
      "    copying src\\gluonnlp\\__init__.py -> build\\lib.win-amd64-3.9\\gluonnlp\n",
      "    creating build\\lib.win-amd64-3.9\\gluonnlp\\calibration\n",
      "    copying src\\gluonnlp\\calibration\\collector.py -> build\\lib.win-amd64-3.9\\gluonnlp\\calibration\n",
      "    copying src\\gluonnlp\\calibration\\__init__.py -> build\\lib.win-amd64-3.9\\gluonnlp\\calibration\n",
      "    creating build\\lib.win-amd64-3.9\\gluonnlp\\data\n",
      "    copying src\\gluonnlp\\data\\baidu_ernie_data.py -> build\\lib.win-amd64-3.9\\gluonnlp\\data\n",
      "    copying src\\gluonnlp\\data\\candidate_sampler.py -> build\\lib.win-amd64-3.9\\gluonnlp\\data\n",
      "    copying src\\gluonnlp\\data\\classification.py -> build\\lib.win-amd64-3.9\\gluonnlp\\data\n",
      "    copying src\\gluonnlp\\data\\conll.py -> build\\lib.win-amd64-3.9\\gluonnlp\\data\n",
      "    copying src\\gluonnlp\\data\\dataloader.py -> build\\lib.win-amd64-3.9\\gluonnlp\\data\n",
      "    copying src\\gluonnlp\\data\\dataset.py -> build\\lib.win-amd64-3.9\\gluonnlp\\data\n",
      "    copying src\\gluonnlp\\data\\datasetloader.py -> build\\lib.win-amd64-3.9\\gluonnlp\\data\n",
      "    copying src\\gluonnlp\\data\\glue.py -> build\\lib.win-amd64-3.9\\gluonnlp\\data\n",
      "    copying src\\gluonnlp\\data\\intent_slot.py -> build\\lib.win-amd64-3.9\\gluonnlp\\data\n",
      "    copying src\\gluonnlp\\data\\question_answering.py -> build\\lib.win-amd64-3.9\\gluonnlp\\data\n",
      "    copying src\\gluonnlp\\data\\registry.py -> build\\lib.win-amd64-3.9\\gluonnlp\\data\n",
      "    copying src\\gluonnlp\\data\\sampler.py -> build\\lib.win-amd64-3.9\\gluonnlp\\data\n",
      "    copying src\\gluonnlp\\data\\sentiment.py -> build\\lib.win-amd64-3.9\\gluonnlp\\data\n",
      "    copying src\\gluonnlp\\data\\stream.py -> build\\lib.win-amd64-3.9\\gluonnlp\\data\n",
      "    copying src\\gluonnlp\\data\\super_glue.py -> build\\lib.win-amd64-3.9\\gluonnlp\\data\n",
      "    copying src\\gluonnlp\\data\\transforms.py -> build\\lib.win-amd64-3.9\\gluonnlp\\data\n",
      "    copying src\\gluonnlp\\data\\translation.py -> build\\lib.win-amd64-3.9\\gluonnlp\\data\n",
      "    copying src\\gluonnlp\\data\\utils.py -> build\\lib.win-amd64-3.9\\gluonnlp\\data\n",
      "    copying src\\gluonnlp\\data\\word_embedding_evaluation.py -> build\\lib.win-amd64-3.9\\gluonnlp\\data\n",
      "    copying src\\gluonnlp\\data\\__init__.py -> build\\lib.win-amd64-3.9\\gluonnlp\\data\n",
      "    creating build\\lib.win-amd64-3.9\\gluonnlp\\embedding\n",
      "    copying src\\gluonnlp\\embedding\\evaluation.py -> build\\lib.win-amd64-3.9\\gluonnlp\\embedding\n",
      "    copying src\\gluonnlp\\embedding\\token_embedding.py -> build\\lib.win-amd64-3.9\\gluonnlp\\embedding\n",
      "    copying src\\gluonnlp\\embedding\\__init__.py -> build\\lib.win-amd64-3.9\\gluonnlp\\embedding\n",
      "    creating build\\lib.win-amd64-3.9\\gluonnlp\\initializer\n",
      "    copying src\\gluonnlp\\initializer\\initializer.py -> build\\lib.win-amd64-3.9\\gluonnlp\\initializer\n",
      "    copying src\\gluonnlp\\initializer\\__init__.py -> build\\lib.win-amd64-3.9\\gluonnlp\\initializer\n",
      "    creating build\\lib.win-amd64-3.9\\gluonnlp\\loss\n",
      "    copying src\\gluonnlp\\loss\\activation_regularizer.py -> build\\lib.win-amd64-3.9\\gluonnlp\\loss\n",
      "    copying src\\gluonnlp\\loss\\label_smoothing.py -> build\\lib.win-amd64-3.9\\gluonnlp\\loss\n",
      "    copying src\\gluonnlp\\loss\\loss.py -> build\\lib.win-amd64-3.9\\gluonnlp\\loss\n",
      "    copying src\\gluonnlp\\loss\\__init__.py -> build\\lib.win-amd64-3.9\\gluonnlp\\loss\n",
      "    creating build\\lib.win-amd64-3.9\\gluonnlp\\metric\n",
      "    copying src\\gluonnlp\\metric\\length_normalized_loss.py -> build\\lib.win-amd64-3.9\\gluonnlp\\metric\n",
      "    copying src\\gluonnlp\\metric\\masked_accuracy.py -> build\\lib.win-amd64-3.9\\gluonnlp\\metric\n",
      "    copying src\\gluonnlp\\metric\\__init__.py -> build\\lib.win-amd64-3.9\\gluonnlp\\metric\n",
      "    creating build\\lib.win-amd64-3.9\\gluonnlp\\model\n",
      "    copying src\\gluonnlp\\model\\attention_cell.py -> build\\lib.win-amd64-3.9\\gluonnlp\\model\n",
      "    copying src\\gluonnlp\\model\\bert.py -> build\\lib.win-amd64-3.9\\gluonnlp\\model\n",
      "    copying src\\gluonnlp\\model\\bilm_encoder.py -> build\\lib.win-amd64-3.9\\gluonnlp\\model\n",
      "    copying src\\gluonnlp\\model\\block.py -> build\\lib.win-amd64-3.9\\gluonnlp\\model\n",
      "    copying src\\gluonnlp\\model\\convolutional_encoder.py -> build\\lib.win-amd64-3.9\\gluonnlp\\model\n",
      "    copying src\\gluonnlp\\model\\elmo.py -> build\\lib.win-amd64-3.9\\gluonnlp\\model\n",
      "    copying src\\gluonnlp\\model\\highway.py -> build\\lib.win-amd64-3.9\\gluonnlp\\model\n",
      "    copying src\\gluonnlp\\model\\info.py -> build\\lib.win-amd64-3.9\\gluonnlp\\model\n",
      "    copying src\\gluonnlp\\model\\language_model.py -> build\\lib.win-amd64-3.9\\gluonnlp\\model\n",
      "    copying src\\gluonnlp\\model\\lstmpcellwithclip.py -> build\\lib.win-amd64-3.9\\gluonnlp\\model\n",
      "    copying src\\gluonnlp\\model\\parameter.py -> build\\lib.win-amd64-3.9\\gluonnlp\\model\n",
      "    copying src\\gluonnlp\\model\\sampled_block.py -> build\\lib.win-amd64-3.9\\gluonnlp\\model\n",
      "    copying src\\gluonnlp\\model\\seq2seq_encoder_decoder.py -> build\\lib.win-amd64-3.9\\gluonnlp\\model\n",
      "    copying src\\gluonnlp\\model\\sequence_sampler.py -> build\\lib.win-amd64-3.9\\gluonnlp\\model\n",
      "    copying src\\gluonnlp\\model\\transformer.py -> build\\lib.win-amd64-3.9\\gluonnlp\\model\n",
      "    copying src\\gluonnlp\\model\\translation.py -> build\\lib.win-amd64-3.9\\gluonnlp\\model\n",
      "    copying src\\gluonnlp\\model\\utils.py -> build\\lib.win-amd64-3.9\\gluonnlp\\model\n",
      "    copying src\\gluonnlp\\model\\__init__.py -> build\\lib.win-amd64-3.9\\gluonnlp\\model\n",
      "    creating build\\lib.win-amd64-3.9\\gluonnlp\\optimizer\n",
      "    copying src\\gluonnlp\\optimizer\\bert_adam.py -> build\\lib.win-amd64-3.9\\gluonnlp\\optimizer\n",
      "    copying src\\gluonnlp\\optimizer\\__init__.py -> build\\lib.win-amd64-3.9\\gluonnlp\\optimizer\n",
      "    creating build\\lib.win-amd64-3.9\\gluonnlp\\utils\n",
      "    copying src\\gluonnlp\\utils\\files.py -> build\\lib.win-amd64-3.9\\gluonnlp\\utils\n",
      "    copying src\\gluonnlp\\utils\\parallel.py -> build\\lib.win-amd64-3.9\\gluonnlp\\utils\n",
      "    copying src\\gluonnlp\\utils\\parameter.py -> build\\lib.win-amd64-3.9\\gluonnlp\\utils\n",
      "    copying src\\gluonnlp\\utils\\seed.py -> build\\lib.win-amd64-3.9\\gluonnlp\\utils\n",
      "    copying src\\gluonnlp\\utils\\version.py -> build\\lib.win-amd64-3.9\\gluonnlp\\utils\n",
      "    copying src\\gluonnlp\\utils\\__init__.py -> build\\lib.win-amd64-3.9\\gluonnlp\\utils\n",
      "    creating build\\lib.win-amd64-3.9\\gluonnlp\\vocab\n",
      "    copying src\\gluonnlp\\vocab\\bert.py -> build\\lib.win-amd64-3.9\\gluonnlp\\vocab\n",
      "    copying src\\gluonnlp\\vocab\\elmo.py -> build\\lib.win-amd64-3.9\\gluonnlp\\vocab\n",
      "    copying src\\gluonnlp\\vocab\\subwords.py -> build\\lib.win-amd64-3.9\\gluonnlp\\vocab\n",
      "    copying src\\gluonnlp\\vocab\\vocab.py -> build\\lib.win-amd64-3.9\\gluonnlp\\vocab\n",
      "    copying src\\gluonnlp\\vocab\\__init__.py -> build\\lib.win-amd64-3.9\\gluonnlp\\vocab\n",
      "    creating build\\lib.win-amd64-3.9\\gluonnlp\\data\\batchify\n",
      "    copying src\\gluonnlp\\data\\batchify\\batchify.py -> build\\lib.win-amd64-3.9\\gluonnlp\\data\\batchify\n",
      "    copying src\\gluonnlp\\data\\batchify\\embedding.py -> build\\lib.win-amd64-3.9\\gluonnlp\\data\\batchify\n",
      "    copying src\\gluonnlp\\data\\batchify\\language_model.py -> build\\lib.win-amd64-3.9\\gluonnlp\\data\\batchify\n",
      "    copying src\\gluonnlp\\data\\batchify\\__init__.py -> build\\lib.win-amd64-3.9\\gluonnlp\\data\\batchify\n",
      "    creating build\\lib.win-amd64-3.9\\gluonnlp\\data\\bert\n",
      "    copying src\\gluonnlp\\data\\bert\\glue.py -> build\\lib.win-amd64-3.9\\gluonnlp\\data\\bert\n",
      "    copying src\\gluonnlp\\data\\bert\\squad.py -> build\\lib.win-amd64-3.9\\gluonnlp\\data\\bert\n",
      "    copying src\\gluonnlp\\data\\bert\\__init__.py -> build\\lib.win-amd64-3.9\\gluonnlp\\data\\bert\n",
      "    creating build\\lib.win-amd64-3.9\\gluonnlp\\data\\corpora\n",
      "    copying src\\gluonnlp\\data\\corpora\\google_billion_word.py -> build\\lib.win-amd64-3.9\\gluonnlp\\data\\corpora\n",
      "    copying src\\gluonnlp\\data\\corpora\\large_text_compression_benchmark.py -> build\\lib.win-amd64-3.9\\gluonnlp\\data\\corpora\n",
      "    copying src\\gluonnlp\\data\\corpora\\wikitext.py -> build\\lib.win-amd64-3.9\\gluonnlp\\data\\corpora\n",
      "    copying src\\gluonnlp\\data\\corpora\\__init__.py -> build\\lib.win-amd64-3.9\\gluonnlp\\data\\corpora\n",
      "    creating build\\lib.win-amd64-3.9\\gluonnlp\\data\\xlnet\n",
      "    copying src\\gluonnlp\\data\\xlnet\\squad.py -> build\\lib.win-amd64-3.9\\gluonnlp\\data\\xlnet\n",
      "    copying src\\gluonnlp\\data\\xlnet\\__init__.py -> build\\lib.win-amd64-3.9\\gluonnlp\\data\\xlnet\n",
      "    creating build\\lib.win-amd64-3.9\\gluonnlp\\model\\train\n",
      "    copying src\\gluonnlp\\model\\train\\cache.py -> build\\lib.win-amd64-3.9\\gluonnlp\\model\\train\n",
      "    copying src\\gluonnlp\\model\\train\\embedding.py -> build\\lib.win-amd64-3.9\\gluonnlp\\model\\train\n",
      "    copying src\\gluonnlp\\model\\train\\language_model.py -> build\\lib.win-amd64-3.9\\gluonnlp\\model\\train\n",
      "    copying src\\gluonnlp\\model\\train\\__init__.py -> build\\lib.win-amd64-3.9\\gluonnlp\\model\\train\n",
      "    running egg_info\n",
      "    writing src\\gluonnlp.egg-info\\PKG-INFO\n",
      "    writing dependency_links to src\\gluonnlp.egg-info\\dependency_links.txt\n",
      "    writing requirements to src\\gluonnlp.egg-info\\requires.txt\n",
      "    writing top-level names to src\\gluonnlp.egg-info\\top_level.txt\n",
      "    reading manifest file 'src\\gluonnlp.egg-info\\SOURCES.txt'\n",
      "    reading manifest template 'MANIFEST.in'\n",
      "    warning: no files found matching '*.py' under directory 'gluonnlp'\n",
      "    warning: no previously-included files matching '*' found under directory 'tests'\n",
      "    warning: no previously-included files matching '*' found under directory 'scripts'\n",
      "    adding license file 'LICENSE'\n",
      "    writing manifest file 'src\\gluonnlp.egg-info\\SOURCES.txt'\n",
      "    copying src\\gluonnlp\\data\\fast_bert_tokenizer.c -> build\\lib.win-amd64-3.9\\gluonnlp\\data\n",
      "    copying src\\gluonnlp\\data\\fast_bert_tokenizer.pyx -> build\\lib.win-amd64-3.9\\gluonnlp\\data\n",
      "    running build_ext\n",
      "    skipping 'src/gluonnlp/data\\fast_bert_tokenizer.c' Cython extension (up-to-date)\n",
      "    building 'gluonnlp.data.fast_bert_tokenizer' extension\n",
      "    error: Microsoft Visual C++ 14.0 or greater is required. Get it with \"Microsoft C++ Build Tools\": https://visualstudio.microsoft.com/visual-cpp-build-tools/\n",
      "    ----------------------------------------\n",
      "ERROR: Command errored out with exit status 1: 'C:\\Users\\Admin\\anaconda3\\python.exe' -u -c 'import io, os, sys, setuptools, tokenize; sys.argv[0] = '\"'\"'C:\\\\Users\\\\Admin\\\\AppData\\\\Local\\\\Temp\\\\pip-install-8n24k9tu\\\\gluonnlp_7a0abc28dd75414096576f9bdfd6d439\\\\setup.py'\"'\"'; __file__='\"'\"'C:\\\\Users\\\\Admin\\\\AppData\\\\Local\\\\Temp\\\\pip-install-8n24k9tu\\\\gluonnlp_7a0abc28dd75414096576f9bdfd6d439\\\\setup.py'\"'\"';f = getattr(tokenize, '\"'\"'open'\"'\"', open)(__file__) if os.path.exists(__file__) else io.StringIO('\"'\"'from setuptools import setup; setup()'\"'\"');code = f.read().replace('\"'\"'\\r\\n'\"'\"', '\"'\"'\\n'\"'\"');f.close();exec(compile(code, __file__, '\"'\"'exec'\"'\"'))' install --record 'C:\\Users\\Admin\\AppData\\Local\\Temp\\pip-record-6_dz39xk\\install-record.txt' --single-version-externally-managed --compile --install-headers 'C:\\Users\\Admin\\anaconda3\\Include\\gluonnlp' Check the logs for full command output.\n"
     ]
    },
    {
     "name": "stdout",
     "output_type": "stream",
     "text": [
      "Collecting sentencepiece\n",
      "  Downloading sentencepiece-0.1.96-cp39-cp39-win_amd64.whl (1.1 MB)\n",
      "Installing collected packages: sentencepiece\n",
      "Successfully installed sentencepiece-0.1.96\n",
      "Collecting transformers==3.0.2\n",
      "  Downloading transformers-3.0.2-py3-none-any.whl (769 kB)\n",
      "Requirement already satisfied: tqdm>=4.27 in c:\\users\\admin\\anaconda3\\lib\\site-packages (from transformers==3.0.2) (4.62.3)\n",
      "Requirement already satisfied: regex!=2019.12.17 in c:\\users\\admin\\anaconda3\\lib\\site-packages (from transformers==3.0.2) (2021.8.3)\n",
      "Requirement already satisfied: requests in c:\\users\\admin\\anaconda3\\lib\\site-packages (from transformers==3.0.2) (2.18.4)\n",
      "Collecting tokenizers==0.8.1.rc1\n",
      "  Downloading tokenizers-0.8.1rc1.tar.gz (97 kB)\n",
      "  Installing build dependencies: started\n",
      "  Installing build dependencies: finished with status 'done'\n",
      "  Getting requirements to build wheel: started\n",
      "  Getting requirements to build wheel: finished with status 'done'\n",
      "    Preparing wheel metadata: started\n",
      "    Preparing wheel metadata: finished with status 'done'\n",
      "Requirement already satisfied: packaging in c:\\users\\admin\\anaconda3\\lib\\site-packages (from transformers==3.0.2) (21.0)\n",
      "Requirement already satisfied: sentencepiece!=0.1.92 in c:\\users\\admin\\anaconda3\\lib\\site-packages (from transformers==3.0.2) (0.1.96)\n",
      "Requirement already satisfied: filelock in c:\\users\\admin\\anaconda3\\lib\\site-packages (from transformers==3.0.2) (3.3.1)\n",
      "Requirement already satisfied: numpy in c:\\users\\admin\\anaconda3\\lib\\site-packages (from transformers==3.0.2) (1.19.5)\n",
      "Collecting sacremoses\n",
      "  Downloading sacremoses-0.0.49-py3-none-any.whl (895 kB)\n",
      "Requirement already satisfied: colorama in c:\\users\\admin\\anaconda3\\lib\\site-packages (from tqdm>=4.27->transformers==3.0.2) (0.4.4)\n",
      "Requirement already satisfied: pyparsing>=2.0.2 in c:\\users\\admin\\anaconda3\\lib\\site-packages (from packaging->transformers==3.0.2) (3.0.4)\n",
      "Requirement already satisfied: urllib3<1.23,>=1.21.1 in c:\\users\\admin\\anaconda3\\lib\\site-packages (from requests->transformers==3.0.2) (1.22)\n",
      "Requirement already satisfied: certifi>=2017.4.17 in c:\\users\\admin\\anaconda3\\lib\\site-packages (from requests->transformers==3.0.2) (2021.10.8)\n",
      "Requirement already satisfied: idna<2.7,>=2.5 in c:\\users\\admin\\anaconda3\\lib\\site-packages (from requests->transformers==3.0.2) (2.6)\n",
      "Requirement already satisfied: chardet<3.1.0,>=3.0.2 in c:\\users\\admin\\anaconda3\\lib\\site-packages (from requests->transformers==3.0.2) (3.0.4)\n",
      "Requirement already satisfied: joblib in c:\\users\\admin\\anaconda3\\lib\\site-packages (from sacremoses->transformers==3.0.2) (1.0.1)\n",
      "Requirement already satisfied: six in c:\\users\\admin\\anaconda3\\lib\\site-packages (from sacremoses->transformers==3.0.2) (1.15.0)\n",
      "Requirement already satisfied: click in c:\\users\\admin\\anaconda3\\lib\\site-packages (from sacremoses->transformers==3.0.2) (8.0.3)\n",
      "Building wheels for collected packages: tokenizers\n",
      "  Building wheel for tokenizers (PEP 517): started\n",
      "  Building wheel for tokenizers (PEP 517): finished with status 'error'\n",
      "Failed to build tokenizers\n"
     ]
    },
    {
     "name": "stderr",
     "output_type": "stream",
     "text": [
      "  ERROR: Command errored out with exit status 1:\n",
      "   command: 'C:\\Users\\Admin\\anaconda3\\python.exe' 'C:\\Users\\Admin\\anaconda3\\lib\\site-packages\\pip\\_vendor\\pep517\\in_process\\_in_process.py' build_wheel 'C:\\Users\\Admin\\AppData\\Local\\Temp\\tmp2gvbac_5'\n",
      "       cwd: C:\\Users\\Admin\\AppData\\Local\\Temp\\pip-install-hqpwoeeh\\tokenizers_591b5627520e47d1a076e618a80fe431\n",
      "  Complete output (48 lines):\n",
      "  C:\\Users\\Admin\\AppData\\Local\\Temp\\pip-build-env-69_7oq_3\\overlay\\Lib\\site-packages\\setuptools\\dist.py:516: UserWarning: Normalizing '0.8.1.rc1' to '0.8.1rc1'\n",
      "    warnings.warn(tmpl.format(**locals()))\n",
      "  running bdist_wheel\n",
      "  running build\n",
      "  running build_py\n",
      "  creating build\n",
      "  creating build\\lib.win-amd64-cpython-39\n",
      "  creating build\\lib.win-amd64-cpython-39\\tokenizers\n",
      "  copying tokenizers\\__init__.py -> build\\lib.win-amd64-cpython-39\\tokenizers\n",
      "  creating build\\lib.win-amd64-cpython-39\\tokenizers\\models\n",
      "  copying tokenizers\\models\\__init__.py -> build\\lib.win-amd64-cpython-39\\tokenizers\\models\n",
      "  creating build\\lib.win-amd64-cpython-39\\tokenizers\\decoders\n",
      "  copying tokenizers\\decoders\\__init__.py -> build\\lib.win-amd64-cpython-39\\tokenizers\\decoders\n",
      "  creating build\\lib.win-amd64-cpython-39\\tokenizers\\normalizers\n",
      "  copying tokenizers\\normalizers\\__init__.py -> build\\lib.win-amd64-cpython-39\\tokenizers\\normalizers\n",
      "  creating build\\lib.win-amd64-cpython-39\\tokenizers\\pre_tokenizers\n",
      "  copying tokenizers\\pre_tokenizers\\__init__.py -> build\\lib.win-amd64-cpython-39\\tokenizers\\pre_tokenizers\n",
      "  creating build\\lib.win-amd64-cpython-39\\tokenizers\\processors\n",
      "  copying tokenizers\\processors\\__init__.py -> build\\lib.win-amd64-cpython-39\\tokenizers\\processors\n",
      "  creating build\\lib.win-amd64-cpython-39\\tokenizers\\trainers\n",
      "  copying tokenizers\\trainers\\__init__.py -> build\\lib.win-amd64-cpython-39\\tokenizers\\trainers\n",
      "  creating build\\lib.win-amd64-cpython-39\\tokenizers\\implementations\n",
      "  copying tokenizers\\implementations\\base_tokenizer.py -> build\\lib.win-amd64-cpython-39\\tokenizers\\implementations\n",
      "  copying tokenizers\\implementations\\bert_wordpiece.py -> build\\lib.win-amd64-cpython-39\\tokenizers\\implementations\n",
      "  copying tokenizers\\implementations\\byte_level_bpe.py -> build\\lib.win-amd64-cpython-39\\tokenizers\\implementations\n",
      "  copying tokenizers\\implementations\\char_level_bpe.py -> build\\lib.win-amd64-cpython-39\\tokenizers\\implementations\n",
      "  copying tokenizers\\implementations\\sentencepiece_bpe.py -> build\\lib.win-amd64-cpython-39\\tokenizers\\implementations\n",
      "  copying tokenizers\\implementations\\__init__.py -> build\\lib.win-amd64-cpython-39\\tokenizers\\implementations\n",
      "  copying tokenizers\\__init__.pyi -> build\\lib.win-amd64-cpython-39\\tokenizers\n",
      "  copying tokenizers\\models\\__init__.pyi -> build\\lib.win-amd64-cpython-39\\tokenizers\\models\n",
      "  copying tokenizers\\decoders\\__init__.pyi -> build\\lib.win-amd64-cpython-39\\tokenizers\\decoders\n",
      "  copying tokenizers\\normalizers\\__init__.pyi -> build\\lib.win-amd64-cpython-39\\tokenizers\\normalizers\n",
      "  copying tokenizers\\pre_tokenizers\\__init__.pyi -> build\\lib.win-amd64-cpython-39\\tokenizers\\pre_tokenizers\n",
      "  copying tokenizers\\processors\\__init__.pyi -> build\\lib.win-amd64-cpython-39\\tokenizers\\processors\n",
      "  copying tokenizers\\trainers\\__init__.pyi -> build\\lib.win-amd64-cpython-39\\tokenizers\\trainers\n",
      "  running build_ext\n",
      "  running build_rust\n",
      "  error: can't find Rust compiler\n",
      "  \n",
      "  If you are using an outdated pip version, it is possible a prebuilt wheel is available for this package but pip is not able to install from it. Installing from the wheel would avoid the need for a Rust compiler.\n",
      "  \n",
      "  To update pip, run:\n",
      "  \n",
      "      pip install --upgrade pip\n",
      "  \n",
      "  and then retry package installation.\n",
      "  \n",
      "  If you did intend to build this package from source, try installing a Rust compiler from your system package manager and ensure it is on the PATH during installation. Alternatively, rustup (available at https://rustup.rs) is the recommended way to download and update the Rust compiler toolchain.\n",
      "  ----------------------------------------\n",
      "  ERROR: Failed building wheel for tokenizers\n",
      "ERROR: Could not build wheels for tokenizers which use PEP 517 and cannot be installed directly\n"
     ]
    },
    {
     "name": "stdout",
     "output_type": "stream",
     "text": [
      "Collecting torch\n",
      "  Downloading torch-1.11.0-cp39-cp39-win_amd64.whl (157.9 MB)\n",
      "Requirement already satisfied: typing-extensions in c:\\users\\admin\\anaconda3\\lib\\site-packages (from torch) (3.7.4.3)\n",
      "Installing collected packages: torch\n",
      "Successfully installed torch-1.11.0\n"
     ]
    }
   ],
   "source": [
    "!pip install mxnet\n",
    "!pip install gluonnlp pandas tqdm\n",
    "!pip install sentencepiece\n",
    "!pip install transformers==3.0.2\n",
    "!pip install torch"
   ]
  },
  {
   "cell_type": "code",
   "execution_count": 1,
   "metadata": {
    "colab": {
     "base_uri": "https://localhost:8080/",
     "height": 390
    },
    "id": "IdMBz_2ux1Oc",
    "outputId": "92e2d787-fb87-45cf-e19f-f8c1e8440689"
   },
   "outputs": [
    {
     "ename": "ModuleNotFoundError",
     "errorDetails": {
      "actions": [
       {
        "action": "open_url",
        "actionText": "Open Examples",
        "url": "/notebooks/snippets/importing_libraries.ipynb"
       }
      ]
     },
     "evalue": "ignored",
     "output_type": "error",
     "traceback": [
      "\u001b[0;31m---------------------------------------------------------------------------\u001b[0m",
      "\u001b[0;31mModuleNotFoundError\u001b[0m                       Traceback (most recent call last)",
      "\u001b[0;32m<ipython-input-1-1ee4a899c8b5>\u001b[0m in \u001b[0;36m<module>\u001b[0;34m()\u001b[0m\n\u001b[1;32m     11\u001b[0m \u001b[0;32mimport\u001b[0m \u001b[0mtorch\u001b[0m\u001b[0;34m.\u001b[0m\u001b[0moptim\u001b[0m \u001b[0;32mas\u001b[0m \u001b[0moptim\u001b[0m\u001b[0;34m\u001b[0m\u001b[0;34m\u001b[0m\u001b[0m\n\u001b[1;32m     12\u001b[0m \u001b[0;32mfrom\u001b[0m \u001b[0mtorch\u001b[0m\u001b[0;34m.\u001b[0m\u001b[0mutils\u001b[0m\u001b[0;34m.\u001b[0m\u001b[0mdata\u001b[0m \u001b[0;32mimport\u001b[0m \u001b[0mDataset\u001b[0m\u001b[0;34m,\u001b[0m \u001b[0mDataLoader\u001b[0m\u001b[0;34m\u001b[0m\u001b[0;34m\u001b[0m\u001b[0m\n\u001b[0;32m---> 13\u001b[0;31m \u001b[0;32mimport\u001b[0m \u001b[0mgluonnlp\u001b[0m \u001b[0;32mas\u001b[0m \u001b[0mnlp\u001b[0m\u001b[0;34m\u001b[0m\u001b[0;34m\u001b[0m\u001b[0m\n\u001b[0m\u001b[1;32m     14\u001b[0m \u001b[0;32mimport\u001b[0m \u001b[0mnumpy\u001b[0m \u001b[0;32mas\u001b[0m \u001b[0mnp\u001b[0m\u001b[0;34m\u001b[0m\u001b[0;34m\u001b[0m\u001b[0m\n\u001b[1;32m     15\u001b[0m \u001b[0;32mfrom\u001b[0m \u001b[0mtqdm\u001b[0m \u001b[0;32mimport\u001b[0m \u001b[0mtqdm\u001b[0m\u001b[0;34m,\u001b[0m \u001b[0mtqdm_notebook\u001b[0m\u001b[0;34m\u001b[0m\u001b[0;34m\u001b[0m\u001b[0m\n",
      "\u001b[0;31mModuleNotFoundError\u001b[0m: No module named 'gluonnlp'",
      "",
      "\u001b[0;31m---------------------------------------------------------------------------\u001b[0;32m\nNOTE: If your import is failing due to a missing package, you can\nmanually install dependencies using either !pip or !apt.\n\nTo view examples of installing some common dependencies, click the\n\"Open Examples\" button below.\n\u001b[0;31m---------------------------------------------------------------------------\u001b[0m\n"
     ]
    }
   ],
   "source": [
    "import numpy as np\n",
    "import pandas as pd\n",
    "import matplotlib.pyplot as plt\n",
    "import urllib.request\n",
    "from sklearn.model_selection import train_test_split\n",
    "from tensorflow.keras.preprocessing.text import Tokenizer\n",
    "from tensorflow.keras.preprocessing.sequence import pad_sequences\n",
    "import torch\n",
    "from torch import nn\n",
    "import torch.nn.functional as F\n",
    "import torch.optim as optim\n",
    "from torch.utils.data import Dataset, DataLoader\n",
    "import gluonnlp as nlp\n",
    "from tqdm import tqdm, tqdm_notebook\n",
    "\n",
    "import bz2\n",
    "from collections import Counter\n",
    "import re\n",
    "import nltk"
   ]
  },
  {
   "cell_type": "code",
   "execution_count": null,
   "metadata": {
    "id": "vPgblNhPxX-6"
   },
   "outputs": [],
   "source": [
    "import pandas as pd\n",
    "data = pd.read_csv('total_final.csv')"
   ]
  },
  {
   "cell_type": "code",
   "execution_count": null,
   "metadata": {
    "id": "Uq9JED3ptRE7"
   },
   "outputs": [],
   "source": [
    "#train & test 데이터로 나누기\n",
    "from sklearn.model_selection import train_test_split                                                     \n",
    "train_data, test_data = train_test_split(data, test_size=0.2, random_state=0)"
   ]
  },
  {
   "cell_type": "code",
   "execution_count": null,
   "metadata": {
    "id": "Y4v7OGT9lAF1"
   },
   "outputs": [],
   "source": [
    "data = data.drop(['Unnamed: 0'], axis=1)\n",
    "data = data.drop(['type'], axis=1)\n",
    "data = data.drop(['star'], axis=1)"
   ]
  },
  {
   "cell_type": "code",
   "execution_count": null,
   "metadata": {
    "colab": {
     "base_uri": "https://localhost:8080/",
     "height": 423
    },
    "id": "8EU28iVhlL8s",
    "outputId": "06e49e94-a032-4d19-d0a9-ee487af0090f"
   },
   "outputs": [
    {
     "data": {
      "text/html": [
       "\n",
       "  <div id=\"df-f8c77bd5-96ca-4385-9248-43473a67b7bf\">\n",
       "    <div class=\"colab-df-container\">\n",
       "      <div>\n",
       "<style scoped>\n",
       "    .dataframe tbody tr th:only-of-type {\n",
       "        vertical-align: middle;\n",
       "    }\n",
       "\n",
       "    .dataframe tbody tr th {\n",
       "        vertical-align: top;\n",
       "    }\n",
       "\n",
       "    .dataframe thead th {\n",
       "        text-align: right;\n",
       "    }\n",
       "</style>\n",
       "<table border=\"1\" class=\"dataframe\">\n",
       "  <thead>\n",
       "    <tr style=\"text-align: right;\">\n",
       "      <th></th>\n",
       "      <th>review</th>\n",
       "      <th>label</th>\n",
       "    </tr>\n",
       "  </thead>\n",
       "  <tbody>\n",
       "    <tr>\n",
       "      <th>0</th>\n",
       "      <td>좋은 가격에 잘 구매했습니다 다만 수납공간은 조금 많이 작네요 이 정도였으면 그냥 ...</td>\n",
       "      <td>0</td>\n",
       "    </tr>\n",
       "    <tr>\n",
       "      <th>1</th>\n",
       "      <td>침대 프레임이 정말 실망스럽네요 기존의 싼 제품과 비교까지 하는 상품설명을 보고 구...</td>\n",
       "      <td>0</td>\n",
       "    </tr>\n",
       "    <tr>\n",
       "      <th>2</th>\n",
       "      <td>별로예요 사진처럼 침대 하단부에 시트지가 조금 벗겨졌어요 기사님 설치하실 때 그런 ...</td>\n",
       "      <td>0</td>\n",
       "    </tr>\n",
       "    <tr>\n",
       "      <th>3</th>\n",
       "      <td>설치다 하시고 기사님은 가셨고 프레임 헤드 쪽이 깨져 있었어요 못 보신 건지 말씀 ...</td>\n",
       "      <td>0</td>\n",
       "    </tr>\n",
       "    <tr>\n",
       "      <th>4</th>\n",
       "      <td>월일에 설치해서 딱 두 달 사용했는데 서랍장이 분리되어 버렸습니다 서랍장이 톱밥 뭉...</td>\n",
       "      <td>0</td>\n",
       "    </tr>\n",
       "    <tr>\n",
       "      <th>...</th>\n",
       "      <td>...</td>\n",
       "      <td>...</td>\n",
       "    </tr>\n",
       "    <tr>\n",
       "      <th>21304</th>\n",
       "      <td>폭이 아쉽기는 하지만 튼튼하고 분위기 있어요</td>\n",
       "      <td>1</td>\n",
       "    </tr>\n",
       "    <tr>\n",
       "      <th>21305</th>\n",
       "      <td>잘 사용하고 있어요 좋아요</td>\n",
       "      <td>1</td>\n",
       "    </tr>\n",
       "    <tr>\n",
       "      <th>21306</th>\n",
       "      <td>튼튼하고 수납공간도 좋아서 여전히 만족해요</td>\n",
       "      <td>1</td>\n",
       "    </tr>\n",
       "    <tr>\n",
       "      <th>21307</th>\n",
       "      <td>지방이다 보니 배송이 좀 늦고 기사님이 바쁘셔서 그냥 집에 두고 가시다 보니 균형 ...</td>\n",
       "      <td>1</td>\n",
       "    </tr>\n",
       "    <tr>\n",
       "      <th>21308</th>\n",
       "      <td>앉아서 오래 일해서 허리가 아파서 구매했습니다 설치하고 시간 정도 정리한 거 같아 ...</td>\n",
       "      <td>1</td>\n",
       "    </tr>\n",
       "  </tbody>\n",
       "</table>\n",
       "<p>21309 rows × 2 columns</p>\n",
       "</div>\n",
       "      <button class=\"colab-df-convert\" onclick=\"convertToInteractive('df-f8c77bd5-96ca-4385-9248-43473a67b7bf')\"\n",
       "              title=\"Convert this dataframe to an interactive table.\"\n",
       "              style=\"display:none;\">\n",
       "        \n",
       "  <svg xmlns=\"http://www.w3.org/2000/svg\" height=\"24px\"viewBox=\"0 0 24 24\"\n",
       "       width=\"24px\">\n",
       "    <path d=\"M0 0h24v24H0V0z\" fill=\"none\"/>\n",
       "    <path d=\"M18.56 5.44l.94 2.06.94-2.06 2.06-.94-2.06-.94-.94-2.06-.94 2.06-2.06.94zm-11 1L8.5 8.5l.94-2.06 2.06-.94-2.06-.94L8.5 2.5l-.94 2.06-2.06.94zm10 10l.94 2.06.94-2.06 2.06-.94-2.06-.94-.94-2.06-.94 2.06-2.06.94z\"/><path d=\"M17.41 7.96l-1.37-1.37c-.4-.4-.92-.59-1.43-.59-.52 0-1.04.2-1.43.59L10.3 9.45l-7.72 7.72c-.78.78-.78 2.05 0 2.83L4 21.41c.39.39.9.59 1.41.59.51 0 1.02-.2 1.41-.59l7.78-7.78 2.81-2.81c.8-.78.8-2.07 0-2.86zM5.41 20L4 18.59l7.72-7.72 1.47 1.35L5.41 20z\"/>\n",
       "  </svg>\n",
       "      </button>\n",
       "      \n",
       "  <style>\n",
       "    .colab-df-container {\n",
       "      display:flex;\n",
       "      flex-wrap:wrap;\n",
       "      gap: 12px;\n",
       "    }\n",
       "\n",
       "    .colab-df-convert {\n",
       "      background-color: #E8F0FE;\n",
       "      border: none;\n",
       "      border-radius: 50%;\n",
       "      cursor: pointer;\n",
       "      display: none;\n",
       "      fill: #1967D2;\n",
       "      height: 32px;\n",
       "      padding: 0 0 0 0;\n",
       "      width: 32px;\n",
       "    }\n",
       "\n",
       "    .colab-df-convert:hover {\n",
       "      background-color: #E2EBFA;\n",
       "      box-shadow: 0px 1px 2px rgba(60, 64, 67, 0.3), 0px 1px 3px 1px rgba(60, 64, 67, 0.15);\n",
       "      fill: #174EA6;\n",
       "    }\n",
       "\n",
       "    [theme=dark] .colab-df-convert {\n",
       "      background-color: #3B4455;\n",
       "      fill: #D2E3FC;\n",
       "    }\n",
       "\n",
       "    [theme=dark] .colab-df-convert:hover {\n",
       "      background-color: #434B5C;\n",
       "      box-shadow: 0px 1px 3px 1px rgba(0, 0, 0, 0.15);\n",
       "      filter: drop-shadow(0px 1px 2px rgba(0, 0, 0, 0.3));\n",
       "      fill: #FFFFFF;\n",
       "    }\n",
       "  </style>\n",
       "\n",
       "      <script>\n",
       "        const buttonEl =\n",
       "          document.querySelector('#df-f8c77bd5-96ca-4385-9248-43473a67b7bf button.colab-df-convert');\n",
       "        buttonEl.style.display =\n",
       "          google.colab.kernel.accessAllowed ? 'block' : 'none';\n",
       "\n",
       "        async function convertToInteractive(key) {\n",
       "          const element = document.querySelector('#df-f8c77bd5-96ca-4385-9248-43473a67b7bf');\n",
       "          const dataTable =\n",
       "            await google.colab.kernel.invokeFunction('convertToInteractive',\n",
       "                                                     [key], {});\n",
       "          if (!dataTable) return;\n",
       "\n",
       "          const docLinkHtml = 'Like what you see? Visit the ' +\n",
       "            '<a target=\"_blank\" href=https://colab.research.google.com/notebooks/data_table.ipynb>data table notebook</a>'\n",
       "            + ' to learn more about interactive tables.';\n",
       "          element.innerHTML = '';\n",
       "          dataTable['output_type'] = 'display_data';\n",
       "          await google.colab.output.renderOutput(dataTable, element);\n",
       "          const docLink = document.createElement('div');\n",
       "          docLink.innerHTML = docLinkHtml;\n",
       "          element.appendChild(docLink);\n",
       "        }\n",
       "      </script>\n",
       "    </div>\n",
       "  </div>\n",
       "  "
      ],
      "text/plain": [
       "                                                  review  label\n",
       "0      좋은 가격에 잘 구매했습니다 다만 수납공간은 조금 많이 작네요 이 정도였으면 그냥 ...      0\n",
       "1      침대 프레임이 정말 실망스럽네요 기존의 싼 제품과 비교까지 하는 상품설명을 보고 구...      0\n",
       "2      별로예요 사진처럼 침대 하단부에 시트지가 조금 벗겨졌어요 기사님 설치하실 때 그런 ...      0\n",
       "3      설치다 하시고 기사님은 가셨고 프레임 헤드 쪽이 깨져 있었어요 못 보신 건지 말씀 ...      0\n",
       "4      월일에 설치해서 딱 두 달 사용했는데 서랍장이 분리되어 버렸습니다 서랍장이 톱밥 뭉...      0\n",
       "...                                                  ...    ...\n",
       "21304                           폭이 아쉽기는 하지만 튼튼하고 분위기 있어요      1\n",
       "21305                                     잘 사용하고 있어요 좋아요      1\n",
       "21306                            튼튼하고 수납공간도 좋아서 여전히 만족해요      1\n",
       "21307  지방이다 보니 배송이 좀 늦고 기사님이 바쁘셔서 그냥 집에 두고 가시다 보니 균형 ...      1\n",
       "21308  앉아서 오래 일해서 허리가 아파서 구매했습니다 설치하고 시간 정도 정리한 거 같아 ...      1\n",
       "\n",
       "[21309 rows x 2 columns]"
      ]
     },
     "execution_count": 12,
     "metadata": {},
     "output_type": "execute_result"
    }
   ],
   "source": [
    "data.head()"
   ]
  },
  {
   "cell_type": "code",
   "execution_count": null,
   "metadata": {
    "colab": {
     "base_uri": "https://localhost:8080/"
    },
    "id": "pzf0OeR9ydBO",
    "outputId": "6c105752-04a4-4eac-e7ad-ea8db87dd9fe"
   },
   "outputs": [
    {
     "name": "stdout",
     "output_type": "stream",
     "text": [
      "15981\n",
      "5328\n"
     ]
    }
   ],
   "source": [
    "print(len(train_data))\n",
    "print(len(test_data))"
   ]
  },
  {
   "cell_type": "code",
   "execution_count": null,
   "metadata": {
    "id": "bRtxpRCnuFKg"
   },
   "outputs": [],
   "source": [
    "from keras_preprocessing.text import Tokenizer\n",
    "stopwords = ['의','가','이','은','들','는','좀','잘','걍','과','도','를','으로','자','에','와','한','하다']"
   ]
  },
  {
   "cell_type": "code",
   "execution_count": null,
   "metadata": {
    "colab": {
     "base_uri": "https://localhost:8080/"
    },
    "id": "zQxcdh-Ft3WY",
    "outputId": "17d4c0e5-cbd8-4267-821c-5b41abef9a69"
   },
   "outputs": [
    {
     "name": "stdout",
     "output_type": "stream",
     "text": [
      "Collecting konlpy\n",
      "  Downloading konlpy-0.6.0-py2.py3-none-any.whl (19.4 MB)\n",
      "\u001b[K     |████████████████████████████████| 19.4 MB 21.9 MB/s \n",
      "\u001b[?25hRequirement already satisfied: lxml>=4.1.0 in /usr/local/lib/python3.7/dist-packages (from konlpy) (4.2.6)\n",
      "Collecting JPype1>=0.7.0\n",
      "  Downloading JPype1-1.3.0-cp37-cp37m-manylinux_2_5_x86_64.manylinux1_x86_64.whl (448 kB)\n",
      "\u001b[K     |████████████████████████████████| 448 kB 58.6 MB/s \n",
      "\u001b[?25hRequirement already satisfied: numpy>=1.6 in /usr/local/lib/python3.7/dist-packages (from konlpy) (1.21.6)\n",
      "Requirement already satisfied: typing-extensions in /usr/local/lib/python3.7/dist-packages (from JPype1>=0.7.0->konlpy) (4.1.1)\n",
      "Installing collected packages: JPype1, konlpy\n",
      "Successfully installed JPype1-1.3.0 konlpy-0.6.0\n"
     ]
    }
   ],
   "source": [
    "!pip install konlpy\n",
    "from konlpy.tag import Okt\n",
    "\n",
    "okt = Okt()"
   ]
  },
  {
   "cell_type": "code",
   "execution_count": null,
   "metadata": {
    "colab": {
     "base_uri": "https://localhost:8080/"
    },
    "id": "6LImwHbs5dAl",
    "outputId": "86b59bfb-ee31-472a-fbfb-3a4a3170bedd"
   },
   "outputs": [
    {
     "name": "stderr",
     "output_type": "stream",
     "text": [
      "100%|██████████| 15981/15981 [02:05<00:00, 127.54it/s]\n"
     ]
    }
   ],
   "source": [
    "X_train = []\n",
    "for sentence in tqdm(train_data['review']):\n",
    "    tokenized_sentence = okt.morphs(sentence, stem=True) # 토큰화\n",
    "    stopwords_removed_sentence = [word for word in tokenized_sentence if not word in stopwords] # 불용어 제거\n",
    "    X_train.append(stopwords_removed_sentence)"
   ]
  },
  {
   "cell_type": "code",
   "execution_count": null,
   "metadata": {
    "colab": {
     "base_uri": "https://localhost:8080/"
    },
    "id": "m8zfiaTO5gWk",
    "outputId": "43e81e0a-7684-42f1-be44-c53f96b20244"
   },
   "outputs": [
    {
     "name": "stdout",
     "output_type": "stream",
     "text": [
      "['생각', '보다', '가볍다', '깊다', '좋다', '요', '판', '두께', '너무', '두껍다', '공간', '활용', '자다', '안되다', '게', '아쉽다', '폭', '제', '손', '뼘', '조금', '넘다', '여자', '송', '기준', '배송비', '무게', '기준', '이라고', '모든', '배송비', '만', '원', '아니다', '배송', '해주다', '분', '친절하다']\n"
     ]
    }
   ],
   "source": [
    "print(X_train[23])"
   ]
  },
  {
   "cell_type": "code",
   "execution_count": null,
   "metadata": {
    "colab": {
     "base_uri": "https://localhost:8080/"
    },
    "id": "-v5NE5Gp7bjr",
    "outputId": "36cb800b-6d73-4019-9fdf-2ae0197faed4"
   },
   "outputs": [
    {
     "name": "stderr",
     "output_type": "stream",
     "text": [
      "100%|██████████| 5328/5328 [00:46<00:00, 115.61it/s]\n"
     ]
    }
   ],
   "source": [
    "X_test = []\n",
    "for sentence in tqdm(test_data['review']):\n",
    "    tokenized_sentence = okt.morphs(sentence, stem=True) # 토큰화\n",
    "    stopwords_removed_sentence = [word for word in tokenized_sentence if not word in stopwords] # 불용어 제거\n",
    "    X_test.append(stopwords_removed_sentence)"
   ]
  },
  {
   "cell_type": "code",
   "execution_count": null,
   "metadata": {
    "id": "cMlxEQ1MrJ0A"
   },
   "outputs": [],
   "source": [
    "tokenizer = Tokenizer()\n",
    "tokenizer.fit_on_texts(X_train)"
   ]
  },
  {
   "cell_type": "code",
   "execution_count": null,
   "metadata": {
    "colab": {
     "base_uri": "https://localhost:8080/"
    },
    "id": "MG2BwAu7rL87",
    "outputId": "ee2c5be7-436b-4a0f-fe8c-817d8df5ba78"
   },
   "outputs": [
    {
     "name": "stdout",
     "output_type": "stream",
     "text": [
      "{'좋다': 1, '요': 2, '있다': 3, '배송': 4, '보다': 5, '너무': 6, '자다': 7, '같다': 8, '안': 9, '거': 10, '을': 11, '것': 12, '가격': 13, '않다': 14, '생각': 15, '기사': 16, '받다': 17, '로': 18, '설치': 19, '다': 20, '제품': 21, '없다': 22, '사용': 23, '님': 24, '되다': 25, '이다': 26, '구매': 27, '오다': 28, '들다': 29, '쓰다': 30, '더': 31, '만족하다': 32, '만': 33, '그냥': 34, '하고': 35, '고': 36, '많이': 37, '깔끔하다': 38, '해주다': 39, '튼튼하다': 40, '때': 41, '부분': 42, '괜찮다': 43, '친절하다': 44, '조립': 45, '게': 46, '디자인': 47, '주문': 48, '냄새': 49, '아니다': 50, '맘': 51, '소파': 52, '대비': 53, '사다': 54, '딱': 55, '예쁘다': 56, '수': 57, '에서': 58, '상품': 59, '걸리다': 60, '그렇다': 61, '맞다': 62, '가다': 63, '조금': 64, '색상': 65, '분': 66, '수납': 67, '크다': 68, '정말': 69, '집': 70, '이라': 71, '쿠션': 72, '듯': 73, '편하다': 74, '저렴하다': 75, '정도': 76, '침대': 77, '못': 78, '서랍': 79, '사이즈': 80, '마음': 81, '식탁': 82, '성비': 83, '나': 84, '아쉽다': 85, '시간': 86, '쓸다': 87, '되어다': 88, '나다': 89, '인': 90, '사진': 91, '배송비': 92, '하나': 93, '이쁘다': 94, '구': 95, '주다': 96, '앉다': 97, '느낌': 98, '라': 99, '공간': 100, '빠르다': 101, '가구': 102, '다리': 103, '돼다': 104, '의자': 105, '보이다': 106, '까지': 107, '아이': 108, '아주': 109, '두': 110, '마감': 111, '많다': 112, '인데': 113, '일': 114, '데': 115, '원': 116, '싶다': 117, '싸다': 118, '다른': 119, '제': 120, '구입': 121, '서': 122, '적': 123, '그': 124, '문': 125, '걸': 126, '개': 127, '그리고': 128, '건': 129, '면': 130, '달': 131, '배': 132, '장': 133, '그래도': 134, '저': 135, '중': 136, '오래': 137, '맞추다': 138, '빼다': 139, '놓다': 140, '교환': 141, 'ㅎㅎ': 142, '견고하다': 143, '불편하다': 144, 'ㅠㅠ': 145, '진짜': 146, '후': 147, '물건': 148, '매트리스': 149, '엄청': 150, '고민': 151, '전': 152, '책상': 153, '드리다': 154, '별로': 155, '써다': 156, '감사하다': 157, '알다': 158, '처음': 159, '보고': 160, '없이': 161, '옷': 162, '시': 163, '네': 164, '다시': 165, '만큼': 166, '점': 167, '딱딱하다': 168, '최고': 169, '작다': 170, 'ㅠ': 171, '감': 172, '늦다': 173, '근데': 174, '연락': 175, '다만': 176, '예요': 177, '혼자': 178, '적당하다': 179, '거실': 180, '기다리다': 181, '이나': 182, '정리': 183, '등': 184, '번': 185, '추가': 186, '만족': 187, '푹신하다': 188, '보내다': 189, '좋아하다': 190, '두다': 191, '들어가다': 192, '이랑': 193, '원하다': 194, '느리다': 195, '화면': 196, '책장': 197, '약간': 198, '색': 199, '옷장': 200, '상판': 201, '모르다': 202, '넣다': 203, '이사': 204, '랑': 205, '해': 206, '방': 207, '살짝': 208, '빠지다': 209, '힘들다': 210, '상': 211, '만족스럽다': 212, '높이': 213, '지다': 214, '곳': 215, '약하다': 216, '듭니': 217, '추천': 218, '라고': 219, '소리': 220, '비싸다': 221, '걱정': 222, '날짜': 223, '줄': 224, '같이': 225, '때문': 226, '하지만': 227, '에는': 228, '말': 229, '후기': 230, '이렇다': 231, '주시': 232, '넓다': 233, '반품': 234, '넘다': 235, '내': 236, '기분': 237, '이에요': 238, '니': 239, '책': 240, 'ㅜㅜ': 241, '처리': 242, '주': 243, '일단': 244, '화이트': 245, '감다': 246, '또': 247, '문제': 248, '흔들리다': 249, '나오다': 250, '설명': 251, '엔': 252, '좁다': 253, '선택': 254, '날': 255, '바닥': 256, '아직': 257, '여': 258, '올리다': 259, '앞': 260, '빨리': 261, '매우': 262, '처럼': 263, '흠집': 264, '크기': 265, '지': 266, '떨어지다': 267, '산': 268, '이네': 269, '심하다': 270, '바꾸다': 271, '비': 272, '끄다': 273, '전화': 274, '나무': 275, '해보다': 276, '그대로': 277, '닫다': 278, '리뷰': 279, '어울리다': 280, '뒤': 281, '대': 282, '일주일': 283, '뭐': 284, '눕다': 285, '쉬다': 286, '사': 287, '닦다': 288, '낮다': 289, '필요하다': 290, '직접': 291, '바로': 292, '시키다': 293, '보통': 294, '버리다': 295, '계속': 296, '찍히다': 297, '에도': 298, '서다': 299, '몇': 300, '확인': 301, '나서다': 302, '보이': 303, '별': 304, '만에': 305, '이고': 306, '품질': 307, '쓰기': 308, '참고': 309, '고급스럽다': 310, '저희': 311, '판이': 312, '그레이': 313, 'ㅎ': 314, '달라': 315, '열다': 316, '뻐': 317, '만들다': 318, '살': 319, '재질': 320, '하': 321, '건지다': 322, '나쁘다': 323, '나사': 324, '샘': 325, '전체': 326, '위': 327, '높다': 328, '티브이': 329, '송': 330, '프레임': 331, '살다': 332, '사람': 333, '자체': 334, '그런데': 335, '깔다': 336, '마다': 337, 'ㅋㅋ': 338, '불량': 339, '역시': 340, '고정': 341, '온': 342, '밑': 343, '꺼지다': 344, '허리': 345, '상태': 346, '쪽': 347, '폭': 348, '고객': 349, '돈': 350, '다음': 351, '무겁다': 352, '구멍': 353, '알': 354, '차다': 355, '신경': 356, '함': 357, '수평': 358, '도착': 359, '판매': 360, '새': 361, '어렵다': 362, '이라고': 363, '대로': 364, '왜': 365, '다르다': 366, '기다': 367, '말다': 368, '아프다': 369, '묻다': 370, '한데': 371, '건데': 372, '이상': 373, '단': 374, '닫히다': 375, '업체': 376, '갈다': 377, '가능하다': 378, '분위기': 379, '옮기다': 380, '택배': 381, '용': 382, '라서': 383, '가볍다': 384, '색깔': 385, '꼼꼼하다': 386, '커버': 387, '귀찮다': 388, '지방': 389, '테이블': 390, '그래서': 391, '층': 392, '스크래치': 393, '최악': 394, '찾다': 395, '보': 396, '지만': 397, '잘못': 398, '거의': 399, '넉넉하다': 400, '중간': 401, 'ㅜ': 402, '지금': 403, '여러': 404, '편이': 405, '부터': 406, '모두': 407, '문의': 408, '붙이다': 409, '먼지': 410, '빨르다': 411, '하자': 412, '따로': 413, '이렇게': 414, '애': 415, '선물': 416, '모서리': 417, '흔들다': 418, '벗겨지다': 419, '완전': 420, '커서': 421, '인지': 422, '자리': 423, '조절': 424, '원래': 425, '요청': 426, '생기다': 427, '이번': 428, '얇다': 429, '어떻다': 430, '자국': 431, '매트': 432, '유리': 433, '옆': 434, '심플': 435, '퀄리티': 436, '인용': 437, '실물': 438, '편안하다': 439, '형': 440, '끝': 441, '여기': 442, '드네': 443, '께서': 444, '무난': 445, '요가': 446, '기존': 447, '고급': 448, '박스': 449, '고생': 450, '하루': 451, '모니터': 452, '지워지다': 453, '원목': 454, '깨끗하다': 455, '구성': 456, '배달': 457, '여서': 458, '똑같다': 459, '티': 460, '어': 461, '보기': 462, '단단하다': 463, '손잡이': 464, '예': 465, 'ㅋ': 466, '기대': 467, '활용': 468, '한쪽': 469, '며칠': 470, '아들': 471, '부모님': 472, '지나다': 473, '년': 474, '구요': 475, '제대로': 476, '훨씬': 477, '미리': 478, '부드럽다': 479, '크게': 480, '헤드': 481, '가지': 482, '금방': 483, '슬라이딩': 484, '먹다': 485, '기': 486, '분들': 487, '일정': 488, '실망': 489, '꼭': 490, '딱이다': 491, '송료': 492, '보다는': 493, '포장': 494, '거리': 495, '환기': 496, '선': 497, '세': 498, '문짝': 499, '접다': 500, '서비스': 501, '밝다': 502, '후회': 503, '실제': 504, '비슷하다': 505, '대다': 506, '단점': 507, '받침': 508, '열': 509, '힘': 510, '파다': 511, '우선': 512, '정확하다': 513, '하니': 514, '굿': 515, '번째': 516, '스럽다': 517, '허다': 518, '믿다': 519, '니까': 520, '무게': 521, '씩': 522, '내다': 523, '무엇': 524, '벤치': 525, '세라믹': 526, '아기': 527, '얼룩': 528, '컬러': 529, '벽': 530, '응대': 531, '걸다': 532, '아이보리': 533, '선반': 534, 'ㅡㅡ': 535, '안쪽': 536, '해주시': 537, '손': 538, '붙다': 539, '눈': 540, '충분하다': 541, '놀라다': 542, '가죽': 543, '지정': 544, '잡다': 545, '맛': 546, '집안': 547, '남편': 548, '보단': 549, '사서': 550, '색감': 551, '비다': 552, '쓰이다': 553, '인테리어': 554, '장이': 555, '세트': 556, '가운데': 557, '엄마': 558, '해도': 559, '뭔가': 560, '약속': 561, '볼': 562, '만원': 563, '흰색': 564, '확실하다': 565, '아래': 566, '아': 567, '칸': 568, '전혀': 569, '오늘': 570, '월일': 571, '교체': 572, '나요': 573, '거울': 574, '짜다': 575, '인터넷': 576, '평': 577, '어쩔': 578, '중이': 579, '에요': 580, '텐데': 581, '여자': 582, '센터': 583, '덜': 584, '당황': 585, '발': 586, '오': 587, '막': 588, '사고': 589, '대충': 590, '차이': 591, '아침': 592, '성': 593, '뜯다': 594, '짜증': 595, '간': 596, '식': 597, '자꾸': 598, '한테': 599, '차': 600, '나름': 601, '재다': 602, '파손': 603, '재': 604, '스프링': 605, '키': 606, '그렇게': 607, '수도': 608, '고르다': 609, '이건': 610, '바라다': 611, '머리': 612, '품': 613, '군데': 614, '째': 615, '길이': 616, '전화하다': 617, '모양': 618, '뜨다': 619, '움직이다': 620, 'ㅋㅋㅋ': 621, '동안': 622, '기간': 623, '나중': 624, '취소': 625, '여기저기': 626, '푹': 627, '긁다': 628, '언제': 629, '스티커': 630, '이유': 631, '불안하다': 632, '제일': 633, '부실하다': 634, '급하다': 635, '부족하다': 636, '기능': 637, '일어나다': 638, '알아보다': 639, '방이': 640, '브랜드': 641, '불친절하다': 642, '이지만': 643, '임': 644, '월': 645, '값': 646, '인치': 647, '개인': 648, '벌어지다': 649, '들어오다': 650, '비교': 651, '실용': 652, '마무리': 653, '짧다': 654, '적다': 655, '찍다': 656, '그것': 657, '열리다': 658, '절대': 659, '싫다': 660, '차지': 661, '새롭다': 662, '비용': 663, '닦이다': 664, '들이다': 665, '남다': 666, '상담': 667, '우리': 668, '신청': 669, '무거워': 670, '냥': 671, '금액': 672, '신랑': 673, '색도': 674, '일이': 675, '사이': 676, '목': 677, '이라서': 678, '편리하다': 679, '과정': 680, '굉장하다': 681, '착하다': 682, '밀리다': 683, '꽤': 684, '둘': 685, '그거': 686, '펴다': 687, '죠': 688, '이해': 689, '짐': 690, '쉽다': 691, '느껴지다': 692, '편': 693, '및': 694, '들어서다': 695, '상당하다': 696, '달다': 697, '기도': 698, '회사': 699, '청소': 700, '아깝다': 701, '환하다': 702, '음': 703, '용도': 704, '끼우다': 705, '화사하다': 706, '연결': 707, '포함': 708, '고요': 709, '나가다': 710, '베이지': 711, '솔직하다': 712, '쯤': 713, '리': 714, '위치': 715, '특히': 716, '물티슈': 717, '경우': 718, '그럭저럭': 719, '결국': 720, '첨': 721, '시트': 722, '느끼다': 723, '일반': 724, '받치다': 725, '깊다': 726, '당일': 727, '예상': 728, '글': 729, '개다': 730, '검수': 731, '아직도': 732, '흠': 733, '이틀': 734, '판': 735, '설치다': 736, '정': 737, '명': 738, '반': 739, '탄탄하다': 740, '룸': 741, '예정': 742, '오염': 743, '볼트': 744, '보이지': 745, '번창': 746, '한번': 747, '송도': 748, '타다': 749, '장점': 750, '결정': 751, '에게': 752, '엉망': 753, '닿다': 754, '으로는': 755, '께': 756, 'ㅡ': 757, '레일': 758, '휘': 759, '기대다': 760, '주말': 761, '격': 762, '이어서': 763, '틀다': 764, '아무리': 765, '가장': 766, '일찍': 767, '기대하다': 768, '타': 769, '스툴': 770, '이동': 771, '기본': 772, '고장': 773, '완성': 774, '행거': 775, '먼저': 776, '문자': 777, '사다리': 778, '당': 779, '방문': 780, '난': 781, '안되다': 782, '완전하다': 783, '번거롭다': 784, '패': 785, '벌써': 786, '말씀': 787, '남기다': 788, '드릴': 789, '관리': 790, '튀어나오다': 791, '치다': 792, '이제': 793, '몸': 794, '완료': 795, '두껍다': 796, '자기': 797, '바퀴': 798, '건가': 799, '필요': 800, '걸이': 801, '여유': 802, '첫': 803, '컴퓨터': 804, '나니': 805, '엉덩이': 806, '속': 807, '남자': 808, '사무실': 809, '답변': 810, '빨': 811, '뻑뻑': 812, '드레스': 813, '어디': 814, '가족': 815, '자세하다': 816, '암': 817, '하단': 818, '감사': 819, '달이': 820, '제작': 821, '지인': 822, '라는': 823, '만해': 824, '보관': 825, '외': 826, '시공': 827, '변경': 828, '거슬리다': 829, '쏙': 830, '합판': 831, '싱글': 832, '밖에': 833, '떡': 834, '깊이': 835, '훌륭하다': 836, '돌리다': 837, '전날': 838, '브릭': 839, '쓰리다': 840, '어느': 841, '모든': 842, '다시다': 843, '쓰레기': 844, '자주': 845, '만족도': 846, '까진': 847, '통화': 848, '사실': 849, '끼다': 850, '대한': 851, '환불': 852, '부탁드리다': 853, '네오': 854, '아저씨': 855, '짱': 856, '동일하다': 857, '올려놓다': 858, '히': 859, '삐걱': 860, '함께': 861, '힘드다': 862, '야': 863, '비추다': 864, '안내': 865, '천': 866, '작업': 867, '이불': 868, '심': 869, '어리다': 870, '그리다': 871, '수유': 872, '속상하다': 873, '할인': 874, '질': 875, '또한': 876, '감안': 877, '평이': 878, '지역': 879, '누르다': 880, '도어': 881, '내부': 882, '매장': 883, '다리다': 884, '지키다': 885, '아쉬움': 886, '올라가다': 887, '개선': 888, '신': 889, '세탁': 890, '전동': 891, '지는': 892, '암튼': 893, 'ㅎㅎㅎ': 894, '톤': 895, '해결': 896, '아무': 897, '이용': 898, '가루': 899, '흘리다': 900, '직원': 901, '너무나': 902, '지고': 903, '분도': 904, '거치다': 905, '깨다': 906, '줄다': 907, '간단하다': 908, '오히려': 909, '삐': 910, '박다': 911, '조심하다': 912, '결제': 913, '잠': 914, '아파트': 915, '요일': 916, '완벽하다': 917, '뒷': 918, '확': 919, '겉': 920, '심해': 921, '땐': 922, '뚝딱': 923, '부러지다': 924, '덥다': 925, '지연': 926, '이르다': 927, '수가': 928, '지지': 929, '전반': 930, '남': 931, '틈': 932, '에서는': 933, '가시': 934, '요즘': 935, '친구': 936, '딸': 937, '묵직하다': 938, '얘기': 939, '본체': 940, '코팅': 941, '방법': 942, '소재': 943, '상세': 944, '더럽다': 945, '다행': 946, '배치': 947, '벽지': 948, '상황': 949, '발견': 950, '세우다': 951, '그게': 952, '요새': 953, '물어보다': 954, '장롱': 955, '다치다': 956, '부품': 957, '팔걸이': 958, '홀더': 959, '넘어가다': 960, '물': 961, '잠깐': 962, '뻔하다': 963, '가로': 964, '무슨': 965, '일만': 966, '조심': 967, '위해': 968, '일자': 969, '혹시': 970, '비지': 971, '부담': 972, '라도': 973, '진': 974, '로는': 975, '부서지다': 976, '대가': 977, '어머니': 978, '밀다': 979, '세다': 980, '이라도': 981, '내리다': 982, '본드': 983, '예전': 984, '주방': 985, '요한': 986, '친절': 987, '딸아이': 988, '검색': 989, '저렇게': 990, '덕분': 991, '다행하다': 992, '움': 993, '바쁘다': 994, '비닐': 995, '균형': 996, '주변': 997, '시스템': 998, '겨우': 999, '그나마': 1000, '계단': 1001, '너': 1002, '이라는': 1003, '얼마': 1004, '다니다': 1005, '하드': 1006, '접': 1007, '꽉': 1008, '따다': 1009, '공부': 1010, '양쪽': 1011, '씌우다': 1012, '안정감': 1013, '콘센트': 1014, '소비자': 1015, '높낮이': 1016, '지저분하다': 1017, '의사': 1018, '빈': 1019, '두께': 1020, '물론': 1021, '분리': 1022, '인가': 1023, '피스': 1024, '원룸': 1025, '보시': 1026, '길다': 1027, '채우다': 1028, '별도': 1029, '출고': 1030, '날카롭다': 1031, '협탁': 1032, '습': 1033, '깨지다': 1034, '성인': 1035, '베드': 1036, '동생': 1037, '이상하다': 1038, '쏘다': 1039, '지우다': 1040, '쇼': 1041, '말고': 1042, '추하다': 1043, '정상': 1044, '사지': 1045, '다가': 1046, '찾아보다': 1047, '덕': 1048, '송이': 1049, '치': 1050, '방수': 1051, '오시': 1052, '별개': 1053, '장도': 1054, '봉': 1055, '대리석': 1056, '주일': 1057, '페인트': 1058, '본인': 1059, '댁': 1060, '구조': 1061, '연결하다': 1062, '찢어지다': 1063, '자가': 1064, '자동': 1065, '강': 1066, '스타일': 1067, '총': 1068, '불만': 1069, '각': 1070, '이며': 1071, '표면': 1072, '무광': 1073, '필름': 1074, '아예': 1075, '무늬': 1076, '생활': 1077, '조': 1078, '통': 1079, '뿐': 1080, '수고': 1081, '꽂다': 1082, '대신': 1083, '충전': 1084, '군데군데': 1085, '이면': 1086, '소음': 1087, '엘베': 1088, '전부': 1089, '블랙': 1090, '송비': 1091, '싸구려': 1092, '보람': 1093, '공': 1094, '답답하다': 1095, '매끄럽다': 1096, '그다지': 1097, '해봤다': 1098, '그만큼': 1099, '당연하다': 1100, '오전': 1101, '잇다': 1102, '가까이': 1103, '온라인': 1104, '이미': 1105, '서로': 1106, '관련': 1107, '멀티탭': 1108, '읽다': 1109, '무료': 1110, '플라스틱': 1111, '합': 1112, '첨부': 1113, '늦어지다': 1114, '포인트': 1115, '편입': 1116, '매': 1117, '치고': 1118, '주정': 1119, '꾸미다': 1120, '그건': 1121, '따뜻하다': 1122, '놀래다': 1123, '말고는': 1124, '금': 1125, '급': 1126, '실망하다': 1127, '방지': 1128, '차라리': 1129, '갖다': 1130, '어둡다': 1131, '요구': 1132, '불구': 1133, '불': 1134, '부위': 1135, '작은방': 1136, '실수': 1137, '가져가다': 1138, '가깝다': 1139, '사이트': 1140, '미루다': 1141, '쓸리다': 1142, '그렇지만': 1143, '따르다': 1144, '막상': 1145, '으로도': 1146, '이니': 1147, '마지막': 1148, '드': 1149, '붙박다': 1150, '누우': 1151, '달라지다': 1152, '사려': 1153, '엄청나다': 1154, '불다': 1155, '집다': 1156, '다소': 1157, '영': 1158, '완제': 1159, '대응': 1160, '부피': 1161, '패드': 1162, '며': 1163, '칠': 1164, '요소': 1165, '부르다': 1166, '되게': 1167, '곳도': 1168, '신혼집': 1169, '조정': 1170, '유용하다': 1171, '늘다': 1172, '바람': 1173, '결': 1174, '얼마나': 1175, '끝나다': 1176, '식사': 1177, '아빠': 1178, '라면': 1179, '겠다': 1180, '양': 1181, '움직': 1182, '강추': 1183, '조금씩': 1184, '자석': 1185, '밥': 1186, '실': 1187, '제거': 1188, '열심히': 1189, '요인': 1190, '철제': 1191, '바': 1192, '술': 1193, '쓰시': 1194, '불쾌하다': 1195, '저녁': 1196, '남아': 1197, '아무래도': 1198, '멀다': 1199, '갑자기': 1200, '나머지': 1201, '사기': 1202, '떼다': 1203, '겨울': 1204, '상처': 1205, '터지다': 1206, '회색': 1207, '불친절': 1208, '이기다': 1209, '틀어지다': 1210, '키우다': 1211, '라꾸': 1212, '끼': 1213, '덜하다': 1214, '맨': 1215, '까지는': 1216, '수준': 1217, '써주다': 1218, '젤': 1219, '정일': 1220, '맞춤': 1221, '담': 1222, '희망': 1223, '높이다': 1224, '올라오다': 1225, '강하다': 1226, '결과': 1227, '대해': 1228, '갑': 1229, '계시다': 1230, '골드': 1231, '한참': 1232, '뒤판': 1233, '제외': 1234, '뒤쪽': 1235, '왼쪽': 1236, '어른': 1237, '애매하다': 1238, '아무튼': 1239, '어이없다': 1240, '중고': 1241, '틀': 1242, '측': 1243, '딱하다': 1244, '테': 1245, '지도': 1246, '깜짝': 1247, '약': 1248, '대박': 1249, '외관': 1250, '아래쪽': 1251, '토퍼': 1252, '바뀌다': 1253, '울다': 1254, '인하다': 1255, '아버지': 1256, '사시': 1257, '어이': 1258, '작': 1259, '지나': 1260, '갈라지다': 1261, '항상': 1262, '불편': 1263, '단지': 1264, '진행': 1265, '답': 1266, '발생': 1267, '고려': 1268, '괜히': 1269, '그러나': 1270, '기준': 1271, '듭': 1272, '겁니다': 1273, '비만': 1274, '한다는': 1275, '팔다': 1276, '작고': 1277, '여전하다': 1278, '무조건': 1279, '력': 1280, '점점': 1281, '삐뚤다': 1282, '안전하다': 1283, '시기': 1284, '놔두다': 1285, '조명': 1286, '대체로': 1287, '사전': 1288, '주가': 1289, '띄다': 1290, '엘리베이터': 1291, '더욱': 1292, '연': 1293, '메이플': 1294, '굳다': 1295, '스케줄': 1296, '확정': 1297, '거치': 1298, '어제': 1299, '붙이': 1300, '들리다': 1301, '자마자': 1302, '포기': 1303, '열흘': 1304, '자세': 1305, '작동': 1306, '무리': 1307, '거지': 1308, '블루': 1309, '위아래': 1310, '꾸다': 1311, '이지': 1312, '내용': 1313, '코로나': 1314, '워낙': 1315, '희다': 1316, '뚫리다': 1317, '검다': 1318, '오른쪽': 1319, '없어지다': 1320, '발송': 1321, '용접': 1322, '사은': 1323, '사장': 1324, '무': 1325, '현상': 1326, '제목': 1327, '보지': 1328, '베란다': 1329, '구성은': 1330, '조율': 1331, '조이다': 1332, '홈': 1333, '누울': 1334, '소요': 1335, '펼치다': 1336, '하얗다': 1337, '수동': 1338, '뿌듯하다': 1339, '동': 1340, '데스크': 1341, '가성': 1342, '위험하다': 1343, '칭찬': 1344, '전이': 1345, '고양이': 1346, '잠시': 1347, '이미지': 1348, '박히다': 1349, '창문': 1350, '틈새': 1351, '기둥': 1352, '미흡하다': 1353, '손님': 1354, '새벽': 1355, '앞뒤': 1356, '주의': 1357, '방향': 1358, '불만족': 1359, '낫다': 1360, '측면': 1361, '포근하다': 1362, '가끔': 1363, '추다': 1364, '매일': 1365, '도와주다': 1366, '활': 1367, '밖': 1368, '이만': 1369, '뭘': 1370, '안방': 1371, '하얀색': 1372, '가게': 1373, '본사': 1374, '랩': 1375, '현관': 1376, '넘어지다': 1377, '심지어': 1378, '옆면': 1379, '신하': 1380, '듣다': 1381, '모델': 1382, '윗': 1383, '댐퍼': 1384, '빛': 1385, '준': 1386, '진하다': 1387, '음식': 1388, '밉다': 1389, '군더더기': 1390, '박아': 1391, '자도': 1392, '네이버': 1393, '여름': 1394, '터': 1395, '쁘': 1396, '지불': 1397, '삼익': 1398, '입다': 1399, '수리': 1400, '스럽게': 1401, '후회되다': 1402, '넣기': 1403, '에서도': 1404, '이전': 1405, '잡고': 1406, '내려앉다': 1407, '파': 1408, '무너지다': 1409, '접이식': 1410, '저렴': 1411, '부': 1412, '려고': 1413, '이후': 1414, '모던': 1415, 'ㅠㅠㅠ': 1416, '짱짱하다': 1417, '근': 1418, '예민하다': 1419, '화가': 1420, '간이': 1421, '무척': 1422, '유광': 1423, '가져오다': 1424, '가시다': 1425, '사항': 1426, '친정': 1427, '이장': 1428, '겸': 1429, '꺼내다': 1430, '톱밥': 1431, '특성': 1432, '그저': 1433, '부딪히다': 1434, '망가지다': 1435, '망설이다': 1436, '죽': 1437, '듯이': 1438, '개월': 1439, '궁금하다': 1440, '코너': 1441, '니깐': 1442, '자고': 1443, '고무': 1444, '켜다': 1445, '가면': 1446, '수령': 1447, '칠이': 1448, '모습': 1449, '칠하다': 1450, '경첩': 1451, '누가': 1452, '장식': 1453, '강아지': 1454, '위로': 1455, '달리다': 1456, '울': 1457, '사주다': 1458, '두운': 1459, '추석': 1460, '칸막이': 1461, '생': 1462, '속이다': 1463, '치우다': 1464, '벗기다': 1465, '프로': 1466, '간편하다': 1467, '오래오래': 1468, '물질': 1469, '필수': 1470, '팔': 1471, '좋아지다': 1472, '사면': 1473, '적히다': 1474, '그릇': 1475, '풀다': 1476, '황당하다': 1477, '적응': 1478, '체적': 1479, '이리': 1480, '널찍하다': 1481, '스트레스': 1482, '간다': 1483, '데스': 1484, '은은하다': 1485, '민': 1486, '종이': 1487, '주신': 1488, '해드리다': 1489, '백': 1490, '어찌': 1491, '부탁': 1492, '세련되다': 1493, '에선': 1494, '라인': 1495, '에이스': 1496, '밤': 1497, '문도': 1498, '보드': 1499, '잔': 1500, '그렇다고': 1501, '놀다': 1502, '테이프': 1503, '신한': 1504, '라이트': 1505, '루나': 1506, '찌그러지다': 1507, '채': 1508, '래': 1509, '감수': 1510, '잘해주다': 1511, '그때': 1512, '기울어지다': 1513, '장난': 1514, '분만': 1515, '식구': 1516, '과는': 1517, '굳이': 1518, '보조': 1519, '우드': 1520, '공지': 1521, '날다': 1522, '가능': 1523, '죽다': 1524, '오기': 1525, '고맙다': 1526, '드라이버': 1527, '세로': 1528, '장판': 1529, '푹신푹신': 1530, '뚫다': 1531, '도움': 1532, '밀리': 1533, '소': 1534, '들뜨다': 1535, '수월하다': 1536, '가버리다': 1537, '타카': 1538, '비도': 1539, '각각': 1540, '오래되다': 1541, '국물': 1542, '하부': 1543, '가구점': 1544, '오후': 1545, '검은색': 1546, '땜': 1547, '젖다': 1548, '시작': 1549, '모션': 1550, '자재': 1551, '등등': 1552, '끌': 1553, '내주다': 1554, '물다': 1555, '옴': 1556, '해달라다': 1557, '저번': 1558, '새다': 1559, '현재': 1560, '뺏다': 1561, '가리다': 1562, '실밥': 1563, '형태': 1564, '려': 1565, '막다': 1566, '챙기다': 1567, '옵션': 1568, '정보': 1569, '바르다': 1570, '로만': 1571, '생기': 1572, '비어': 1573, '으론': 1574, '보호': 1575, '클라이너': 1576, '말씀드리다': 1577, '저가': 1578, '빡빡': 1579, '오신': 1580, '거려': 1581, '귀엽다': 1582, '각도': 1583, '만큼의': 1584, '버티다': 1585, '싹': 1586, '상단': 1587, '페이지': 1588, '통보': 1589, '청소기': 1590, '늦': 1591, '질리': 1592, '내려오다': 1593, '수정': 1594, '이야기': 1595, '매직': 1596, '운': 1597, '배꼽': 1598, '서울': 1599, '편안함': 1600, '물품': 1601, '자르다': 1602, '효과': 1603, '사라지다': 1604, '튀다': 1605, '만큼은': 1606, '합리': 1607, '촉감': 1608, '장난감': 1609, '피씨': 1610, '디테일': 1611, '일요일': 1612, '일부': 1613, '잡': 1614, '스럽지': 1615, '점도': 1616, '체크': 1617, '스': 1618, '긁힌': 1619, '방석': 1620, '탓': 1621, 'ㅇ': 1622, '거사': 1623, '마': 1624, '뭔': 1625, '끌리다': 1626, '에만': 1627, '죄송하다': 1628, '핑크': 1629, '이케아': 1630, '머': 1631, '오지': 1632, '토요일': 1633, '만들어지다': 1634, '오랫동안': 1635, '더하다': 1636, '곧': 1637, '웜': 1638, '판도': 1639, '마스크': 1640, '오프라인': 1641, '블라인드': 1642, '휴가': 1643, '서도': 1644, '착불': 1645, '미세하다': 1646, '웬만하다': 1647, '보름': 1648, '창고': 1649, '중요하다': 1650, '크림': 1651, '발통': 1652, '슈퍼': 1653, '잡히다': 1654, '만점': 1655, '지난': 1656, '어깨': 1657, '모터': 1658, '겁나다': 1659, '김치': 1660, '가요': 1661, '타입': 1662, '옷방': 1663, '이란': 1664, '하나로': 1665, '도로': 1666, 'ㅈ': 1667, '난리': 1668, '다섯': 1669, '썩': 1670, '자취': 1671, '행': 1672, '든': 1673, '하이': 1674, '모': 1675, '신속하다': 1676, '원대': 1677, '퀸': 1678, '보임': 1679, '요약': 1680, '이삿날': 1681, '여기다': 1682, '거기': 1683, '정해진': 1684, '광고': 1685, '앞쪽': 1686, '안이': 1687, '적극': 1688, '상자': 1689, '하라': 1690, '놈': 1691, '여하튼': 1692, '천원': 1693, '재고': 1694, '준비': 1695, '고치다': 1696, '내려가다': 1697, '푹신': 1698, '만지다': 1699, '독립': 1700, '안락하다': 1701, '주름': 1702, '어디서': 1703, '인가요': 1704, '최소': 1705, '톡': 1706, '멀리': 1707, '런가': 1708, '지장': 1709, 'ㅜㅠ': 1710, '무릎': 1711, '어서': 1712, '도장': 1713, '던지다': 1714, '장만': 1715, '센티': 1716, '탁월하다': 1717, '지내다': 1718, '철': 1719, '쏠리다': 1720, '처': 1721, '입장': 1722, '안정': 1723, '분명': 1724, '틀리다': 1725, '추': 1726, '위쪽': 1727, '억지로': 1728, '삼': 1729, '끼리': 1730, '하나요': 1731, '요금': 1732, '길': 1733, '잠자다': 1734, '힘주다': 1735, '이주': 1736, '흔적': 1737, '지치다': 1738, '사도': 1739, '좌우': 1740, '다양하다': 1741, '그날': 1742, '둘째': 1743, '정돈': 1744, '예정일': 1745, '평일': 1746, '최': 1747, '난감하다': 1748, '어차피': 1749, '부착': 1750, '달리': 1751, '우여곡절': 1752, '표기': 1753, '렌치': 1754, '마이': 1755, '초': 1756, '머리카락': 1757, '기울다': 1758, '확장': 1759, '진작': 1760, '거만': 1761, '최대한': 1762, '벙커': 1763, '테두리': 1764, '줍다': 1765, '마우스': 1766, '거나': 1767, '중앙': 1768, '주심': 1769, '일체': 1770, '디테': 1771, '보풀': 1772, '듀얼': 1773, '게다가': 1774, '늘': 1775, '연휴': 1776, '동영상': 1777, '자랑': 1778, '뛰다': 1779, '슬라이드': 1780, '째다': 1781, '첫날': 1782, '가보다': 1783, '조치': 1784, '발판': 1785, '은근': 1786, '접수': 1787, '당기다': 1788, '모로': 1789, '복불복': 1790, '탁': 1791, '신중하다': 1792, '드디어': 1793, '휴': 1794, '종일': 1795, '치면': 1796, '품다': 1797, '찰떡': 1798, '알맞다': 1799, '상관없다': 1800, '만화책': 1801, '칙칙하다': 1802, '그런대로': 1803, '파이다': 1804, '면서': 1805, '림': 1806, '사이드': 1807, '까맣다': 1808, '베다': 1809, '뭇': 1810, '에이스침대': 1811, '욕': 1812, '매번': 1813, '홈쇼핑': 1814, '오랜': 1815, '일부러': 1816, '용이하다': 1817, '퍼': 1818, '넘기다': 1819, '뚜껑': 1820, '안다': 1821, '세상': 1822, '거림': 1823, '육': 1824, '해피': 1825, '일도': 1826, '뿐이다': 1827, '하고도': 1828, '그걸': 1829, '조여': 1830, '굿굿': 1831, '대부분': 1832, '신혼': 1833, '뭐라다': 1834, '방식': 1835, 'ㄷ': 1836, '결론': 1837, '살펴보다': 1838, '초등학생': 1839, '깜놀': 1840, '역': 1841, '서서': 1842, '마루': 1843, '이벤트': 1844, '삐거덕': 1845, '사정': 1846, '보다도': 1847, '용감': 1848, '바트': 1849, '이리저리': 1850, '어쩌나': 1851, '몰다': 1852, '유격': 1853, '코트': 1854, '가득': 1855, '성의': 1856, '화': 1857, '대단하다': 1858, '까다롭다': 1859, '행복하다': 1860, '먹기': 1861, '어머님': 1862, '둥글다': 1863, '홀': 1864, '산다': 1865, '리모컨': 1866, '당하다': 1867, '셀프': 1868, '살리다': 1869, '퇴근': 1870, '젠': 1871, '얕다': 1872, '옹이': 1873, '상일': 1874, '여성': 1875, '수거': 1876, '태도': 1877, '코': 1878, '얼른': 1879, '나란하다': 1880, '큼직하다': 1881, '누락': 1882, '원단': 1883, '병원': 1884, '스티로폼': 1885, '성능': 1886, '점수': 1887, '만하': 1888, '신해': 1889, '뿌리': 1890, '괜': 1891, '생산': 1892, '절': 1893, '뒤지다': 1894, '쇠': 1895, '스틸': 1896, '올': 1897, '롱': 1898, '충격': 1899, '수술': 1900, '지네': 1901, '주기': 1902, '할머니': 1903, '입금': 1904, '대고': 1905, '행사': 1906, '낮': 1907, '월요일': 1908, '순간': 1909, '민감하다': 1910, '예약': 1911, '달도': 1912, '요크': 1913, '로시': 1914, '댐핑': 1915, '빼': 1916, '다크': 1917, '차갑다': 1918, '가방': 1919, '순': 1920, '풀리다': 1921, '양옆': 1922, '하고는': 1923, '콜': 1924, '떠나다': 1925, '블록': 1926, '카페': 1927, '집도': 1928, '결합': 1929, '너트': 1930, '만나다': 1931, '나은': 1932, '쇼핑': 1933, '랄': 1934, '얹다': 1935, '아늑하다': 1936, '한두': 1937, '메모리': 1938, '무시': 1939, '매다': 1940, '보완': 1941, '조각': 1942, '우수하다': 1943, '싼값': 1944, '가량': 1945, '늘어나다': 1946, '계열': 1947, '불가': 1948, '밀림': 1949, '임시': 1950, '막히다': 1951, '망치': 1952, '와이프': 1953, '기재': 1954, '질감': 1955, '착석': 1956, '쓴다': 1957, '라텍스': 1958, '똑같이': 1959, '냐': 1960, '천이': 1961, '대처': 1962, '툴': 1963, '출근': 1964, '찬': 1965, '요점': 1966, '콜센터': 1967, '자로': 1968, '번은': 1969, '부산': 1970, '누': 1971, '트': 1972, '표시': 1973, '경': 1974, '원인': 1975, '새집': 1976, '적절하다': 1977, '종류': 1978, '체결': 1979, '짝': 1980, '현금': 1981, '수도권': 1982, '요강': 1983, '넓어지다': 1984, '우려': 1985, '어려움': 1986, '날리다': 1987, '손가락': 1988, '멋지다': 1989, '뻔': 1990, '입': 1991, '장사': 1992, '고가': 1993, '지퍼': 1994, '우': 1995, '쇼파': 1996, '브라운': 1997, '넓이': 1998, '즈': 1999, '요하': 2000, '베드로': 2001, '올려주다': 2002, '어쨌든': 2003, '신다': 2004, '왕복': 2005, '사랑': 2006, '착': 2007, '앗다': 2008, '티비': 2009, '아쿠아': 2010, '대체': 2011, '칼': 2012, '똑바로': 2013, '아담하다': 2014, '뛰어나다': 2015, '장마': 2016, '화나다': 2017, '명시': 2018, '제발': 2019, '상담사': 2020, '레이디': 2021, '포': 2022, '아랫': 2023, '원형': 2024, '배다': 2025, '아무렇다': 2026, '넘어서다': 2027, '대요': 2028, '피다': 2029, '나아지다': 2030, '나르다': 2031, '안타깝다': 2032, '부속': 2033, '메인': 2034, '내야': 2035, '노출': 2036, '덧': 2037, 'ㄱ': 2038, '전기': 2039, '개판': 2040, '가라': 2041, '구석': 2042, '아마': 2043, '몸통': 2044, '쾅쾅': 2045, '이름': 2046, '요도': 2047, '오픈': 2048, '갈리다': 2049, '들여놓다': 2050, '사보다': 2051, '미니': 2052, '잠도': 2053, '차례': 2054, '상이': 2055, '연한': 2056, '공장': 2057, '삐뚤어지다': 2058, '아이엔지': 2059, '거고': 2060, '탈': 2061, '음식물': 2062, '질문': 2063, '사업': 2064, '핸드폰': 2065, '폭도': 2066, '단계': 2067, '장소': 2068, '반신반의': 2069, '더러워지다': 2070, '선풍기': 2071, '철재': 2072, '디': 2073, '멀쩡하다': 2074, '만은': 2075, '감싸다': 2076, '꿀': 2077, '동일': 2078, '메': 2079, '인조': 2080, '버': 2081, 'ㄴ': 2082, '이래서': 2083, '기사도': 2084, '개별': 2085, '변하다': 2086, '미관': 2087, '에게는': 2088, '곱다': 2089, '당장': 2090, '해외': 2091, '접합': 2092, '듭니다': 2093, '따지다': 2094, '마냥': 2095, '겨': 2096, '참다': 2097, '박음질': 2098, '남성': 2099, '칼라': 2100, 'ㅣ': 2101, '슥': 2102, 'ㅅ': 2103, '이음': 2104, '요산': 2105, '평가': 2106, '댓글': 2107, '가치': 2108, '울리다': 2109, '화장': 2110, '골': 2111, '둘이서': 2112, '정신': 2113, '중국산': 2114, '에나': 2115, '대답': 2116, '용이': 2117, 'ᅲᅲ': 2118, '가구라': 2119, '번호': 2120, '개체': 2121, '뽑기': 2122, '제법': 2123, '화학': 2124, '이래저래': 2125, '가신': 2126, '쁘다': 2127, '낼': 2128, '공구': 2129, '메리트': 2130, '요기': 2131, '상상': 2132, '데도': 2133, '겹': 2134, '실리콘': 2135, '밀면': 2136, '잊다': 2137, '미치다': 2138, '다루다': 2139, '이하': 2140, '깎다': 2141, '오크': 2142, '그림': 2143, '와도': 2144, '녹슬다': 2145, '강력': 2146, '거도': 2147, '옅다': 2148, '경험': 2149, '의미': 2150, '핀': 2151, '메이드': 2152, '대서': 2153, '전선': 2154, '이기': 2155, '사선': 2156, '관계': 2157, '그동안': 2158, '동봉': 2159, '방바닥': 2160, '기다림': 2161, '배려': 2162, '리베': 2163, '이상은': 2164, '왠지': 2165, '귀': 2166, '저만': 2167, '기쁘다': 2168, '내일': 2169, '외로': 2170, '체': 2171, '시골': 2172, '무지': 2173, '파시': 2174, '신뢰': 2175, '서재': 2176, '어긋나다': 2177, '묻히다': 2178, '밝아지다': 2179, '요시': 2180, '유지': 2181, '폼': 2182, '쌓이다': 2183, '덜렁': 2184, '믿음': 2185, '의외로': 2186, '국': 2187, '금색': 2188, '텍스': 2189, '최대': 2190, '옛날': 2191, '한숨': 2192, '목재': 2193, '섞이다': 2194, '노랗다': 2195, '잠자리': 2196, '운반': 2197, '경기': 2198, '료': 2199, '탁하다': 2200, '노란색': 2201, '옥': 2202, '쭉': 2203, '학생': 2204, '만들기': 2205, '여쭈다': 2206, '둥': 2207, '키로': 2208, '버튼': 2209, '사이사이': 2210, '싱크대': 2211, '두기': 2212, '스펀지': 2213, '쓰러지다': 2214, '란': 2215, '인기': 2216, '복잡하다': 2217, '쉬': 2218, '간격': 2219, '줄이다': 2220, '상하': 2221, '리가': 2222, '교육': 2223, '코드': 2224, '부직포': 2225, '끄덕': 2226, '둘러보다': 2227, '주지': 2228, '책임': 2229, '석': 2230, '컵홀더': 2231, '천장': 2232, '흑': 2233, '금요일': 2234, '약품': 2235, '혹': 2236, '멀티': 2237, '유의': 2238, '재단': 2239, '영상': 2240, '구도': 2241, '의심': 2242, '화요일': 2243, '덜컹': 2244, '여태': 2245, '뿌리다': 2246, '손상': 2247, '싸우다': 2248, '개시': 2249, '작년': 2250, '녹슨': 2251, '도저히': 2252, '나누다': 2253, '빌트': 2254, '피': 2255, '무섭다': 2256, '일어서다': 2257, '검정': 2258, '염려': 2259, '부터는': 2260, '나이': 2261, '부족': 2262, '오빠': 2263, '까지도': 2264, '분해': 2265, '심각하다': 2266, '치수': 2267, '치가': 2268, '뒤틀리다': 2269, '뒷정리': 2270, '덮개': 2271, '보상': 2272, '거래': 2273, '김': 2274, '등급': 2275, '벌레': 2276, '거니': 2277, '바지': 2278, '문구': 2279, '주로': 2280, '천연': 2281, '움직임': 2282, '케이블': 2283, '곳곳': 2284, '라니': 2285, '전달': 2286, '쇼룸': 2287, '침': 2288, '옵니다': 2289, '첫째': 2290, '시끄럽다': 2291, '감동': 2292, '평소': 2293, '사인': 2294, '지배': 2295, '지난번': 2296, '반대': 2297, '제각각': 2298, '파란색': 2299, '산지': 2300, '익숙해지다': 2301, '보태': 2302, '당시': 2303, '와는': 2304, '마르다': 2305, '살아나다': 2306, '에다': 2307, '찢다': 2308, '벽면': 2309, '미닫이': 2310, '소개': 2311, '요리': 2312, '아귀': 2313, '마찬가지': 2314, '방도': 2315, '날씨': 2316, '망하다': 2317, '책꽂이': 2318, '대기': 2319, '담다': 2320, '동네': 2321, '평평하다': 2322, '기억': 2323, '군': 2324, '식이': 2325, '두드리다': 2326, '시더': 2327, '역도': 2328, '핑크색': 2329, '지르다': 2330, '형편': 2331, '영화': 2332, '특유': 2333, '최저': 2334, '특별하다': 2335, '사라': 2336, '에겐': 2337, '수요일': 2338, '내내': 2339, '형식': 2340, '살살': 2341, '고지': 2342, '결함': 2343, '내려놓다': 2344, '사분': 2345, '중심': 2346, '언니': 2347, '달기': 2348, '왕': 2349, '뷰': 2350, '이야': 2351, '싫어하다': 2352, '셋': 2353, '쁩니': 2354, '차이나': 2355, '갈색': 2356, '법': 2357, '천천히': 2358, '지구': 2359, '패스': 2360, '에어컨': 2361, '똥': 2362, '매끈하다': 2363, '딘': 2364, '손톱': 2365, '고발': 2366, '규격': 2367, '욕심': 2368, '방치': 2369, '내장': 2370, '명확하다': 2371, '가라앉다': 2372, '겁': 2373, '줌': 2374, '비원': 2375, '존': 2376, '얼룩덜룩하다': 2377, '말리다': 2378, '솔솔': 2379, '사드': 2380, '조만간': 2381, '많아지다': 2382, '뚝': 2383, '쩝': 2384, '마음대로': 2385, '어요': 2386, '스타': 2387, '만이': 2388, '판단': 2389, '돌다': 2390, '워시': 2391, '잠들다': 2392, '넘치다': 2393, '외부': 2394, '목적': 2395, '떼': 2396, '집어넣다': 2397, '업무': 2398, '엉': 2399, '덮다': 2400, '쁘네': 2401, '지원': 2402, '동그랗다': 2403, '인정': 2404, '작성': 2405, '설': 2406, '저런': 2407, '주택': 2408, '들어주다': 2409, '문지르다': 2410, '하하': 2411, '빵빵': 2412, '가져다주다': 2413, '가장자리': 2414, '미끄럼': 2415, '다기': 2416, '밝기': 2417, '전화통화': 2418, '주무시다': 2419, '평수': 2420, '고무나무': 2421, '정이': 2422, '요원': 2423, '주저앉다': 2424, '꺼리다': 2425, '노트북': 2426, '담당자': 2427, '아가': 2428, '이예': 2429, '만치': 2430, '낙서': 2431, '일보': 2432, '위험': 2433, '상의': 2434, '돌': 2435, '임신': 2436, '양호': 2437, '지주': 2438, '마침': 2439, '불안': 2440, '단행': 2441, '에게도': 2442, '끈': 2443, '중국': 2444, '장하다': 2445, '촌스럽다': 2446, '통해': 2447, '주네': 2448, '얘': 2449, '에몬스': 2450, '저렇다': 2451, '모으다': 2452, '원활하다': 2453, '찝찝하다': 2454, 'ᅲ': 2455, '확보': 2456, '불가능하다': 2457, '다해': 2458, '최소한': 2459, '자신': 2460, '요충': 2461, '전문': 2462, '센스': 2463, '더니': 2464, '업그레이드': 2465, '설마': 2466, '솜': 2467, '헐겁다': 2468, '물량': 2469, '전신': 2470, '안내받다': 2471, '요정': 2472, '어색하다': 2473, '커브': 2474, '꽝': 2475, '겨자': 2476, '역할': 2477, '으로만': 2478, '맡다': 2479, '견고': 2480, '제자리': 2481, '빌라': 2482, '창': 2483, '끊다': 2484, '결재': 2485, '이신': 2486, '가지다': 2487, '흡수': 2488, '지탱': 2489, '투': 2490, '면피': 2491, '해당': 2492, '주어': 2493, '맨날': 2494, '잡기': 2495, '푼': 2496, '아끼다': 2497, '경기도': 2498, '때리다': 2499, '이염': 2500, '감사히': 2501, '까지만': 2502, '효율': 2503, '로서': 2504, '울퉁불퉁하다': 2505, '보신': 2506, '운송': 2507, 'ㅏ': 2508, '누구': 2509, '생가': 2510, '계산': 2511, '푹푹': 2512, '후일': 2513, '메이커': 2514, '무색': 2515, '물이': 2516, '통판': 2517, '최상': 2518, '가기': 2519, '부딪치다': 2520, '여가': 2521, '풀': 2522, '바느질': 2523, '직각': 2524, '핑계': 2525, '쿠폰': 2526, '낮잠': 2527, '낡다': 2528, '거가': 2529, '컵': 2530, '일일이': 2531, '걱': 2532, '요긴': 2533, '초반': 2534, '열기': 2535, '미안하다': 2536, '씨': 2537, '체어': 2538, '밑판': 2539, '건드리다': 2540, '빨갛다': 2541, '뻐용': 2542, '부스러기': 2543, '일방': 2544, '차분하다': 2545, '타이핑': 2546, '요원하다': 2547, '차도': 2548, '뒤척': 2549, '사르다': 2550, '나머진': 2551, '신기하다': 2552, '질리다': 2553, '남고': 2554, '짓': 2555, '이제야': 2556, '아주아주': 2557, '몸무게': 2558, '속도': 2559, '아내': 2560, '묶다': 2561, '부부': 2562, '초등': 2563, '까칠하다': 2564, '쓱쓱': 2565, '따갑다': 2566, '장갑': 2567, '기름': 2568, '일인': 2569, '장치': 2570, '시간대': 2571, '안전': 2572, '정해': 2573, '스톨': 2574, '베딩': 2575, '애가': 2576, '대도': 2577, '부속품': 2578, '사과': 2579, '조합': 2580, '평점': 2581, '오천': 2582, '스탠드': 2583, '가야': 2584, '비우다': 2585, '딸방': 2586, '한편': 2587, '바깥': 2588, '전용': 2589, '끌다': 2590, '시라': 2591, '조건': 2592, '롯데': 2593, '차로': 2594, '표현': 2595, '하중': 2596, '톡톡': 2597, '반드시': 2598, '조용하다': 2599, '녹이다': 2600, '잔뜩': 2601, '세워지다': 2602, '시반': 2603, '해주': 2604, '좌': 2605, '찾기': 2606, '내시': 2607, '소프트': 2608, '직': 2609, '중학생': 2610, '조심스럽다': 2611, '십': 2612, '중문': 2613, '으': 2614, '벼': 2615, '놨는데': 2616, '이라니': 2617, '인생': 2618, '걸치다': 2619, '스르륵': 2620, '팀': 2621, '인천': 2622, '땀': 2623, '척': 2624, '매력': 2625, '현금영수증': 2626, '성질': 2627, '평생': 2628, '유행': 2629, '의문': 2630, '불량품': 2631, '성품': 2632, '오만': 2633, '도대체': 2634, '티셔츠': 2635, '개도': 2636, '십자': 2637, '배겨': 2638, '구분': 2639, '문제점': 2640, '빼놓다': 2641, '해오다': 2642, '발가락': 2643, '납': 2644, '또는': 2645, '매너': 2646, '보여주다': 2647, '린': 2648, '네이비': 2649, '빈티': 2650, '스며들다': 2651, '출산': 2652, '주위': 2653, '울퉁불퉁': 2654, '자개': 2655, '셨어': 2656, '동시': 2657, '고리': 2658, '메트': 2659, '초기': 2660, '엇': 2661, '찌다': 2662, '부담스럽다': 2663, '합치다': 2664, '오류': 2665, '툭': 2666, '밑바닥': 2667, '값어치': 2668, '에까지': 2669, '자리다': 2670, '사가': 2671, '표': 2672, '너무나도': 2673, '어도': 2674, '문안': 2675, '진열': 2676, '근처': 2677, '멋': 2678, '거뜬하다': 2679, '방안': 2680, '왓': 2681, '얼룩지다': 2682, '알차다': 2683, '우측': 2684, '구해': 2685, '나무라다': 2686, '동서': 2687, '흐리다': 2688, '내용물': 2689, '친정엄마': 2690, '연하다': 2691, '인식': 2692, '여지': 2693, '측정': 2694, '백만': 2695, '조명도': 2696, '게임': 2697, '찍': 2698, '클리': 2699, '포트': 2700, '치고는': 2701, '보강': 2702, '소품': 2703, '사하다': 2704, '기르다': 2705, '피곤하다': 2706, '삐지다': 2707, '묶음': 2708, '만큼만': 2709, '온도': 2710, '타이': 2711, '권': 2712, '통일': 2713, '세심': 2714, '농': 2715, '어르신': 2716, '목요일': 2717, '덜컹덜컹': 2718, '수건': 2719, '분명하다': 2720, '자의': 2721, '강도': 2722, '탁자': 2723, '상해': 2724, '다용': 2725, '원도': 2726, '커뮤니케이션': 2727, '쓱': 2728, '요지': 2729, '맘대로': 2730, '붕': 2731, '불로': 2732, '적어도': 2733, '꿀잠': 2734, '임산부': 2735, '어설프다': 2736, '정말로': 2737, '빈집': 2738, '시나': 2739, '점검': 2740, '숨': 2741, '빅': 2742, '아다리': 2743, '파스텔': 2744, '진동': 2745, '충전기': 2746, '오르다': 2747, 'ᄒᄒ': 2748, '배송지': 2749, '망': 2750, '빼기': 2751, '카드': 2752, '최근': 2753, '유튜브': 2754, '아버님': 2755, '적용': 2756, '얼룩덜룩': 2757, '가려지다': 2758, '갠': 2759, '두통': 2760, '해체': 2761, '퀄': 2762, '곰팡이': 2763, '여닫이': 2764, '불가하다': 2765, '번가': 2766, '놓이다': 2767, '뜨겁다': 2768, '여러분': 2769, '라운딩': 2770, '안심': 2771, '수직': 2772, '신고': 2773, '매트릭스': 2774, '여유롭다': 2775, '고도': 2776, '내면': 2777, '쏟아지다': 2778, '패딩': 2779, '탈취': 2780, '물어': 2781, '베이지색': 2782, '뽑다': 2783, '뼈': 2784, '이겠다': 2785, '바로바로': 2786, '원만': 2787, '흠잡다': 2788, '폴리': 2789, '무리다': 2790, '이러니': 2791, '부재': 2792, '띄우다': 2793, '걸레': 2794, '그랬는데': 2795, '전원': 2796, '유': 2797, '입구': 2798, '벨': 2799, '이삿짐': 2800, '훅': 2801, '시원하다': 2802, '피해': 2803, '올해': 2804, '맡기다': 2805, '연도': 2806, '성은': 2807, '병': 2808, '늦추다': 2809, '배짱': 2810, '책상다리': 2811, '튼실하다': 2812, '마리': 2813, '크레치': 2814, '접착': 2815, '어린이': 2816, '나비': 2817, '평형': 2818, '길어지다': 2819, '커피': 2820, '쏟다': 2821, '딜': 2822, '조이': 2823, '개봉': 2824, '권하다': 2825, '공휴일': 2826, '일로': 2827, '적합하다': 2828, '홈페이지': 2829, '눌려': 2830, '클로즈': 2831, '벨벳': 2832, '현장': 2833, '프린트': 2834, '논': 2835, '액세서리': 2836, '세련': 2837, '스웨이드': 2838, '지면': 2839, '운영': 2840, '이냐': 2841, '폭신': 2842, '겉보기': 2843, '원피스': 2844, '꾀': 2845, '링크': 2846, '물류': 2847, '뜻': 2848, '산뜻하다': 2849, '털다': 2850, 'ᄏᄏ': 2851, '미스': 2852, '한지': 2853, '건강': 2854, '좌석': 2855, '노력': 2856, '자연스럽다': 2857, '투자': 2858, '중인': 2859, '옆쪽': 2860, '접착제': 2861, '유리하다': 2862, '협의': 2863, '삼만': 2864, '덩': 2865, '빗살': 2866, '너비': 2867, '나무다리': 2868, '다운': 2869, '자만': 2870, '중개': 2871, '쓰렵니': 2872, '트이다': 2873, '독서': 2874, '움푹': 2875, 'ᄒ': 2876, '양말': 2877, '맛있다': 2878, '설계': 2879, '수면': 2880, '친': 2881, '찌': 2882, '께서는': 2883, '한계': 2884, '지하': 2885, '여부': 2886, '계획': 2887, '경대': 2888, '타원형': 2889, '과의': 2890, '따로따로': 2891, '카키': 2892, '또다시': 2893, '호텔': 2894, '납품': 2895, '라네': 2896, '휘청거리다': 2897, '요담': 2898, '허벅지': 2899, '착오': 2900, '찜찜하다': 2901, '요장': 2902, '술해': 2903, '깨끗이': 2904, '한층': 2905, '길래': 2906, '엇어': 2907, '장착': 2908, '뾰족': 2909, '뻗다': 2910, '장시간': 2911, '강화유리': 2912, '안성맞춤': 2913, '시도': 2914, '주인': 2915, '부가': 2916, '차콜': 2917, '반하다': 2918, '문틈': 2919, '비각': 2920, '견디다': 2921, '일해': 2922, '잖다': 2923, '던': 2924, '럭': 2925, '조작': 2926, '품절': 2927, '늘리다': 2928, '랑은': 2929, '환자': 2930, '가하다': 2931, '달래다': 2932, '미끄러지다': 2933, '아요': 2934, '리기': 2935, '파랑': 2936, '한마디': 2937, '버전': 2938, '개입': 2939, '사포': 2940, '포켓': 2941, '헷갈리다': 2942, '방금': 2943, '거란': 2944, '단순하다': 2945, '게이': 2946, '밍': 2947, '월넛': 2948, '팔면': 2949, '적도': 2950, '쾅': 2951, '바구니': 2952, '마블': 2953, '착각': 2954, '든든하다': 2955, '전기장판': 2956, '남자친구': 2957, '하든': 2958, '컴': 2959, '출발': 2960, '저장': 2961, '위주': 2962, '직장': 2963, 'ㅓ': 2964, '쿵': 2965, '과도': 2966, '인상': 2967, '소식': 2968, '다이소': 2969, '말로': 2970, '질도': 2971, '셔': 2972, '추후': 2973, '스러운': 2974, '돌아가다': 2975, '텅텅': 2976, '폰': 2977, '레이': 2978, '외곽': 2979, '죽이다': 2980, '꿈': 2981, '수시로': 2982, '텅': 2983, '거립니': 2984, '재료': 2985, '미끄럽다': 2986, '이니까': 2987, '화물': 2988, '스위치': 2989, '휴식': 2990, '도색': 2991, '주재': 2992, '기숙사': 2993, '세팅': 2994, '과연': 2995, '색칠': 2996, '나눠지다': 2997, '부과': 2998, '스카이': 2999, '만천': 3000, '지점': 3001, '거주': 3002, '아픔': 3003, '탭': 3004, '황당': 3005, '가공': 3006, '입히다': 3007, '갓': 3008, '리지': 3009, '고심': 3010, '본가': 3011, '취향': 3012, '이기도': 3013, '일전': 3014, '오라': 3015, '지켜보다': 3016, '내놓다': 3017, '직후': 3018, '커지다': 3019, '기울이다': 3020, '힘없다': 3021, '에어': 3022, '박': 3023, '자라다': 3024, '셔츠': 3025, '유아': 3026, '민망하다': 3027, '절대로': 3028, '드러나다': 3029, '안산': 3030, '건의': 3031, '노': 3032, '데이': 3033, '기성': 3034, '비갑': 3035, '어마': 3036, '웬': 3037, '숨다': 3038, '떨다': 3039, '조장': 3040, '나위': 3041, '부턴': 3042, '시대': 3043, '짱짱': 3044, '설정': 3045, '다녀오다': 3046, '괜춘': 3047, '여분': 3048, '비스듬히': 3049, '얻다': 3050, '끊어지다': 3051, '반값': 3052, '높아지다': 3053, '그런': 3054, '아마도': 3055, '하진': 3056, '테디': 3057, '개사': 3058, '취': 3059, '종종': 3060, '스무': 3061, '직업': 3062, '거제': 3063, '도중': 3064, '사유': 3065, '단면': 3066, '러그': 3067, '상부': 3068, '집들이': 3069, '서방': 3070, '진심': 3071, '어보': 3072, '구기다': 3073, '찧다': 3074, '골치': 3075, '벌': 3076, '모델링': 3077, '박박': 3078, '성하다': 3079, '불안정하다': 3080, '트리스': 3081, '시부모': 3082, '명절': 3083, '굴러가다': 3084, '팔고': 3085, '담기다': 3086, '촬영': 3087, '퉁': 3088, '당분간': 3089, '오해': 3090, '지경': 3091, '흐르다': 3092, '제주도': 3093, '저리': 3094, '오트밀': 3095, '절차': 3096, '팅': 3097, '기울기': 3098, '시로': 3099, '직장인': 3100, '외형': 3101, '라운드': 3102, '어쩌': 3103, '마음먹다': 3104, '요키': 3105, '전문가': 3106, '관': 3107, '민하': 3108, '전면': 3109, '통풍': 3110, '부치다': 3111, '케이스': 3112, '패밀리': 3113, '시댁': 3114, '녹': 3115, '꺾다': 3116, '의견': 3117, '아구': 3118, '몬스': 3119, '주차': 3120, '계좌': 3121, '주소': 3122, '팬': 3123, '스테이': 3124, '명도': 3125, '쑥': 3126, '실속': 3127, '태어나다': 3128, '검품': 3129, '아작': 3130, '큰일': 3131, '열선': 3132, '타고': 3133, 'ㅔ': 3134, '아일랜드': 3135, '날아가다': 3136, '낭패': 3137, '판자': 3138, '젖히다': 3139, '요전': 3140, '관할': 3141, '다수': 3142, '온갖': 3143, '말투': 3144, '물들다': 3145, '벤츠': 3146, '타자': 3147, '엘': 3148, '분하다': 3149, '워': 3150, '꼬이다': 3151, '봄': 3152, '참나': 3153, '최선': 3154, '인도': 3155, '전화번호': 3156, '척척': 3157, '볼펜': 3158, '연필': 3159, '안고': 3160, '친환경': 3161, '사자': 3162, '절하': 3163, '언니네': 3164, '소통': 3165, '정면': 3166, '말리': 3167, '선호': 3168, '뻥': 3169, '밟다': 3170, '물리다': 3171, '연차': 3172, '연구소': 3173, '끝내다': 3174, '오차': 3175, '남지': 3176, '구형': 3177, '별다르다': 3178, '학습': 3179, '허전하다': 3180, '협소': 3181, '비번': 3182, '루': 3183, 'ㄷㄷ': 3184, '외다': 3185, '저러다': 3186, '참여': 3187, '독하다': 3188, '공짜': 3189, '헉': 3190, '당당하다': 3191, '몰딩': 3192, '대안': 3193, '송일': 3194, '착용': 3195, '후보': 3196, '불량하다': 3197, '신세계': 3198, '일시': 3199, '각오': 3200, '카우치': 3201, '삭제': 3202, '덩치': 3203, '건물': 3204, '푸다': 3205, '대각선': 3206, '지급': 3207, '주니어': 3208, '저기': 3209, '일어나고': 3210, '잉크': 3211, '만화': 3212, '반송': 3213, '레스트': 3214, '결혼': 3215, '밸런스': 3216, '쉰': 3217, '담배': 3218, '떡하니': 3219, '텐': 3220, '빨래': 3221, '링': 3222, '태풍': 3223, '못지않다': 3224, '에이': 3225, '낑낑대다': 3226, '게시판': 3227, '저절로': 3228, '구점': 3229, '요만': 3230, '책정': 3231, '굴곡': 3232, '반대쪽': 3233, '예의': 3234, '베개': 3235, '테스트': 3236, '브래킷': 3237, '찢기다': 3238, '사무': 3239, '낫': 3240, '베리': 3241, '댐': 3242, '우연히': 3243, '발자국': 3244, '참조': 3245, '도면': 3246, '다고': 3247, '슬프다': 3248, '부엌': 3249, '언급': 3250, '취하': 3251, '반백': 3252, '가정': 3253, '달랑': 3254, '지독하다': 3255, '도도': 3256, '걔': 3257, '데코': 3258, '구르다': 3259, '까끌까끌하다': 3260, '내추럴': 3261, '품목': 3262, '덜다': 3263, '거들다': 3264, '이태리': 3265, '전후': 3266, '트리': 3267, '매치': 3268, '국내': 3269, '빨다': 3270, '정교하다': 3271, '계절': 3272, '입력': 3273, '이든': 3274, '억': 3275, '시가': 3276, '득템': 3277, '생일': 3278, '대용': 3279, '사악하다': 3280, '탑': 3281, '하아': 3282, '똑': 3283, '연장': 3284, '마모': 3285, '니트': 3286, '만족감': 3287, '이자': 3288, '출장': 3289, '여도': 3290, '누리': 3291, '국산': 3292, '장비': 3293, '전도': 3294, '지게': 3295, '어수선하다': 3296, '질질': 3297, '거임': 3298, '상관': 3299, '내심': 3300, '깨끗해지다': 3301, '심다': 3302, '싫증': 3303, '시커멓다': 3304, '굵다': 3305, '토': 3306, '삭': 3307, '권장': 3308, '다다': 3309, '아시': 3310, '최적화': 3311, '복도': 3312, '요철': 3313, '휠': 3314, '상표': 3315, '적응하다': 3316, '연락처': 3317, '딸내미': 3318, '물방울': 3319, '방울': 3320, '한동안': 3321, '헐렁하다': 3322, '더군': 3323, '밀고': 3324, '오심': 3325, '정신건강': 3326, '구리': 3327, '싫어지다': 3328, '우편': 3329, '면은': 3330, '점주': 3331, '에서야': 3332, '고작': 3333, '벌리다': 3334, '그다음': 3335, '휨': 3336, '에서만': 3337, '거인': 3338, '선비': 3339, '힐': 3340, '곤란하다': 3341, '한가운데': 3342, '신의': 3343, '나뉘다': 3344, '들어맞다': 3345, '샘베딩': 3346, '요오드': 3347, '일일': 3348, '드하': 3349, '에서의': 3350, '착좌감': 3351, '상식': 3352, '나사못': 3353, '모자라다': 3354, '어머님께': 3355, '한결': 3356, '없애다': 3357, '햇': 3358, '유일하다': 3359, '생기지': 3360, '베이': 3361, '킹': 3362, '라며': 3363, '조그만': 3364, '양심': 3365, '블': 3366, '피부': 3367, '상대': 3368, '어질다': 3369, '감성': 3370, '이보': 3371, '구리다': 3372, '헛돌': 3373, '곤': 3374, '학년': 3375, '모유': 3376, '먹이다': 3377, '바짝': 3378, '밤늦다': 3379, '송해': 3380, '능력': 3381, '니스': 3382, '백수': 3383, '에서나': 3384, '이동식': 3385, '금속': 3386, '산이': 3387, '이던': 3388, '욬': 3389, '운임': 3390, 'ᅮ': 3391, '보아': 3392, '오피스텔': 3393, '어쩐지': 3394, '탄탄': 3395, '초콜릿': 3396, '마룻바닥': 3397, '출하': 3398, '주도': 3399, '자꾸만': 3400, '베': 3401, '듣기': 3402, '톱': 3403, '하늘색': 3404, '디스크': 3405, '서류': 3406, '더블': 3407, '기타': 3408, '좌방': 3409, '장단점': 3410, '일지': 3411, '피그': 3412, '최하': 3413, '협소해': 3414, '넉': 3415, '이랑은': 3416, '믄': 3417, '콤팩트': 3418, '글씨': 3419, '조정은': 3420, '공사': 3421, '학교': 3422, '대표': 3423, '조리': 3424, '종아리': 3425, '성공': 3426, '쨍': 3427, '금세': 3428, '쉬움': 3429, '대략': 3430, '전공': 3431, '지우개': 3432, '배드': 3433, '반찬': 3434, '지지다': 3435, '몸체': 3436, '방송': 3437, '홍보': 3438, '말고도': 3439, '반복': 3440, '다물다': 3441, '신혼부부': 3442, '다급하다': 3443, '어쩜': 3444, '셈': 3445, '다스': 3446, '피톤': 3447, '치드': 3448, '비뚤어지다': 3449, '도전': 3450, '구부러지다': 3451, '반면': 3452, '어찌나': 3453, '광택': 3454, '기한': 3455, '투명': 3456, '애초': 3457, '제조': 3458, '쁨': 3459, '초등생': 3460, '매칭': 3461, '낮추다': 3462, '누군가': 3463, '지속': 3464, '재미': 3465, '오스본': 3466, '욤': 3467, '재활용': 3468, '합치': 3469, '뼈대': 3470, '에스': 3471, '혹은': 3472, '지은': 3473, '꺼': 3474, '알림': 3475, '낭비': 3476, '제방': 3477, '원주고': 3478, '기우': 3479, '향': 3480, '어버이날': 3481, '조카': 3482, '지나가다': 3483, '재도': 3484, '클레': 3485, '다자': 3486, '여직원': 3487, '가드': 3488, '안기다': 3489, '걱정스럽다': 3490, '항의': 3491, '멋대로': 3492, '폐기': 3493, '돌아오다': 3494, '소문': 3495, '이외': 3496, '와이드': 3497, '어가': 3498, '웃다': 3499, '어어': 3500, '잊어버리다': 3501, '왈': 3502, '곡선': 3503, '연해': 3504, '중학교': 3505, '공도': 3506, '진드기': 3507, '뚫어지다': 3508, '꼽': 3509, '모드': 3510, '보더': 3511, '디바이더': 3512, '어우러지다': 3513, '듀크': 3514, '팔이': 3515, '재포': 3516, '일본': 3517, '훨': 3518, '반응': 3519, '신발': 3520, '복구': 3521, '기만': 3522, '시점': 3523, '스치다': 3524, '찍찍': 3525, '달라붙다': 3526, '갈수록': 3527, '무책임하다': 3528, '언짢다': 3529, '드림': 3530, '공정': 3531, '과장': 3532, '이라든지': 3533, '편리': 3534, '시중': 3535, '실력': 3536, '거장': 3537, '이라고는': 3538, '우롱': 3539, 'ㅐ': 3540, '의향': 3541, '자색': 3542, '이라기': 3543, '원더': 3544, '뒤편': 3545, '기선': 3546, '헛': 3547, '긋다': 3548, 'ㅠㅠㅋ': 3549, '버겁다': 3550, '누런': 3551, '마약': 3552, '칸칸이': 3553, '동작': 3554, '도자기': 3555, '이즈': 3556, '거더': 3557, '조화': 3558, '장기': 3559, '리스': 3560, '신지': 3561, '셀': 3562, '자연': 3563, '플러스': 3564, '엿': 3565, '사건': 3566, '주더': 3567, '반쪽': 3568, '상도': 3569, '변색': 3570, '휴일': 3571, '드물다': 3572, '땜질': 3573, '반잔': 3574, '나빠지다': 3575, '쓰는덴': 3576, '택': 3577, '배선': 3578, '가형': 3579, '외출': 3580, '짚다': 3581, '웬걸': 3582, '평행': 3583, '개념': 3584, '가전': 3585, '개정': 3586, '사양': 3587, '팍': 3588, '으로써': 3589, '앞전': 3590, '분과': 3591, '업': 3592, '안착': 3593, '찜': 3594, '창가': 3595, '대화': 3596, '카톡': 3597, '라테': 3598, '무려': 3599, '인내': 3600, '몇몇': 3601, '청구': 3602, '자잘하다': 3603, '거부': 3604, '긴장': 3605, '애쓰다': 3606, '손때': 3607, '너무하다': 3608, '무작정': 3609, '죄송스럽다': 3610, '적지': 3611, '아름답다': 3612, '들쭉날쭉하다': 3613, '지진': 3614, '십만': 3615, '털': 3616, '본': 3617, 'ㅠㅋㅋ': 3618, '대기업': 3619, '돌아다니다': 3620, '변명': 3621, '베스트': 3622, '용다': 3623, '애용': 3624, '블링': 3625, '앙': 3626, '그린': 3627, '청주': 3628, '우천': 3629, '땅': 3630, '살이': 3631, '끼울다': 3632, '덩어리': 3633, '류': 3634, '편의': 3635, '조회': 3636, '그럴듯하다': 3637, '뒤늦다': 3638, '파악': 3639, '안주': 3640, '나타나다': 3641, '비록': 3642, '현관문': 3643, '던데': 3644, '실패': 3645, 'ㅎㄷㄷ': 3646, '전보': 3647, '즐겁다': 3648, '약주': 3649, '뻐요잘': 3650, '가만히': 3651, '기업': 3652, '배소은': 3653, '음산': 3654, '더러': 3655, '누렇': 3656, '구니': 3657, '대뜸': 3658, '은색': 3659, '부들부들': 3660, '라든지': 3661, '셨네': 3662, '싸이': 3663, '숙면': 3664, '불필요하다': 3665, '이사해': 3666, '파로': 3667, '벌다': 3668, '번의': 3669, '재킷': 3670, '태블릿': 3671, '커튼': 3672, '검사': 3673, '뒤통수': 3674, '베일': 3675, '래서': 3676, '증정': 3677, '가도': 3678, '서럽다': 3679, '남짓': 3680, '지기': 3681, '한잔': 3682, '묵묵하다': 3683, '특징': 3684, '반사': 3685, '나마': 3686, '장바구니': 3687, '탁탁': 3688, '멍': 3689, '설다': 3690, '트러블': 3691, '붙잡다': 3692, '까슬까슬': 3693, '파스': 3694, '보라': 3695, '뭍': 3696, '엄두': 3697, '학생용': 3698, '대학생': 3699, '카': 3700, '라지': 3701, '제주': 3702, '곡': 3703, '전시': 3704, '간식': 3705, '감정': 3706, '듀': 3707, '다년': 3708, '아카시아': 3709, '청바지': 3710, '초대': 3711, '부방': 3712, '이점': 3713, '보안': 3714, '줄자': 3715, '처지다': 3716, '일룸': 3717, '어마어마하다': 3718, '피시': 3719, '기회': 3720, '박해': 3721, '만요': 3722, '꽃': 3723, '지리다': 3724, '감촉': 3725, 'ㅇㅔ': 3726, '얼': 3727, '밴딩': 3728, '꼴': 3729, '거칠하다': 3730, '발톱': 3731, '밀착': 3732, '천국': 3733, '페이': 3734, '적당': 3735, '압축': 3736, '지침': 3737, '기술': 3738, '먹음': 3739, '이루어지다': 3740, '남동생': 3741, '제로': 3742, '오버': 3743, '흠칫': 3744, '리다': 3745, '배치도': 3746, '천하다': 3747, '한텐': 3748, '덕비': 3749, '손해': 3750, '철저하다': 3751, '띵띵': 3752, '성도': 3753, '패인': 3754, '지루하다': 3755, '피로': 3756, '찮아다': 3757, '어항': 3758, '날개': 3759, '팔지': 3760, '수고비': 3761, '상체': 3762, '활짝': 3763, '철심': 3764, '포장재': 3765, '도망가다': 3766, '일후': 3767, '철물': 3768, '사가다': 3769, '불평': 3770, '바란': 3771, '부주의': 3772, '과실': 3773, '이서': 3774, '감당': 3775, '주간': 3776, '세요': 3777, '적정하다': 3778, '내년': 3779, '순식간': 3780, '소비': 3781, '훼손': 3782, '빠져나오다': 3783, '대구': 3784, '래야': 3785, '마구': 3786, '맙습니': 3787, '스크': 3788, '만의': 3789, '조잡하다': 3790, '한일': 3791, '수취': 3792, '탕': 3793, '비실': 3794, '화분': 3795, '실내': 3796, '젓가락': 3797, '작업실': 3798, '꽂히다': 3799, '허허': 3800, '포크': 3801, '회': 3802, '쓸모': 3803, '스스로': 3804, '전환': 3805, '직전': 3806, '러신': 3807, '돌이': 3808, '칸칸': 3809, '취약': 3810, '이단': 3811, '껍질': 3812, '오구': 3813, '평타': 3814, '갑인': 3815, '이슈': 3816, '편백': 3817, '학기': 3818, '쪼이다': 3819, '유명하다': 3820, '거대': 3821, '정치': 3822, '놓치다': 3823, '의심스럽다': 3824, '바라지': 3825, '뭡': 3826, '탄성': 3827, '직배': 3828, '젛': 3829, '청소년': 3830, '케아': 3831, '느긋하다': 3832, '헐다': 3833, '이해해': 3834, '보고서': 3835, '엉뚱하다': 3836, '기네': 3837, '인간': 3838, '당원': 3839, '에야': 3840, '증명': 3841, '습관': 3842, '정독': 3843, '돈값': 3844, '불빛': 3845, '단어': 3846, '애도': 3847, '후다닥': 3848, '삼다': 3849, '너덜너덜하다': 3850, '수명': 3851, '구경': 3852, '화이트골드': 3853, '카키색': 3854, '부자연스럽다': 3855, '시국': 3856, '음질': 3857, '이대로': 3858, '생각나다': 3859, '성격': 3860, '마치다': 3861, '달이다': 3862, '국민': 3863, '고개': 3864, '조차': 3865, '원한': 3866, '마지못하다': 3867, '뻘뻘': 3868, '복원': 3869, '용량': 3870, '몹시': 3871, '빼먹다': 3872, '어처구니': 3873, '도시': 3874, '디다': 3875, '충족': 3876, '불도': 3877, '트럭': 3878, '땅바닥': 3879, '초등학교': 3880, '입학': 3881, '넘어오다': 3882, '로라': 3883, '웹사이트': 3884, '컷': 3885, '설날': 3886, '일간': 3887, '전세': 3888, '부자': 3889, '장문': 3890, '시리즈': 3891, '스테인리스': 3892, '량': 3893, '어두운색': 3894, '덕소': 3895, 'ㅜㅜㅜ': 3896, '일어나서': 3897, '침구': 3898, '벽장': 3899, '빗': 3900, '더군요': 3901, '샷': 3902, '떨리다': 3903, '면도': 3904, '거린': 3905, '용품': 3906, '용인': 3907, '쇼핑몰': 3908, '고기': 3909, '거북목': 3910, '후의': 3911, '대칭': 3912, '놨더': 3913, '원내': 3914, '유용': 3915, '놀리다': 3916, '쑤시다': 3917, '일반인': 3918, '휴지': 3919, '처분': 3920, '놀이': 3921, '일정하다': 3922, '비밀번호': 3923, '큰아들': 3924, '심해지다': 3925, '클래스': 3926, '차이나다': 3927, '식다': 3928, '아세톤': 3929, '씹다': 3930, '카멜': 3931, '암만': 3932, '만으로도': 3933, '수치': 3934, '내버리다': 3935, '쿡': 3936, '지대': 3937, '라라': 3938, '융통성': 3939, '언': 3940, '투룸': 3941, '요덕': 3942, '팔리다': 3943, '하기는': 3944, '숙이다': 3945, '외투': 3946, '의류': 3947, '뎅': 3948, '유사하다': 3949, '필': 3950, '암도': 3951, '갖추다': 3952, '메시': 3953, '비틀리다': 3954, '오냐': 3955, '오렌지': 3956, '수업': 3957, '다나': 3958, '플레인': 3959, '인내심': 3960, '눈팅': 3961, '젛아': 3962, '까딱': 3963, '느': 3964, '이득': 3965, '실사': 3966, '룩': 3967, '죄': 3968, '이동해': 3969, '유도': 3970, '스르르': 3971, '네이처': 3972, '손색': 3973, '노폭': 3974, '회수': 3975, '사용자': 3976, '선정': 3977, '실리다': 3978, '요물': 3979, '뭣': 3980, '일기': 3981, '깍': 3982, '하서': 3983, '싣다': 3984, '촌': 3985, '후딱': 3986, 'ᄏ': 3987, '세팅해': 3988, '차고': 3989, '구려': 3990, '이격': 3991, '모래': 3992, '물렁하다': 3993, '통과': 3994, '몰리': 3995, '상품권': 3996, '보충': 3997, '욯': 3998, '무언가': 3999, '춥다': 4000, '부랴부랴': 4001, '흡족하다': 4002, '레버': 4003, '원가': 4004, '휜': 4005, '찾아가다': 4006, '로켓': 4007, '무사하다': 4008, '즉': 4009, '끼익': 4010, '굿굿굿': 4011, '퐁퐁': 4012, '속옷': 4013, '바네스': 4014, '협박': 4015, '클립': 4016, '체중': 4017, '짜임새': 4018, '증': 4019, '갈아': 4020, '녀석': 4021, '묘': 4022, '퍼지다': 4023, '구배': 4024, '캡': 4025, '납득': 4026, '더구나': 4027, '거짓말': 4028, '차리다': 4029, '다한': 4030, '다라': 4031, '인의': 4032, '반갑다': 4033, '파도': 4034, '플': 4035, '물걸레': 4036, '타원': 4037, '유선': 4038, '냄비': 4039, '폭풍': 4040, '무리하다': 4041, '기념': 4042, '뻐요다': 4043, '사후': 4044, '모자라': 4045, '고정은': 4046, '경사': 4047, '조심조심': 4048, '폴로': 4049, '스테이플러': 4050, '전셋집': 4051, '일으키다': 4052, '비장': 4053, '충실하다': 4054, '레그룸': 4055, '번만': 4056, '밋밋하다': 4057, '어딘가': 4058, '최적': 4059, '불안감': 4060, '겸사': 4061, '발라': 4062, '따라오다': 4063, '염': 4064, '스탈': 4065, '대한민국': 4066, '종': 4067, '용평': 4068, '마치': 4069, '패널': 4070, '마나': 4071, '반대편': 4072, '시큼하다': 4073, '만약': 4074, '만을': 4075, 'ᅳᅳ': 4076, '져서': 4077, '고무줄': 4078, '여리다': 4079, '재촉': 4080, '대놓고': 4081, '구석구석': 4082, '면적': 4083, '우유': 4084, '무드': 4085, '픽': 4086, '파란': 4087, '포토': 4088, '쪼금': 4089, '오르락내리락': 4090, '합성': 4091, '탕탕': 4092, '육안': 4093, '훤': 4094, '반듯하다': 4095, '주전': 4096, '등록': 4097, '치명': 4098, '여자친구': 4099, '타일': 4100, '절로': 4101, '차이다': 4102, '연세': 4103, '분가': 4104, '분산': 4105, '메시지': 4106, '피비': 4107, '몰리다': 4108, '메다': 4109, '반나절': 4110, '시킴': 4111, '난이도': 4112, '충': 4113, '단장': 4114, '셨는데': 4115, '애착': 4116, '넌': 4117, '파츠': 4118, '뜰': 4119, '틀어놓다': 4120, '평동': 4121, '뼘': 4122, '레인지': 4123, '여자아이': 4124, '우와': 4125, '만으로': 4126, '펜': 4127, '소용': 4128, '평택': 4129, '놀람': 4130, '공기청정기': 4131, '고집': 4132, '변화': 4133, '매하': 4134, '미가': 4135, '장담': 4136, '뻣뻣하다': 4137, '벗': 4138, '매뉴얼': 4139, '끙': 4140, '손수': 4141, '내미다': 4142, '정안': 4143, '장로': 4144, '머진': 4145, '오일': 4146, '연결고리': 4147, '띵하다': 4148, '두렵다': 4149, '요천': 4150, '세무': 4151, '접대': 4152, '억울하다': 4153, '날인': 4154, '경쟁': 4155, '출시': 4156, '체험': 4157, '더라고요': 4158, '살림': 4159, '못질': 4160, '돌출': 4161, '눈물': 4162, '식용': 4163, '일치': 4164, '지라': 4165, 'ㅇㅓ': 4166, '사보': 4167, '낳다': 4168, '라이': 4169, '가을': 4170, '액정': 4171, '올드해': 4172, '회복': 4173, '바라보다': 4174, '봉투': 4175, '쏘이다': 4176, '제시': 4177, '에서부터': 4178, '시오': 4179, '상반': 4180, '아우': 4181, '야근': 4182, '절반': 4183, '복사': 4184, '작렬': 4185, '손자': 4186, '언제나': 4187, '분위': 4188, '뚝뚝': 4189, '죽겠네': 4190, '파묻히다': 4191, '썰렁하다': 4192, '보통주': 4193, '디어': 4194, '팍팍': 4195, '성공하다': 4196, '조마조마하다': 4197, '안쓰럽다': 4198, '맞은편': 4199, '모이다': 4200, '개구': 4201, '이어도': 4202, '보수': 4203, '그을리다': 4204, '와우': 4205, '어지럽다': 4206, '환경': 4207, '이내': 4208, '반려견': 4209, '귀퉁이': 4210, '는데': 4211, '섞다': 4212, '나오니': 4213, '비틀': 4214, '거미': 4215, '볼록': 4216, '잠그다': 4217, '어떠하다': 4218, '편도': 4219, '라스': 4220, '우왕': 4221, '콤비': 4222, '보심': 4223, '우기다': 4224, '시술': 4225, '증상': 4226, '글쎄요': 4227, '견적': 4228, '이로': 4229, '텐션': 4230, '분유': 4231, '파색': 4232, '이중': 4233, '드레서': 4234, '누운': 4235, '완벽': 4236, '내색': 4237, '실상': 4238, '민트': 4239, '중순': 4240, '분기': 4241, '놀랍다': 4242, '동전': 4243, '아이템': 4244, '바다': 4245, '마카롱': 4246, '천정': 4247, '성장기': 4248, '고스': 4249, '찌꺼기': 4250, '순번': 4251, '미지근하다': 4252, '널': 4253, '계': 4254, '자인': 4255, '죄송': 4256, '과자': 4257, '돈대': 4258, '까먹다': 4259, '팽': 4260, '지킴': 4261, '페인': 4262, '무뚝뚝하다': 4263, '흔하다': 4264, '비치': 4265, '충진': 4266, '도배': 4267, '인성': 4268, '쌍욕': 4269, '태': 4270, '둘레': 4271, '분분': 4272, '감감': 4273, '무소식': 4274, '요동': 4275, '수저': 4276, '이구나': 4277, '앞서': 4278, '랍': 4279, '환장하다': 4280, '리뉴얼': 4281, '스쿨': 4282, '요양': 4283, '냉장고': 4284, '쭈글쭈글': 4285, '주저': 4286, '삶': 4287, '두툼': 4288, '장개': 4289, '탄력': 4290, '립니': 4291, '타가': 4292, '검증': 4293, '쇳가루': 4294, '부다': 4295, 'ㅜㅡㅜ': 4296, '꾸준하다': 4297, '최초': 4298, '가득하다': 4299, '뇨': 4300, '판다': 4301, '쓸데없이': 4302, '요역': 4303, '까슬하다': 4304, '요사': 4305, '예여': 4306, '문턱': 4307, '싸가지': 4308, '겪다': 4309, 'ᄏᄏᄏ': 4310, '듯함': 4311, '라돈': 4312, '다린': 4313, '꾹': 4314, '동그라미': 4315, '청기': 4316, '사의': 4317, '설레다': 4318, '늘어서다': 4319, '어쩌란': 4320, '조항': 4321, '알갱이': 4322, '심심하다': 4323, '유치원': 4324, '유착': 4325, '호불호': 4326, '톡톡하다': 4327, 'ㄹ': 4328, '킨': 4329, '나누어지다': 4330, '어긋나게': 4331, '몸살': 4332, '어쩌지': 4333, '평범하다': 4334, '오케이': 4335, '임목': 4336, 'ᅮᅮ': 4337, '라이브': 4338, '혜택': 4339, '무결': 4340, '소소하다': 4341, '괴': 4342, '갑갑하다': 4343, '램프': 4344, '자녀': 4345, '하마터면': 4346, '와중': 4347, '화사': 4348, '유쾌하다': 4349, '역대': 4350, '신안': 4351, '염도': 4352, '개중': 4353, '칭': 4354, '정성': 4355, '이를': 4356, '끝내주다': 4357, '미터': 4358, '숟가락': 4359, '사나': 4360, '돌아서다': 4361, '미완성': 4362, '부실': 4363, '품사': 4364, '당첨': 4365, '가만': 4366, '딸도': 4367, '삐거덕거림': 4368, '이익': 4369, '방공': 4370, '이어지다': 4371, '삐뚤빼뚤': 4372, '서인': 4373, '물기': 4374, '거원': 4375, '텐데요': 4376, '사조이': 4377, '고학년': 4378, '담당': 4379, '근대': 4380, '뉘': 4381, '따라서': 4382, '이뤄지다': 4383, '잃다': 4384, '보루': 4385, '금성': 4386, '이왕': 4387, '뻐요집': 4388, '문과': 4389, '응': 4390, '거꾸로': 4391, '오류로': 4392, '모되': 4393, '제도': 4394, '깨': 4395, '발도': 4396, '신발장': 4397, '셋탑박스': 4398, '신나다': 4399, '양해': 4400, '부시다': 4401, '배속': 4402, '쿵쾅': 4403, '저학년': 4404, '대감': 4405, '지로': 4406, '거절': 4407, '부풀다': 4408, '그중': 4409, '뚱하다': 4410, 'ㅌ': 4411, '더불다': 4412, '섬유': 4413, '감고': 4414, '헤매다': 4415, '합격': 4416, '수나': 4417, '보나': 4418, '시사': 4419, '경칩': 4420, '리도': 4421, '짝짝이': 4422, '착불비': 4423, '앖어': 4424, '고층': 4425, '선지': 4426, '맞벌이': 4427, '몫': 4428, '시장': 4429, '흙': 4430, '색인': 4431, '기저귀': 4432, '싸하다': 4433, '양복': 4434, '장안': 4435, '껌': 4436, '여수': 4437, '보들보들하다': 4438, '통관': 4439, '이래도': 4440, '실패하다': 4441, '욥': 4442, '물감': 4443, '틱': 4444, '득': 4445, '하루빨리': 4446, '절약': 4447, '용어': 4448, '폭주': 4449, '접촉': 4450, '솔직': 4451, '숨기다': 4452, '음세': 4453, '셧': 4454, '팅팅': 4455, '루네': 4456, '여섯': 4457, '콜도': 4458, '입하': 4459, '허위': 4460, '베임': 4461, '이따': 4462, '건강하다': 4463, '안듭': 4464, 'ㅁ': 4465, '훌륭': 4466, '각방': 4467, '거뭇': 4468, '영원하다': 4469, '찍기': 4470, '심비': 4471, '루입니': 4472, '습기': 4473, '쾅쾅거리다': 4474, '유상': 4475, '이체': 4476, '헛도': 4477, '팔꿈치': 4478, '서브': 4479, '케': 4480, '물르다': 4481, '론': 4482, '학원': 4483, '객': 4484, '구부정하다': 4485, '휘거': 4486, '용하다': 4487, '어댑터': 4488, '체리': 4489, '노트': 4490, '다지': 4491, '숯': 4492, '메모': 4493, '거래처': 4494, '연출': 4495, '선명하다': 4496, '방만': 4497, '차감': 4498, '이런저런': 4499, '제습기': 4500, '지출': 4501, '질의': 4502, '삼성': 4503, '군대': 4504, '린다': 4505, '겸용': 4506, '쉬엄쉬엄': 4507, '어떡하다': 4508, '언덕': 4509, '덜컥': 4510, '이같이': 4511, '겉면': 4512, '코딩': 4513, '그나저나': 4514, '진해': 4515, '뿌': 4516, '완존': 4517, '재해': 4518, '퇴원': 4519, '용택': 4520, '데스크톱': 4521, '롤': 4522, '이대': 4523, '요성': 4524, '십일': 4525, '존재': 4526, '구라': 4527, '뻐요': 4528, '새우다': 4529, '치하': 4530, '개요': 4531, '올린다': 4532, '수레': 4533, '마련': 4534, '강요': 4535, '샌딩': 4536, '제한': 4537, '자부': 4538, '어짐': 4539, '카바': 4540, '제공': 4541, '시일': 4542, '족': 4543, '차근차근': 4544, '네요': 4545, '로고': 4546, '보디': 4547, '쫙': 4548, '사각': 4549, '차원': 4550, '장관': 4551, '다이닝': 4552, '마저': 4553, '대형': 4554, '지역별': 4555, '턱': 4556, '강원도': 4557, '장하나': 4558, '어지간하다': 4559, '요행': 4560, '티슈': 4561, '첫인상': 4562, '사본': 4563, '상당': 4564, '죽도': 4565, '대장': 4566, '대학': 4567, '그치다': 4568, '일주': 4569, '금일': 4570, '투덜거리다': 4571, '소린': 4572, '딱지': 4573, '분전': 4574, '구여': 4575, '업자': 4576, '의아': 4577, '창피': 4578, '쿨하다': 4579, '후배': 4580, '기기': 4581, '요란하다': 4582, '뜯기다': 4583, '로부터': 4584, '빌다': 4585, '요안': 4586, '기우뚱': 4587, '로써': 4588, '고정력': 4589, '앨범': 4590, '의도': 4591, '라기': 4592, '신건': 4593, '문의사항': 4594, '평균': 4595, '혼나다': 4596, '영업소': 4597, '늘어지다': 4598, '옐로': 4599, '예산': 4600, '빅타워': 4601, '비운': 4602, '두시': 4603, '분할': 4604, '분리수거': 4605, '심포니': 4606, '성실하다': 4607, '눌림': 4608, '속지': 4609, '즉시': 4610, '벅': 4611, '기별': 4612, '경비실': 4613, '쎄다': 4614, '쿠팡': 4615, '대주': 4616, '뻐요많': 4617, '영업일': 4618, '대의': 4619, '구심': 4620, '입원': 4621, '잡다하다': 4622, '뒹굴': 4623, '익': 4624, '용지': 4625, '애교': 4626, '여럿': 4627, '살걸': 4628, '재봉': 4629, '주관': 4630, '올라서다': 4631, '정당하다': 4632, '에러': 4633, '맨손': 4634, '미세': 4635, '거듭': 4636, '왜곡': 4637, '우수': 4638, '하필': 4639, '법도': 4640, '무진장': 4641, '전담': 4642, '라기보단': 4643, '야무지다': 4644, '말랑하다': 4645, '삼나무': 4646, '대수': 4647, '거품': 4648, '플러그': 4649, '끼임': 4650, '핫': 4651, '도록': 4652, '맴': 4653, '주차장': 4654, '헌': 4655, '원통': 4656, '접힐': 4657, '시설': 4658, '문수': 4659, '상과': 4660, '철판': 4661, '행주': 4662, '스마일': 4663, '용한': 4664, '영어': 4665, '괘씸하다': 4666, '마개': 4667, '연기': 4668, '패키지': 4669, '구가': 4670, '현실': 4671, '요통': 4672, '떨어뜨리다': 4673, '병운': 4674, '끝판': 4675, '만듭니': 4676, '장인': 4677, '동선': 4678, '셋톱박스': 4679, '취급': 4680, '견': 4681, '피드백': 4682, '여야': 4683, '망치다': 4684, '공중': 4685, '빛나다': 4686, '어는': 4687, '간간이': 4688, '꾸역꾸역': 4689, '정자': 4690, '버티고': 4691, '현대': 4692, '기적': 4693, '정리정돈': 4694, '이분': 4695, '맞먹다': 4696, '도입': 4697, '간신히': 4698, '컬리': 4699, '밥맛': 4700, '잡아먹다': 4701, '업데이트': 4702, '뿌듯': 4703, '해지': 4704, '백화점': 4705, '염색': 4706, '발행': 4707, '예부': 4708, '칼집': 4709, '섬세하다': 4710, '준수': 4711, '트자': 4712, '핏': 4713, '복': 4714, '변형': 4715, '교정': 4716, '당신': 4717, '앤': 4718, '마인드': 4719, '감추다': 4720, '훑다': 4721, '지니': 4722, '재밌다': 4723, '어진': 4724, '껄': 4725, '웃기다': 4726, '꼼짝': 4727, '삐꺽': 4728, '대하': 4729, '원상': 4730, '양품': 4731, 'ㅗ': 4732, '벌금': 4733, '끈끈이': 4734, '스테로이드': 4735, 'ㅛ': 4736, '괘': 4737, '기운': 4738, '넬': 4739, '리얼': 4740, '빈약하다': 4741, '찔리다': 4742, '바스락': 4743, '능숙하다': 4744, '부러': 4745, '어중간하다': 4746, '우아하다': 4747, '건조기': 4748, '총알': 4749, '캐리어': 4750, '눌리': 4751, '은커녕': 4752, '대문': 4753, '렵니': 4754, '앞판': 4755, '개방': 4756, '근무': 4757, '수십': 4758, '감상': 4759, '페이트': 4760, '키트': 4761, '누런색': 4762, '켜': 4763, '오래전': 4764, '슬림': 4765, '신속': 4766, '줄어들다': 4767, '어딨다': 4768, '지나치다': 4769, '적임': 4770, '조인': 4771, '양보': 4772, '오니': 4773, '계시': 4774, '조음': 4775, '이모': 4776, '요건': 4777, '뚜': 4778, '요망': 4779, '마땅치': 4780, '상함': 4781, '크롬': 4782, '훌쩍': 4783, '봉제': 4784, '잘리다': 4785, '서서히': 4786, '흡착': 4787, '자칫': 4788, '바깥쪽': 4789, '집중': 4790, '예고': 4791, '유독': 4792, '단도': 4793, '복층': 4794, '통통': 4795, '튀어': 4796, '성과': 4797, '맵': 4798, '기입': 4799, '팔뚝': 4800, '만삭': 4801, '이시고': 4802, '공법': 4803, '명성': 4804, '스피드': 4805, '가늘다': 4806, '랴': 4807, '자유롭다': 4808, '잔소리': 4809, '자네': 4810, '지옥': 4811, '품평': 4812, '접함': 4813, '노랑': 4814, '강제': 4815, '개수': 4816, '처지': 4817, '빵점': 4818, '쑥쑥': 4819, '글쎄': 4820, '옷걸': 4821, '막무가내': 4822, '축': 4823, '깐깐하다': 4824, '람': 4825, '잡지': 4826, '담날': 4827, '짙다': 4828, '경제': 4829, '생갇': 4830, '방해': 4831, '서문': 4832, '약해지다': 4833, '형성': 4834, '지수': 4835, '듬직하다': 4836, '재일': 4837, '옹': 4838, '요스툴': 4839, '의장': 4840, '라든가': 4841, '발품': 4842, '주자': 4843, '활동': 4844, '남성은': 4845, '당직': 4846, '백송': 4847, '알아채다': 4848, '툴툴': 4849, 'ㄱㅊ': 4850, '엎어지다': 4851, '지스': 4852, '가사': 4853, '꼭꼭': 4854, '모델하우스': 4855, '평이하다': 4856, '시흥시': 4857, '분노하다': 4858, '반영': 4859, '래서야': 4860, '포름알데히드': 4861, '설마설마': 4862, '권유': 4863, '단순': 4864, '친척': 4865, '홀리': 4866, '여실': 4867, '시선': 4868, '안마': 4869, '농장': 4870, '안좋다': 4871, '여진': 4872, '춤': 4873, '매출': 4874, '미닫이문': 4875, '빌어': 4876, '캐': 4877, '깔리다': 4878, '리해': 4879, '옷소매': 4880, '인체': 4881, '경악': 4882, '금치': 4883, '햇볕': 4884, '웃기': 4885, '뭉개져': 4886, '천도': 4887, '산간': 4888, '파이프': 4889, '반려': 4890, '한정': 4891, '수납량': 4892, '사오다': 4893, '가습기': 4894, '판연': 4895, '손바닥': 4896, '휴게': 4897, '단수': 4898, '수주': 4899, '반납': 4900, '무니': 4901, '조사': 4902, '측은': 4903, '정신없이': 4904, '구부리': 4905, '다색': 4906, '어딜': 4907, '틀림': 4908, '발길': 4909, '예비': 4910, '엉터리': 4911, '커다랗다': 4912, '이프': 4913, '찾아오다': 4914, '블로그': 4915, '로움': 4916, '세부': 4917, '시험': 4918, '얼씬': 4919, '대리': 4920, '전과': 4921, '드나': 4922, '타도': 4923, '첨으로': 4924, '힘쓰다': 4925, '의식': 4926, '똭': 4927, '댕': 4928, '만두': 4929, 'ㅍ': 4930, '바늘': 4931, '숙소': 4932, '산제': 4933, '전번': 4934, '초이스': 4935, '적우': 4936, '통로': 4937, '의뢰': 4938, '나진': 4939, '능': 4940, '와이셔츠': 4941, '절단': 4942, '일차': 4943, '층위': 4944, '마저도': 4945, '농막': 4946, '엄니': 4947, '개헌': 4948, '음매': 4949, '산골': 4950, '원주시': 4951, '고속도로': 4952, '비스듬하': 4953, '가동': 4954, '다가오다': 4955, '밤실': 4956, '쳐다보다': 4957, '소설': 4958, '서두': 4959, '지체': 4960, '정일도': 4961, '뎅뎅': 4962, '어떻': 4963, '닺': 4964, '파생': 4965, '과격하다': 4966, '앞두다': 4967, '페여': 4968, '소가': 4969, '용법': 4970, 'ㄸㅐ': 4971, '삼천': 4972, '인지도': 4973, '아버': 4974, '책임지다': 4975, '세제': 4976, '킹왕짱': 4977, '사회': 4978, '만적': 4979, '제때': 4980, '전문성': 4981, '되돌리다': 4982, '결코': 4983, '만이라도': 4984, '충남': 4985, '자판': 4986, '나야': 4987, '유로': 4988, '부리다': 4989, '장배': 4990, '요풋스': 4991, '노멀': 4992, '베트남': 4993, '수입': 4994, '귿귿': 4995, '두절': 4996, '도나': 4997, '아트': 4998, '노인': 4999, '쪼': 5000, '방벽': 5001, '부대끼다': 5002, '식탁보': 5003, '남구': 5004, '레이저': 5005, '근무시간': 5006, '툼': 5007, '다듬다': 5008, '짓거리': 5009, '하청': 5010, '문서': 5011, '깔개': 5012, '스테어': 5013, '싹싹': 5014, '손길': 5015, '누리다': 5016, '작용': 5017, '비치다': 5018, '간섭': 5019, '볼록하다': 5020, '관상': 5021, '아이고': 5022, '쓸렵': 5023, '서양': 5024, '스피커': 5025, '다인': 5026, '뒷다리': 5027, '낚': 5028, '뺸': 5029, '매각': 5030, '쩜': 5031, '사랑받다': 5032, '행복': 5033, '대꾸': 5034, '송금': 5035, '세탁기': 5036, '담요': 5037, '향상': 5038, '강성': 5039, '지니다': 5040, '고양': 5041, '울렁거리다': 5042, '팔천': 5043, '생소하다': 5044, '띠': 5045, '자제': 5046, '오크라': 5047, '체감': 5048, '앙증맞다': 5049, '익숙하다': 5050, '고매': 5051, '쇼바': 5052, '무상': 5053, '트레스': 5054, '방과': 5055, '쿠셔닝': 5056, '수만': 5057, '표준': 5058, '나라': 5059, '쪼꼼': 5060, '루이': 5061, '이물': 5062, '떨이': 5063, '바가지': 5064, '도무지': 5065, '언뜻': 5066, '펜치': 5067, '레벨': 5068, '끝내': 5069, '측정기': 5070, 'ᅵ': 5071, '나요나': 5072, '전자': 5073, '꿀렁거림': 5074, '세운': 5075, '테이': 5076, '핑': 5077, '하만': 5078, '여자도': 5079, '만사': 5080, '전입': 5081, '휩니': 5082, '둘러앉다': 5083, '양산': 5084, '그땐': 5085, '센트': 5086, '구슬': 5087, '비례': 5088, '팁': 5089, '강점': 5090, 'ㅜㅡ': 5091, '손쉽다': 5092, '거대하다': 5093, '퍽퍽': 5094, '생도': 5095, '정정': 5096, '나하': 5097, '규정': 5098, '놀': 5099, '인거': 5100, '툭툭': 5101, '아슬아슬하다': 5102, '어플': 5103, '덮어서': 5104, '절감': 5105, '회합': 5106, '재건': 5107, '철로': 5108, '촉박하다': 5109, '베송': 5110, '배기': 5111, '벗다': 5112, '위안': 5113, '부장': 5114, '구비': 5115, '새기다': 5116, '거북하다': 5117, '물컵': 5118, '인건비': 5119, '승부': 5120, '커쇼': 5121, '지해': 5122, '낑낑': 5123, '돕다': 5124, '답지': 5125, '공비': 5126, '기약': 5127, '규': 5128, '시시': 5129, '지방도': 5130, '거너': 5131, '공이': 5132, '찾아다니다': 5133, '도널널': 5134, '서치': 5135, '만일': 5136, '곱': 5137, '엘지': 5138, '실크': 5139, '문지': 5140, '만도': 5141, '스크루': 5142, '강화': 5143, '여건': 5144, '꺼칠꺼칠하다': 5145, '고정용': 5146, '쿨': 5147, '이임': 5148, '얼다': 5149, '방한': 5150, '집주인': 5151, '김칫': 5152, '밭': 5153, '발쪽': 5154, '대대': 5155, '전가': 5156, '발휘': 5157, '바이': 5158, '휘었네': 5159, '서진': 5160, '이안': 5161, '각자': 5162, '결부': 5163, '체형': 5164, '인사': 5165, '드라이기': 5166, '하프': 5167, '이색': 5168, '망설': 5169, '치우치다': 5170, '반질반질하다': 5171, '상인': 5172, '정성껏': 5173, '치료': 5174, '예뽀': 5175, '흘러내리다': 5176, '빡세': 5177, '하듯': 5178, '바스켓': 5179, '비뚤다': 5180, '으로라도': 5181, '싱겁다': 5182, '큰소리치다': 5183, '금은': 5184, '구함': 5185, '요명': 5186, '하원': 5187, '무더위': 5188, '웃음': 5189, '사제': 5190, '객관': 5191, '하여간': 5192, '바큇자국': 5193, '궁둥이': 5194, '욕구': 5195, '호치키스': 5196, '어찌어찌': 5197, '입자': 5198, '명목': 5199, '세금': 5200, '애쉬': 5201, '점심때': 5202, '오그리다': 5203, '본래': 5204, '휴무': 5205, '정찰': 5206, '스퀘어': 5207, '눈퉁': 5208, '덕대': 5209, '원색': 5210, '이동성': 5211, '싹수없다': 5212, '철거': 5213, '깜': 5214, '폭위': 5215, '인위': 5216, '고만하다': 5217, '옆판': 5218, '시구': 5219, '방침': 5220, '모자': 5221, '응답': 5222, '구로': 5223, '박수': 5224, '아오': 5225, '막판': 5226, '빨간색': 5227, '절기': 5228, '소모': 5229, '요요': 5230, '너저분하다': 5231, '주먹': 5232, '개운하다': 5233, '강릉': 5234, '시즌': 5235, '월나라': 5236, '구안': 5237, '구명': 5238, '완전체': 5239, '성의껏': 5240, '알루미늄': 5241, '팔로': 5242, '오래도록': 5243, '쑤다': 5244, '잘나다': 5245, '신세': 5246, '심사숙고': 5247, '건들': 5248, '밝히다': 5249, '매끈': 5250, '거짓': 5251, '방책': 5252, '타지': 5253, '콜로': 5254, '튀기다': 5255, 'ㅣㅣ': 5256, '불어': 5257, '영호': 5258, '몰래': 5259, '렸': 5260, '말끔히': 5261, '어처구니없다': 5262, '버려지다': 5263, '결시': 5264, '롭': 5265, '덤퍼': 5266, '진료': 5267, '꾸기다': 5268, '드라이': 5269, '유방': 5270, '이인': 5271, '체계': 5272, '평보': 5273, '도약': 5274, '프린터': 5275, '아두': 5276, '널브러져': 5277, '미끼': 5278, '라나': 5279, '피톤치드': 5280, '살의': 5281, '고문': 5282, '지난주': 5283, '대미지': 5284, '어기': 5285, '휴대폰': 5286, '자매': 5287, '더욱더': 5288, '칸나': 5289, '거두': 5290, '각종': 5291, '소호': 5292, '그레': 5293, '정책': 5294, '고별': 5295, '폭탄': 5296, '취해': 5297, '실로': 5298, '시안': 5299, '분당': 5300, '달성': 5301, '템': 5302, '쇳': 5303, '경색': 5304, '의하다': 5305, '맵다': 5306, '하우스': 5307, '명령': 5308, '본기': 5309, '기부': 5310, '증후군': 5311, '통증': 5312, '직영': 5313, 'ㅎㅏ': 5314, '피사': 5315, '사탑': 5316, '타임': 5317, '게스트': 5318, '파보': 5319, '조짐': 5320, '아비': 5321, '점퍼': 5322, '구보': 5323, '가르치다': 5324, '오른': 5325, '상임': 5326, '뻤습니': 5327, '제만': 5328, '쁘리': 5329, '코튼': 5330, '밀지': 5331, '양파': 5332, '해방': 5333, '거산': 5334, '요구르트': 5335, '차일피일': 5336, '시리다': 5337, '마트': 5338, '상가': 5339, '문밖': 5340, '격하': 5341, '완화': 5342, '어째': 5343, '방일': 5344, '휴대': 5345, '여백': 5346, '해룡': 5347, '승하': 5348, '변질': 5349, '특이하다': 5350, '동원': 5351, '뚱뚱하다': 5352, '다이도': 5353, '핮니': 5354, '정판': 5355, '인들': 5356, '오붓하다': 5357, '오거': 5358, '더디다': 5359, '깨닫다': 5360, '이스': 5361, '걸렀어': 5362, '서약': 5363, '웹': 5364, '이따위': 5365, '핵심': 5366, '부문': 5367, '윗줄': 5368, '메이저': 5369, '화물차': 5370, '잘만': 5371, '지층': 5372, 'ㅂㅐ': 5373, '열심': 5374, '고건': 5375, '불하': 5376, '동사': 5377, '증거': 5378, '자서': 5379, '본격': 5380, '유통': 5381, '스프레이': 5382, '썩다': 5383, '사소하다': 5384, '덮이다': 5385, '자폭': 5386, '풋': 5387, '등장': 5388, '곧바로': 5389, '호한': 5390, '주하': 5391, '깜깜': 5392, '점령': 5393, '순이': 5394, '순하다': 5395, '지리': 5396, '알뜰하다': 5397, '흡사하다': 5398, '여물': 5399, '신분': 5400, '집게': 5401, '놨어': 5402, '편임': 5403, '씹히다': 5404, '뿜뿜': 5405, '분실': 5406, '일산': 5407, '쪽잠': 5408, 'ㅠㅜㅜ': 5409, '직감': 5410, '졸라': 5411, '쩌': 5412, '주스': 5413, '렁': 5414, '티어': 5415, '라벨': 5416, '통나무': 5417, '직포': 5418, '듀커쇼파': 5419, '돌려주다': 5420, '요댐퍼': 5421, '들르다': 5422, '구체': 5423, '스탠더드': 5424, '대충대충': 5425, '어쩐': 5426, '부정': 5427, '집집': 5428, '필기': 5429, '자라': 5430, '인수': 5431, '알리다': 5432, '우디': 5433, '배우다': 5434, '용치': 5435, '구월': 5436, '평작': 5437, '뽕': 5438, '자형': 5439, '엇음': 5440, '인하': 5441, '조잡': 5442, '슬': 5443, '리핑': 5444, 'ㅠㅜ': 5445, '콱콱': 5446, '미약': 5447, '작아지다': 5448, '로우': 5449, '눌린': 5450, '확률': 5451, '겅': 5452, '싸인': 5453, '거위': 5454, '놨': 5455, '래핑': 5456, '날비': 5457, '초인종': 5458, '메리': 5459, '더없이': 5460, '찰나': 5461, '들여다보다': 5462, '뽀': 5463, '느슨하다': 5464, '리트': 5465, '급진': 5466, '오목하다': 5467, '지적': 5468, '쪼가리': 5469, '바랑': 5470, '스키': 5471, '여행': 5472, '폐': 5473, '푸르다': 5474, '란스': 5475, '채널': 5476, '패턴': 5477, '타이밍': 5478, '힌지': 5479, '리콜': 5480, '일수': 5481, '기웃': 5482, '가수': 5483, '좀비': 5484, '계약': 5485, '수선하다': 5486, '터치': 5487, '또르르': 5488, '감점': 5489, '스토어': 5490, '예기': 5491, '제나': 5492, 'ᄉ': 5493, '살피다': 5494, '널널': 5495, '풍': 5496, '와이': 5497, '신형': 5498, '가능성': 5499, '것임': 5500, '깨우다': 5501, '초아': 5502, '반점': 5503, '멈추다': 5504, '돋보이다': 5505, '메우다': 5506, '포텐': 5507, '폭락': 5508, '부터가': 5509, '놀이터': 5510, '뵈다': 5511, '영배': 5512, '서일': 5513, '요런': 5514, '거봉': 5515, '점심': 5516, '푸른빛': 5517, '밑쪽': 5518, '신경질': 5519, '미처': 5520, '슬라': 5521, '손품': 5522, '동탄': 5523, '실장': 5524, '철근': 5525, '욱': 5526, '양념': 5527, '곳곳이': 5528, 'ᄌ': 5529, '묵다': 5530, '잠버릇': 5531, '할아버지': 5532, '팡': 5533, '출렁': 5534, '플스': 5535, '비율': 5536, '등기': 5537, '거진': 5538, '만큼이나': 5539, '고치': 5540, '낚시': 5541, '친형': 5542, '버드': 5543, '칠해': 5544, '쪼끔': 5545, '전원주택': 5546, '지지도': 5547, '문갑': 5548, '이제껏': 5549, '뿐더러': 5550, '지정은': 5551, '개조': 5552, '대니': 5553, '켜지다': 5554, '단자': 5555, '일사천리': 5556, '따위': 5557, '라고는': 5558, '만기': 5559, '종량제': 5560, '봉지': 5561, 'ㄱㅏ': 5562, '에몬스가구': 5563, '공식': 5564, '홈피': 5565, '지시': 5566, '롯': 5567, '만만하다': 5568, '착지': 5569, '험악하다': 5570, '진입': 5571, '맺다': 5572, '흐뭇하다': 5573, '미소': 5574, '짓다': 5575, '장정': 5576, '센서': 5577, '고산': 5578, '건조': 5579, '번지': 5580, '키스': 5581, '전등': 5582, '루고': 5583, '아무쪼록': 5584, '어쩝': 5585, '아서': 5586, '반전': 5587, '지갑': 5588, '작동시키다': 5589, '녀': 5590, '뎌': 5591, '통지': 5592, '가셨늣데': 5593, '좌망': 5594, '사용성': 5595, '독특하다': 5596, '뒹굴뒹굴': 5597, '중국인': 5598, '달려가다': 5599, '삼겹살': 5600, '젛네': 5601, '라레': 5602, '스몰': 5603, '사기꾼': 5604, '업로드': 5605, '휘었음': 5606, '죄다': 5607, '즉각': 5608, '기역': 5609, '합계': 5610, '생전': 5611, '무기': 5612, '여타': 5613, '선방': 5614, '토스': 5615, '꼼수': 5616, '기원': 5617, '무거': 5618, '무방': 5619, '어랑': 5620, '만으로는': 5621, '길쭉하다': 5622, '요기스': 5623, '강쥐': 5624, '물컹하다': 5625, '부소': 5626, '수일': 5627, '덤': 5628, '엥': 5629, '번쩍': 5630, '이구': 5631, '얼핏': 5632, '빳빳': 5633, '구애': 5634, '마르': 5635, '즐': 5636, '강남': 5637, '성함': 5638, '대상': 5639, '생략': 5640, '장형': 5641, '컬': 5642, '플레임': 5643, '확연': 5644, '안녕하다': 5645, '고등학생': 5646, '삿': 5647, '우아': 5648, '한국': 5649, '답장': 5650, '타나': 5651, '레이스': 5652, '초록': 5653, '파일': 5654, '치도': 5655, '충분': 5656, '닦아지다': 5657, '붉은빛': 5658, '분별': 5659, '거안': 5660, '박살': 5661, '짤': 5662, '접시': 5663, '마땅하다': 5664, '대사': 5665, '전문의': 5666, '베르디': 5667, '온건': 5668, '오직': 5669, '보양': 5670, '셀린': 5671, '멘붕': 5672, '변수': 5673, '극세사': 5674, '겟': 5675, '파발': 5676, '대전': 5677, '다단': 5678, '협소하': 5679, '안감': 5680, '당근': 5681, '마켓': 5682, '날씬하다': 5683, '일본어': 5684, '쥐구멍': 5685, '주기도': 5686, '피우다': 5687, '미래': 5688, '하락': 5689, '바르게': 5690, '집사': 5691, '순차': 5692, '자주자주': 5693, '처가': 5694, 'ㅇㄱ': 5695, '석유': 5696, '낭': 5697, '뭉툭': 5698, '최종': 5699, '클릭': 5700, '부디': 5701, '꿀렁': 5702, '이행': 5703, '청사': 5704, '잃어버리다': 5705, '레알': 5706, '아무개': 5707, '정작': 5708, '쥬': 5709, '별롭니': 5710, '았': 5711, '쓸데없다': 5712, '험하다': 5713, '유리나': 5714, '요렇게': 5715, '올드': 5716, '특별': 5717, '단가': 5718, '서점': 5719, '의사소통': 5720, '눌릴': 5721, '갈아타다': 5722, '개업': 5723, '컨테이너': 5724, '실어': 5725, '점감': 5726, '산모': 5727, '대여': 5728, '액자': 5729, '쥐': 5730, '선생님': 5731, '대나무': 5732, '파티': 5733, '상용': 5734, '파지': 5735, '씁쓸하다': 5736, '눈치': 5737, '방편': 5738, '방색': 5739, '구축': 5740, '침상': 5741, '엄지': 5742, '솔': 5743, '식겁': 5744, '하염없이': 5745, '라가': 5746, '실시간': 5747, '경동': 5748, '거보': 5749, '감색': 5750, '연속': 5751, '의치': 5752, '앞당기다': 5753, '버거': 5754, '윘': 5755, '매달리다': 5756, '시꺼멓다': 5757, '동문서답': 5758, '기쁨': 5759, '탱탱하다': 5760, '등판': 5761, '중점': 5762, '어우': 5763, '경향': 5764, '업다': 5765, '장재': 5766, '발의': 5767, '와이파이': 5768, '해치': 5769, '악': 5770, '셋탑': 5771, '쁨니': 5772, '통째': 5773, '다듬어지다': 5774, '기일': 5775, '몈': 5776, '까칠까칠하다': 5777, '썩이다': 5778, '아이디': 5779, '처치': 5780, '곤란': 5781, '반짝반짝': 5782, '광': 5783, '거저': 5784, '어치': 5785, '목침': 5786, '역류성': 5787, '식도염': 5788, '롤러': 5789, '단축': 5790, '처음처럼': 5791, '그물': 5792, '타요': 5793, '펼쳐지다': 5794, '양면': 5795, '툴툴거렸음': 5796, '찌르다': 5797, '초이': 5798, '싸움': 5799, '향초': 5800, '과중': 5801, '부지런하다': 5802, '중소기업': 5803, '바탕': 5804, '부용': 5805, '단일': 5806, '뜸': 5807, '특': 5808, '가일': 5809, '임펜': 5810, '뷴': 5811, '거칠거칠하다': 5812, '낙': 5813, '현명하다': 5814, '깜빡': 5815, '파이': 5816, '살균': 5817, '문고': 5818, '자지': 5819, '눔': 5820, '나눔': 5821, '후진': 5822, '헤치다': 5823, '돌침대': 5824, '편안': 5825, '덕거림': 5826, '가두다': 5827, '액': 5828, '껜': 5829, '억대': 5830, '연봉': 5831, '개국': 5832, '그럭': 5833, '시청': 5834, '상형': 5835, '위약금': 5836, '나사선': 5837, '자기장': 5838, '생명': 5839, '이랬는데': 5840, '둘러대다': 5841, '임도': 5842, '낚였다': 5843, '빗물': 5844, '아뇨': 5845, '오피스': 5846, '섭섭하다': 5847, '두고두고': 5848, '원칙': 5849, '김포': 5850, '신도시': 5851, '뻐근하다': 5852, '안도': 5853, '꼴랑': 5854, '요게': 5855, '아하': 5856, '방임': 5857, '도안': 5858, '차려': 5859, '돌기': 5860, '도구': 5861, '유가': 5862, '인명': 5863, '쓱싹': 5864, '노하우': 5865, '범위': 5866, '숙지': 5867, '건성': 5868, '막심': 5869, '유동': 5870, '캔들': 5871, '서시': 5872, '그러하다': 5873, '지우': 5874, '극악': 5875, 'ㅡㅡㅋ': 5876, '적립금': 5877, '누렇네': 5878, '한몫': 5879, '식당': 5880, '신체': 5881, '음료': 5882, '도식': 5883, '인심': 5884, '새끼': 5885, '최대로': 5886, '비보': 5887, '그러면': 5888, '저격': 5889, '미적': 5890, '것일': 5891, '재택': 5892, '우리나라': 5893, '도르다': 5894, '케밥': 5895, '케인': 5896, '리더': 5897, '공해': 5898, '장마철': 5899, '하의': 5900, '뛰어다니다': 5901, '기껏': 5902, '퍼니': 5903, '쿠페': 5904, '수로': 5905, '무관': 5906, '쓴소리': 5907, '뮤': 5908, '장면': 5909, '구력': 5910, '뭉치다': 5911, '알코올': 5912, '딸기': 5913, '로봇청소기': 5914, '슝슝': 5915, '건조하다': 5916, '엘레나': 5917, '트라우마': 5918, '월경': 5919, '벼루': 5920, '엇습니': 5921, '박하다': 5922, '관심': 5923, '치르다': 5924, '마블링': 5925, '마시기': 5926, '리폼': 5927, '조급하다': 5928, '내보내다': 5929, '숼': 5930, '위상': 5931, '강철': 5932, '메트레스': 5933, '고요하다': 5934, '효도': 5935, '서라운딩': 5936, '강력하다': 5937, 'ᅳ': 5938, '진상': 5939, '적하': 5940, '변신': 5941, '거랍니': 5942, '가인': 5943, '끙끙': 5944, '옆집': 5945, '구의': 5946, '고여': 5947, '숍': 5948, '흔': 5949, '송장': 5950, '상위': 5951, '예뿝': 5952, '용수': 5953, '쫄': 5954, '향후': 5955, '벌통': 5956, '샤인': 5957, '반바지': 5958, '무성의': 5959, '뻑': 5960, '습니': 5961, '무한': 5962, '정전기': 5963, '장모님': 5964, '필터': 5965, '고대로': 5966, '단합': 5967, '완충제': 5968, '휴게실': 5969, '편차': 5970, '하여튼': 5971, '자유로이': 5972, '먼지떨이': 5973, '른': 5974, '템퍼': 5975, '담하다': 5976, '중반': 5977, '틈틈이': 5978, '용수철': 5979, '상승': 5980, '젖': 5981, '왤다': 5982, '하늘': 5983, '완충': 5984, '셋업': 5985, '치안': 5986, '괴롭다': 5987, '발등': 5988, '박지': 5989, '닥': 5990, '평상시': 5991, '지겹다': 5992, '탈세': 5993, '각목': 5994, '울렁울렁': 5995, '붐': 5996, '철봉': 5997, '극': 5998, '컨트롤': 5999, '말르다': 6000, '불균형': 6001, '제출': 6002, '음료수': 6003, '세한': 6004, '이왕이면': 6005, '원만하다': 6006, '셨고': 6007, '라오': 6008, '부각': 6009, '잦다': 6010, '뛰어놀다': 6011, '계산서': 6012, '티브': 6013, '스커트': 6014, '시몬': 6015, '아이러니': 6016, '대치': 6017, '녜': 6018, '조그마하다': 6019, '포화': 6020, '말끔': 6021, '슨': 6022, '뻤어': 6023, '재배': 6024, '널리': 6025, '옆구리': 6026, '재택근무': 6027, '섬': 6028, '우기': 6029, '날림': 6030, '사심': 6031, 'ㅂ': 6032, '게시': 6033, '차마': 6034, '오프': 6035, '일어': 6036, '다분하다': 6037, '마진': 6038, '확답': 6039, '조그맣다': 6040, '문어': 6041, '먹히다': 6042, '이여': 6043, '제사': 6044, '장롱문': 6045, '이뿌다': 6046, '에서처럼': 6047, '음색': 6048, '번다': 6049, '쫴': 6050, '누드': 6051, '스틱': 6052, '투톤': 6053, '감탄': 6054, '드러눕다': 6055, '식기': 6056, '선도': 6057, '이튿날': 6058, '쉬기': 6059, '깜깜무소식': 6060, '운영자': 6061, '누움': 6062, '질적': 6063, '자연스레': 6064, '비슷': 6065, '서투르다': 6066, '책무': 6067, '국도': 6068, '자작나무': 6069, '다녀가다': 6070, '다짜고짜': 6071, '조가': 6072, '선착순': 6073, '계세': 6074, '겸손': 6075, '포천': 6076, '사운드': 6077, '예버': 6078, '조악하다': 6079, '퍽': 6080, '밖에는': 6081, '폇': 6082, '오물': 6083, '거루': 6084, '스마트': 6085, '사만': 6086, '취침': 6087, '쪼개다': 6088, '목하': 6089, '마찰': 6090, '연고': 6091, '스페이스': 6092, '납땜': 6093, '얼굴': 6094, '안남': 6095, '단번': 6096, '게요': 6097, '생상': 6098, '바꿈': 6099, '끓다': 6100, '당혹스럽다': 6101, '아라': 6102, '타네': 6103, '는커녕': 6104, '모듈': 6105, '베움': 6106, '위탁': 6107, '헤어': 6108, '펀치': 6109, '공과': 6110, '페브리즈': 6111, '치티': 6112, '콘솔': 6113, '꼬옥': 6114, '참으로': 6115, '센티미터': 6116, '하란': 6117, '고약하다': 6118, '평상': 6119, '하급': 6120, '망사': 6121, '실외': 6122, '농락': 6123, 'ᄂ': 6124, '원안': 6125, '붉다': 6126, '전분': 6127, '학사': 6128, '콩': 6129, '자두': 6130, '지형': 6131, '스크린': 6132, '과학': 6133, '외피': 6134, '불리다': 6135, '요업': 6136, '로드': 6137, '되돌아가다': 6138, '단칸': 6139, '소속': 6140, '프레이': 6141, '효손': 6142, '마우스패드': 6143, '정해지다': 6144, '문두': 6145, '성퓸푱': 6146, '사후관리': 6147, '조심성': 6148, '꾸리': 6149, '슬어': 6150, '휑하': 6151, '공감': 6152, '주민': 6153, '적재': 6154, '었': 6155, '하양': 6156, '고동색': 6157, '수량': 6158, '반타': 6159, '덮어놓고': 6160, '미사': 6161, '발바닥': 6162, '선하다': 6163, '쪽기스': 6164, '사랑방': 6165, '꽝꽝': 6166, '분방': 6167, '층간소음': 6168, '비키': 6169, '해기': 6170, '구내': 6171, '생애': 6172, '빡셉니': 6173, '헛짓': 6174, '떨어졋': 6175, '광유': 6176, '분금': 6177, '긁혔거': 6178, '발급': 6179, '옥신각신': 6180, '간도': 6181, '매년': 6182, '판매량': 6183, '짐작': 6184, '굴려': 6185, '뽁뽁': 6186, '쁠거': 6187, '식도': 6188, '눕혔더': 6189, '상각': 6190, '접기': 6191, '드거': 6192, '로이': 6193, '느긋': 6194, '체세': 6195, '평등': 6196, '천방지축': 6197, '옴일': 6198, '바큇': 6199, '민요': 6200, '복만': 6201, '알파룸': 6202, '디피용': 6203, '포름': 6204, '볼륨': 6205, '머물다': 6206, '먕씁미': 6207, '유흠': 6208, '시민': 6209, '얼룩소': 6210, '쉽걱': 6211, '정환': 6212, '판이하다': 6213, '도통': 6214, '모바일': 6215, '여우로': 6216, '짐짝': 6217, '검': 6218, '라임': 6219, '형광': 6220, '연두': 6221, '캔버스': 6222, '차신': 6223, '면잠': 6224, '질투': 6225, '시피': 6226, '워킹': 6227, '테리어': 6228, '데요': 6229, '슬로': 6230, '영향': 6231, 'ㄱㅅ': 6232, '쇳덩': 6233, '짱개': 6234, '러니': 6235, '언지': 6236, '아따': 6237, '잠한': 6238, '보자기': 6239, '골다공증': 6240, '소수': 6241, '본딩': 6242, '반말': 6243, '짘다': 6244, '잘해야': 6245, '견용': 6246, '견룡': 6247, '쉬쉬': 6248, '단위': 6249, '프리': 6250, '단기': 6251, '폭넓다': 6252, '가관': 6253, '임대': 6254, '분원': 6255, '요졍해': 6256, '피시방': 6257, '피부병': 6258, '성적': 6259, '수년': 6260, '상기': 6261, '덜렁덜렁': 6262, '발다': 6263, '디저트': 6264, '전별': 6265, '놀란': 6266, '초방': 6267, '물렁거리': 6268, '가림': 6269, '말임': 6270, '훤히': 6271, '허니콤': 6272, '붙여넣기': 6273, '새삼': 6274, '뻐요윗': 6275, '장애': 6276, '중배': 6277, '비야': 6278, '재부': 6279, '초딩': 6280, '전시장': 6281, '이인용': 6282, '어프': 6283, '중고나라': 6284, '훠어': 6285, '노노노': 6286, '팝핑': 6287, '저리다': 6288, '현': 6289, '백일': 6290, '일미': 6291, '소주': 6292, '산후': 6293, '지브': 6294, '애셋': 6295, '떵떵거리': 6296, '서셋트': 6297, '이블': 6298, '노릇': 6299, '랭킹': 6300, 'ㅡㅡㅠㅠ': 6301, '탁탁거리다': 6302, '석동': 6303, '헛웃음': 6304, '삽니딘': 6305, '가섭': 6306, '투철': 6307, 'ㄷㅐ': 6308, '미심쩍었기': 6309, '격싸': 6310, '쀠': 6311, '드래건': 6312, '용녀': 6313, '화장지': 6314, '크로켓': 6315, '공유': 6316, '파페': 6317, '냘': 6318, '쁘기': 6319, '자택': 6320, '배사': 6321, '주점': 6322, '쌈': 6323, '고등': 6324, '탸탸': 6325, '텨': 6326, 'ㅛㅌ': 6327, '듁': 6328, '툣': 6329, 'ㅊㅅㅊ': 6330, '우중충하다': 6331, '애물': 6332, '파리': 6333, '꿰매다': 6334, '요타': 6335, '놨고': 6336, '처네': 6337, '뭐건': 6338, '영아': 6339, '부지': 6340, '크레용': 6341, '여주면': 6342, '정사각형': 6343, '쩍': 6344, '사기그릇': 6345, '쫓아가다': 6346, '혼수': 6347, '불과': 6348, '격해지다': 6349, '햇엌': 6350, '학인': 6351, '수수료': 6352, 'ㅊㅇㅎ': 6353, '비긴': 6354, '고안': 6355, '박음': 6356, '주반': 6357, '덧댐': 6358, '후짐': 6359, '중기': 6360, '아웃': 6361, '중상': 6362, '휴먼': 6363, '븥': 6364, '다양': 6365, '이통': 6366, '아단': 6367, '빤짝': 6368, '리본': 6369, '버들': 6370, '일소': 6371, '취용': 6372, '이요': 6373, '특전': 6374, '사봣는': 6375, '이케': 6376, '잘라먹다': 6377, '에라도': 6378, '상판스': 6379, '특이점': 6380, '콧물': 6381, '돌돌': 6382, '북엔드': 6383, '해머': 6384, '려니': 6385, '꽉꽉': 6386, '빠직': 6387, '익스': 6388, '자수': 6389, '참말': 6390, '녹물': 6391, '집쇼': 6392, '니드': 6393, '봉휨': 6394, '천년': 6395, '시한': 6396, '구면': 6397, '푸시': 6398, '캐치': 6399, '점유': 6400, '휘청': 6401, '현기증': 6402, '참나무': 6403, '슬슬': 6404, '한결같이': 6405, '외래': 6406, '세시': 6407, '고금': 6408, '추위': 6409, '웰퍼니쳐': 6410, '남겻는': 6411, '통화량': 6412, '목소리': 6413, '부여': 6414, '정력': 6415, '집돌': 6416, '호환되늗': 6417, '하여금': 6418, '유발': 6419, '소지': 6420, '혼란': 6421, '아이콘': 6422, '설계도': 6423, '구한': 6424, '손절해': 6425, '자시다': 6426, '용적': 6427, '메꿀': 6428, '경서': 6429, '반짝반짝하다': 6430, '론칭했던': 6431, '인도네시아': 6432, '목포': 6433, '함정': 6434, '충청도': 6435, '돈값합': 6436, '고춧가루': 6437, '민가': 6438, '음각': 6439, '이건희': 6440, '포밍': 6441, '샘살': 6442, '가편': 6443, '수라도': 6444, '사람과': 6445, '연인': 6446, '선금': 6447, '룰': 6448, '대기실': 6449, 'ㅆㄹㄱ': 6450, '이딴': 6451, '서비스업': 6452, '크아': 6453, '웃': 6454, '워치': 6455, '기어': 6456, '만주': 6457, '쫀득쫀득': 6458, '폰트': 6459, '경도': 6460, '눈데': 6461, '저건': 6462, '반짝거리다': 6463, '탁발': 6464, '쥬아': 6465, '쪼금씩': 6466, '나로': 6467, '도의': 6468, '꼬꾸라지다': 6469, '살바': 6470, '본의': 6471, '요체': 6472, '메밥': 6473, '번지르르': 6474, '곯다': 6475, '중고차': 6476, '젛아오': 6477, '거삿는데': 6478, '재규': 6479, '햫': 6480, '바이러스': 6481, '신도': 6482, '산시': 6483, '달동': 6484, '번번': 6485, '콱': 6486, '다정': 6487, '인티': 6488, '빠뜨리다': 6489, '매니큐어': 6490, '서명': 6491, '에인절': 6492, '렸으': 6493, '역다': 6494, '꽤괘': 6495, '별거': 6496, '신임': 6497, '노니': 6498, '정부': 6499, '사사': 6500, '스테일': 6501, '플러': 6502, '삼일': 6503, '개개인': 6504, '쏙쏙': 6505, '잠기': 6506, '측판': 6507, '옆서랖': 6508, '버건디': 6509, '절재': 6510, '묵묵': 6511, '게로': 6512, '그득': 6513, '샛': 6514, 'ㄱㅇㄷ': 6515, '괸츈함': 6516, 'ㄱㄷㄱ': 6517, '굴렸다': 6518, '넖이': 6519, '뻐요몆': 6520, '엉거주춤': 6521, '깟스': 6522, '허비하다': 6523, '깨알': 6524, '우물': 6525, '라그': 6526, '게스': 6527, '바스': 6528, '켓': 6529, '나아': 6530, '좋네욯': 6531, '살집': 6532, '체온': 6533, '출입문': 6534, '진과': 6535, '느꼇': 6536, '견교': 6537, '자보': 6538, '방화': 6539, '보상금': 6540, '밀양': 6541, '세지': 6542, '내랍': 6543, '광역시': 6544, '뎁마': 6545, '시아버지': 6546, '전라도': 6547, '추비': 6548, '추완': 6549, '목판': 6550, '사원': 6551, '다과': 6552, '자그마치': 6553, '빌리다': 6554, '아차': 6555, 'ᄋ': 6556, '거뭇거뭇': 6557, '씌어': 6558, '유색': 6559, '인젠': 6560, '스카': 6561, '만으론': 6562, '서천': 6563, '에든': 6564, '나이스': 6565, '증대': 6566, '이의': 6567, '찣': 6568, '선착': 6569, '긴요': 6570, '영근': 6571, '머안': 6572, '형통': 6573, '축복': 6574, '믿어지다': 6575, '무안하다': 6576, '돗자리': 6577, '키라': 6578, '소르르': 6579, '실효': 6580, '미취': 6581, '학': 6582, '종이접기': 6583, '둘려': 6584, '빙글빙글': 6585, '얼렁뚱땅': 6586, '촌지': 6587, '화금': 6588, '스터디': 6589, '스파크': 6590, '찬가': 6591, '파티룸': 6592, '미트': 6593, '밀도': 6594, '안포': 6595, '근해': 6596, '아이든': 6597, '안내면': 6598, '어부': 6599, '뿌긴': 6600, '비염': 6601, '스펙': 6602, '까치': 6603, '트럴': 6604, '닥치고': 6605, '가로막': 6606, '가랬는데': 6607, '커섴': 6608, '품명': 6609, '거화': 6610, '트라고': 6611, '곃': 6612, '어린이집': 6613, '교복': 6614, '영안': 6615, '맴도': 6616, '퍽퍽해': 6617, '대만': 6618, '돟아': 6619, '비론': 6620, '지금껏': 6621, '심장': 6622, '나나': 6623, '소지품': 6624, '아이돌': 6625, '블핑': 6626, '진지하다': 6627, '주택가': 6628, '반입': 6629, '리필': 6630, '립법': 6631, '분배': 6632, 'ㅏㅏ': 6633, '위태': 6634, '로그인': 6635, '검덕': 6636, '기특하다': 6637, '쌕': 6638, '실러': 6639, '그로': 6640, '내쉬다': 6641, '알바인': 6642, '자치': 6643, '댓': 6644, '듭니닺': 6645, 'ㅔㅏㅏㅣㅏ': 6646, '바셀린': 6647, '블랙프라이데이': 6648, '마투라': 6649, '비툴어져': 6650, '도선': 6651, '여파': 6652, '손부': 6653, '기격': 6654, '볒번': 6655, '닺질': 6656, '임비': 6657, '반절': 6658, '차주': 6659, '하주': 6660, '환산': 6661, '홀려': 6662, '스트레치': 6663, '지자기': 6664, '요듀커': 6665, '달인': 6666, '안건': 6667, '신혼여행': 6668, '신행': 6669, '산생': 6670, '불쑥': 6671, '오피': 6672, '드라이브': 6673, '비트': 6674, '공기': 6675, 'ㅎㅅㅎ': 6676, '송사': 6677, '아가씨': 6678, '깡패': 6679, '졸리': 6680, 'ᄉᄃ': 6681, 'ᄌᄀ': 6682, '욫': 6683, '자금': 6684, '범주': 6685, '상실하다': 6686, '눈높이': 6687, '올려다보다': 6688, '달아나다': 6689, '규규': 6690, '규슈': 6691, '수수': 6692, '슈': 6693, '휑해': 6694, '목뒤': 6695, '목젖': 6696, '혀': 6697, '뻐요꽤': 6698, '유령회사': 6699, '킹소': 6700, '나약하다': 6701, '휘청휘청': 6702, '들쑥날쑥': 6703, '가상': 6704, '시뮬레이션': 6705, '빌딩': 6706, '전력': 6707, '깃': 6708, '마대': 6709, '풍선': 6710, '먀': 6711, '넷플릭스': 6712, '트레이': 6713, '합치기': 6714, '하나고': 6715, '늗': 6716, '락스': 6717, '섳이번': 6718, '고서': 6719, '플래시': 6720, '거철': 6721, '물점': 6722, '라싸': 6723, '원루': 6724, '요온': 6725, '열기구': 6726, '바사': 6727, '단오': 6728, '색다르다': 6729, '리뉴': 6730, '깨끗다': 6731, '보깨끗': 6732, '성안': 6733, '복판': 6734, '그릴': 6735, '색연필': 6736, '열폭': 6737, '아이비': 6738, '고이': 6739, '주물': 6740, '거야': 6741, '해치다': 6742, '간절하다': 6743, '일부분': 6744, '노노': 6745, '타랑': 6746, '사티': 6747, '조화로움': 6748, '올바르다': 6749, '차량': 6750, '무른': 6751, '은스툴': 6752, '덕기': 6753, '우렁차네': 6754, '슬라잉': 6755, '간의': 6756, '시행': 6757, '어울림': 6758, '사단': 6759, '게이밍': 6760, '비밀': 6761, 'ㅡㅡㅋㅋ': 6762, '짜내다': 6763, '몽했으': 6764, '조밀하다': 6765, '설전': 6766, '구전': 6767, '월지': 6768, '주서': 6769, '젛다': 6770, '꺽': 6771, '걱거림': 6772, '구릿하다': 6773, '의지': 6774, '발뺌': 6775, '에펠': 6776, '둥글둥글': 6777, '비릿': 6778, '인견': 6779, '갖': 6780, '랜치': 6781, '재재하다': 6782, '외각': 6783, '픽업': 6784, '등원': 6785, '여고': 6786, '솜씨': 6787, '물리': 6788, '살짞': 6789, '집의': 6790, '혼꾸녕': 6791, '아뎔': 6792, 'ㅠㅠㅎ': 6793, '엘리': 6794, '이별': 6795, '하위': 6796, '배열': 6797, '금월': 6798, '헤아리다': 6799, '샘셈': 6800, '경사지다': 6801, '문중': 6802, '고고': 6803, '은거': 6804, '난도질': 6805, '가년': 6806, '괜찬앗슴': 6807, '대지': 6808, '에로': 6809, '전라북도': 6810, '전주': 6811, '히스': 6812, '이글': 6813, '테이핑': 6814, '패기': 6815, '물렁물렁하다': 6816, '비템': 6817, '어젯밤': 6818, '시크릿': 6819, '산후조리원': 6820, '판로': 6821, '타이어': 6822, '현찰': 6823, '렉카': 6824, '쿠헌감': 6825, '운감': 6826, '특이': 6827, '졸리다': 6828, '퍼석': 6829, '어찰': 6830, '실책': 6831, '동등': 6832, '알더': 6833, '셋톱': 6834, '빈정': 6835, '주산': 6836, '장님': 6837, '배송룡': 6838, '무도': 6839, '비니': 6840, '독서실': 6841, '누라': 6842, '우스': 6843, '야기': 6844, '딜하': 6845, '콜백': 6846, '다점': 6847, '데굴': 6848, '긴가민가하다': 6849, '삐거': 6850, '때론': 6851, '난감': 6852, '덧게': 6853, 'ㄴㄱ': 6854, '구화': 6855, '구일': 6856, '안휘': 6857, '고우리': 6858, '놨습니': 6859, '구상': 6860, '눈앞': 6861, '프로페셔널함': 6862, '세팅할': 6863, '구조도': 6864, '태생': 6865, '카차티': 6866, '마타': 6867, '츠': 6868, '장단': 6869, '즘': 6870, '애매': 6871, '집사람': 6872, '없졍': 6873, '성가': 6874, '용서': 6875, '영종': 6876, '톨게이트': 6877, '해효': 6878, '악평': 6879, '달그락': 6880, '삿다': 6881, '카페나': 6882, '스튜디오': 6883, '기여': 6884, '이탈리안': 6885, '해롭다': 6886, '초토화': 6887, '회함': 6888, '고양시': 6889, '덕양구': 6890, '쨍쨍거리다': 6891, '형제': 6892, '곺': 6893, '부금': 6894, '약도': 6895, '듬성듬성': 6896, '적응도': 6897, '입안': 6898, '매립': 6899, '만월': 6900, '뒷맛': 6901, '새카맣': 6902, '엘배': 6903, '아자개': 6904, '빗자루': 6905, '태백': 6906, '협소합니': 6907, '소장': 6908, '생포': 6909, '풋살': 6910, '쫓기다': 6911, '판끼': 6912, '경이': 6913, '야만': 6914, '불쾌감': 6915, '답글': 6916, 'ㅃㅓ': 6917, '윈하': 6918, '아랍': 6919, '본뜨다': 6920, '재빠르다': 6921, '하중도': 6922, '비판': 6923, '셑탑': 6924, '첩': 6925, '음부': 6926, '알리': 6927, '한자리': 6928, '화학반응': 6929, '느른하다': 6930, '오크나무': 6931, '신중': 6932, '호감': 6933, '차례차례': 6934, '천안': 6935, '갖가지': 6936, '추호': 6937, '망정': 6938, '전파': 6939, '소리치다': 6940, '설며': 6941, '강권': 6942, '가급적': 6943, '귀가': 6944, '어스': 6945, '월세': 6946, '어해': 6947, '주의자': 6948, '정상품': 6949, '작살': 6950, '요령': 6951, '괜츈합니': 6952, '다예': 6953, '오른손': 6954, '왼손': 6955, '원보': 6956, '새까맣다': 6957, '젬품': 6958, '중임': 6959, '남학생': 6960, '신장': 6961, '살짝살짝': 6962, '훌': 6963, '치과': 6964, '원장': 6965, '가려움': 6966, '기고': 6967, '따끔': 6968, '수랍': 6969, '나시': 6970, '빈도': 6971, '걀씀': 6972, '썻씁': 6973, '얼른얼른': 6974, '부보': 6975, '잉글랜드': 6976, '덩거려': 6977, '활성탄': 6978, '주니': 6979, '중이랴': 6980, '날로': 6981, '일사량': 6982, '상업': 6983, '급작': 6984, '여남은': 6985, '대풍': 6986, '조개': 6987, 'ㅇㅇㅇ': 6988, '와인': 6989, '확신': 6990, '프티': 6991, '금잠': 6992, '월화': 6993, '일목욜': 6994, '하곤': 6995, '시집': 6996, '건달': 6997, '손목': 6998, '염좌': 6999, '움큼': 7000, '짜릿하다': 7001, '보습제': 7002, '심쁠': 7003, '껄끄러웠던': 7004, '라칸': 7005, '어쩌다': 7006, '서스': 7007, '차보': 7008, '격자': 7009, '늼': 7010, '시갼반': 7011, '해안': 7012, '물방': 7013, '덜덜': 7014, '사랑스럽다': 7015, '빠닥': 7016, '레': 7017, '반원': 7018, '무중력': 7019, '녹색': 7020, '빚': 7021, '진의': 7022, '직거래': 7023, '겨울철': 7024, '남김없이': 7025, '빳빳해': 7026, '위험성': 7027, '운전기사': 7028, '생난리': 7029, '심장마비': 7030, '살금살금': 7031, '상종': 7032, '편대': 7033, '다락방': 7034, '조니': 7035, '사망': 7036, '로망': 7037, '머스트': 7038, '헤드레스트': 7039, '간질간질': 7040, '따끔하다': 7041, '쳬': 7042, '쭈글거려': 7043, '분필': 7044, '뚠': 7045, '반지하': 7046, '조로': 7047, '자안': 7048, '타격': 7049, '터널': 7050, '힐링': 7051, '인근': 7052, '토이': 7053, '프린팅': 7054, '옆모습': 7055, '가재': 7056, '면티': 7057, '헬': 7058, '하룻밤': 7059, '실감': 7060, '르네': 7061, '판매원': 7062, '뎀': 7063, '효자손': 7064, '용소': 7065, '영수증': 7066, '쾌적하다': 7067, '푸근하다': 7068, '미련': 7069, '영업': 7070, '꼼': 7071, '머신': 7072, 'ㅐㄴ': 7073, '찮': 7074, '샌드': 7075, '페이퍼': 7076, '용의자': 7077, '단식': 7078, '탁상': 7079, '시궁창': 7080, '듯합': 7081, '이돈': 7082, '랬다': 7083, '동아': 7084, '귯재송': 7085, '귯': 7086, '줄걸': 7087, '낯설다': 7088, '눈코': 7089, '요조': 7090, '뉴뉴': 7091, '노무사': 7092, '불리하다': 7093, '시정': 7094, '닷': 7095, '해녀': 7096, '디도': 7097, '얊': 7098, '석고': 7099, '버러지': 7100, '맥시멈': 7101, '어색': 7102, '창의': 7103, '작품': 7104, '때우다': 7105, '상남자': 7106, '미남': 7107, '점점이': 7108, '무덥다': 7109, '누빔': 7110, '요음': 7111, '치한': 7112, '므': 7113, '근력': 7114, '인대': 7115, '깻해': 7116, '양반': 7117, '승용차': 7118, '본연': 7119, '뒤로': 7120, 'ㅜㅎㅎ': 7121, '예뻬': 7122, '책방': 7123, '꼽아': 7124, '골반': 7125, '관절': 7126, '척추': 7127, '본원': 7128, '찌푸리다': 7129, '빈틈': 7130, '격값': 7131, '고로': 7132, '방수제': 7133, '잭': 7134, '떨어트렸는': 7135, '제대': 7136, '장원': 7137, '에까지는': 7138, '탄하': 7139, '닦달': 7140, '용달차': 7141, '대접': 7142, '낮아지다': 7143, '감푹': 7144, '느닷없다': 7145, '식생활': 7146, '실텔데': 7147, '뻐요상판': 7148, '대야': 7149, '나신': 7150, '로비': 7151, '삐끗': 7152, '볼팅': 7153, '넥타이': 7154, '성빈': 7155, '문구점': 7156, '십분': 7157, '선납': 7158, '구색': 7159, '튕겨나': 7160, '특가': 7161, '거릴': 7162, '개뿔': 7163, '급제': 7164, '효자': 7165, '해제': 7166, '승지': 7167, '까르엠': 7168, '마은': 7169, '푸거': 7170, '생색': 7171, '예일': 7172, '엎는': 7173, '니요': 7174, '미음': 7175, '핬습니': 7176, '위태롭습니': 7177, '쩐': 7178, '축도': 7179, '연간': 7180, '모뎀': 7181, '부끄럽다': 7182, '미지': 7183, '식물성': 7184, '에서와': 7185, '당한': 7186, '도드라지다': 7187, 'ㅈㅐ': 7188, '놨는': 7189, '퉤': 7190, '어휴': 7191, '츙': 7192, '키비': 7193, '자사': 7194, '봉예': 7195, '매제': 7196, '멀끔하다': 7197, '리스트': 7198, '발라드': 7199, '차야': 7200, '대보다': 7201, '설문': 7202, '무하': 7203, '판결': 7204, '위드': 7205, '도톰하다': 7206, '익숙': 7207, '쨍하': 7208, '허공': 7209, '다이로': 7210, '느령힝': 7211, '떼쓰다': 7212, '다가가다': 7213, '뽀로로': 7214, '사조': 7215, '퉷': 7216, 'ㅡㅜㅜ': 7217, '리플': 7218, '감일': 7219, '스럽지도': 7220, '건만': 7221, '철망': 7222, '급니': 7223, '화연': 7224, '진주': 7225, '뜨이다': 7226, '물가': 7227, '징그럽다': 7228, '자정': 7229, '어의': 7230, '완젼별로': 7231, '반올림': 7232, '꿀렁꿀렁하': 7233, '옛말': 7234, '마크로': 7235, '물통': 7236, '매사': 7237, '건수': 7238, '가뜩이나': 7239, '침실': 7240, '사일': 7241, '대다수': 7242, '배소': 7243, '쪼끄': 7244, '손끝': 7245, '저릿하다': 7246, '정함': 7247, '소비자보호': 7248, '책임감': 7249, '공수': 7250, '누렇다': 7251, '뎐': 7252, 'ㅡㅠ': 7253, '고영희': 7254, '명상': 7255, '집임': 7256, '당사자': 7257, '땡': 7258, '값싸다': 7259, '아기자기하다': 7260, '개개': 7261, '젠장': 7262, '로렌': 7263, '떡거려': 7264, '화판': 7265, '특정': 7266, '사태': 7267, '으련만': 7268, '앉앟는데': 7269, '뿌직': 7270, '어쭙잖다': 7271, '헛돌음': 7272, '불퉁불퉁': 7273, '수읺는': 7274, '이질': 7275, '열사': 7276, '퀵': 7277, '레자': 7278, '드래스룸': 7279, '읁': 7280, '한가위': 7281, '흡사': 7282, '초건': 7283, '듯합니딘': 7284, '프': 7285, '기하': 7286, '겨유': 7287, '영역': 7288, '르': 7289, '랑스': 7290, '유무': 7291, '빼꼼': 7292, '권고': 7293, '사연': 7294, '결하': 7295, '부어': 7296, 'ᄃ': 7297, '것무드': 7298, '제소': 7299, '분량': 7300, '감방': 7301, '일기예보': 7302, '새벽같이': 7303, '제구실': 7304, '지랄': 7305, '에이즈': 7306, '아주머니': 7307, '항목': 7308, '공용': 7309, '대리점': 7310, '큼큼': 7311, '쿰쿰하다': 7312, '종합': 7313, '뒤집어지다': 7314, '골프': 7315, '짜증스럽다': 7316, '상술': 7317, '개똥': 7318, '러브': 7319, '뻐요방': 7320, '원주': 7321, '다각도': 7322, '랔': 7323, '따비': 7324, '걱삐': 7325, '다투다': 7326, '조끼': 7327, '벗어나다': 7328, '마도': 7329, '악조건': 7330, '유음': 7331, '괜찬': 7332, '협력': 7333, '아무나': 7334, '부식': 7335, '아이작': 7336, '일품': 7337, '미술': 7338, '기숙': 7339, '줗앗': 7340, '방충': 7341, '이주현': 7342, '원님': 7343, '사풋': 7344, '들쭉': 7345, '부족함': 7346, '신기다': 7347, '감부': 7348, '일과': 7349, '하네욬': 7350, '하이고': 7351, '뒤꿈치': 7352, '두서': 7353, '기록': 7354, '월초': 7355, '레인': 7356, '다음가다': 7357, '퓨저': 7358, '투투': 7359, '아너큐튜': 7360, '챠야더': 7361, '애너챠앤': 7362, 'ㅏㅇ': 7363, '신입생': 7364, '통합': 7365, '조처': 7366, '해석': 7367, 'ㅗㅎ': 7368, '개연': 7369, '미하': 7370, '수선': 7371, '면봉': 7372, '조선시대': 7373, '시후': 7374, '시바': 7375, '포터': 7376, 'ㄹㅇㄷ': 7377, '이사이': 7378, '늘쇼': 7379, '솔이': 7380, '러버': 7381, '손해배상': 7382, '전송': 7383, '말귀': 7384, '문방구': 7385, '산본': 7386, '소매': 7387, '바이엘': 7388, '용추': 7389, '기다렷': 7390, '해줫': 7391, '했흡닏': 7392, '그래욯': 7393, '거르거': 7394, '기흥': 7395, '임타': 7396, '원사': 7397, '뎅홀더': 7398, '깡통': 7399, '딧구': 7400, '재미있다': 7401, '신선하다': 7402, '퀄리': 7403, '칙칙해지다': 7404, '샤워': 7405, '십사': 7406, '겍': 7407, '현저': 7408, '덕후': 7409, '서련': 7410, '원정': 7411, '라곤': 7412, '대로는': 7413, '집비': 7414, '릭': 7415, '케바케': 7416, '정합': 7417, '후훗': 7418, '개복치': 7419, '캠핑': 7420, '음집': 7421, '농도': 7422, '장땡': 7423, '발각': 7424, '말쿳션': 7425, '이쎼': 7426, '분주하다': 7427, '씨름': 7428, '부스': 7429, '일어나지': 7430, '명과': 7431, '중고품': 7432, '효': 7433, '싸늘하다': 7434, '질탕': 7435, '추적': 7436, '심햐요주': 7437, '객선': 7438, '웁니': 7439, '절충': 7440, '거동': 7441, '졸업': 7442, '꼽히다': 7443, '주란': 7444, '행운': 7445, '쇼퍼': 7446, '베니스': 7447, '양임': 7448, '안습': 7449, 'ㅢ': 7450, '칠기': 7451, '돠었다': 7452, '꼽느': 7453, '이케팍': 7454, '부딤': 7455, '티오': 7456, '천운': 7457, '쓰네욬': 7458, '지름': 7459, '일변': 7460, '경은': 7461, '철회': 7462, '바고': 7463, '리퍼': 7464, '비갓': 7465, '정평': 7466, '열자': 7467, '메드': 7468, '리예': 7469, '떨걱': 7470, '흉하다': 7471, '컷어욤': 7472, '차림': 7473, '덱': 7474, '촥': 7475, '장위': 7476, 'ᄐ': 7477, '널브러졌던': 7478, '여인': 7479, '인정받다': 7480, '잘되지': 7481, '모시다': 7482, '어느새다': 7483, '딸레': 7484, '엉덩방아': 7485, '패소': 7486, '슬리이딩': 7487, '빠가나': 7488, 'ㅋㅓ': 7489, '스탠': 7490, '산비': 7491, '구수': 7492, '단칼': 7493, '비롯': 7494, '필로티': 7495, '가르다': 7496, '형평': 7497, '세명': 7498, '전자석': 7499, '대애': 7500, '안락': 7501, '딸아': 7502, '스테': 7503, '봉익': 7504, '기용': 7505, '서너': 7506, '매주': 7507, '사막': 7508, '리터': 7509, '한소리': 7510, '거고요': 7511, '추구': 7512, '분말': 7513, '낭비하다': 7514, '라니까': 7515, '뒤뚱거려': 7516, '교대': 7517, '병간호': 7518, '인스타그램': 7519, '춈미님': 7520, '전수': 7521, '구랬': 7522, '산물': 7523, '보리': 7524, '임프': 7525, '레임': 7526, '거슬러': 7527, '히히히': 7528, '점차': 7529, '예감': 7530, '폭리': 7531, '소화': 7532, '데인': 7533, '분집': 7534, '탱': 7535, '애덜': 7536, '악플러': 7537, '다짐': 7538, '선결': 7539, '오늘이': 7540, '죠앙르': 7541, '찰': 7542, '황토': 7543, '끌어당기다': 7544, '유리잔': 7545, '냉면': 7546, '똑똑': 7547, '흐릿': 7548, '다이빙': 7549, '저녁때': 7550, '전하': 7551, '부스럼': 7552, '친가': 7553, '조에욤': 7554, '유시': 7555, '세척': 7556, '봄퐁퐁': 7557, '급기야': 7558, '산정': 7559, '수축': 7560, '팽창': 7561, '리조트': 7562, '자락': 7563, '저급': 7564, '소유': 7565, '체고': 7566, '잠옷': 7567, '운동복': 7568, '번진': 7569, '원고': 7570, '난자': 7571, '재는': 7572, '벼렸네': 7573, '미아': 7574, '라만': 7575, '창사': 7576, '뻐요이': 7577, '고저': 7578, '뮤더': 7579, '음지': 7580, '구제': 7581, '케미컬': 7582, '색소': 7583, '음모': 7584, '고역': 7585, '개황': 7586, '암거': 7587, '치대다': 7588, '회의': 7589, '바인딩': 7590, '양제': 7591, '엄정면': 7592, '구먼': 7593, '빼족해': 7594, '삭탁': 7595, '장고': 7596, '정상인': 7597, '주교': 7598, '놧는': 7599, '옥션': 7600, '막말': 7601, '생욕': 7602, '섕각쌉니': 7603, '거렸': 7604, '딷딱': 7605, '서장': 7606, '낭창': 7607, '아누': 7608, '됭': 7609, '평평': 7610, '카레': 7611, '꼽자': 7612, '밥풀': 7613, '평준': 7614, '디쟌적': 7615, '여중': 7616, '미라': 7617, '비그레윗': 7618, '스웨터': 7619, '마누라': 7620, '타투': 7621, '금합': 7622, '챙': 7623, '채소': 7624, '리나': 7625, '화려하다': 7626, '깊숙하다': 7627, '팔목': 7628, '창피하다': 7629, '볼률감': 7630, '셔블': 7631, '세긴': 7632, '로봇': 7633, '굴뚝': 7634, '별러': 7635, '베이직': 7636, '전구': 7637, '당부': 7638, '듣보잡': 7639, '버럭': 7640, '무책임': 7641, '로나': 7642, '래요': 7643, '노코멘트': 7644, '힘내다': 7645, '파이팅': 7646, '거뭍': 7647, '듬새': 7648, '굽다': 7649, '투잡': 7650, '불규칙': 7651, '에몬스답': 7652, '시급': 7653, '경찰서': 7654, '형사': 7655, '고소하다': 7656, '집단': 7657, '캡처': 7658, '즐기다': 7659, '미흡': 7660, '븐': 7661, '게일': 7662, '꼬맹이': 7663, '독점': 7664, '했늠': 7665, '장이지': 7666, '조경남': 7667, '씨발': 7668, '성장하다': 7669, '거거익': 7670, '차노아': 7671, '납기': 7672, '김은진': 7673, '콩나물': 7674, '무치다': 7675, '수단': 7676, '뻐요굿굿': 7677, '치중': 7678, '제기': 7679, '파업': 7680, '댜': 7681, '요택비': 7682, '원요': 7683, '긍데': 7684, '우직': 7685, '근하': 7686, '통색': 7687, '수요': 7688, '이세': 7689, '딳': 7690, '화공': 7691, '구산': 7692, '구마': 7693, '긁혔어': 7694, '먹듯': 7695, '랍니': 7696, '열도': 7697, '만복': 7698, '연습': 7699, '찌감': 7700, '고천': 7701, '옹위': 7702, '진흙': 7703, '탭븥어': 7704, '오도': 7705, '신문지': 7706, '유명': 7707, '애기': 7708, '여색': 7709, '쑥색': 7710, '눈길': 7711, '가다가': 7712, '몰랑하다': 7713, '오오오': 7714, '둬': 7715, '촉촉하다': 7716, '하이라이트': 7717, '종잇장': 7718, '심보': 7719, '테리': 7720, '장농': 7721, '굿일': 7722, '루입네': 7723, '캐다': 7724, '혈압': 7725, '저혈압': 7726, '위더': 7727, '큰아버지': 7728, '간편': 7729, '답니': 7730, '채다': 7731, '서화': 7732, '부진': 7733, '아크릴': 7734, '멩': 7735, '슈납': 7736, '주거': 7737, '피지': 7738, '입담': 7739, '풀어지다': 7740, '파킹': 7741, '불규칙하다': 7742, '퀄리티더': 7743, '감목': 7744, '입시': 7745, '별수': 7746, 'ㅇㅅㅈㅅㅈㅎ': 7747, '뻐요제': 7748, '넘스크라치': 7749, '딜론': 7750, '슈탈': 7751, '핸드': 7752, '공동': 7753, '쪽파': 7754, '서온': 7755, '핏대': 7756, '똔똔': 7757, '괜잔': 7758, '반민': 7759, '쯧쯧': 7760, '공기총': 7761, '다방': 7762, '닳다': 7763, '윈도': 7764, '어록': 7765, '괜탆아': 7766, '굿쇼': 7767, '허옇': 7768, '커피잔': 7769, '자동차': 7770, '러': 7771, 'ㅋㅎ': 7772, '므이': 7773, '완덕': 7774, '합성수지': 7775, '바우': 7776, '김평일': 7777, '휘청이다': 7778, '서각': 7779, '허용': 7780, '패임': 7781, '바치': 7782, '취부': 7783, '스티': 7784, '좌측': 7785, '임의': 7786, '만날': 7787, '금물': 7788, '바랬고': 7789, '핮니당': 7790, '만세': 7791, '임일': 7792, '우지': 7793, '책딸': 7794, '정품': 7795, '여대': 7796, '스커': 7797, '나라고': 7798, '뉴얼': 7799, '뻐요베': 7800, '주소지': 7801, '무질': 7802, '발코니': 7803, '께선': 7804, '문지방': 7805, '둥그런': 7806, '버싶셔': 7807, '아슬하다': 7808, '양팔': 7809, '가꾸다': 7810, '수틀': 7811, '씐': 7812, '알람': 7813, '럭셔리': 7814, '디건': 7815, '에게만': 7816, '저렫': 7817, '버디': 7818, '구문': 7819, '삿날': 7820, '확산': 7821, '피하': 7822, '프랑': 7823, '원일': 7824, '곰보': 7825, '수백': 7826, '구택': 7827, 'ㅈㅔ': 7828, '밤잠': 7829, '순서': 7830, '자알': 7831, '피아노': 7832, '무르리': 7833, '오십': 7834, '견도': 7835, '암수': 7836, '호': 7837, '짜이다': 7838, '전장': 7839, '통치': 7840, '퓨어': 7841, '개설': 7842, '모처럼': 7843, '라이오스': 7844, '비정': 7845, '직함': 7846, '쇄골': 7847, '용덕': 7848, '엷다': 7849, '겹니': 7850, '장섡댁': 7851, '기상': 7852, '모임': 7853, '파네': 7854, '오오': 7855, '유감': 7856, '일자리': 7857, '청도': 7858, '양각': 7859, '유용성': 7860, '하안': 7861, '빠개져': 7862, '스남': 7863, '뤠잇입니': 7864, '감별': 7865, '에프킬라': 7866, '야마': 7867, '후반': 7868, '바로잡다': 7869, '헹': 7870, '까탈': 7871, '문법': 7872, '쿨톤': 7873, '배아': 7874, '찯': 7875, '밴드': 7876, 'ㅂㅋ': 7877, '누나': 7878, '꾸밈': 7879, '삼십분': 7880, '불쾌': 7881, '폭력': 7882, '엑스': 7883, '시진': 7884, '진창': 7885, '종료': 7886, '사스': 7887, '랩제': 7888, '덜루': 7889, '미싱': 7890, '마당': 7891, '구간': 7892, '시럽': 7893, '구어': 7894, '레베': 7895, '통조림': 7896, '빡센': 7897, '출렁출렁': 7898, '오므리다': 7899, '간극': 7900, '릸잇으': 7901, '겜': 7902, '아바': 7903, '사들이다': 7904, '동의': 7905, '사계절': 7906, '미용실': 7907, '껄렁껄렁하다': 7908, '벨트': 7909, '비착불': 7910, '문족핮니': 7911, '부근': 7912, '비값': 7913, '내지': 7914, '연가': 7915, '더기': 7916, '응답기': 7917, '시마': 7918, '어쩌겠습': 7919, '에게나': 7920, '소지도': 7921, '분류': 7922, '초록빛': 7923, '부주석': 7924, '댕댕': 7925, '씌': 7926, '고통스럽다': 7927, '중요': 7928, '일괄': 7929, '깉': 7930, '해나': 7931, '에폭시': 7932, '폭시': 7933, '제품군': 7934, '국판': 7935, '열악하다': 7936, '펄럭펄럭': 7937, '회피': 7938, '아듀': 7939, '반들반들하다': 7940, '표면처리': 7941, '안주시': 7942, '서프라이즈': 7943, '고만고만하다': 7944, '현황': 7945, '지난날': 7946, '스타킹': 7947, '날렵하다': 7948, '쁩니다기스': 7949, '만다린': 7950, '클리어': 7951, '인터파크': 7952, '소스': 7953, '염가': 7954, '인니': 7955, '인제': 7956, '장후': 7957, '말락': 7958, '탑승': 7959, '가경': 7960, '온종일': 7961, '어멍': 7962, '송곳': 7963, '쪼르륵': 7964, '결리다': 7965, '긴박하다': 7966, '발전': 7967, '기보': 7968, '등짝': 7969, '혁신': 7970, '오역': 7971, '요모조모': 7972, '기리': 7973, '독단': 7974, '괴상하다': 7975, '도시락': 7976, '외치': 7977, '사조일': 7978, '아미': 7979, '다홍색': 7980, '장기판': 7981, '간소화': 7982, '쩍쩍': 7983, '민관': 7984, '신용': 7985, '해부': 7986, '교차': 7987, '복북복': 7988, '서리다': 7989, '강원': 7990, '눕힌': 7991, '외양': 7992, '부쉈습니': 7993, '개나리색': 7994, '여쫌': 7995, '구이': 7996, '축합': 7997, '최상인': 7998, '자랑스럽다': 7999, '갑갑': 8000, '앞날': 8001, '군소리': 8002, '락': 8003, '햇뎃': 8004, '런지': 8005, '스스흣': 8006, 'ㄴㅅㅅㅅ': 8007, '으스스': 8008, '넖': 8009, '개취': 8010, '집힘': 8011, '듭니딘': 8012, '이끌다': 8013, '널찍': 8014, '맥각': 8015, '버신': 8016, '이툥할': 8017, '자선': 8018, '택지': 8019, '마더': 8020, '베이비': 8021, '하리': 8022, '샷건': 8023, '하나라': 8024, '용기': 8025, '오이랑': 8026, '서나': 8027, '플레르': 8028, '서해': 8029, '승객': 8030, '사오일': 8031, '삼배': 8032, '기구': 8033, '부합': 8034, '좌송합니': 8035, '몽키스': 8036, '업글': 8037, '앉은키': 8038, '가후': 8039, '서후': 8040, '갑질': 8041, '았단': 8042, '호평': 8043, '걸퓔': 8044, '집고양이': 8045, '포대자루': 8046, '에를': 8047, '세용': 8048, '웅': 8049, '넘앏아': 8050, '랍니다': 8051, '중역': 8052, '흐지부지': 8053, '공정위': 8054, '고질': 8055, '트론': 8056, '부주의하다': 8057, '박하나': 8058, '매스': 8059, '보유': 8060, '장의': 8061, '더티': 8062, '비문': 8063, '누런빛': 8064, '농문': 8065, '비구': 8066, '읃': 8067, '뻇어': 8068, '죈': 8069, '저서': 8070, '도제': 8071, '판넬': 8072, '괴어놨어': 8073, '목발': 8074, '불통': 8075, '이이': 8076, '꺼떡꺼떡': 8077, '통한': 8078, '음일': 8079, '무용지물': 8080, '한가득': 8081, '천리': 8082, '올레': 8083, '기계': 8084, '열매': 8085, '쉽사리': 8086, '후코': 8087, '보드게임': 8088, '정선선': 8089, '디스플레이': 8090, '휴탬버': 8091, '작대기': 8092, '지하철': 8093, '수구': 8094, '쏟아내다': 8095, '맘캠': 8096, '다작': 8097, 'ㅅㅅ': 8098, '어쩌려': 8099, '구시렁구시렁': 8100, '님들': 8101, '모시': 8102, 'ㅇㄷㄴ': 8103, '논리': 8104, '나가시': 8105, '으르볼': 8106, '인형': 8107, '싸이다': 8108, '옴총': 8109, '잡아떼다': 8110, '남감': 8111, '농부': 8112, '배합': 8113, '장암': 8114, '스토퍼': 8115, '송전': 8116, '검소': 8117, '일다': 8118, '졷합니': 8119, '집하장': 8120, '위생': 8121, '하달': 8122, '서든': 8123, '칸노': 8124, '헤비': 8125, '시디': 8126, '방귀': 8127, '반도': 8128, '다라도': 8129, '샤라': 8130, '면안': 8131, '꾹꾹': 8132, '잭키': 8133, '화이': 8134, '트고': 8135, '갑작스럽다': 8136, '따스하다': 8137, '좋겧': 8138, '원류': 8139, '철장': 8140, '따라가다': 8141, '협상': 8142, '한시': 8143, '갑자': 8144, '무게중심': 8145, '영종도': 8146, '꺄': 8147, '연습실': 8148, '차질': 8149, '일절': 8150, '넘맘드네': 8151, '보내오다': 8152, '버거운': 8153, '데미': 8154, '상품화': 8155, '그랬다고': 8156, '웹서핑': 8157, '크리스마스': 8158, '남칸': 8159, '셨습니': 8160, '둥글둥글하다': 8161, '전집': 8162, '닏근데': 8163, '땨뮨': 8164, '얶': 8165, '심신': 8166, '우린': 8167, '지웢': 8168, '식티브': 8169, '어획': 8170, '슬립': 8171, '차이점': 8172, '포대': 8173, '분틀': 8174, '앞집': 8175, '조의': 8176, '착색': 8177, '셨더': 8178, '잡아끌다': 8179, '입지': 8180, '글쿠좀': 8181, '늣': 8182, '빵': 8183, '끊임없다': 8184, '순위': 8185, '작시': 8186, '미묘하다': 8187, '동동': 8188, '뎅드뎌': 8189, '공교': 8190, '흐흐': 8191, '개로왕': 8192, '서원': 8193, '사납다': 8194, '눈알': 8195, '마음속': 8196, '듀커였': 8197, '흐': 8198, '오듀': 8199, '매화': 8200, '던지기': 8201, '휙휙': 8202, '놨다': 8203, '에보니': 8204, '복귀': 8205, '담그다': 8206, '신전': 8207, '구인': 8208, '마을': 8209, '이마': 8210, '정강이': 8211, '한중간': 8212, '아부': 8213, '소독': 8214, '랑그': 8215, '등약': 8216, '동래구': 8217, '형장': 8218, '솥': 8219, '배불뚝이': 8220, '산판': 8221, '실만': 8222, '둥이': 8223, '실었으': 8224, '발호': 8225, '정제': 8226, '광도': 8227, '하께': 8228, '과수': 8229, '덤핑': 8230, '편백나무': 8231, '예나': 8232, '쓰윽': 8233, '이루': 8234, '골절': 8235, '마자': 8236, '뷰러뇨': 8237, '유걸': 8238, '스피링': 8239, '국가': 8240, '기관': 8241, '헤지': 8242, '천계': 8243, '식탐': 8244, '끈적끈적하다': 8245, '저력': 8246, '끽끽': 8247, '체언': 8248, '제주시': 8249, '대면': 8250, '꿋꿋': 8251, '요관': 8252, '백오': 8253, '수분': 8254, '재촬': 8255, '함자': 8256, '빅스': 8257, '마일': 8258, '두드러지다': 8259, '급전': 8260, '업업': 8261, '자손': 8262, '간다라': 8263, '기절': 8264, '단시간': 8265, '전사': 8266, '또렷하다': 8267, '앵': 8268, '피혁': 8269, '엇쇼파': 8270, '촘촘하': 8271, '뱅': 8272, '혈': 8273, '콘셉트': 8274, '물색': 8275, '빠듯': 8276, '멀버우살': 8277, '짝짝': 8278, '퐁': 8279, '신화': 8280, '전제': 8281, '평해': 8282, '서로서로': 8283, '왜냐면': 8284, '외치다': 8285, '단비': 8286, '으면서': 8287, '뒈지다': 8288, '양질': 8289, '과대': 8290, '대교': 8291, '빼낼': 8292, '시외': 8293, 'ㅡㅕ': 8294, '다뇨': 8295, '쁜데': 8296, '가제': 8297, '전일': 8298, '막집': 8299, '감기': 8300, '수원': 8301, '충실': 8302, '거북이': 8303, '능률': 8304, '치마': 8305, '횡포': 8306, '마스': 8307, '퀄리티욤': 8308, '예배': 8309, '송달': 8310, 'ᄉᄃᄇ': 8311, '면접': 8312, '괘안': 8313, '보랑': 8314, '뽕뽕': 8315, '관계자': 8316, '식초': 8317, '창경': 8318, '베테': 8319, '쥐색': 8320, '유리아': 8321, '빡셌': 8322, '철옥': 8323, '족발': 8324, '땡땡하다': 8325, '복원력': 8326, '널브러놓': 8327, '긍': 8328, '뻬': 8329, '발끝': 8330, '군집': 8331, '건반': 8332, '구부리다': 8333, '혼돈': 8334, '리진': 8335, '대설': 8336, '꼼꼼': 8337, '렀': 8338, '호환': 8339, '개발': 8340, '론일': 8341, '뻐요다들': 8342, '별표': 8343, '젯소칠': 8344, '적적하다': 8345, '이한동': 8346, '갈라': 8347, '헛돌더': 8348, '긁혔는데': 8349, '세척제': 8350, '예시': 8351, '주방용품': 8352, '잡아당기다': 8353, '접근': 8354, '콧방': 8355, '꽝임일': 8356, '건류': 8357, '체면': 8358, '죔': 8359, '뻐요누우': 8360, '체력장': 8361, '윗몸': 8362, '발스': 8363, '백이': 8364, '섭': 8365, '실행': 8366, '이티': 8367, '초코': 8368, '아이스크림': 8369, '기겁': 8370, '빡': 8371, '삼십': 8372, '할리': 8373, '갉다': 8374, '믿음직하다': 8375, '짜릿': 8376, '좋았읜': 8377, '넖어': 8378, '스름': 8379, '찐득하다': 8380, '상동': 8381, '취미': 8382, '감겨': 8383, '워머': 8384, '피치': 8385, '수없이': 8386, '살림살이': 8387, '아도': 8388, '원지': 8389, '리니': 8390, '출근시간': 8391, '무심하다': 8392, '본질': 8393, '채광': 8394, '겉도': 8395, '준위': 8396, '가가': 8397, '다름없다': 8398, '틸팅': 8399, '흠옷': 8400, '흥': 8401, '디걍눕혔더': 8402, '쩌네': 8403, '게으르다': 8404, '리셋': 8405, '적절': 8406, '뻐요딸': 8407, '쌩': 8408, '정중하다': 8409, '세팅돼': 8410, '무용': 8411, '화년': 8412, '시울': 8413, '조아하다': 8414, '가리개': 8415, '쪽방': 8416, '경북': 8417, '선발': 8418, '경쟁력': 8419, '고통': 8420, '든지': 8421, '랑비쿄해': 8422, '진철': 8423, '요로': 8424, '꼬마': 8425, '셋째': 8426, '꼬락서니': 8427, '한복': 8428, '익일': 8429, '은하': 8430, '건성건성': 8431, '네갈태닌': 8432, '하므다': 8433, '월등하다': 8434, '네트': 8435, '깜찍하다': 8436, '데려가다': 8437, '파산': 8438, '밀': 8439, '따름': 8440, '젛아용': 8441, '햿': 8442, '이동형': 8443, '이맘': 8444, 'ᅲᅳᅲ': 8445, '흡입': 8446, '천만다행': 8447, '영구': 8448, '빠': 8449, '하랍니': 8450, '천일': 8451, '라리': 8452, '하주시': 8453, '독특': 8454, '뿌네': 8455, '이명': 8456, '수냡': 8457, '년산': 8458, '모리': 8459, '코리다': 8460, '굿템': 8461, '뭉개지': 8462, '산만하다': 8463, '지병': 8464, '골고루': 8465, '영접': 8466, 'ㅍㅎㅎ': 8467, '컴프레서': 8468, '초월': 8469, '바리': 8470, '케이드': 8471, '고래고래': 8472, '파랗다': 8473, '혔': 8474, '성용': 8475, '코피': 8476, '리너': 8477, '다가서다': 8478, '맷돌': 8479, '힘겹다': 8480, '괜찮읏': 8481, '불합리': 8482, '감자': 8483, '낙상': 8484, '금지': 8485, '끝선': 8486, '핲': 8487, '격값합니다': 8488, '꽈배기': 8489, '명품': 8490, '생산자': 8491, '겨울나기': 8492, '딴': 8493, '휜듯': 8494, '어쨌거': 8495, '파래': 8496, '가불': 8497, '수시': 8498, '앞장': 8499, '이동용': 8500, '함안': 8501, '까끌까끌': 8502, '듭닏': 8503, '한덕': 8504, '그리기': 8505, '점책': 8506, '리뷱를': 8507, '노출하다': 8508, '하그': 8509, '사우': 8510, '헐렁헐렁': 8511, '우련하다': 8512, '분체': 8513, '흐릿하': 8514, '샀쥬': 8515, '눌립니': 8516, '배란': 8517, '막대': 8518, '삭도': 8519, '으으': 8520, '투한': 8521, '예매': 8522, '모호하다': 8523, '늘어놓다': 8524, '청': 8525, '아래층': 8526, '타령': 8527, '조마조마': 8528, '느낑': 8529, '아이브': 8530, '헤드셋': 8531, '확대': 8532, '연보': 8533, '채도': 8534, '앏': 8535, '우윳빛': 8536, '가우': 8537, '역겹다': 8538, '떨어트려': 8539, '정선': 8540, '능력자': 8541, '걸터': 8542, '이라곤': 8543, '공존': 8544, '맞췼는데': 8545, '어기다': 8546, '하품': 8547, '오랜만': 8548, '조상': 8549, '애지중지': 8550, '샤랄라': 8551, '나뭇가지': 8552, '일룸로': 8553, '룸로': 8554, '모노': 8555, '셋트': 8556, '일월': 8557, '금주': 8558, '긴급': 8559, '검지': 8560, '후련하다': 8561, '타파': 8562, '병월': 8563, '화안': 8564, '카이': 8565, '행위': 8566, '자그마하다': 8567, '직잡': 8568, '단색': 8569, '주황': 8570, '세계': 8571, '찾아내다': 8572, '도노': 8573, '불매운동': 8574, '성심': 8575, '음청': 8576, '라리사': 8577, '싱글룸': 8578, '쿵쿵': 8579, '다렌': 8580, '지그재그': 8581, '까만색': 8582, '귀차니즘': 8583, '줕': 8584, '울퉁불툴': 8585, '깝': 8586, '폭등': 8587, '수긍': 8588, '실생활': 8589, '육각형': 8590, '미비하다': 8591, '민방': 8592, '광나': 8593, '푸슬푸슬': 8594, '퍼석퍼석': 8595, '시원시원하다': 8596, '빠작빠': 8597, '작부': 8598, '서지': 8599, '삼전동': 8600, '스타일리시': 8601, '쿠셤감': 8602, '관해': 8603, '추기': 8604, '박심': 8605, '쪼리': 8606, '대판': 8607, '성취': 8608, '비위생적': 8609, '무쟈': 8610, '거론': 8611, '사물': 8612, '조일': 8613, '더워지다': 8614, '잔무늬': 8615, '넘허졉': 8616, '워셔블': 8617, 'ㅕ': 8618, '월급': 8619, '서연': 8620, '매카시': 8621, '리넨': 8622, '가슴': 8623, '쓰라리다': 8624, '방탄': 8625, '밖엔': 8626, '플레이스테이션': 8627, '닌텐도': 8628, '쌓다': 8629, '백화': 8630, '미러': 8631, '각형': 8632, '비비고': 8633, '검토': 8634, '유쉘': 8635, '궁': 8636, '금사항': 8637, '읏저륑': 8638, '탈바꿈': 8639, '강하': 8640, '찔끔': 8641, '항만': 8642, '얄': 8643, '코일': 8644, '천만': 8645, '개학': 8646, '너희': 8647, '블랙홀': 8648, '임무': 8649, '데카': 8650, '베스': 8651, '틉니': 8652, '이간': 8653, '박사학위': 8654, '임원': 8655, '쮜끔': 8656, '뻐요싸': 8657, '라시': 8658, 'ㅋㅌㅋ': 8659, '떡칠': 8660, '여해': 8661, '쌀': 8662, '가보': 8663, '더군다나': 8664, '등등하다': 8665, '희미하다': 8666, '떨구다': 8667, '언박싱해': 8668, '불현': 8669, '욧': 8670, '더럽히다': 8671, '완려': 8672, 'ㅅㅓ': 8673, '결착': 8674, '함장': 8675, '프로모션': 8676, '단조롭다': 8677, '껄하': 8678, '쇠라': 8679, '렷': 8680, '개님': 8681, '다각도로': 8682, '발제': 8683, '이십': 8684, '이러다가': 8685, '바서': 8686, '다우': 8687, '호호': 8688, '헤리티지': 8689, '아크': 8690, '빼앗기다': 8691, '사허': 8692, '그해': 8693, '친하다': 8694, '파베': 8695, '과거': 8696, '기호': 8697, '휘었는': 8698, '민망': 8699, '루프': 8700, '헌것': 8701, '치이다': 8702, '안식구': 8703, '응용': 8704, '온몸': 8705, '결과물': 8706, '샇어': 8707, '오그': 8708, '치민': 8709, '이부': 8710, '앵글': 8711, '양평': 8712, '고료': 8713, '섳': 8714, '경남': 8715, '페인팅': 8716, '랬더': 8717, '샤프': 8718, '글림': 8719, '폭우': 8720, '화창하다': 8721, '정규직': 8722, '포스': 8723, '유산균': 8724, '반짝이다': 8725, '부심': 8726, '스탠딩': 8727, '곡면': 8728, 'ㄹㅏ': 8729, '보어': 8730, '월류': 8731, '일렬': 8732, '세밀': 8733, '웨이브': 8734, '유념': 8735, '갈취': 8736, '친밀': 8737, '성해': 8738, '염두': 8739, 'ㅇㅎㅎ': 8740, '우짤꼬': 8741, '지피다': 8742, '화지': 8743, '비엔': 8744, '비중': 8745, '모름': 8746, '산나': 8747, '라크': 8748, '칻': 8749, '레미': 8750, '눕혔다': 8751, '단전': 8752, '부모': 8753, '려뇨': 8754, '목공소': 8755, '육천': 8756, '혼합': 8757, '파라': 8758, '느련려': 8759, '방매': 8760, '뎀퍼이거': 8761, '고깔': 8762, '고위': 8763, '페이크': 8764, '에티켓': 8765, '뽝': 8766, '포사': 8767, '디젤': 8768, '간밤': 8769, '라구요': 8770, '시르다': 8771, '통산': 8772, '대외': 8773, '재우다': 8774, '얄팬': 8775, '후년': 8776, '항균': 8777, '통고': 8778, '고제': 8779, '안일하다': 8780, '해얄': 8781, '돼지': 8782, 'ㄶ': 8783, '취생들': 8784, '고색': 8785, '패딩류': 8786, '스텀': 8787, '왼손잡이': 8788, '준비물': 8789, '살푼': 8790, '둘리': 8791, '오래간만': 8792, '자새': 8793, '참배': 8794, '시냐': 8795, '폐기물': 8796, '햐': 8797, '단골': 8798, '적립': 8799, '건망': 8800, '이방': 8801, '카시트': 8802, '넫': 8803, '내다보다': 8804, '도료': 8805, '날자': 8806, '우주': 8807, '민족': 8808, 'ㅓㅈ': 8809, '남색': 8810, '지마켓': 8811, '직하다': 8812, '떨렁': 8813, '애로': 8814, '흠볼': 8815, '어와': 8816, '누런색이': 8817, '봉하': 8818, '부럽다': 8819, '화남': 8820, '격만큼': 8821, '멍절': 8822, '경배': 8823, '자질': 8824, '구레': 8825, '차츰': 8826, '콘서트': 8827, '기로': 8828, '이그': 8829, '깜박': 8830, '레스': 8831, '몰이': 8832, '리드타임': 8833, '변동': 8834, '불상': 8835, '어붙힌': 8836, '헹거함': 8837, '리베로': 8838, '어느덧다': 8839, '지극히': 8840, '소감': 8841, '악덕': 8842, '원부': 8843, '보원': 8844, '피해자': 8845, '석탄': 8846, '볼드': 8847, '햅': 8848, '없겠쥬': 8849, '만방': 8850, '담번': 8851, '야간': 8852, '다닥': 8853, 'ㄱㅓ': 8854, '추췬합니': 8855, '구름': 8856, '장보': 8857, '어디가': 8858, '심정': 8859, '누르스름해': 8860, '잠결': 8861, '박제가': 8862, '대저': 8863, '점심시간': 8864, '효평': 8865, '초록색': 8866, '성분': 8867, '엪썻': 8868, '군말': 8869, '한도': 8870, '배지': 8871, '욕먹다': 8872, '토마토': 8873, '상끗': 8874, '까슬거려': 8875, '용배': 8876, '리크': 8877, '명제': 8878, '거양': 8879, '그랬더니': 8880, '위프': 8881, '자비': 8882, '노골': 8883, 'ᄅ': 8884, '화장품': 8885, '자스': 8886, '솄': 8887, '슴': 8888, '홀랑': 8889, '벅벅': 8890, '신상': 8891, '네시': 8892, '온돌': 8893, '건들건들': 8894, '간략하다': 8895, '끝장': 8896, '어쩌자': 8897, '킴': 8898, '편약': 8899, '토크': 8900, '차장': 8901, '밑동': 8902, '뒷펀': 8903, '전개': 8904, '껀심히': 8905, '아싸': 8906, '국세청': 8907, '불쌍하다': 8908, '뮤비': 8909, '소형': 8910, '미만': 8911, '콰탕': 8912, '게양': 8913, '수출': 8914, '피고': 8915, '재정': 8916, '꺼끌꺼끌하다': 8917, '쫀쫀함': 8918, '천사': 8919, '읏싼데': 8920, '제뭄': 8921, '쬐다': 8922, '네네': 8923, '그제야': 8924, '헐렁거려': 8925, '의결': 8926, '물이끼': 8927, '절절': 8928, '밴딩친': 8929, '버러져': 8930, '주해': 8931, '사비': 8932, '개박': 8933, '침입': 8934, '용호': 8935, '레오': 8936, '컨셉': 8937, '노련하다': 8938, '일천일': 8939, '제문': 8940, '먖': 8941, '후암': 8942, '문젭': 8943, '체구': 8944, '여대생': 8945, '독도': 8946, '마이아': 8947, '포뇨': 8948, '필요시': 8949, '바삐': 8950, '문해': 8951, '자격': 8952, 'tjb': 8953, '영적': 8954, '시계탑': 8955, '와일드': 8956, '탓일': 8957, '앖': 8958, '천은': 8959, '지각': 8960, '굽이': 8961, '고선': 8962, '신문': 8963, '평범': 8964, '챀상': 8965, '발딱': 8966, '관계없이': 8967, '하해': 8968, '햤': 8969, '시각': 8970, 'ㅁㄴ': 8971, '퀄러티': 8972, '탄트': 8973, '꺼졋': 8974, '년도': 8975, '궤짝': 8976, '땔감': 8977, '기죽다': 8978, '챗봇': 8979, '튕기': 8980, '전월': 8981, '구토': 8982, '자셋트': 8983, '뿌옇다': 8984, '껏': 8985, '버벅거리셔': 8986, '극히': 8987, '여전': 8988, '스템': 8989, '넹너무': 8990, '일가': 8991, '뻐요대': 8992, '뛰어넘다': 8993, '밀봉': 8994, '흐트러졌네': 8995, '자투리': 8996, '바보': 8997, '밒': 8998, '봉달': 8999, '구연': 9000, '가평': 9001, '단기간': 9002, '괜찰겠': 9003, '정확': 9004, '주조': 9005, '시절': 9006, '화약': 9007, '아동': 9008, '에잇': 9009, '얎내': 9010, '분간': 9011, '일직선': 9012, '가혹': 9013, '수용': 9014, '왕창': 9015, '후우': 9016, '구세': 9017, '두르다': 9018, '큐': 9019, '논란': 9020, '자빠지다': 9021, '걍쓰긨어': 9022, '종이테이프': 9023, '겉모양': 9024, '삐뜰': 9025, '종전': 9026, '맘애드렁': 9027, 'ㅈㅎㅎ': 9028, '폌해': 9029, '주주': 9030, '원개': 9031, '넷천': 9032, '격차': 9033, '칼날': 9034, '얘함': 9035, '설령': 9036, '겐지': 9037, '애완동물': 9038, '녹다': 9039, '회의실': 9040, '깊숙이': 9041, '고물상': 9042, '평정': 9043, '구스툴': 9044, '읽히다': 9045, '사사건건': 9046, '꼬투리': 9047, '온통': 9048, '로포텐': 9049, '라야': 9050, '샸': 9051, '후련': 9052, '쿤': 9053, '공손하다': 9054, '회원': 9055, '고라': 9056, '소시': 9057, '손꼽다': 9058, '고수': 9059, '까나리': 9060, '액젓': 9061, 'ㅠㅋ': 9062, '늨데': 9063, '야옹이': 9064, '그래픽': 9065, '외국인': 9066, '훤해': 9067, '자문': 9068, '나믐': 9069, '무례하다': 9070, '뭉': 9071, '개진': 9072, '안닥': 9073, '삼베': 9074, '배정': 9075, '말입': 9076, '향기': 9077, '드니': 9078, '진리': 9079, '스시': 9080, '자레': 9081, '세월': 9082, '보살': 9083, '구연산': 9084, '나코': 9085, '삼상': 9086, '비키니': 9087, '오르내리다': 9088, '남포': 9089, '먹튀': 9090, '야케': 9091, 'ㅅㅂ': 9092, '좃': 9093, '집힌': 9094, '외손녀': 9095, '버리렵니': 9096, '넠': 9097, '드라구': 9098, '저하': 9099, '사상': 9100, '불가닌': 9101, '카요': 9102, '돈다': 9103, '불가라': 9104, '분진': 9105, '인계': 9106, '승인': 9107, '절망': 9108, '외견': 9109, '빠듯하': 9110, '거세': 9111, '후은': 9112, '겧어으': 9113, '그만하다': 9114, '대책': 9115, '왕자': 9116, '부귀': 9117, '꾸리다': 9118, '서클': 9119, '앟기': 9120, '강츄': 9121, '게장': 9122, '수줍다': 9123, '넘비스': 9124, '므리해': 9125, '포이': 9126, '개폐': 9127, '기세': 9128, '회전': 9129, '곱절': 9130, '이군': 9131, '다릿': 9132, '교훈': 9133, '혼선': 9134, '펀': 9135, '시크': 9136, '목일': 9137, '발렌시아': 9138, '푼돈': 9139, 'ㅡㅜ': 9140, '정색': 9141, '콘크리트': 9142, '으로까지': 9143, '차액': 9144, '사르': 9145, '충진재': 9146, '풀스': 9147, '초보자': 9148, '뻐요은': 9149, '은한': 9150, '금발': 9151, '발목': 9152, '빼드': 9153, '통밥': 9154, '꼽았다': 9155, '그러기에': 9156, '이용도': 9157, '컨디션': 9158, '녹음': 9159, '황금': 9160, '하야': 9161, '발주': 9162, '되풀이': 9163, '파워': 9164, '화대': 9165, '백의': 9166, '도울': 9167, '화정': 9168, '고삐': 9169, '공한': 9170, '난쟁이': 9171, '키보': 9172, '헐레벌떡': 9173, '처우': 9174, '실랑이': 9175, '페이고': 9176, '문대': 9177, '포옥': 9178, '설비': 9179, '커터': 9180, '스카치테이프': 9181, '갑옷': 9182, '쟁입니': 9183, '천해': 9184, '잔해': 9185, '유광우': 9186, '엎드리다': 9187, '사안': 9188, '독신': 9189, '흙투성이': 9190, '미기': 9191, '클로젯': 9192, '거시': 9193, '기키': 9194, '동거': 9195, '독수리': 9196, 'ㄴㅓ': 9197, '유리식': 9198, '드가': 9199, '제코': 9200, '둔하다': 9201, '케어': 9202, '공개': 9203, '무렵': 9204, '힘껏': 9205, '리아': 9206, '리하': 9207, '상한': 9208, '환가': 9209, '루미': 9210, '뚤렷는데': 9211, '감각': 9212, '균열': 9213, '자식': 9214, '만능': 9215, '휙': 9216, '안경': 9217, '행동': 9218, '상거': 9219, '정석': 9220, '음반': 9221, '고거': 9222, '효종': 9223, '한없이': 9224, '보가': 9225, '프린': 9226, '맞췃러': 9227, '색바램': 9228, '여한': 9229, '모텔': 9230, '도고': 9231, '옹색': 9232, '덤터기': 9233, '알앟는데': 9234, '세컨드': 9235, 'ㅈㄱ': 9236, '선별': 9237, '조아영': 9238, '십견': 9239, '턴하': 9240, '웨일': 9241, '헤집다': 9242, '칙칙': 9243, '써쥤으': 9244, '투척': 9245, '괴어': 9246, '렁거려': 9247, '강사': 9248, '거여': 9249, '걸레질': 9250, '공차': 9251, '손등': 9252, '순서대로': 9253, '나가야': 9254, '벼르던': 9255, '패킹': 9256, '정가': 9257, '사십만': 9258, '리보': 9259, '다릿발': 9260, '젊다': 9261, '불금': 9262, '액수': 9263, '팩': 9264, '욮': 9265, '피곤': 9266, '건실': 9267, '지그': 9268, '선무': 9269, '홀릭': 9270, '힙니': 9271, '연약하다': 9272, '지망': 9273, '열정': 9274, '거배': 9275, '결구': 9276, '여주': 9277, '야머': 9278, '감격': 9279, '보행기': 9280, '티저': 9281, '살판': 9282, '야생': 9283, '구미': 9284, '깨달': 9285, '보링': 9286, '얼룩얼룩하다': 9287, '옵': 9288, '매무새': 9289, '비정상': 9290, '신기': 9291, '한나절': 9292, '두루': 9293, '간만': 9294, '라레스': 9295, '동도': 9296, '역상': 9297, '뻔햏구': 9298, '멋있다': 9299, '쫓겨나다': 9300, '말똥하다': 9301, '운동': 9302, '에서조차': 9303, '덕신': 9304, '핫딜': 9305, '시디즈': 9306, '링고': 9307, '유형': 9308, '장농발': 9309, '굽': 9310, '농설': 9311, '텍스트': 9312, 'ᄂᄃ': 9313, '익다': 9314, '뻤네': 9315, '멀더': 9316, '격렬하다': 9317, '얄듯해': 9318, '경장': 9319, '녹아내리다': 9320, '냉동': 9321, '약세': 9322, '시위': 9323, '함철': 9324, '시스': 9325, '코스트코': 9326, '발전기': 9327, '대합': 9328, '흘러가다': 9329, '싸라기': 9330, '언젠가': 9331, '스미다': 9332, '무너': 9333, '과장하다': 9334, '새해': 9335, '때때로': 9336, '실컷': 9337, '닌': 9338, '쩔': 9339, '땡기다': 9340, '김신락': 9341, '선입견': 9342, '슬랩': 9343, '멀미': 9344, '발란스': 9345, '넘버': 9346, '묶이다': 9347, '맥': 9348, '컨': 9349, '결합부': 9350, '여태껏': 9351, '다도': 9352, '바디': 9353, '필로': 9354, '초금': 9355, '몽실몽실': 9356, '다공': 9357, '건조대': 9358, '각층': 9359, '유아기': 9360, '어허': 9361, '뉴트럴': 9362, '그럭저': 9363, '고등학교': 9364, '샸습니': 9365, '푸우': 9366, '상큼': 9367, '적저럭': 9368, '홈페': 9369, '이비': 9370, '절실': 9371, 'ㅍㅎ': 9372, '뚠뚱': 9373, '끍': 9374, '잫보': 9375, '재판매': 9376, '대양': 9377, '함부로': 9378, '난하다': 9379, '햏으': 9380, '검둥이': 9381, '휘었어': 9382, '여제': 9383, '보장': 9384, '최애': 9385, '새로이': 9386, '맞닿다': 9387, '단독주택': 9388, '이월': 9389, '아메리카': 9390, '알렌': 9391, '잔금': 9392, '샤일': 9393, '퀄리티임': 9394, '인책': 9395, 'ㅡㅡㅎ': 9396, '요트': 9397, '잡아가다': 9398, '유의사항': 9399, '대낮': 9400, '비처럼': 9401, '가겍': 9402, '동해': 9403, '하고프다': 9404, '영유': 9405, '뷴들': 9406, 'ㅂㅅ': 9407, '가군': 9408, '주어지다': 9409, '아이방': 9410, '분양': 9411, '양지': 9412, '유니크': 9413, '니다': 9414, '팽개쳐': 9415, '팽겨': 9416, '뭉치': 9417, '후줄근하다': 9418, '앓다': 9419, '소릴': 9420, '가슬': 9421, '찬물': 9422, '널렸': 9423, '너덜너덜': 9424, '끙끙대다': 9425, '칸달': 9426, '카론': 9427, '운세': 9428, '색임': 9429, '휠까': 9430, '소망': 9431, '장행': 9432, '남방': 9433, '장위로': 9434, '애듭니': 9435, '솨': 9436, '사방': 9437, '욱면': 9438, '셨는지': 9439, '환': 9440, 'ㅎㅋ': 9441, '추나라': 9442, '한눈': 9443, '펑': 9444, '걸쭉': 9445, '내외': 9446, '희망사항': 9447, '감개': 9448, '무량': 9449, '보르네오': 9450, '만드': 9451, '직구': 9452, '현지': 9453, '티끌': 9454, '용돈': 9455, '껄루': 9456, '이량': 9457, '대물': 9458, '대식': 9459, '대자': 9460, '너머': 9461, '묵살': 9462, '더랬': 9463, '옥적': 9464, '시원': 9465, '슬었네': 9466, '어쩌라고': 9467, '오십만': 9468, '돠': 9469, '조언': 9470, '영점': 9471, '치질': 9472, '필러': 9473, '데드': 9474, '정갈하다': 9475, '큼지막하다': 9476, '초로': 9477, '공자': 9478, '간지럽다': 9479, 'ㅇㄷ': 9480, '선배': 9481, '천고': 9482, '잡음': 9483, '욕설': 9484, '멈마': 9485, '스동': 9486, '무룐데': 9487, '수탁': 9488, '무턱': 9489, '휠씬': 9490, '암장': 9491, '착시': 9492, '각하': 9493, '나선': 9494, '판지': 9495, '호찌': 9496, '톱질': 9497, '짓눌리다': 9498, '비고': 9499, '임보': 9500, '삿느': 9501, '괨찮아': 9502, '스태': 9503, '뜨형': 9504, '마니아': 9505, '댄스': 9506, 'ㅠㅠㅋㅋㅋ': 9507, '마크': 9508, '부유': 9509, '천인': 9510, '서사': 9511, '폭발': 9512, '재주': 9513, '도둑': 9514, '구합': 9515, '거간': 9516, '아담': 9517, '이탈': 9518, '판때기': 9519, '매월': 9520, '부직': 9521, '립': 9522, '구릉': 9523, '갈이': 9524, '우두': 9525, '영칠': 9526, '심각': 9527, '드립': 9528, '아스': 9529, '양일': 9530, '비주': 9531, '고지도': 9532, '수이': 9533, '도련님': 9534, '동이': 9535, '음역': 9536, '귿': 9537, '긋긎': 9538, '거편': 9539, '캠벨': 9540, '레전드': 9541, '면박': 9542, '으러': 9543, '라는데': 9544, '난처하다': 9545, '안톤': 9546, '수백만': 9547, '널다': 9548, '단연': 9549, '분영': 9550, '접힌': 9551, '신입': 9552, '숫자': 9553, '콩기름': 9554, '한단': 9555, '놯': 9556, '원시': 9557, '관점': 9558, '보색': 9559, '질라': 9560, '반증': 9561, '추장': 9562, '장남': 9563, '하체': 9564, '뒤러': 9565, '청량하다': 9566, '빛바랜': 9567, '청록색': 9568, '줄기': 9569, '여유도': 9570, '위판': 9571, '턴': 9572, '송송': 9573, '깘끔': 9574, '푸네': 9575, '포레': 9576, '릴랙스': 9577, '쏙듭': 9578, '어둔': 9579, '운색': 9580, '층집': 9581, '도채': 9582, '사형': 9583, '기면': 9584, '거류': 9585, '틱틱거림': 9586, '개화역': 9587, '코모': 9588, '숙직': 9589, '보일러': 9590, '북': 9591, '언청이': 9592, '편두통': 9593, '넓히다': 9594, '디자인상': 9595, '빼주': 9596, '길임': 9597, '클럽': 9598, '협탁로': 9599, '자아': 9600, '빽': 9601, '라우': 9602, '백열': 9603, '개켜': 9604, '요다음': 9605, '뜬금없이': 9606, '안연': 9607, '코발트': 9608, '경비': 9609, '장애인': 9610, '단체': 9611, '후원': 9612, '생신': 9613, '결선': 9614, '업보': 9615, '노원': 9616, '오줌': 9617, '시멘트': 9618, '스마트폰': 9619, '크롤': 9620, '장기간': 9621, '사람인': 9622, '그간': 9623, '방방': 9624, '먄곤': 9625, '무적인': 9626, '옺션': 9627, '건배': 9628, '어르다': 9629, '취할': 9630, '후문': 9631, '차서': 9632, '신사': 9633, '헬임': 9634, '조어': 9635, '오어': 9636, '왜소하다': 9637, '찍혓거': 9638, '표정': 9639, '플랙스': 9640, '셨': 9641, '어옹': 9642, '거무': 9643, '튀튀': 9644, '쯧': 9645, '에센': 9646, '외근': 9647, '건옥': 9648, '권한': 9649, '보컬': 9650, '얄벽지야': 9651, '어눌리': 9652, '내기': 9653, '끔찍하다': 9654, '근사하다': 9655, '잉': 9656, '실거릴까': 9657, '옳다': 9658, '만난': 9659, '통전': 9660, '화하다': 9661, '삼촌': 9662, '세안': 9663, '괸': 9664, '웟습니': 9665, '사내': 9666, '카페테리아': 9667, '윈더': 9668, '땣': 9669, '카페트': 9670, '려둘': 9671, '받아들이다': 9672, '뽀샵': 9673, '남녀': 9674, '외딴': 9675, '층수': 9676, '라뇨': 9677, '청장': 9678, '독촉': 9679, '폐인': 9680, '단문': 9681, '다마스': 9682, '덴': 9683, '일그러지다': 9684, '아음': 9685, '유배': 9686, '마갛': 9687, '풀칠': 9688, '분경': 9689, '어엽': 9690, '실으': 9691, '흩어지다': 9692, '번개': 9693, '실종': 9694, '이릉': 9695, '벋다': 9696, '파니': 9697, '기십': 9698, '무인양품': 9699, '무인': 9700, '상아색': 9701, '맙시': 9702, '안토니': 9703, '옥봉': 9704, '팽팽하': 9705, '쭈글': 9706, '서민': 9707, '냉정하다': 9708, '양으로': 9709, '실질': 9710, '마레': 9711, '고월': 9712, '넘훕족해': 9713, '댜충': 9714, '음향': 9715, '말소리': 9716, '배경': 9717, '실색': 9718, '솜실': 9719, '색갈': 9720, '존립': 9721, '음욕': 9722, '쳐다봣': 9723, '가부': 9724, '서질': 9725, '사각형': 9726, '얹히다': 9727, '뿌득': 9728, '으로서의': 9729, '재교육': 9730, '함무광': 9731, '물씬': 9732, '서러움': 9733, '톨': 9734, '리라': 9735, '단추': 9736, '선용': 9737, '엄처': 9738, '울림': 9739, '받혔어': 9740, '세컨드용': 9741, '대선': 9742, '쏠쏠하다': 9743, '끈끈': 9744, '분노': 9745, '게이지': 9746, '급상승': 9747, '농사': 9748, '장식품': 9749, '바니시': 9750, '장용': 9751, '아니얐다': 9752, '거살': 9753, '수조': 9754, '광폭': 9755, '듯듀커': 9756, '고압': 9757, '듭는': 9758, '점잖다': 9759, '주황색': 9760, '황하': 9761, '밑면': 9762, '일쑤': 9763, '닌자': 9764, '마이너스': 9765, '오백': 9766, '송암': 9767, '레저': 9768, '쥐꼬리': 9769, '일거리': 9770, '철사': 9771, '헹거식': 9772, '뻐요맘': 9773, '트집': 9774, '태교': 9775, '반듯이': 9776, '위자': 9777, '파주': 9778, '재량': 9779, '흐트러져': 9780, '최상급': 9781, '이민': 9782, '션': 9783, '요스': 9784, '캣타워': 9785, '후지': 9786, '다발': 9787, '접해': 9788, '착좌': 9789, '운치': 9790, '옥듭': 9791, '데니': 9792, '선불': 9793, '퀄리티점': 9794, '꼬질꼬질': 9795, '값지다': 9796, '필히': 9797, 'ㄲ': 9798, '알아내다': 9799, '거긑아오': 9800, '추강': 9801, '듬': 9802, '푸른': 9803, '뾰쬭해': 9804, '우뚝': 9805, '장동': 9806, '쁘고': 9807, '몌': 9808, '어미': 9809, '산소': 9810, '물음표': 9811, '서정하': 9812, '구박': 9813, '풀기': 9814, '핥다': 9815, 'ㅜㅠㅜ': 9816, '겐': 9817, '시방': 9818, '비비안': 9819, '선크림': 9820, '슈링': 9821, '보톡루': 9822, '이규': 9823, '프라': 9824, '교촌': 9825, '할증': 9826, '간접': 9827, '사산': 9828, '굣놘': 9829, '수집': 9830, '솟다': 9831, '넷': 9832, '골든': 9833, '메디': 9834, '인쇄': 9835, '노바': 9836, '예비군': 9837, '훈련': 9838, '물렁': 9839, '가나다': 9840, '여명': 9841, '잿기': 9842, '진찰': 9843, '마디': 9844, '육박': 9845, '티크': 9846, '쪽박': 9847, '검댕': 9848, '좆': 9849, '조르다': 9850, '깔딱깔딱': 9851, '즈음': 9852, '오인': 9853, '별별': 9854, '황토색': 9855, '중단': 9856, '로운': 9857, '조아': 9858, '그대': 9859, '도산': 9860, '험담': 9861, '이도': 9862, '보우': 9863, '안전성': 9864, '굿굿강': 9865, '밤색': 9866, '까칠까칠': 9867, '아야': 9868, '몸부림': 9869, '딸애방': 9870, '카메라': 9871, '역광': 9872, '족색': 9873, '집분윅': 9874, '상호': 9875, '길들이다': 9876, '오이': 9877, '혼동': 9878, '삐뚤빼뚤해': 9879, '별반': 9880, '후크': 9881, '야스': 9882, '히로': 9883, '등교': 9884, '원환': 9885, '으악': 9886, '오천이': 9887, '좀처럼': 9888, '모험': 9889, '편코': 9890, '착착': 9891, '악용': 9892, '최고점': 9893, '아웃렛': 9894, '박일': 9895, '렙': 9896, '신년': 9897, '마리나': 9898, '외주': 9899, '큐얼': 9900, '이해도': 9901, '클래식': 9902, '상냥하다': 9903, '일색': 9904, '민중': 9905, '블루레이': 9906, '가지런하다': 9907, '에스더': 9908, '스스': 9909, '프런트': 9910, '타월': 9911, '호도': 9912, '어울여': 9913, '시엔': 9914, '통발': 9915, '잔재': 9916, '해욥': 9917, '어처': 9918, '피오': 9919, '긴지': 9920, '홀딩': 9921, '공주': 9922, '만조': 9923, '누루': 9924, '바라냐': 9925, '졸지': 9926, '허허헝': 9927, 'ᅭ': 9928, '점줄': 9929, '옴점': 9930, '포로': 9931, '얼리다': 9932, '유일': 9933, '튠': 9934, '무조': 9935, '예찬': 9936, '걷다': 9937, '크랙': 9938, '벌집': 9939, '정마': 9940, '열어놧는': 9941, '실길': 9942, '마구마구': 9943, '살포시': 9944, '뻐요으': 9945, '단아': 9946, '힘줄': 9947, '뻐기다': 9948, '하반신': 9949, '신부': 9950, '틸트': 9951, '지자체': 9952, '쌀쌀하다': 9953, '중산': 9954, '귀신': 9955, '글렀어': 9956, '얄팍하다': 9957, '걸렸꼬': 9958, '윤기': 9959, '아홉시': 9960, '리만': 9961, '친전': 9962, '단독': 9963, '피선': 9964, '음기': 9965, '발망': 9966, 'ㅠㅡㅡ': 9967, '담뱃잎': 9968, '태우다': 9969, '불찰': 9970, '알델트': 9971, '왔다꼬스': 9972, '름': 9973, '부리고': 9974, '사업자': 9975, '의원': 9976, '자쯩나': 9977, '딸리다': 9978, '데알': 9979, '지난해': 9980, '단보': 9981, '튕겨내': 9982, '두미': 9983, '합니': 9984, '안듭니': 9985, '시간제': 9986, '버릇': 9987, '빠릇하': 9988, '먄족': 9989, '구동': 9990, '서두르다': 9991, '랩담': 9992, '일별': 9993, '에노': 9994, '신생아': 9995, '가문': 9996, '쟁이': 9997, '인질': 9998, '소녀': 9999, 'ᅳᅳᄏ': 10000, '세균': 10001, '난방': 10002, '농촌': 10003, '압박': 10004, '평구': 10005, '책자': 10006, '동화책': 10007, '디브이': 10008, '원서': 10009, '글루': 10010, '봉재': 10011, '성가시다': 10012, '야유': 10013, '함맘': 10014, '버니': 10015, '불가능': 10016, '측도': 10017, '일찍이': 10018, '패디': 10019, '몀인용으루': 10020, '넝': 10021, '수작': 10022, '각개': 10023, '개책': 10024, '상향': 10025, '어그러지다': 10026, '해짐': 10027, '주요': 10028, '룸입니': 10029, '우선하다': 10030, '잡화': 10031, '여정': 10032, '모래알': 10033, '비스듬해': 10034, '점박이': 10035, '네모': 10036, '어쩌겠어': 10037, '괝찬고해': 10038, '고용': 10039, '말썽': 10040, '틍': 10041, '고오': 10042, '오금': 10043, '시경': 10044, '뎀시': 10045, '셀러': 10046, '구욬': 10047, '너무도': 10048, '흐뭇다': 10049, '코스': 10050, '컽': 10051, '희끄무레': 10052, '노르스름': 10053, '저금': 10054, '왈가': 10055, '왈부': 10056, '산산조각': 10057, '힘질': 10058, '털썩': 10059, '애정': 10060, '초라하다': 10061, '개발자': 10062, '긁힌다': 10063, '불허': 10064, '잎': 10065, '별문제': 10066, '부서': 10067, '있었숩': 10068, '투성이': 10069, '빈약': 10070, '벌떡': 10071, '고꾸라지다': 10072, '펄': 10073, '획': 10074, '노투': 10075, '카모': 10076, '전문점': 10077, '골다': 10078, '스커네': 10079, '격벽': 10080, '주안': 10081, '뿌데': 10082, '바흐': 10083, '콧등': 10084, '흉': 10085, '낙엽': 10086, '쌔': 10087, '벽돌': 10088, '한철': 10089, '요나': 10090, '몽땅': 10091, '젖병': 10092, '트림': 10093, '죻아용': 10094, '바뀟어': 10095, '진접': 10096, '더하기': 10097, '차등': 10098, '팔도': 10099, '사신': 10100, '다비치': 10101, '멉': 10102, '차별': 10103, '반질반질': 10104, '부양': 10105, '천차만별': 10106, '메릿': 10107, '보편': 10108, '믹스': 10109, '픽스': 10110, '스폿': 10111, '술함': 10112, '신가': 10113, '다그치다': 10114, '누럴까': 10115, '나기': 10116, '지잔': 10117, '식판': 10118, '아른거리다': 10119, '하어랄': 10120, '출근길': 10121, '호수': 10122, '요코': 10123, '칼칼하다': 10124, '변환': 10125, '어째서': 10126, '간사하다': 10127, '빈티나': 10128, '하래': 10129, '해진': 10130, '편집': 10131, '와의': 10132, '코딱지': 10133, '교구장': 10134, '삳': 10135, '료액': 10136, '맀어': 10137, 'ㅠㅠㅜ': 10138, '사리': 10139, '땅콩': 10140, '슬기롭다': 10141, '스트레이트': 10142, '티티': 10143, 'ㅏㅏㅏ': 10144, '읍': 10145, '니당다': 10146, '서하': 10147, '가원': 10148, '스레': 10149, '무관심하다': 10150, '암꼽는': 10151, '외과': 10152, '뉴': 10153, '안테나': 10154, '보호대': 10155, '으로의': 10156, '과단': 10157, '흡': 10158, '론데': 10159, '삿기': 10160, '사모님': 10161, '샤를': 10162, '괜춘근데젤': 10163, '간혹': 10164, '헐티비': 10165, '눕혔네': 10166, '풀이': 10167, '자방': 10168, '반포': 10169, '포장이사': 10170, '졔': 10171, '품값': 10172, 'ㅡㅇㅡ': 10173, '컴뷰터': 10174, '태위': 10175, '생갹': 10176, '안뜰': 10177, '자연히': 10178, '문장': 10179, '지단': 10180, '고함': 10181, '땅땅': 10182, '놉': 10183, '햇빛': 10184, '일벌레': 10185, '대인': 10186, '몽블랑': 10187, '싱크': 10188, '까지가': 10189, '내세': 10190, '방글방글': 10191, '고스툴': 10192, '건네주다': 10193, '축축하다': 10194, '카펫': 10195, '잠투정': 10196, '곽': 10197, '꿀럭': 10198, '꿀럭대': 10199, '가설': 10200, '날줄': 10201, '모과': 10202, '매드': 10203, '호갱': 10204, '화내': 10205, '고성': 10206, '상급': 10207, '중후': 10208, '그렇겐': 10209, '슈도': 10210, '대성공': 10211, '앞면': 10212, '심지': 10213, '매송': 10214, '비젛아': 10215, '부터의': 10216, '슬쩍': 10217, '만큼도': 10218, '고자': 10219, '전인': 10220, 'ㅎㅣ': 10221, '준말': 10222, '래미': 10223, '겁함': 10224, '파고': 10225, '않았늗': 10226, '책등': 10227, '유임': 10228, '장서가': 10229, '분자': 10230, '슬음': 10231, '도금': 10232, '리베라': 10233, '달려오다': 10234, '그러다가': 10235, '원탁': 10236, '오매': 10237, '카터': 10238, '꼿꼿이': 10239, '걷어차다': 10240, '면모': 10241, '평복': 10242, '유연하다': 10243, '독': 10244, '벙벙': 10245, '예정자': 10246, '필독': 10247, '이드': 10248, '악의': 10249, '지린다': 10250, '스트레': 10251, '사주': 10252}\n"
     ]
    }
   ],
   "source": [
    "print(tokenizer.word_index)"
   ]
  },
  {
   "cell_type": "code",
   "execution_count": null,
   "metadata": {
    "colab": {
     "base_uri": "https://localhost:8080/"
    },
    "id": "HHJjxWoT2e2e",
    "outputId": "1459d775-ff0d-4e5f-a93d-f9f99144e5e3"
   },
   "outputs": [
    {
     "name": "stdout",
     "output_type": "stream",
     "text": [
      "단어 집합(vocabulary)의 크기 : 10252\n",
      "등장 빈도가 2번 이하인 희귀 단어의 수: 5419\n",
      "단어 집합에서 희귀 단어의 비율: 52.857978930940305\n",
      "전체 등장 빈도에서 희귀 단어 등장 빈도 비율: 1.9036517940048374\n"
     ]
    }
   ],
   "source": [
    "threshold = 3\n",
    "total_cnt = len(tokenizer.word_index) # 단어의 수\n",
    "rare_cnt = 0 # 등장 빈도수가 threshold보다 작은 단어의 개수를 카운트\n",
    "total_freq = 0 # 훈련 데이터의 전체 단어 빈도수 총 합\n",
    "rare_freq = 0 # 등장 빈도수가 threshold보다 작은 단어의 등장 빈도수의 총 합\n",
    "\n",
    "# 단어와 빈도수의 쌍(pair)을 key와 value로 받는다.\n",
    "for key, value in tokenizer.word_counts.items():\n",
    "    total_freq = total_freq + value\n",
    "\n",
    "    # 단어의 등장 빈도수가 threshold보다 작으면\n",
    "    if(value < threshold):\n",
    "        rare_cnt = rare_cnt + 1\n",
    "        rare_freq = rare_freq + value\n",
    "\n",
    "print('단어 집합(vocabulary)의 크기 :',total_cnt)\n",
    "print('등장 빈도가 %s번 이하인 희귀 단어의 수: %s'%(threshold - 1, rare_cnt))\n",
    "print(\"단어 집합에서 희귀 단어의 비율:\", (rare_cnt / total_cnt)*100)\n",
    "print(\"전체 등장 빈도에서 희귀 단어 등장 빈도 비율:\", (rare_freq / total_freq)*100)"
   ]
  },
  {
   "cell_type": "code",
   "execution_count": null,
   "metadata": {
    "colab": {
     "base_uri": "https://localhost:8080/"
    },
    "id": "f_Gycp13Jbi0",
    "outputId": "c7a148f0-b11e-4927-fa33-e0b17d179c82"
   },
   "outputs": [
    {
     "name": "stdout",
     "output_type": "stream",
     "text": [
      "단어 집합의 크기 : 4834\n"
     ]
    }
   ],
   "source": [
    "# 전체 단어 개수 중 빈도수 2이하인 단어는 제거.\n",
    "# 0번 패딩 토큰을 고려하여 + 1\n",
    "vocab_size = total_cnt - rare_cnt + 1\n",
    "print('단어 집합의 크기 :',vocab_size)"
   ]
  },
  {
   "cell_type": "code",
   "execution_count": null,
   "metadata": {
    "id": "3Kwp-ZHlJd8r"
   },
   "outputs": [],
   "source": [
    "tokenizer = Tokenizer(vocab_size) \n",
    "tokenizer.fit_on_texts(X_train)\n",
    "X_train = tokenizer.texts_to_sequences(X_train)\n",
    "X_test = tokenizer.texts_to_sequences(X_test)"
   ]
  },
  {
   "cell_type": "code",
   "execution_count": null,
   "metadata": {
    "colab": {
     "base_uri": "https://localhost:8080/"
    },
    "id": "oERVoeFDJggL",
    "outputId": "0d3e3d0d-5544-4484-c8fc-3780249d5ea2"
   },
   "outputs": [
    {
     "name": "stdout",
     "output_type": "stream",
     "text": [
      "[[15, 5, 536, 64, 216, 396, 3013, 548, 190, 38], [1051, 387, 458, 422, 188, 1214, 794, 618, 62, 72, 104, 150, 74, 2, 6, 74, 1019, 530, 97, 897, 12, 9, 104, 1447, 17, 734, 622, 234, 25, 2266, 151, 507, 387, 41, 84, 410, 7, 749, 413, 866, 30, 579, 580, 91, 586, 508, 282, 410, 370, 12], [40, 77, 49, 198, 3, 451, 76, 2071, 4120, 1320]]\n"
     ]
    }
   ],
   "source": [
    "print(X_train[:3])"
   ]
  },
  {
   "cell_type": "code",
   "execution_count": null,
   "metadata": {
    "id": "gJndnfd-Ji3k"
   },
   "outputs": [],
   "source": [
    "y_train = np.array(train_data['label'])\n",
    "y_test = np.array(test_data['label'])"
   ]
  },
  {
   "cell_type": "code",
   "execution_count": null,
   "metadata": {
    "colab": {
     "base_uri": "https://localhost:8080/",
     "height": 317
    },
    "id": "lDUOiebZJuM0",
    "outputId": "8e92a957-1d89-4a71-c3db-bed2ababa396"
   },
   "outputs": [
    {
     "name": "stdout",
     "output_type": "stream",
     "text": [
      "리뷰의 최대 길이 : 104\n",
      "리뷰의 평균 길이 : 21.749202177585882\n"
     ]
    },
    {
     "data": {
      "image/png": "[encoded data removed]",
      "text/plain": [
       "<Figure size 432x288 with 1 Axes>"
      ]
     },
     "metadata": {},
     "output_type": "display_data"
    }
   ],
   "source": [
    "print('리뷰의 최대 길이 :',max(len(review) for review in X_train))\n",
    "print('리뷰의 평균 길이 :',sum(map(len, X_train))/len(X_train))\n",
    "plt.hist([len(review) for review in X_train], bins=50)\n",
    "plt.xlabel('length of samples')\n",
    "plt.ylabel('number of samples')\n",
    "plt.show()"
   ]
  },
  {
   "cell_type": "code",
   "execution_count": null,
   "metadata": {
    "id": "1pmYQSwbJ2-L"
   },
   "outputs": [],
   "source": [
    "def below_threshold_len(max_len, nested_list):\n",
    "  count = 0\n",
    "  for sentence in nested_list:\n",
    "    if(len(sentence) <= max_len):\n",
    "        count = count + 1\n",
    "  print('전체 샘플 중 길이가 %s 이하인 샘플의 비율: %s'%(max_len, (count / len(nested_list))*100))"
   ]
  },
  {
   "cell_type": "code",
   "execution_count": null,
   "metadata": {
    "colab": {
     "base_uri": "https://localhost:8080/"
    },
    "id": "LOayxDb1Jy6D",
    "outputId": "dada692e-6714-4e17-cf1b-a922edd45f12"
   },
   "outputs": [
    {
     "name": "stdout",
     "output_type": "stream",
     "text": [
      "전체 샘플 중 길이가 300 이하인 샘플의 비율: 100.0\n"
     ]
    }
   ],
   "source": [
    "max_len = 100\n",
    "below_threshold_len(max_len, X_train)"
   ]
  },
  {
   "cell_type": "code",
   "execution_count": null,
   "metadata": {
    "id": "KrsI4TH6J9Vs"
   },
   "outputs": [],
   "source": [
    "X_train = pad_sequences(X_train, maxlen=max_len)\n",
    "X_test = pad_sequences(X_test, maxlen=max_len)"
   ]
  },
  {
   "cell_type": "code",
   "execution_count": null,
   "metadata": {
    "id": "wxtL615a2EJR"
   },
   "outputs": [],
   "source": [
    "import tensorflow as tf\n",
    "from tensorflow.keras.utils import to_categorical\n",
    "from tensorflow.keras.preprocessing.sequence import pad_sequences"
   ]
  },
  {
   "cell_type": "code",
   "execution_count": null,
   "metadata": {
    "id": "rC_T8sjspWRu"
   },
   "outputs": [],
   "source": [
    "class BahdanauAttention(tf.keras.Model):\n",
    "  def __init__(self, units):\n",
    "    super(BahdanauAttention, self).__init__()\n",
    "    self.W1 = Dense(units)\n",
    "    self.W2 = Dense(units)\n",
    "    self.V = Dense(1)\n",
    "\n",
    "  def call(self, values, query): # 단, key와 value는 같음\n",
    "    # query shape == (batch_size, hidden size)\n",
    "    # hidden_with_time_axis shape == (batch_size, 1, hidden size)\n",
    "    # score 계산을 위해 뒤에서 할 덧셈을 위해서 차원을 변경해줍니다.\n",
    "    hidden_with_time_axis = tf.expand_dims(query, 1)\n",
    "\n",
    "    # score shape == (batch_size, max_length, 1)\n",
    "    # we get 1 at the last axis because we are applying score to self.V\n",
    "    # the shape of the tensor before applying self.V is (batch_size, max_length, units)\n",
    "    score = self.V(tf.nn.tanh(\n",
    "        self.W1(values) + self.W2(hidden_with_time_axis)))\n",
    "\n",
    "    # attention_weights shape == (batch_size, max_length, 1)\n",
    "    attention_weights = tf.nn.softmax(score, axis=1)\n",
    "\n",
    "    # context_vector shape after sum == (batch_size, hidden_size)\n",
    "    context_vector = attention_weights * values\n",
    "    context_vector = tf.reduce_sum(context_vector, axis=1)\n",
    "\n",
    "    return context_vector, attention_weights"
   ]
  },
  {
   "cell_type": "code",
   "execution_count": null,
   "metadata": {
    "id": "yYBB5Q_nsZ05"
   },
   "outputs": [],
   "source": [
    "from tensorflow.keras.layers import Dense, Embedding, Bidirectional, LSTM, Concatenate, Dropout\n",
    "from tensorflow.keras import Input, Model\n",
    "from tensorflow.keras import optimizers\n",
    "import os"
   ]
  },
  {
   "cell_type": "code",
   "execution_count": null,
   "metadata": {
    "id": "OPob9jDgvXcY"
   },
   "outputs": [],
   "source": [
    "sequence_input = Input(shape=(max_len,), dtype='int32')\n",
    "embedded_sequences = Embedding(vocab_size, 128, input_length=max_len, mask_zero = True)(sequence_input)"
   ]
  },
  {
   "cell_type": "code",
   "execution_count": null,
   "metadata": {
    "id": "Fx_lCm6rvYV6"
   },
   "outputs": [],
   "source": [
    "lstm = Bidirectional(LSTM(64, dropout=0.5, return_sequences = True))(embedded_sequences)"
   ]
  },
  {
   "cell_type": "code",
   "execution_count": null,
   "metadata": {
    "id": "mMLa49j3vZWO"
   },
   "outputs": [],
   "source": [
    "lstm, forward_h, forward_c, backward_h, backward_c = Bidirectional \\\n",
    "  (LSTM(64, dropout=0.5, return_sequences=True, return_state=True))(lstm)"
   ]
  },
  {
   "cell_type": "code",
   "execution_count": null,
   "metadata": {
    "colab": {
     "base_uri": "https://localhost:8080/"
    },
    "id": "DtiyT1PNvbSd",
    "outputId": "7cbabf58-88eb-43e2-d0bf-61fd615a11f9"
   },
   "outputs": [
    {
     "name": "stdout",
     "output_type": "stream",
     "text": [
      "(None, 300, 128) (None, 64) (None, 64) (None, 64) (None, 64)\n"
     ]
    }
   ],
   "source": [
    "print(lstm.shape, forward_h.shape, forward_c.shape, backward_h.shape, backward_c.shape)"
   ]
  },
  {
   "cell_type": "code",
   "execution_count": null,
   "metadata": {
    "id": "M3M_423Fvei0"
   },
   "outputs": [],
   "source": [
    "state_h = Concatenate()([forward_h, backward_h]) # 은닉 상태\n",
    "state_c = Concatenate()([forward_c, backward_c]) # 셀 상태"
   ]
  },
  {
   "cell_type": "code",
   "execution_count": null,
   "metadata": {
    "id": "xbiUnwoXvf8m"
   },
   "outputs": [],
   "source": [
    "attention = BahdanauAttention(64) # 가중치 크기 정의\n",
    "context_vector, attention_weights = attention(lstm, state_h)"
   ]
  },
  {
   "cell_type": "code",
   "execution_count": null,
   "metadata": {
    "id": "H7hGG6bIvg1Y"
   },
   "outputs": [],
   "source": [
    "dense1 = Dense(20, activation=\"relu\")(context_vector)\n",
    "dropout = Dropout(0.5)(dense1)\n",
    "output = Dense(1, activation=\"sigmoid\")(dropout)\n",
    "model = Model(inputs=sequence_input, outputs=output)"
   ]
  },
  {
   "cell_type": "code",
   "execution_count": null,
   "metadata": {
    "id": "3ORiJa84vicE"
   },
   "outputs": [],
   "source": [
    "model.compile(loss='binary_crossentropy', optimizer='rmsprop', metrics=['accuracy'])\n"
   ]
  },
  {
   "cell_type": "code",
   "execution_count": null,
   "metadata": {
    "id": "r2YyXLzRvtrx"
   },
   "outputs": [],
   "source": [
    "from tensorflow.keras.utils import to_categorical\n",
    "from tensorflow.keras.preprocessing.sequence import pad_sequences"
   ]
  },
  {
   "cell_type": "code",
   "execution_count": null,
   "metadata": {
    "colab": {
     "base_uri": "https://localhost:8080/"
    },
    "id": "wcWDgAmR1XWS",
    "outputId": "71363bfc-6f58-4715-db3f-fdd63ca4e532"
   },
   "outputs": [
    {
     "data": {
      "text/plain": [
       "array([0, 1, 0, ..., 1, 1, 1])"
      ]
     },
     "execution_count": 55,
     "metadata": {},
     "output_type": "execute_result"
    }
   ],
   "source": [
    "y_test"
   ]
  },
  {
   "cell_type": "code",
   "execution_count": null,
   "metadata": {
    "colab": {
     "background_save": true,
     "base_uri": "https://localhost:8080/"
    },
    "id": "lEfwzQRSvjyW",
    "outputId": "007e1595-374b-4869-f90f-616de732d114"
   },
   "outputs": [
    {
     "name": "stdout",
     "output_type": "stream",
     "text": [
      "Epoch 1/10\n",
      "500/500 [==============================] - ETA: 0s - loss: 0.3781 - accuracy: 0.8458WARNING:tensorflow:Can save best model only with val_acc available, skipping.\n",
      "500/500 [==============================] - 634s 1s/step - loss: 0.3781 - accuracy: 0.8458 - val_loss: 0.4619 - val_accuracy: 0.7926\n",
      "Epoch 2/10\n",
      "500/500 [==============================] - ETA: 0s - loss: 0.3675 - accuracy: 0.8510WARNING:tensorflow:Can save best model only with val_acc available, skipping.\n",
      "500/500 [==============================] - 585s 1s/step - loss: 0.3675 - accuracy: 0.8510 - val_loss: 0.4619 - val_accuracy: 0.8027\n",
      "Epoch 3/10\n",
      "500/500 [==============================] - ETA: 0s - loss: 0.3639 - accuracy: 0.8486WARNING:tensorflow:Can save best model only with val_acc available, skipping.\n",
      "500/500 [==============================] - 583s 1s/step - loss: 0.3639 - accuracy: 0.8486 - val_loss: 0.4954 - val_accuracy: 0.8007\n",
      "Epoch 3: early stopping\n"
     ]
    }
   ],
   "source": [
    "from tensorflow.keras.callbacks import EarlyStopping, ModelCheckpoint\n",
    "es = EarlyStopping(monitor='val_loss', mode='min', verbose=1, patience=2)\n",
    "mc = ModelCheckpoint('best_model.h5', monitor='val_acc', mode='max', verbose=1, save_best_only=True)\n",
    "\n",
    "history = model.fit(X_train, y_train, epochs = 10, batch_size = 32, validation_data=(X_test, y_test), verbose=1, callbacks=[es, mc])"
   ]
  },
  {
   "cell_type": "code",
   "execution_count": null,
   "metadata": {
    "colab": {
     "base_uri": "https://localhost:8080/"
    },
    "id": "1AEth4b25DBe",
    "outputId": "c0834f1f-4895-4b17-c2cc-3e1ec7a20392"
   },
   "outputs": [
    {
     "name": "stdout",
     "output_type": "stream",
     "text": [
      "167/167 [==============================] - 38s 227ms/step - loss: 0.4593 - accuracy: 0.7949\n",
      "\n",
      " 테스트 정확도: 0.7949\n"
     ]
    }
   ],
   "source": [
    "print(\"\\n 테스트 정확도: %.4f\" % (model.evaluate(X_test, y_test)[1]))"
   ]
  },
  {
   "cell_type": "code",
   "execution_count": null,
   "metadata": {
    "id": "Y4dF__6qvkm3"
   },
   "outputs": [],
   "source": []
  }
 ],
 "metadata": {
  "colab": {
   "collapsed_sections": [],
   "name": "BiLSTM + Attention.ipynb",
   "provenance": []
  },
  "kernelspec": {
   "display_name": "Python 3 (ipykernel)",
   "language": "python",
   "name": "python3"
  },
  "language_info": {
   "codemirror_mode": {
    "name": "ipython",
    "version": 3
   },
   "file_extension": ".py",
   "mimetype": "text/x-python",
   "name": "python",
   "nbconvert_exporter": "python",
   "pygments_lexer": "ipython3",
   "version": "3.9.7"
  },
  "toc": {
   "base_numbering": 1,
   "nav_menu": {},
   "number_sections": true,
   "sideBar": true,
   "skip_h1_title": false,
   "title_cell": "Table of Contents",
   "title_sidebar": "Contents",
   "toc_cell": false,
   "toc_position": {},
   "toc_section_display": true,
   "toc_window_display": false
  }
 },
 "nbformat": 4,
 "nbformat_minor": 1
}
